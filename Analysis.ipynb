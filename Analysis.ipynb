{
 "cells": [
  {
   "cell_type": "markdown",
   "id": "38bbf8e0",
   "metadata": {},
   "source": [
    "# Introduction"
   ]
  },
  {
   "cell_type": "markdown",
   "id": "3e0f4f03",
   "metadata": {},
   "source": [
    "<center><img src=\"https://i.imgur.com/9hLRsjZ.jpg\" height=200></center>\n",
    "\n",
    "The dataset used for this analysis was scraped from nextspaceflight.com and includes all space missions between 1957 to present time. Please note data preprocessing has already been performed and methodologies have been documented on 'Preprocessing.ipynb'\n",
    "- I want to explore how the mission details changed over time and answer questions with the insights gained from analyzing this dataset"
   ]
  },
  {
   "cell_type": "markdown",
   "id": "b487bf9e",
   "metadata": {},
   "source": [
    "### Install package with country codes"
   ]
  },
  {
   "cell_type": "code",
   "execution_count": 235,
   "id": "fd913cbf",
   "metadata": {},
   "outputs": [
    {
     "name": "stdout",
     "output_type": "stream",
     "text": [
      "Requirement already satisfied: iso3166 in /Users/joekimurasmith/opt/anaconda3/lib/python3.9/site-packages (2.1.1)\n",
      "Note: you may need to restart the kernel to use updated packages.\n"
     ]
    }
   ],
   "source": [
    "%pip install iso3166"
   ]
  },
  {
   "cell_type": "markdown",
   "id": "8e8dc9c8",
   "metadata": {},
   "source": [
    "### Import Statements"
   ]
  },
  {
   "cell_type": "code",
   "execution_count": 236,
   "id": "e51cbdde",
   "metadata": {},
   "outputs": [],
   "source": [
    "import numpy as np\n",
    "import pandas as pd\n",
    "import plotly.express as px\n",
    "import matplotlib.pyplot as plt\n",
    "import seaborn as sns\n",
    "import warnings\n",
    "warnings.filterwarnings('ignore')\n",
    "import iso3166"
   ]
  },
  {
   "cell_type": "markdown",
   "id": "dba8cf2b",
   "metadata": {},
   "source": [
    "### Load the data"
   ]
  },
  {
   "cell_type": "code",
   "execution_count": 237,
   "id": "e57f9182",
   "metadata": {},
   "outputs": [],
   "source": [
    "df = pd.read_csv('cleanLaunchData.csv')"
   ]
  },
  {
   "cell_type": "markdown",
   "id": "520b96da",
   "metadata": {},
   "source": [
    "### Preliminary Data Exploration\n",
    "\n",
    "(No need to clean the dataset since it was alread processed using PreProcessing.ipynb)"
   ]
  },
  {
   "cell_type": "code",
   "execution_count": 238,
   "id": "e9641ba8",
   "metadata": {},
   "outputs": [
    {
     "data": {
      "text/html": [
       "<div>\n",
       "<style scoped>\n",
       "    .dataframe tbody tr th:only-of-type {\n",
       "        vertical-align: middle;\n",
       "    }\n",
       "\n",
       "    .dataframe tbody tr th {\n",
       "        vertical-align: top;\n",
       "    }\n",
       "\n",
       "    .dataframe thead th {\n",
       "        text-align: right;\n",
       "    }\n",
       "</style>\n",
       "<table border=\"1\" class=\"dataframe\">\n",
       "  <thead>\n",
       "    <tr style=\"text-align: right;\">\n",
       "      <th></th>\n",
       "      <th>mission</th>\n",
       "      <th>time</th>\n",
       "      <th>location</th>\n",
       "      <th>rocket</th>\n",
       "      <th>result</th>\n",
       "      <th>organization</th>\n",
       "      <th>status</th>\n",
       "      <th>price</th>\n",
       "      <th>liftoff thrust</th>\n",
       "      <th>payload to LEO</th>\n",
       "      <th>Payload to GTO</th>\n",
       "      <th>Stages</th>\n",
       "      <th>Strap-ons</th>\n",
       "      <th>Rocket Height</th>\n",
       "      <th>Fairing Diameter</th>\n",
       "      <th>Fairing Height</th>\n",
       "      <th>year</th>\n",
       "    </tr>\n",
       "  </thead>\n",
       "  <tbody>\n",
       "    <tr>\n",
       "      <th>0</th>\n",
       "      <td>Iridium-6 &amp; GRACE-FO</td>\n",
       "      <td>2018-05-22 19:47:00+00:00</td>\n",
       "      <td>SLC-4E, Vandenberg SFB, California, USA</td>\n",
       "      <td>Falcon 9 Block 4</td>\n",
       "      <td>Success</td>\n",
       "      <td>SpaceX</td>\n",
       "      <td>Retired</td>\n",
       "      <td>62000000.0</td>\n",
       "      <td>6804.0</td>\n",
       "      <td>22800.0</td>\n",
       "      <td>8300.0</td>\n",
       "      <td>2.0</td>\n",
       "      <td>0.0</td>\n",
       "      <td>70.0</td>\n",
       "      <td>5.2</td>\n",
       "      <td>13.0</td>\n",
       "      <td>2018</td>\n",
       "    </tr>\n",
       "  </tbody>\n",
       "</table>\n",
       "</div>"
      ],
      "text/plain": [
       "                mission                       time  \\\n",
       "0  Iridium-6 & GRACE-FO  2018-05-22 19:47:00+00:00   \n",
       "\n",
       "                                  location            rocket   result  \\\n",
       "0  SLC-4E, Vandenberg SFB, California, USA  Falcon 9 Block 4  Success   \n",
       "\n",
       "  organization   status       price  liftoff thrust  payload to LEO  \\\n",
       "0       SpaceX  Retired  62000000.0          6804.0         22800.0   \n",
       "\n",
       "   Payload to GTO  Stages  Strap-ons  Rocket Height  Fairing Diameter  \\\n",
       "0          8300.0     2.0        0.0           70.0               5.2   \n",
       "\n",
       "   Fairing Height  year  \n",
       "0            13.0  2018  "
      ]
     },
     "execution_count": 238,
     "metadata": {},
     "output_type": "execute_result"
    }
   ],
   "source": [
    "df.head(1)"
   ]
  },
  {
   "cell_type": "code",
   "execution_count": 239,
   "id": "058cd873",
   "metadata": {},
   "outputs": [
    {
     "data": {
      "text/html": [
       "<div>\n",
       "<style scoped>\n",
       "    .dataframe tbody tr th:only-of-type {\n",
       "        vertical-align: middle;\n",
       "    }\n",
       "\n",
       "    .dataframe tbody tr th {\n",
       "        vertical-align: top;\n",
       "    }\n",
       "\n",
       "    .dataframe thead th {\n",
       "        text-align: right;\n",
       "    }\n",
       "</style>\n",
       "<table border=\"1\" class=\"dataframe\">\n",
       "  <thead>\n",
       "    <tr style=\"text-align: right;\">\n",
       "      <th></th>\n",
       "      <th>price</th>\n",
       "      <th>liftoff thrust</th>\n",
       "      <th>payload to LEO</th>\n",
       "      <th>Payload to GTO</th>\n",
       "      <th>Stages</th>\n",
       "      <th>Strap-ons</th>\n",
       "      <th>Rocket Height</th>\n",
       "      <th>Fairing Diameter</th>\n",
       "      <th>Fairing Height</th>\n",
       "      <th>year</th>\n",
       "    </tr>\n",
       "  </thead>\n",
       "  <tbody>\n",
       "    <tr>\n",
       "      <th>count</th>\n",
       "      <td>6.107000e+03</td>\n",
       "      <td>6107.000000</td>\n",
       "      <td>6107.000000</td>\n",
       "      <td>6107.000000</td>\n",
       "      <td>6107.000000</td>\n",
       "      <td>6107.000000</td>\n",
       "      <td>6107.000000</td>\n",
       "      <td>6107.000000</td>\n",
       "      <td>6107.000000</td>\n",
       "      <td>6107.000000</td>\n",
       "    </tr>\n",
       "    <tr>\n",
       "      <th>mean</th>\n",
       "      <td>1.622906e+08</td>\n",
       "      <td>5325.710447</td>\n",
       "      <td>8417.561919</td>\n",
       "      <td>1978.013016</td>\n",
       "      <td>2.810545</td>\n",
       "      <td>2.123956</td>\n",
       "      <td>45.252049</td>\n",
       "      <td>3.125353</td>\n",
       "      <td>10.064185</td>\n",
       "      <td>1991.376290</td>\n",
       "    </tr>\n",
       "    <tr>\n",
       "      <th>std</th>\n",
       "      <td>2.850611e+08</td>\n",
       "      <td>5152.652485</td>\n",
       "      <td>9686.780008</td>\n",
       "      <td>2844.735485</td>\n",
       "      <td>0.742448</td>\n",
       "      <td>2.320855</td>\n",
       "      <td>11.964466</td>\n",
       "      <td>0.911966</td>\n",
       "      <td>4.183693</td>\n",
       "      <td>18.000188</td>\n",
       "    </tr>\n",
       "    <tr>\n",
       "      <th>min</th>\n",
       "      <td>2.500000e+06</td>\n",
       "      <td>133.000000</td>\n",
       "      <td>0.000000</td>\n",
       "      <td>0.000000</td>\n",
       "      <td>1.000000</td>\n",
       "      <td>0.000000</td>\n",
       "      <td>9.540000</td>\n",
       "      <td>0.500000</td>\n",
       "      <td>1.000000</td>\n",
       "      <td>1964.000000</td>\n",
       "    </tr>\n",
       "    <tr>\n",
       "      <th>25%</th>\n",
       "      <td>2.000000e+07</td>\n",
       "      <td>2962.000000</td>\n",
       "      <td>3300.000000</td>\n",
       "      <td>0.000000</td>\n",
       "      <td>2.000000</td>\n",
       "      <td>0.000000</td>\n",
       "      <td>38.100000</td>\n",
       "      <td>2.580000</td>\n",
       "      <td>7.140000</td>\n",
       "      <td>1976.000000</td>\n",
       "    </tr>\n",
       "    <tr>\n",
       "      <th>50%</th>\n",
       "      <td>6.468000e+07</td>\n",
       "      <td>4456.000000</td>\n",
       "      <td>6860.000000</td>\n",
       "      <td>662.094737</td>\n",
       "      <td>3.000000</td>\n",
       "      <td>2.000000</td>\n",
       "      <td>44.630000</td>\n",
       "      <td>3.000000</td>\n",
       "      <td>9.540000</td>\n",
       "      <td>1988.000000</td>\n",
       "    </tr>\n",
       "    <tr>\n",
       "      <th>75%</th>\n",
       "      <td>1.259403e+08</td>\n",
       "      <td>5885.000000</td>\n",
       "      <td>9797.000000</td>\n",
       "      <td>3000.000000</td>\n",
       "      <td>3.000000</td>\n",
       "      <td>4.000000</td>\n",
       "      <td>51.380000</td>\n",
       "      <td>3.800000</td>\n",
       "      <td>13.000000</td>\n",
       "      <td>2008.000000</td>\n",
       "    </tr>\n",
       "    <tr>\n",
       "      <th>max</th>\n",
       "      <td>3.000000e+09</td>\n",
       "      <td>45307.000000</td>\n",
       "      <td>140000.000000</td>\n",
       "      <td>40000.000000</td>\n",
       "      <td>5.000000</td>\n",
       "      <td>9.000000</td>\n",
       "      <td>110.600000</td>\n",
       "      <td>5.920000</td>\n",
       "      <td>43.720000</td>\n",
       "      <td>2023.000000</td>\n",
       "    </tr>\n",
       "  </tbody>\n",
       "</table>\n",
       "</div>"
      ],
      "text/plain": [
       "              price  liftoff thrust  payload to LEO  Payload to GTO  \\\n",
       "count  6.107000e+03     6107.000000     6107.000000     6107.000000   \n",
       "mean   1.622906e+08     5325.710447     8417.561919     1978.013016   \n",
       "std    2.850611e+08     5152.652485     9686.780008     2844.735485   \n",
       "min    2.500000e+06      133.000000        0.000000        0.000000   \n",
       "25%    2.000000e+07     2962.000000     3300.000000        0.000000   \n",
       "50%    6.468000e+07     4456.000000     6860.000000      662.094737   \n",
       "75%    1.259403e+08     5885.000000     9797.000000     3000.000000   \n",
       "max    3.000000e+09    45307.000000   140000.000000    40000.000000   \n",
       "\n",
       "            Stages    Strap-ons  Rocket Height  Fairing Diameter  \\\n",
       "count  6107.000000  6107.000000    6107.000000       6107.000000   \n",
       "mean      2.810545     2.123956      45.252049          3.125353   \n",
       "std       0.742448     2.320855      11.964466          0.911966   \n",
       "min       1.000000     0.000000       9.540000          0.500000   \n",
       "25%       2.000000     0.000000      38.100000          2.580000   \n",
       "50%       3.000000     2.000000      44.630000          3.000000   \n",
       "75%       3.000000     4.000000      51.380000          3.800000   \n",
       "max       5.000000     9.000000     110.600000          5.920000   \n",
       "\n",
       "       Fairing Height         year  \n",
       "count     6107.000000  6107.000000  \n",
       "mean        10.064185  1991.376290  \n",
       "std          4.183693    18.000188  \n",
       "min          1.000000  1964.000000  \n",
       "25%          7.140000  1976.000000  \n",
       "50%          9.540000  1988.000000  \n",
       "75%         13.000000  2008.000000  \n",
       "max         43.720000  2023.000000  "
      ]
     },
     "execution_count": 239,
     "metadata": {},
     "output_type": "execute_result"
    }
   ],
   "source": [
    "df.describe()"
   ]
  },
  {
   "cell_type": "markdown",
   "id": "d2c5052e",
   "metadata": {},
   "source": [
    "### Number of launches each year"
   ]
  },
  {
   "cell_type": "code",
   "execution_count": 240,
   "id": "4cdf01db",
   "metadata": {},
   "outputs": [],
   "source": [
    "# 2023 missions have been removed since it is partial data\n",
    "df = df[df['year']<2023]"
   ]
  },
  {
   "cell_type": "code",
   "execution_count": 241,
   "id": "4984a0ea",
   "metadata": {},
   "outputs": [
    {
     "data": {
      "text/plain": [
       "Text(0.5, 1.0, 'Launches over time')"
      ]
     },
     "execution_count": 241,
     "metadata": {},
     "output_type": "execute_result"
    },
    {
     "data": {
      "image/png": "[encoded data removed]",
      "text/plain": [
       "<Figure size 1170x500 with 1 Axes>"
      ]
     },
     "metadata": {},
     "output_type": "display_data"
    }
   ],
   "source": [
    "mis_per_yr = df.groupby('year')['mission'].count()\n",
    "plt.plot(mis_per_yr.index, mis_per_yr.values)\n",
    "\n",
    "plt.xlim([1964, 2022])\n",
    "plt.xlabel(\"Year\")\n",
    "plt.ylabel(\"Number of Launches\")\n",
    "plt.title(\"Launches over time\")"
   ]
  },
  {
   "cell_type": "markdown",
   "id": "cb4725fd",
   "metadata": {},
   "source": [
    "As shown in the chart above, there is a clear downward trend of total launches between 1970 up until the mid 2000's where a upward trend appears. It is also important to note the number of missions has skyrocketed between 2020 and 2022, with 2022 showing the highest number of launches in recorded history. "
   ]
  },
  {
   "cell_type": "markdown",
   "id": "c46fba39",
   "metadata": {},
   "source": [
    "### Success vs. Failure\n",
    "\n",
    "Next, I will explore the outcome of the missions for each year. For the purpose of this analysis, partial and prelaunch failures will be classified as a full failure. I have added a new column called 'outcome_cat' that categorizes a success as 1 and failure as 0."
   ]
  },
  {
   "cell_type": "code",
   "execution_count": 242,
   "id": "265e1c64",
   "metadata": {},
   "outputs": [],
   "source": [
    "df['outcome_cat'] = df['result'].apply(lambda x:0 if 'Failure' in x else 1)"
   ]
  },
  {
   "cell_type": "code",
   "execution_count": 243,
   "id": "c72f6eb8",
   "metadata": {},
   "outputs": [
    {
     "data": {
      "application/vnd.plotly.v1+json": {
       "config": {
        "plotlyServerURL": "https://plot.ly"
       },
       "data": [
        {
         "type": "scatter",
         "x": [
          1964,
          1965,
          1966,
          1967,
          1968,
          1969,
          1970,
          1971,
          1972,
          1973,
          1974,
          1975,
          1976,
          1977,
          1978,
          1979,
          1980,
          1981,
          1982,
          1983,
          1984,
          1985,
          1986,
          1987,
          1988,
          1989,
          1990,
          1991,
          1992,
          1993,
          1994,
          1995,
          1996,
          1997,
          1998,
          1999,
          2000,
          2001,
          2002,
          2003,
          2004,
          2005,
          2006,
          2007,
          2008,
          2009,
          2010,
          2011,
          2012,
          2013,
          2014,
          2015,
          2016,
          2017,
          2018,
          2019,
          2020,
          2021,
          2022
         ],
         "xaxis": "x",
         "y": [
          76,
          106,
          114,
          121,
          117,
          107,
          112,
          116,
          105,
          109,
          105,
          124,
          123,
          123,
          120,
          105,
          100,
          118,
          119,
          126,
          125,
          118,
          99,
          107,
          113,
          99,
          113,
          86,
          92,
          77,
          86,
          71,
          69,
          80,
          73,
          66,
          80,
          55,
          60,
          58,
          54,
          52,
          62,
          63,
          66,
          74,
          70,
          78,
          72,
          78,
          90,
          84,
          86,
          85,
          113,
          100,
          106,
          142,
          181
         ],
         "yaxis": "y"
        },
        {
         "type": "scatter",
         "x": [
          1964,
          1965,
          1966,
          1967,
          1968,
          1969,
          1970,
          1971,
          1972,
          1973,
          1974,
          1975,
          1976,
          1977,
          1978,
          1979,
          1980,
          1981,
          1982,
          1983,
          1984,
          1985,
          1986,
          1987,
          1988,
          1989,
          1990,
          1991,
          1992,
          1993,
          1994,
          1995,
          1996,
          1997,
          1998,
          1999,
          2000,
          2001,
          2002,
          2003,
          2004,
          2005,
          2006,
          2007,
          2008,
          2009,
          2010,
          2011,
          2012,
          2013,
          2014,
          2015,
          2016,
          2017,
          2018,
          2019,
          2020,
          2021,
          2022
         ],
         "xaxis": "x2",
         "y": [
          17,
          16,
          21,
          18,
          13,
          20,
          13,
          16,
          9,
          7,
          9,
          7,
          6,
          8,
          7,
          5,
          7,
          7,
          9,
          2,
          3,
          6,
          11,
          6,
          7,
          2,
          8,
          5,
          4,
          5,
          6,
          8,
          8,
          7,
          7,
          7,
          4,
          3,
          4,
          3,
          4,
          3,
          4,
          5,
          3,
          5,
          4,
          6,
          4,
          4,
          5,
          5,
          4,
          7,
          3,
          5,
          12,
          14,
          9
         ],
         "yaxis": "y2"
        }
       ],
       "layout": {
        "annotations": [
         {
          "font": {
           "size": 16
          },
          "showarrow": false,
          "text": "Success",
          "x": 0.5,
          "xanchor": "center",
          "xref": "paper",
          "y": 1,
          "yanchor": "bottom",
          "yref": "paper"
         },
         {
          "font": {
           "size": 16
          },
          "showarrow": false,
          "text": "Failure",
          "x": 0.5,
          "xanchor": "center",
          "xref": "paper",
          "y": 0.455,
          "yanchor": "bottom",
          "yref": "paper"
         }
        ],
        "template": {
         "data": {
          "bar": [
           {
            "error_x": {
             "color": "#2a3f5f"
            },
            "error_y": {
             "color": "#2a3f5f"
            },
            "marker": {
             "line": {
              "color": "#E5ECF6",
              "width": 0.5
             },
             "pattern": {
              "fillmode": "overlay",
              "size": 10,
              "solidity": 0.2
             }
            },
            "type": "bar"
           }
          ],
          "barpolar": [
           {
            "marker": {
             "line": {
              "color": "#E5ECF6",
              "width": 0.5
             },
             "pattern": {
              "fillmode": "overlay",
              "size": 10,
              "solidity": 0.2
             }
            },
            "type": "barpolar"
           }
          ],
          "carpet": [
           {
            "aaxis": {
             "endlinecolor": "#2a3f5f",
             "gridcolor": "white",
             "linecolor": "white",
             "minorgridcolor": "white",
             "startlinecolor": "#2a3f5f"
            },
            "baxis": {
             "endlinecolor": "#2a3f5f",
             "gridcolor": "white",
             "linecolor": "white",
             "minorgridcolor": "white",
             "startlinecolor": "#2a3f5f"
            },
            "type": "carpet"
           }
          ],
          "choropleth": [
           {
            "colorbar": {
             "outlinewidth": 0,
             "ticks": ""
            },
            "type": "choropleth"
           }
          ],
          "contour": [
           {
            "colorbar": {
             "outlinewidth": 0,
             "ticks": ""
            },
            "colorscale": [
             [
              0,
              "#0d0887"
             ],
             [
              0.1111111111111111,
              "#46039f"
             ],
             [
              0.2222222222222222,
              "#7201a8"
             ],
             [
              0.3333333333333333,
              "#9c179e"
             ],
             [
              0.4444444444444444,
              "#bd3786"
             ],
             [
              0.5555555555555556,
              "#d8576b"
             ],
             [
              0.6666666666666666,
              "#ed7953"
             ],
             [
              0.7777777777777778,
              "#fb9f3a"
             ],
             [
              0.8888888888888888,
              "#fdca26"
             ],
             [
              1,
              "#f0f921"
             ]
            ],
            "type": "contour"
           }
          ],
          "contourcarpet": [
           {
            "colorbar": {
             "outlinewidth": 0,
             "ticks": ""
            },
            "type": "contourcarpet"
           }
          ],
          "heatmap": [
           {
            "colorbar": {
             "outlinewidth": 0,
             "ticks": ""
            },
            "colorscale": [
             [
              0,
              "#0d0887"
             ],
             [
              0.1111111111111111,
              "#46039f"
             ],
             [
              0.2222222222222222,
              "#7201a8"
             ],
             [
              0.3333333333333333,
              "#9c179e"
             ],
             [
              0.4444444444444444,
              "#bd3786"
             ],
             [
              0.5555555555555556,
              "#d8576b"
             ],
             [
              0.6666666666666666,
              "#ed7953"
             ],
             [
              0.7777777777777778,
              "#fb9f3a"
             ],
             [
              0.8888888888888888,
              "#fdca26"
             ],
             [
              1,
              "#f0f921"
             ]
            ],
            "type": "heatmap"
           }
          ],
          "heatmapgl": [
           {
            "colorbar": {
             "outlinewidth": 0,
             "ticks": ""
            },
            "colorscale": [
             [
              0,
              "#0d0887"
             ],
             [
              0.1111111111111111,
              "#46039f"
             ],
             [
              0.2222222222222222,
              "#7201a8"
             ],
             [
              0.3333333333333333,
              "#9c179e"
             ],
             [
              0.4444444444444444,
              "#bd3786"
             ],
             [
              0.5555555555555556,
              "#d8576b"
             ],
             [
              0.6666666666666666,
              "#ed7953"
             ],
             [
              0.7777777777777778,
              "#fb9f3a"
             ],
             [
              0.8888888888888888,
              "#fdca26"
             ],
             [
              1,
              "#f0f921"
             ]
            ],
            "type": "heatmapgl"
           }
          ],
          "histogram": [
           {
            "marker": {
             "pattern": {
              "fillmode": "overlay",
              "size": 10,
              "solidity": 0.2
             }
            },
            "type": "histogram"
           }
          ],
          "histogram2d": [
           {
            "colorbar": {
             "outlinewidth": 0,
             "ticks": ""
            },
            "colorscale": [
             [
              0,
              "#0d0887"
             ],
             [
              0.1111111111111111,
              "#46039f"
             ],
             [
              0.2222222222222222,
              "#7201a8"
             ],
             [
              0.3333333333333333,
              "#9c179e"
             ],
             [
              0.4444444444444444,
              "#bd3786"
             ],
             [
              0.5555555555555556,
              "#d8576b"
             ],
             [
              0.6666666666666666,
              "#ed7953"
             ],
             [
              0.7777777777777778,
              "#fb9f3a"
             ],
             [
              0.8888888888888888,
              "#fdca26"
             ],
             [
              1,
              "#f0f921"
             ]
            ],
            "type": "histogram2d"
           }
          ],
          "histogram2dcontour": [
           {
            "colorbar": {
             "outlinewidth": 0,
             "ticks": ""
            },
            "colorscale": [
             [
              0,
              "#0d0887"
             ],
             [
              0.1111111111111111,
              "#46039f"
             ],
             [
              0.2222222222222222,
              "#7201a8"
             ],
             [
              0.3333333333333333,
              "#9c179e"
             ],
             [
              0.4444444444444444,
              "#bd3786"
             ],
             [
              0.5555555555555556,
              "#d8576b"
             ],
             [
              0.6666666666666666,
              "#ed7953"
             ],
             [
              0.7777777777777778,
              "#fb9f3a"
             ],
             [
              0.8888888888888888,
              "#fdca26"
             ],
             [
              1,
              "#f0f921"
             ]
            ],
            "type": "histogram2dcontour"
           }
          ],
          "mesh3d": [
           {
            "colorbar": {
             "outlinewidth": 0,
             "ticks": ""
            },
            "type": "mesh3d"
           }
          ],
          "parcoords": [
           {
            "line": {
             "colorbar": {
              "outlinewidth": 0,
              "ticks": ""
             }
            },
            "type": "parcoords"
           }
          ],
          "pie": [
           {
            "automargin": true,
            "type": "pie"
           }
          ],
          "scatter": [
           {
            "fillpattern": {
             "fillmode": "overlay",
             "size": 10,
             "solidity": 0.2
            },
            "type": "scatter"
           }
          ],
          "scatter3d": [
           {
            "line": {
             "colorbar": {
              "outlinewidth": 0,
              "ticks": ""
             }
            },
            "marker": {
             "colorbar": {
              "outlinewidth": 0,
              "ticks": ""
             }
            },
            "type": "scatter3d"
           }
          ],
          "scattercarpet": [
           {
            "marker": {
             "colorbar": {
              "outlinewidth": 0,
              "ticks": ""
             }
            },
            "type": "scattercarpet"
           }
          ],
          "scattergeo": [
           {
            "marker": {
             "colorbar": {
              "outlinewidth": 0,
              "ticks": ""
             }
            },
            "type": "scattergeo"
           }
          ],
          "scattergl": [
           {
            "marker": {
             "colorbar": {
              "outlinewidth": 0,
              "ticks": ""
             }
            },
            "type": "scattergl"
           }
          ],
          "scattermapbox": [
           {
            "marker": {
             "colorbar": {
              "outlinewidth": 0,
              "ticks": ""
             }
            },
            "type": "scattermapbox"
           }
          ],
          "scatterpolar": [
           {
            "marker": {
             "colorbar": {
              "outlinewidth": 0,
              "ticks": ""
             }
            },
            "type": "scatterpolar"
           }
          ],
          "scatterpolargl": [
           {
            "marker": {
             "colorbar": {
              "outlinewidth": 0,
              "ticks": ""
             }
            },
            "type": "scatterpolargl"
           }
          ],
          "scatterternary": [
           {
            "marker": {
             "colorbar": {
              "outlinewidth": 0,
              "ticks": ""
             }
            },
            "type": "scatterternary"
           }
          ],
          "surface": [
           {
            "colorbar": {
             "outlinewidth": 0,
             "ticks": ""
            },
            "colorscale": [
             [
              0,
              "#0d0887"
             ],
             [
              0.1111111111111111,
              "#46039f"
             ],
             [
              0.2222222222222222,
              "#7201a8"
             ],
             [
              0.3333333333333333,
              "#9c179e"
             ],
             [
              0.4444444444444444,
              "#bd3786"
             ],
             [
              0.5555555555555556,
              "#d8576b"
             ],
             [
              0.6666666666666666,
              "#ed7953"
             ],
             [
              0.7777777777777778,
              "#fb9f3a"
             ],
             [
              0.8888888888888888,
              "#fdca26"
             ],
             [
              1,
              "#f0f921"
             ]
            ],
            "type": "surface"
           }
          ],
          "table": [
           {
            "cells": {
             "fill": {
              "color": "#EBF0F8"
             },
             "line": {
              "color": "white"
             }
            },
            "header": {
             "fill": {
              "color": "#C8D4E3"
             },
             "line": {
              "color": "white"
             }
            },
            "type": "table"
           }
          ]
         },
         "layout": {
          "annotationdefaults": {
           "arrowcolor": "#2a3f5f",
           "arrowhead": 0,
           "arrowwidth": 1
          },
          "autotypenumbers": "strict",
          "coloraxis": {
           "colorbar": {
            "outlinewidth": 0,
            "ticks": ""
           }
          },
          "colorscale": {
           "diverging": [
            [
             0,
             "#8e0152"
            ],
            [
             0.1,
             "#c51b7d"
            ],
            [
             0.2,
             "#de77ae"
            ],
            [
             0.3,
             "#f1b6da"
            ],
            [
             0.4,
             "#fde0ef"
            ],
            [
             0.5,
             "#f7f7f7"
            ],
            [
             0.6,
             "#e6f5d0"
            ],
            [
             0.7,
             "#b8e186"
            ],
            [
             0.8,
             "#7fbc41"
            ],
            [
             0.9,
             "#4d9221"
            ],
            [
             1,
             "#276419"
            ]
           ],
           "sequential": [
            [
             0,
             "#0d0887"
            ],
            [
             0.1111111111111111,
             "#46039f"
            ],
            [
             0.2222222222222222,
             "#7201a8"
            ],
            [
             0.3333333333333333,
             "#9c179e"
            ],
            [
             0.4444444444444444,
             "#bd3786"
            ],
            [
             0.5555555555555556,
             "#d8576b"
            ],
            [
             0.6666666666666666,
             "#ed7953"
            ],
            [
             0.7777777777777778,
             "#fb9f3a"
            ],
            [
             0.8888888888888888,
             "#fdca26"
            ],
            [
             1,
             "#f0f921"
            ]
           ],
           "sequentialminus": [
            [
             0,
             "#0d0887"
            ],
            [
             0.1111111111111111,
             "#46039f"
            ],
            [
             0.2222222222222222,
             "#7201a8"
            ],
            [
             0.3333333333333333,
             "#9c179e"
            ],
            [
             0.4444444444444444,
             "#bd3786"
            ],
            [
             0.5555555555555556,
             "#d8576b"
            ],
            [
             0.6666666666666666,
             "#ed7953"
            ],
            [
             0.7777777777777778,
             "#fb9f3a"
            ],
            [
             0.8888888888888888,
             "#fdca26"
            ],
            [
             1,
             "#f0f921"
            ]
           ]
          },
          "colorway": [
           "#636efa",
           "#EF553B",
           "#00cc96",
           "#ab63fa",
           "#FFA15A",
           "#19d3f3",
           "#FF6692",
           "#B6E880",
           "#FF97FF",
           "#FECB52"
          ],
          "font": {
           "color": "#2a3f5f"
          },
          "geo": {
           "bgcolor": "white",
           "lakecolor": "white",
           "landcolor": "#E5ECF6",
           "showlakes": true,
           "showland": true,
           "subunitcolor": "white"
          },
          "hoverlabel": {
           "align": "left"
          },
          "hovermode": "closest",
          "mapbox": {
           "style": "light"
          },
          "paper_bgcolor": "white",
          "plot_bgcolor": "#E5ECF6",
          "polar": {
           "angularaxis": {
            "gridcolor": "white",
            "linecolor": "white",
            "ticks": ""
           },
           "bgcolor": "#E5ECF6",
           "radialaxis": {
            "gridcolor": "white",
            "linecolor": "white",
            "ticks": ""
           }
          },
          "scene": {
           "xaxis": {
            "backgroundcolor": "#E5ECF6",
            "gridcolor": "white",
            "gridwidth": 2,
            "linecolor": "white",
            "showbackground": true,
            "ticks": "",
            "zerolinecolor": "white"
           },
           "yaxis": {
            "backgroundcolor": "#E5ECF6",
            "gridcolor": "white",
            "gridwidth": 2,
            "linecolor": "white",
            "showbackground": true,
            "ticks": "",
            "zerolinecolor": "white"
           },
           "zaxis": {
            "backgroundcolor": "#E5ECF6",
            "gridcolor": "white",
            "gridwidth": 2,
            "linecolor": "white",
            "showbackground": true,
            "ticks": "",
            "zerolinecolor": "white"
           }
          },
          "shapedefaults": {
           "line": {
            "color": "#2a3f5f"
           }
          },
          "ternary": {
           "aaxis": {
            "gridcolor": "white",
            "linecolor": "white",
            "ticks": ""
           },
           "baxis": {
            "gridcolor": "white",
            "linecolor": "white",
            "ticks": ""
           },
           "bgcolor": "#E5ECF6",
           "caxis": {
            "gridcolor": "white",
            "linecolor": "white",
            "ticks": ""
           }
          },
          "title": {
           "x": 0.05
          },
          "xaxis": {
           "automargin": true,
           "gridcolor": "white",
           "linecolor": "white",
           "ticks": "",
           "title": {
            "standoff": 15
           },
           "zerolinecolor": "white",
           "zerolinewidth": 2
          },
          "yaxis": {
           "automargin": true,
           "gridcolor": "white",
           "linecolor": "white",
           "ticks": "",
           "title": {
            "standoff": 15
           },
           "zerolinecolor": "white",
           "zerolinewidth": 2
          }
         }
        },
        "xaxis": {
         "anchor": "y",
         "domain": [
          0,
          1
         ],
         "matches": "x2",
         "showticklabels": false
        },
        "xaxis2": {
         "anchor": "y2",
         "domain": [
          0,
          1
         ]
        },
        "yaxis": {
         "anchor": "x",
         "domain": [
          0.545,
          1
         ]
        },
        "yaxis2": {
         "anchor": "x2",
         "domain": [
          0,
          0.455
         ]
        }
       }
      },
      "text/html": [
       "<div>                            <div id=\"4532a2d2-31d2-45d2-a08a-4f063a950f32\" class=\"plotly-graph-div\" style=\"height:525px; width:100%;\"></div>            <script type=\"text/javascript\">                require([\"plotly\"], function(Plotly) {                    window.PLOTLYENV=window.PLOTLYENV || {};                                    if (document.getElementById(\"4532a2d2-31d2-45d2-a08a-4f063a950f32\")) {                    Plotly.newPlot(                        \"4532a2d2-31d2-45d2-a08a-4f063a950f32\",                        [{\"x\":[1964,1965,1966,1967,1968,1969,1970,1971,1972,1973,1974,1975,1976,1977,1978,1979,1980,1981,1982,1983,1984,1985,1986,1987,1988,1989,1990,1991,1992,1993,1994,1995,1996,1997,1998,1999,2000,2001,2002,2003,2004,2005,2006,2007,2008,2009,2010,2011,2012,2013,2014,2015,2016,2017,2018,2019,2020,2021,2022],\"y\":[76,106,114,121,117,107,112,116,105,109,105,124,123,123,120,105,100,118,119,126,125,118,99,107,113,99,113,86,92,77,86,71,69,80,73,66,80,55,60,58,54,52,62,63,66,74,70,78,72,78,90,84,86,85,113,100,106,142,181],\"type\":\"scatter\",\"xaxis\":\"x\",\"yaxis\":\"y\"},{\"x\":[1964,1965,1966,1967,1968,1969,1970,1971,1972,1973,1974,1975,1976,1977,1978,1979,1980,1981,1982,1983,1984,1985,1986,1987,1988,1989,1990,1991,1992,1993,1994,1995,1996,1997,1998,1999,2000,2001,2002,2003,2004,2005,2006,2007,2008,2009,2010,2011,2012,2013,2014,2015,2016,2017,2018,2019,2020,2021,2022],\"y\":[17,16,21,18,13,20,13,16,9,7,9,7,6,8,7,5,7,7,9,2,3,6,11,6,7,2,8,5,4,5,6,8,8,7,7,7,4,3,4,3,4,3,4,5,3,5,4,6,4,4,5,5,4,7,3,5,12,14,9],\"type\":\"scatter\",\"xaxis\":\"x2\",\"yaxis\":\"y2\"}],                        {\"template\":{\"data\":{\"histogram2dcontour\":[{\"type\":\"histogram2dcontour\",\"colorbar\":{\"outlinewidth\":0,\"ticks\":\"\"},\"colorscale\":[[0.0,\"#0d0887\"],[0.1111111111111111,\"#46039f\"],[0.2222222222222222,\"#7201a8\"],[0.3333333333333333,\"#9c179e\"],[0.4444444444444444,\"#bd3786\"],[0.5555555555555556,\"#d8576b\"],[0.6666666666666666,\"#ed7953\"],[0.7777777777777778,\"#fb9f3a\"],[0.8888888888888888,\"#fdca26\"],[1.0,\"#f0f921\"]]}],\"choropleth\":[{\"type\":\"choropleth\",\"colorbar\":{\"outlinewidth\":0,\"ticks\":\"\"}}],\"histogram2d\":[{\"type\":\"histogram2d\",\"colorbar\":{\"outlinewidth\":0,\"ticks\":\"\"},\"colorscale\":[[0.0,\"#0d0887\"],[0.1111111111111111,\"#46039f\"],[0.2222222222222222,\"#7201a8\"],[0.3333333333333333,\"#9c179e\"],[0.4444444444444444,\"#bd3786\"],[0.5555555555555556,\"#d8576b\"],[0.6666666666666666,\"#ed7953\"],[0.7777777777777778,\"#fb9f3a\"],[0.8888888888888888,\"#fdca26\"],[1.0,\"#f0f921\"]]}],\"heatmap\":[{\"type\":\"heatmap\",\"colorbar\":{\"outlinewidth\":0,\"ticks\":\"\"},\"colorscale\":[[0.0,\"#0d0887\"],[0.1111111111111111,\"#46039f\"],[0.2222222222222222,\"#7201a8\"],[0.3333333333333333,\"#9c179e\"],[0.4444444444444444,\"#bd3786\"],[0.5555555555555556,\"#d8576b\"],[0.6666666666666666,\"#ed7953\"],[0.7777777777777778,\"#fb9f3a\"],[0.8888888888888888,\"#fdca26\"],[1.0,\"#f0f921\"]]}],\"heatmapgl\":[{\"type\":\"heatmapgl\",\"colorbar\":{\"outlinewidth\":0,\"ticks\":\"\"},\"colorscale\":[[0.0,\"#0d0887\"],[0.1111111111111111,\"#46039f\"],[0.2222222222222222,\"#7201a8\"],[0.3333333333333333,\"#9c179e\"],[0.4444444444444444,\"#bd3786\"],[0.5555555555555556,\"#d8576b\"],[0.6666666666666666,\"#ed7953\"],[0.7777777777777778,\"#fb9f3a\"],[0.8888888888888888,\"#fdca26\"],[1.0,\"#f0f921\"]]}],\"contourcarpet\":[{\"type\":\"contourcarpet\",\"colorbar\":{\"outlinewidth\":0,\"ticks\":\"\"}}],\"contour\":[{\"type\":\"contour\",\"colorbar\":{\"outlinewidth\":0,\"ticks\":\"\"},\"colorscale\":[[0.0,\"#0d0887\"],[0.1111111111111111,\"#46039f\"],[0.2222222222222222,\"#7201a8\"],[0.3333333333333333,\"#9c179e\"],[0.4444444444444444,\"#bd3786\"],[0.5555555555555556,\"#d8576b\"],[0.6666666666666666,\"#ed7953\"],[0.7777777777777778,\"#fb9f3a\"],[0.8888888888888888,\"#fdca26\"],[1.0,\"#f0f921\"]]}],\"surface\":[{\"type\":\"surface\",\"colorbar\":{\"outlinewidth\":0,\"ticks\":\"\"},\"colorscale\":[[0.0,\"#0d0887\"],[0.1111111111111111,\"#46039f\"],[0.2222222222222222,\"#7201a8\"],[0.3333333333333333,\"#9c179e\"],[0.4444444444444444,\"#bd3786\"],[0.5555555555555556,\"#d8576b\"],[0.6666666666666666,\"#ed7953\"],[0.7777777777777778,\"#fb9f3a\"],[0.8888888888888888,\"#fdca26\"],[1.0,\"#f0f921\"]]}],\"mesh3d\":[{\"type\":\"mesh3d\",\"colorbar\":{\"outlinewidth\":0,\"ticks\":\"\"}}],\"scatter\":[{\"fillpattern\":{\"fillmode\":\"overlay\",\"size\":10,\"solidity\":0.2},\"type\":\"scatter\"}],\"parcoords\":[{\"type\":\"parcoords\",\"line\":{\"colorbar\":{\"outlinewidth\":0,\"ticks\":\"\"}}}],\"scatterpolargl\":[{\"type\":\"scatterpolargl\",\"marker\":{\"colorbar\":{\"outlinewidth\":0,\"ticks\":\"\"}}}],\"bar\":[{\"error_x\":{\"color\":\"#2a3f5f\"},\"error_y\":{\"color\":\"#2a3f5f\"},\"marker\":{\"line\":{\"color\":\"#E5ECF6\",\"width\":0.5},\"pattern\":{\"fillmode\":\"overlay\",\"size\":10,\"solidity\":0.2}},\"type\":\"bar\"}],\"scattergeo\":[{\"type\":\"scattergeo\",\"marker\":{\"colorbar\":{\"outlinewidth\":0,\"ticks\":\"\"}}}],\"scatterpolar\":[{\"type\":\"scatterpolar\",\"marker\":{\"colorbar\":{\"outlinewidth\":0,\"ticks\":\"\"}}}],\"histogram\":[{\"marker\":{\"pattern\":{\"fillmode\":\"overlay\",\"size\":10,\"solidity\":0.2}},\"type\":\"histogram\"}],\"scattergl\":[{\"type\":\"scattergl\",\"marker\":{\"colorbar\":{\"outlinewidth\":0,\"ticks\":\"\"}}}],\"scatter3d\":[{\"type\":\"scatter3d\",\"line\":{\"colorbar\":{\"outlinewidth\":0,\"ticks\":\"\"}},\"marker\":{\"colorbar\":{\"outlinewidth\":0,\"ticks\":\"\"}}}],\"scattermapbox\":[{\"type\":\"scattermapbox\",\"marker\":{\"colorbar\":{\"outlinewidth\":0,\"ticks\":\"\"}}}],\"scatterternary\":[{\"type\":\"scatterternary\",\"marker\":{\"colorbar\":{\"outlinewidth\":0,\"ticks\":\"\"}}}],\"scattercarpet\":[{\"type\":\"scattercarpet\",\"marker\":{\"colorbar\":{\"outlinewidth\":0,\"ticks\":\"\"}}}],\"carpet\":[{\"aaxis\":{\"endlinecolor\":\"#2a3f5f\",\"gridcolor\":\"white\",\"linecolor\":\"white\",\"minorgridcolor\":\"white\",\"startlinecolor\":\"#2a3f5f\"},\"baxis\":{\"endlinecolor\":\"#2a3f5f\",\"gridcolor\":\"white\",\"linecolor\":\"white\",\"minorgridcolor\":\"white\",\"startlinecolor\":\"#2a3f5f\"},\"type\":\"carpet\"}],\"table\":[{\"cells\":{\"fill\":{\"color\":\"#EBF0F8\"},\"line\":{\"color\":\"white\"}},\"header\":{\"fill\":{\"color\":\"#C8D4E3\"},\"line\":{\"color\":\"white\"}},\"type\":\"table\"}],\"barpolar\":[{\"marker\":{\"line\":{\"color\":\"#E5ECF6\",\"width\":0.5},\"pattern\":{\"fillmode\":\"overlay\",\"size\":10,\"solidity\":0.2}},\"type\":\"barpolar\"}],\"pie\":[{\"automargin\":true,\"type\":\"pie\"}]},\"layout\":{\"autotypenumbers\":\"strict\",\"colorway\":[\"#636efa\",\"#EF553B\",\"#00cc96\",\"#ab63fa\",\"#FFA15A\",\"#19d3f3\",\"#FF6692\",\"#B6E880\",\"#FF97FF\",\"#FECB52\"],\"font\":{\"color\":\"#2a3f5f\"},\"hovermode\":\"closest\",\"hoverlabel\":{\"align\":\"left\"},\"paper_bgcolor\":\"white\",\"plot_bgcolor\":\"#E5ECF6\",\"polar\":{\"bgcolor\":\"#E5ECF6\",\"angularaxis\":{\"gridcolor\":\"white\",\"linecolor\":\"white\",\"ticks\":\"\"},\"radialaxis\":{\"gridcolor\":\"white\",\"linecolor\":\"white\",\"ticks\":\"\"}},\"ternary\":{\"bgcolor\":\"#E5ECF6\",\"aaxis\":{\"gridcolor\":\"white\",\"linecolor\":\"white\",\"ticks\":\"\"},\"baxis\":{\"gridcolor\":\"white\",\"linecolor\":\"white\",\"ticks\":\"\"},\"caxis\":{\"gridcolor\":\"white\",\"linecolor\":\"white\",\"ticks\":\"\"}},\"coloraxis\":{\"colorbar\":{\"outlinewidth\":0,\"ticks\":\"\"}},\"colorscale\":{\"sequential\":[[0.0,\"#0d0887\"],[0.1111111111111111,\"#46039f\"],[0.2222222222222222,\"#7201a8\"],[0.3333333333333333,\"#9c179e\"],[0.4444444444444444,\"#bd3786\"],[0.5555555555555556,\"#d8576b\"],[0.6666666666666666,\"#ed7953\"],[0.7777777777777778,\"#fb9f3a\"],[0.8888888888888888,\"#fdca26\"],[1.0,\"#f0f921\"]],\"sequentialminus\":[[0.0,\"#0d0887\"],[0.1111111111111111,\"#46039f\"],[0.2222222222222222,\"#7201a8\"],[0.3333333333333333,\"#9c179e\"],[0.4444444444444444,\"#bd3786\"],[0.5555555555555556,\"#d8576b\"],[0.6666666666666666,\"#ed7953\"],[0.7777777777777778,\"#fb9f3a\"],[0.8888888888888888,\"#fdca26\"],[1.0,\"#f0f921\"]],\"diverging\":[[0,\"#8e0152\"],[0.1,\"#c51b7d\"],[0.2,\"#de77ae\"],[0.3,\"#f1b6da\"],[0.4,\"#fde0ef\"],[0.5,\"#f7f7f7\"],[0.6,\"#e6f5d0\"],[0.7,\"#b8e186\"],[0.8,\"#7fbc41\"],[0.9,\"#4d9221\"],[1,\"#276419\"]]},\"xaxis\":{\"gridcolor\":\"white\",\"linecolor\":\"white\",\"ticks\":\"\",\"title\":{\"standoff\":15},\"zerolinecolor\":\"white\",\"automargin\":true,\"zerolinewidth\":2},\"yaxis\":{\"gridcolor\":\"white\",\"linecolor\":\"white\",\"ticks\":\"\",\"title\":{\"standoff\":15},\"zerolinecolor\":\"white\",\"automargin\":true,\"zerolinewidth\":2},\"scene\":{\"xaxis\":{\"backgroundcolor\":\"#E5ECF6\",\"gridcolor\":\"white\",\"linecolor\":\"white\",\"showbackground\":true,\"ticks\":\"\",\"zerolinecolor\":\"white\",\"gridwidth\":2},\"yaxis\":{\"backgroundcolor\":\"#E5ECF6\",\"gridcolor\":\"white\",\"linecolor\":\"white\",\"showbackground\":true,\"ticks\":\"\",\"zerolinecolor\":\"white\",\"gridwidth\":2},\"zaxis\":{\"backgroundcolor\":\"#E5ECF6\",\"gridcolor\":\"white\",\"linecolor\":\"white\",\"showbackground\":true,\"ticks\":\"\",\"zerolinecolor\":\"white\",\"gridwidth\":2}},\"shapedefaults\":{\"line\":{\"color\":\"#2a3f5f\"}},\"annotationdefaults\":{\"arrowcolor\":\"#2a3f5f\",\"arrowhead\":0,\"arrowwidth\":1},\"geo\":{\"bgcolor\":\"white\",\"landcolor\":\"#E5ECF6\",\"subunitcolor\":\"white\",\"showland\":true,\"showlakes\":true,\"lakecolor\":\"white\"},\"title\":{\"x\":0.05},\"mapbox\":{\"style\":\"light\"}}},\"xaxis\":{\"anchor\":\"y\",\"domain\":[0.0,1.0],\"matches\":\"x2\",\"showticklabels\":false},\"yaxis\":{\"anchor\":\"x\",\"domain\":[0.545,1.0]},\"xaxis2\":{\"anchor\":\"y2\",\"domain\":[0.0,1.0]},\"yaxis2\":{\"anchor\":\"x2\",\"domain\":[0.0,0.455]},\"annotations\":[{\"font\":{\"size\":16},\"showarrow\":false,\"text\":\"Success\",\"x\":0.5,\"xanchor\":\"center\",\"xref\":\"paper\",\"y\":1.0,\"yanchor\":\"bottom\",\"yref\":\"paper\"},{\"font\":{\"size\":16},\"showarrow\":false,\"text\":\"Failure\",\"x\":0.5,\"xanchor\":\"center\",\"xref\":\"paper\",\"y\":0.455,\"yanchor\":\"bottom\",\"yref\":\"paper\"}]},                        {\"responsive\": true}                    ).then(function(){\n",
       "                            \n",
       "var gd = document.getElementById('4532a2d2-31d2-45d2-a08a-4f063a950f32');\n",
       "var x = new MutationObserver(function (mutations, observer) {{\n",
       "        var display = window.getComputedStyle(gd).display;\n",
       "        if (!display || display === 'none') {{\n",
       "            console.log([gd, 'removed!']);\n",
       "            Plotly.purge(gd);\n",
       "            observer.disconnect();\n",
       "        }}\n",
       "}});\n",
       "\n",
       "// Listen for the removal of the full notebook cells\n",
       "var notebookContainer = gd.closest('#notebook-container');\n",
       "if (notebookContainer) {{\n",
       "    x.observe(notebookContainer, {childList: true});\n",
       "}}\n",
       "\n",
       "// Listen for the clearing of the current output cell\n",
       "var outputEl = gd.closest('.output');\n",
       "if (outputEl) {{\n",
       "    x.observe(outputEl, {childList: true});\n",
       "}}\n",
       "\n",
       "                        })                };                });            </script>        </div>"
      ]
     },
     "metadata": {},
     "output_type": "display_data"
    }
   ],
   "source": [
    "from plotly.subplots import make_subplots\n",
    "import plotly.graph_objects as go\n",
    "\n",
    "# number of success per year\n",
    "num_succ=df[df['outcome_cat']==1].groupby('year').count()['outcome_cat']\n",
    "\n",
    "# number of fail per year\n",
    "num_fail=df[df['outcome_cat']==0].groupby('year').count()['outcome_cat']\n",
    "\n",
    "\n",
    "fig = make_subplots(rows=2, cols=1, shared_xaxes=True, vertical_spacing=0.09,\n",
    "                   subplot_titles=(\"Success\",\"Failure\"))\n",
    "\n",
    "fig.add_trace(go.Scatter(x=num_succ.index, y=num_succ.values),\n",
    "              row=1, col=1)\n",
    "\n",
    "fig.add_trace(go.Scatter(x=num_fail.index, y=num_fail.values),\n",
    "              row=2, col=1)\n",
    "# fig = px.line(num_succ, x=num_succ.index, y=num_succ.values, title = 'success rate')\n",
    "fig.show()"
   ]
  },
  {
   "cell_type": "markdown",
   "id": "4591b191",
   "metadata": {},
   "source": [
    "The chart above shows the total number of failures and successes in any given year. At a glance, it shows the number of failed launches are correlated with the total number of launches. Next I want to determine the ratio of success to failure per year"
   ]
  },
  {
   "cell_type": "markdown",
   "id": "71989e0e",
   "metadata": {},
   "source": [
    "### Outcome ratio"
   ]
  },
  {
   "cell_type": "code",
   "execution_count": 244,
   "id": "05881b57",
   "metadata": {},
   "outputs": [
    {
     "data": {
      "text/plain": [
       "Text(0, 0.5, 'Success rate')"
      ]
     },
     "execution_count": 244,
     "metadata": {},
     "output_type": "execute_result"
    },
    {
     "data": {
      "image/png": "[encoded data removed]",
      "text/plain": [
       "<Figure size 900x600 with 1 Axes>"
      ]
     },
     "metadata": {},
     "output_type": "display_data"
    }
   ],
   "source": [
    "ratio=pd.concat([num_fail, num_succ], axis=1)\n",
    "ratio.columns = ['fail', 'success']\n",
    "ratio[\"success_rate\"] = ratio['success']/(ratio['success']+ratio['fail'])\n",
    "\n",
    "ratio['SMA30'] = ratio['success_rate'].rolling(8).mean()\n",
    "\n",
    "# set figure size\n",
    "plt.figure(figsize=(9,6))\n",
    "# Time series plot with Seaborn lineplot() with label\n",
    "sns.lineplot(x=ratio.index,y=\"success_rate\",\n",
    "             label=\"yearly\", data=ratio,\n",
    "             ci=None)\n",
    "# 10 year rolling average Time series plot with Seaborn lineplot() with label\n",
    "sns.lineplot(x=ratio.index,y=\"SMA30\",\n",
    "             label=\"8 year moving avg\",\n",
    "             data=ratio,\n",
    "             ci=None)\n",
    "# set axis labels\n",
    "plt.xlabel(\"Date\", size=14)\n",
    "plt.ylabel(\"Success rate\", size=14)\n"
   ]
  },
  {
   "cell_type": "markdown",
   "id": "3c4a383a",
   "metadata": {},
   "source": [
    "The chart above shows the yearly average success rate, as well as the 8 year rolling average. The trend depicts a general increasing success rate over time. The orange line represents a simple 8 year moving average to get a more clear picture of the trend. This chart can back the claim that organizations have generally gotten better at minimising risk and improving their chances at a favorable mission outcome over time. "
   ]
  },
  {
   "cell_type": "markdown",
   "id": "958fc8ab",
   "metadata": {},
   "source": [
    "### Which organization has had the most launches\n"
   ]
  },
  {
   "cell_type": "code",
   "execution_count": 245,
   "id": "1cc5d408",
   "metadata": {},
   "outputs": [
    {
     "data": {
      "text/plain": [
       "organization\n",
       "RVSN USSR       2389\n",
       "CASC             471\n",
       "US Air Force     409\n",
       "Roscosmos        352\n",
       "VKS RF           333\n",
       "Name: mission, dtype: int64"
      ]
     },
     "execution_count": 245,
     "metadata": {},
     "output_type": "execute_result"
    }
   ],
   "source": [
    "df.groupby('organization').count()['mission'].sort_values(ascending=False).head()"
   ]
  },
  {
   "cell_type": "markdown",
   "id": "e9bab0ea",
   "metadata": {},
   "source": [
    "The USSR has had just under 2389 launches, 5 times as many as the runner up, CASC! To follow up it would be interesting to see which organizations spent the most money on missions"
   ]
  },
  {
   "cell_type": "code",
   "execution_count": 264,
   "id": "77d680d7",
   "metadata": {},
   "outputs": [
    {
     "data": {
      "text/plain": [
       "organization\n",
       "RVSN USSR           4.975832e+11\n",
       "US Air Force        1.145912e+11\n",
       "NASA                8.510805e+10\n",
       "Arianespace         3.749246e+10\n",
       "General Dynamics    3.667415e+10\n",
       "Name: price, dtype: float64"
      ]
     },
     "execution_count": 264,
     "metadata": {},
     "output_type": "execute_result"
    }
   ],
   "source": [
    "df.groupby('organization').sum()['price'].sort_values(ascending=False).head()"
   ]
  },
  {
   "cell_type": "markdown",
   "id": "66eb040a",
   "metadata": {},
   "source": [
    "The USSR spent nearly 500 billion usd total on space missions, nearly quintuple the US Air Force budget which comes in at second. This makes sense when considering the number of missions launched by the USSR"
   ]
  },
  {
   "cell_type": "markdown",
   "id": "18c8a5d0",
   "metadata": {},
   "source": [
    "### How expensive was each mission"
   ]
  },
  {
   "cell_type": "code",
   "execution_count": 246,
   "id": "20ba861f",
   "metadata": {},
   "outputs": [
    {
     "data": {
      "application/vnd.plotly.v1+json": {
       "config": {
        "plotlyServerURL": "https://plot.ly"
       },
       "data": [
        {
         "alignmentgroup": "True",
         "bingroup": "x",
         "hovertemplate": "price=%{x}<br>count=%{y}<extra></extra>",
         "legendgroup": "",
         "marker": {
          "color": "#636efa",
          "pattern": {
           "shape": ""
          }
         },
         "name": "",
         "offsetgroup": "",
         "orientation": "v",
         "showlegend": false,
         "type": "histogram",
         "x": [
          62000000,
          62000000,
          97000000,
          62000000,
          62000000,
          59500000,
          59500000,
          59500000,
          59500000,
          59500000,
          56500000,
          56500000,
          56500000,
          56500000,
          56500000,
          56500000,
          56500000,
          56500000,
          56500000,
          56500000,
          56500000,
          56500000,
          56500000,
          56500000,
          62000000,
          56500000,
          62000000,
          62000000,
          62000000,
          62000000,
          62000000,
          62000000,
          62000000,
          62000000,
          62000000,
          62000000,
          62000000,
          62000000,
          62000000,
          62000000,
          62000000,
          62000000,
          62000000,
          62000000,
          62000000,
          62000000,
          62000000,
          62000000,
          62000000,
          62000000,
          62000000,
          62000000,
          62000000,
          62000000,
          62000000,
          62000000,
          62000000,
          62000000,
          67000000,
          67000000,
          67000000,
          67000000,
          67000000,
          67000000,
          67000000,
          67000000,
          67000000,
          67000000,
          67000000,
          97000000,
          67000000,
          67000000,
          67000000,
          7000000,
          7000000,
          7000000,
          7000000,
          7000000,
          67000000,
          67000000,
          67000000,
          67000000,
          97000000,
          67000000,
          67000000,
          67000000,
          67000000,
          67000000,
          67000000,
          67000000,
          67000000,
          67000000,
          67000000,
          67000000,
          67000000,
          67000000,
          67000000,
          67000000,
          67000000,
          7500000,
          7500000,
          7500000,
          7500000,
          876000000,
          7500000,
          350000000,
          350000000,
          350000000,
          164000000,
          350000000,
          350000000,
          350000000,
          350000000,
          350000000,
          350000000,
          350000000,
          350000000,
          350000000,
          350000000,
          350000000,
          61437052.63157895,
          62631756.75675676,
          70645972.22222222,
          164000000,
          70645972.22222222,
          64713815.78947368,
          164000000,
          164000000,
          164000000,
          164000000,
          65152272.72727273,
          65152272.72727273,
          164000000,
          74315666.66666667,
          74315666.66666667,
          164000000,
          164000000,
          164000000,
          164000000,
          62631756.75675676,
          200000000,
          30800000,
          17420000,
          61437052.63157895,
          52687093.02325582,
          63230000,
          63230000,
          63230000,
          63230000,
          63230000,
          63230000,
          59000000,
          59000000,
          59000000,
          1160000000,
          279200000,
          1160000000,
          279200000,
          1160000000,
          1160000000,
          1160000000,
          1160000000,
          1160000000,
          1160000000,
          1160000000,
          1160000000,
          1160000000,
          1160000000,
          1160000000,
          305000000,
          305000000,
          305000000,
          20000000,
          155858695.6521739,
          158834615.3846154,
          126136363.63636364,
          82254400,
          40000000,
          40000000,
          40000000,
          40000000,
          85000000,
          40000000,
          40000000,
          40000000,
          40000000,
          40000000,
          40000000,
          40000000,
          40000000,
          103259333.33333331,
          40000000,
          40000000,
          103259333.33333331,
          40000000,
          40000000,
          103259333.33333331,
          40000000,
          40000000,
          40000000,
          40000000,
          40000000,
          40000000,
          40000000,
          62000000,
          40000000,
          103259333.33333331,
          40000000,
          40000000,
          40000000,
          40000000,
          40000000,
          40000000,
          40000000,
          40000000,
          40000000,
          40000000,
          40000000,
          40000000,
          40000000,
          40000000,
          40000000,
          40000000,
          40000000,
          40000000,
          450000000,
          40000000,
          40000000,
          450000000,
          450000000,
          450000000,
          450000000,
          172888888.8888889,
          450000000,
          450000000,
          172888888.8888889,
          450000000,
          141841739.13043478,
          450000000,
          450000000,
          450000000,
          450000000,
          450000000,
          450000000,
          450000000,
          450000000,
          450000000,
          450000000,
          450000000,
          450000000,
          450000000,
          141841739.13043478,
          141841739.13043478,
          200000000,
          69644782.60869566,
          69644782.60869566,
          69644782.60869566,
          190000000,
          450000000,
          450000000,
          450000000,
          450000000,
          190000000,
          190000000,
          450000000,
          450000000,
          450000000,
          450000000,
          450000000,
          450000000,
          450000000,
          450000000,
          450000000,
          450000000,
          450000000,
          450000000,
          200000000,
          70372000,
          70372000,
          200000000,
          70372000,
          69700000,
          450000000,
          450000000,
          450000000,
          450000000,
          450000000,
          200000000,
          200000000,
          200000000,
          200000000,
          200000000,
          200000000,
          200000000,
          200000000,
          45000000,
          45000000,
          100591904.76190476,
          45000000,
          200000000,
          45000000,
          100591904.76190476,
          40000000,
          45000000,
          40000000,
          45000000,
          45000000,
          40000000,
          40000000,
          40000000,
          40000000,
          40000000,
          45000000,
          40000000,
          46000000,
          46000000,
          40000000,
          45000000,
          40000000,
          46000000,
          55000000,
          17420000,
          40000000,
          25000000,
          46000000,
          45000000,
          40000000,
          80000000,
          80000000,
          80000000,
          80000000,
          13000000,
          37000000,
          80000000,
          85000000,
          85000000,
          85000000,
          85000000,
          85000000,
          5800000,
          21000000,
          112500000,
          61437052.63157895,
          61437052.63157895,
          61437052.63157895,
          61437052.63157895,
          25000000,
          25000000,
          25000000,
          23000000,
          153000000,
          153000000,
          153000000,
          115000000,
          153000000,
          120000000,
          450000000,
          450000000,
          450000000,
          450000000,
          450000000,
          145000000,
          130000000,
          145000000,
          140000000,
          109000000,
          109000000,
          61437052.63157895,
          37000000,
          37000000,
          37000000,
          37000000,
          37000000,
          30000000,
          57376708.07453416,
          37000000,
          37000000,
          67000000,
          57376708.07453416,
          200000000,
          200000000,
          200000000,
          200000000,
          200000000,
          200000000,
          200000000,
          200000000,
          200000000,
          200000000,
          200000000,
          200000000,
          450000000,
          450000000,
          450000000,
          450000000,
          450000000,
          450000000,
          450000000,
          450000000,
          450000000,
          450000000,
          450000000,
          450000000,
          450000000,
          65152272.72727273,
          70645972.22222222,
          39000000,
          39000000,
          39000000,
          112500000,
          112500000,
          112500000,
          112500000,
          112500000,
          112500000,
          112500000,
          450000000,
          450000000,
          450000000,
          450000000,
          450000000,
          450000000,
          450000000,
          450000000,
          450000000,
          450000000,
          450000000,
          450000000,
          450000000,
          450000000,
          450000000,
          450000000,
          450000000,
          450000000,
          450000000,
          450000000,
          450000000,
          450000000,
          450000000,
          450000000,
          450000000,
          450000000,
          450000000,
          450000000,
          450000000,
          450000000,
          109000000,
          153000000,
          145000000,
          115000000,
          123000000,
          145000000,
          109000000,
          109000000,
          109000000,
          109000000,
          130000000,
          145000000,
          109000000,
          115000000,
          123000000,
          153000000,
          109000000,
          109000000,
          109000000,
          109000000,
          109000000,
          123000000,
          153000000,
          109000000,
          120000000,
          123000000,
          153000000,
          64680000.00000001,
          37000000,
          37000000,
          37000000,
          37000000,
          37000000,
          37000000,
          37000000,
          37000000,
          37000000,
          37000000,
          37000000,
          30000000,
          30000000,
          97429555.55555557,
          200000000,
          200000000,
          200000000,
          200000000,
          200000000,
          200000000,
          200000000,
          200000000,
          200000000,
          200000000,
          200000000,
          119216111.1111111,
          200000000,
          52687093.02325582,
          164000000,
          109000000,
          109000000,
          135000000,
          135000000,
          130000000,
          109000000,
          153000000,
          115000000,
          109000000,
          109000000,
          123000000,
          109000000,
          115000000,
          123000000,
          123000000,
          109000000,
          109000000,
          109000000,
          130000000,
          200000000,
          61437052.63157895,
          200000000,
          200000000,
          200000000,
          200000000,
          109000000,
          83948235.29411764,
          120000000,
          71477272.72727273,
          200000000,
          71477272.72727273,
          71477272.72727273,
          200000000,
          200000000,
          200000000,
          74315666.66666667,
          200000000,
          200000000,
          200000000,
          200000000,
          200000000,
          200000000,
          200000000,
          71477272.72727273,
          65152272.72727273,
          200000000,
          200000000,
          62000000,
          450000000,
          450000000,
          450000000,
          450000000,
          450000000,
          67000000,
          450000000,
          450000000,
          450000000,
          450000000,
          450000000,
          450000000,
          450000000,
          450000000,
          450000000,
          450000000,
          200000000,
          450000000,
          450000000,
          200000000,
          450000000,
          450000000,
          450000000,
          71173734.93975903,
          450000000,
          200000000,
          450000000,
          450000000,
          450000000,
          200000000,
          450000000,
          200000000,
          450000000,
          450000000,
          450000000,
          450000000,
          450000000,
          61437052.63157895,
          61437052.63157895,
          61437052.63157895,
          52687093.02325582,
          52687093.02325582,
          65000000,
          47000000,
          450000000,
          450000000,
          450000000,
          450000000,
          450000000,
          450000000,
          450000000,
          450000000,
          450000000,
          450000000,
          450000000,
          450000000,
          450000000,
          450000000,
          450000000,
          29750000,
          61437052.63157895,
          31000000,
          29750000,
          5300000,
          30800000,
          200000000,
          23000000,
          29750000,
          61437052.63157895,
          61437052.63157895,
          17420000,
          90000000,
          21000000,
          12000000,
          30000000,
          29750000,
          47000000,
          61437052.63157895,
          61437052.63157895,
          64680000.00000001,
          200000000,
          64680000.00000001,
          31000000,
          65000000,
          13000000,
          5300000,
          29150000,
          64680000.00000001,
          64680000.00000001,
          29750000,
          69700000,
          61437052.63157895,
          90000000,
          25000000,
          30800000,
          29150000,
          5800000,
          62631756.75675676,
          62631756.75675676,
          30000000,
          200000000,
          31000000,
          20000000,
          62631756.75675676,
          90000000,
          29150000,
          62631756.75675676,
          62631756.75675676,
          20000000,
          20000000,
          39545454.54545455,
          39545454.54545455,
          46955102.04081633,
          56475000,
          56475000,
          64816000,
          64816000,
          98416000,
          43866666.66666666,
          200000000,
          57376708.07453416,
          200000000,
          200000000,
          200000000,
          200000000,
          200000000,
          200000000,
          200000000,
          200000000,
          200000000,
          200000000,
          47000000,
          30000000,
          25000000,
          90000000,
          62000000,
          65000000,
          17420000,
          64680000.00000001,
          29150000,
          31000000,
          62631756.75675676,
          62631756.75675676,
          61437052.63157895,
          65000000,
          200000000,
          70645972.22222222,
          200000000,
          200000000,
          200000000,
          200000000,
          200000000,
          23000000,
          62631756.75675676,
          62631756.75675676,
          65000000,
          62631756.75675676,
          31000000,
          65000000,
          62631756.75675676,
          25000000,
          65000000,
          30800000,
          29750000,
          90000000,
          13000000,
          17420000,
          62631756.75675676,
          90000000,
          21000000,
          21000000,
          54120095.23809524,
          52687093.02325582,
          31000000,
          30000000,
          61437052.63157895,
          30800000,
          64680000.00000001,
          64680000.00000001,
          52687093.02325582,
          100916000,
          64680000.00000001,
          19000000,
          62631756.75675676,
          30800000,
          25000000,
          20000000,
          29750000,
          29150000,
          62631756.75675676,
          90000000,
          29750000,
          30800000,
          62631756.75675676,
          140000000,
          120000000,
          120000000,
          115000000,
          109000000,
          153000000,
          145000000,
          153000000,
          140000000,
          109000000,
          109000000,
          109000000,
          120000000,
          109000000,
          109000000,
          109000000,
          109000000,
          153000000,
          140000000,
          30800000,
          109000000,
          120000000,
          109000000,
          109000000,
          145000000,
          109000000,
          109000000,
          109000000,
          145000000,
          109000000,
          109000000,
          17420000,
          17420000,
          17420000,
          17420000,
          13000000,
          5800000,
          65000000,
          25000000,
          23000000,
          12000000,
          63230000,
          30000000,
          30000000,
          63230000,
          63230000,
          63230000,
          63230000,
          63230000,
          59000000,
          59000000,
          59000000,
          59000000,
          59000000,
          25000000,
          100916000,
          71477272.72727273,
          71477272.72727273,
          71477272.72727273,
          71477272.72727273,
          52687093.02325582,
          52687093.02325582,
          17420000,
          52687093.02325582,
          17420000,
          29750000,
          29150000,
          65000000,
          12000000,
          47000000,
          29150000,
          54120095.23809524,
          29150000,
          29150000,
          54120095.23809524,
          64680000.00000001,
          20000000,
          20000000,
          30800000,
          64680000.00000001,
          90000000,
          37000000,
          65000000,
          93037209.30232558,
          93037209.30232558,
          93037209.30232558,
          93037209.30232558,
          93037209.30232558,
          93037209.30232558,
          29750000,
          5300000,
          109032258.06451613,
          109032258.06451613,
          109032258.06451613,
          109032258.06451613,
          109032258.06451613,
          109032258.06451613,
          109032258.06451613,
          109032258.06451613,
          123670833.33333331,
          123670833.33333331,
          123670833.33333331,
          123670833.33333331,
          123670833.33333331,
          123670833.33333331,
          123670833.33333331,
          20000000,
          67000000,
          130372413.79310344,
          130372413.79310344,
          130372413.79310344,
          130372413.79310344,
          130372413.79310344,
          130372413.79310344,
          130372413.79310344,
          30000000,
          65000000,
          100000000,
          5300000,
          25000000,
          25000000,
          65000000,
          13000000,
          25000000,
          65000000,
          100000000,
          30000000,
          90000000,
          125940322.58064516,
          125940322.58064516,
          125940322.58064516,
          125940322.58064516,
          125940322.58064516,
          125940322.58064516,
          125940322.58064516,
          125940322.58064516,
          160454545.45454547,
          160454545.45454547,
          160454545.45454547,
          160454545.45454547,
          160454545.45454547,
          160454545.45454547,
          160454545.45454547,
          160454545.45454547,
          160454545.45454547,
          160454545.45454547,
          160454545.45454547,
          155858695.6521739,
          155858695.6521739,
          155858695.6521739,
          155858695.6521739,
          155858695.6521739,
          155858695.6521739,
          155858695.6521739,
          155858695.6521739,
          155858695.6521739,
          155858695.6521739,
          5300000,
          158834615.3846154,
          158834615.3846154,
          29150000,
          158834615.3846154,
          158834615.3846154,
          158834615.3846154,
          158834615.3846154,
          158834615.3846154,
          158834615.3846154,
          158834615.3846154,
          158834615.3846154,
          158834615.3846154,
          52687093.02325582,
          7500000,
          52687093.02325582,
          29150000,
          5300000,
          109000000,
          126136363.63636364,
          126136363.63636364,
          126136363.63636364,
          126136363.63636364,
          126136363.63636364,
          126136363.63636364,
          126136363.63636364,
          126136363.63636364,
          126136363.63636364,
          126136363.63636364,
          82254400,
          82254400,
          82254400,
          82254400,
          82254400,
          82254400,
          82254400,
          82254400,
          82254400,
          103259333.33333331,
          103259333.33333331,
          103259333.33333331,
          103259333.33333331,
          103259333.33333331,
          103259333.33333331,
          103259333.33333331,
          103259333.33333331,
          172888888.8888889,
          172888888.8888889,
          172888888.8888889,
          172888888.8888889,
          172888888.8888889,
          172888888.8888889,
          141841739.13043478,
          141841739.13043478,
          141841739.13043478,
          141841739.13043478,
          141841739.13043478,
          141841739.13043478,
          141841739.13043478,
          141841739.13043478,
          69644782.60869566,
          3000000000,
          3000000000,
          609500000,
          609500000,
          1160000000,
          1160000000,
          15000000,
          29150000,
          64816000,
          64816000,
          98416000,
          98416000,
          98416000,
          43866666.66666666,
          88119148.9361702,
          100916000,
          100916000,
          100916000,
          71477272.72727273,
          43866666.66666666,
          88119148.9361702,
          100916000,
          100916000,
          71477272.72727273,
          71477272.72727273,
          123000000,
          67000000,
          67000000,
          97000000,
          47000000,
          47000000,
          47000000,
          47000000,
          47000000,
          47000000,
          47000000,
          47000000,
          47000000,
          47000000,
          67000000,
          52687093.02325582,
          67000000,
          164000000,
          133000000,
          133000000,
          164000000,
          164000000,
          133000000,
          119216111.1111111,
          279200000,
          609500000,
          1160000000,
          1160000000,
          63230000,
          59000000,
          216285714.2857143,
          216285714.2857143,
          91519692.3076923,
          83948235.29411764,
          83948235.29411764,
          83948235.29411764,
          1160000000,
          71173734.93975903,
          1160000000,
          1160000000,
          1160000000,
          305000000,
          20000000,
          20000000,
          20000000,
          83948235.29411764,
          64713815.78947368,
          126136363.63636364,
          82254400,
          103259333.33333331,
          98416000,
          98416000,
          98416000,
          98416000,
          43866666.66666666,
          43866666.66666666,
          88119148.9361702,
          88119148.9361702,
          88119148.9361702,
          88119148.9361702,
          88119148.9361702,
          100916000,
          100916000,
          93037209.30232558,
          93037209.30232558,
          91519692.3076923,
          20000000,
          64713815.78947368,
          103259333.33333331,
          103259333.33333331,
          103259333.33333331,
          103259333.33333331,
          103259333.33333331,
          103259333.33333331,
          172888888.8888889,
          172888888.8888889,
          172888888.8888889,
          172888888.8888889,
          172888888.8888889,
          172888888.8888889,
          172888888.8888889,
          141841739.13043478,
          141841739.13043478,
          141841739.13043478,
          69644782.60869566,
          69644782.60869566,
          69644782.60869566,
          109032258.06451613,
          123670833.33333331,
          123670833.33333331,
          123670833.33333331,
          46000000,
          7500000,
          63230000,
          63230000,
          63230000,
          63230000,
          609500000,
          609500000,
          1160000000,
          1160000000,
          1160000000,
          1160000000,
          1160000000,
          1160000000,
          1160000000,
          59000000,
          59000000,
          59000000,
          59000000,
          59000000,
          59000000,
          59000000,
          130372413.79310344,
          130372413.79310344,
          125940322.58064516,
          125940322.58064516,
          125940322.58064516,
          125940322.58064516,
          160454545.45454547,
          155858695.6521739,
          158834615.3846154,
          126136363.63636364,
          126136363.63636364,
          126136363.63636364,
          82254400,
          59000000,
          59000000,
          59000000,
          59000000,
          59000000,
          59000000,
          59000000,
          59000000,
          59000000,
          59000000,
          59000000,
          59000000,
          59000000,
          59000000,
          7500000,
          29150000,
          30000000,
          30000000,
          30000000,
          30000000,
          30000000,
          30000000,
          30000000,
          30000000,
          30000000,
          30000000,
          30000000,
          30000000,
          30000000,
          30000000,
          30000000,
          70372000,
          126136363.63636364,
          104114000,
          130372413.79310344,
          160454545.45454547,
          103259333.33333331,
          103259333.33333331,
          172888888.8888889,
          74985200,
          158834615.3846154,
          158834615.3846154,
          103259333.33333331,
          104114000,
          172888888.8888889,
          126136363.63636364,
          119216111.1111111,
          74315666.66666667,
          74315666.66666667,
          70645972.22222222,
          25000000,
          100916000,
          93037209.30232558,
          160454545.45454547,
          126136363.63636364,
          141841739.13043478,
          74985200,
          100591904.76190476,
          91519692.3076923,
          71173734.93975903,
          70645972.22222222,
          97429555.55555557,
          67000000,
          119216111.1111111,
          83948235.29411764,
          74315666.66666667,
          64713815.78947368,
          82254400,
          158834615.3846154,
          216285714.2857143,
          69644782.60869566,
          69644782.60869566,
          119216111.1111111,
          91519692.3076923,
          65152272.72727273,
          1160000000,
          59000000,
          59000000,
          216285714.2857143,
          609500000,
          123670833.33333331,
          109032258.06451613,
          93037209.30232558,
          71477272.72727273,
          100916000,
          100916000,
          93037209.30232558,
          88119148.9361702,
          43866666.66666666,
          20000000,
          20000000,
          20000000,
          20000000,
          46955102.04081633,
          20000000,
          20000000,
          88119148.9361702,
          39545454.54545455,
          39545454.54545455,
          56475000,
          56475000,
          64816000,
          64816000,
          43866666.66666666,
          82254400,
          126136363.63636364,
          125940322.58064516,
          125940322.58064516,
          160454545.45454547,
          155858695.6521739,
          158834615.3846154,
          103259333.33333331,
          126136363.63636364,
          158834615.3846154,
          70372000,
          69644782.60869566,
          104114000,
          104114000,
          1160000000,
          1160000000,
          1160000000,
          1160000000,
          20000000,
          20000000,
          20000000,
          20000000,
          20000000,
          20000000,
          20000000,
          20000000,
          39545454.54545455,
          56475000,
          64816000,
          98416000,
          98416000,
          88119148.9361702,
          71477272.72727273,
          93037209.30232558,
          109032258.06451613,
          160454545.45454547,
          130372413.79310344,
          90000000,
          90000000,
          90000000,
          90000000,
          64713815.78947368,
          90000000,
          90000000,
          90000000,
          90000000,
          90000000,
          90000000,
          90000000,
          90000000,
          90000000,
          90000000,
          90000000,
          97429555.55555557,
          100591904.76190476,
          100591904.76190476,
          104114000,
          90000000,
          104114000,
          104114000,
          70372000,
          69644782.60869566,
          69644782.60869566,
          90000000,
          141841739.13043478,
          141841739.13043478,
          90000000,
          69644782.60869566,
          65152272.72727273,
          71173734.93975903,
          5300000,
          69644782.60869566,
          69644782.60869566,
          74985200,
          74985200,
          74985200,
          74985200,
          74985200,
          74985200,
          74985200,
          104114000,
          104114000,
          104114000,
          104114000,
          21000000,
          64680000.00000001,
          64680000.00000001,
          104114000,
          104114000,
          100591904.76190476,
          100591904.76190476,
          100591904.76190476,
          52687093.02325582,
          71477272.72727273,
          7500000,
          100591904.76190476,
          100591904.76190476,
          97429555.55555557,
          97429555.55555557,
          97429555.55555557,
          97429555.55555557,
          119216111.1111111,
          119216111.1111111,
          100591904.76190476,
          100591904.76190476,
          100591904.76190476,
          97429555.55555557,
          119216111.1111111,
          119216111.1111111,
          119216111.1111111,
          119216111.1111111,
          119216111.1111111,
          119216111.1111111,
          70372000,
          70372000,
          70372000,
          20000000,
          7500000,
          93037209.30232558,
          93037209.30232558,
          93037209.30232558,
          93037209.30232558,
          93037209.30232558,
          93037209.30232558,
          93037209.30232558,
          93037209.30232558,
          93037209.30232558,
          93037209.30232558,
          109032258.06451613,
          109032258.06451613,
          109032258.06451613,
          109032258.06451613,
          109032258.06451613,
          123670833.33333331,
          123670833.33333331,
          123670833.33333331,
          123670833.33333331,
          123670833.33333331,
          123670833.33333331,
          123670833.33333331,
          123670833.33333331,
          123670833.33333331,
          123670833.33333331,
          123670833.33333331,
          130372413.79310344,
          130372413.79310344,
          130372413.79310344,
          130372413.79310344,
          130372413.79310344,
          130372413.79310344,
          130372413.79310344,
          125940322.58064516,
          125940322.58064516,
          125940322.58064516,
          160454545.45454547,
          160454545.45454547,
          160454545.45454547,
          155858695.6521739,
          155858695.6521739,
          155858695.6521739,
          155858695.6521739,
          155858695.6521739,
          155858695.6521739,
          155858695.6521739,
          155858695.6521739,
          155858695.6521739,
          155858695.6521739,
          158834615.3846154,
          158834615.3846154,
          158834615.3846154,
          158834615.3846154,
          158834615.3846154,
          158834615.3846154,
          158834615.3846154,
          158834615.3846154,
          158834615.3846154,
          158834615.3846154,
          158834615.3846154,
          126136363.63636364,
          126136363.63636364,
          126136363.63636364,
          126136363.63636364,
          126136363.63636364,
          126136363.63636364,
          126136363.63636364,
          126136363.63636364,
          126136363.63636364,
          126136363.63636364,
          126136363.63636364,
          126136363.63636364,
          82254400,
          82254400,
          82254400,
          82254400,
          82254400,
          82254400,
          82254400,
          82254400,
          82254400,
          82254400,
          59000000,
          59000000,
          216285714.2857143,
          216285714.2857143,
          216285714.2857143,
          216285714.2857143,
          216285714.2857143,
          216285714.2857143,
          216285714.2857143,
          216285714.2857143,
          216285714.2857143,
          216285714.2857143,
          279200000,
          279200000,
          609500000,
          1160000000,
          1160000000,
          1160000000,
          216285714.2857143,
          279200000,
          103259333.33333331,
          74985200,
          279200000,
          279200000,
          279200000,
          216285714.2857143,
          279200000,
          609500000,
          141841739.13043478,
          69644782.60869566,
          70372000,
          69644782.60869566,
          609500000,
          609500000,
          1160000000,
          1160000000,
          1160000000,
          1160000000,
          1160000000,
          1160000000,
          20000000,
          20000000,
          20000000,
          20000000,
          20000000,
          20000000,
          20000000,
          20000000,
          20000000,
          20000000,
          39545454.54545455,
          39545454.54545455,
          46955102.04081633,
          67000000,
          67000000,
          67000000,
          1160000000,
          1160000000,
          1160000000,
          1160000000,
          305000000,
          305000000,
          20000000,
          20000000,
          20000000,
          20000000,
          20000000,
          20000000,
          20000000,
          20000000,
          20000000,
          20000000,
          20000000,
          20000000,
          20000000,
          39545454.54545455,
          39545454.54545455,
          39545454.54545455,
          46955102.04081633,
          46955102.04081633,
          46955102.04081633,
          46955102.04081633,
          64816000,
          64816000,
          98416000,
          98416000,
          43866666.66666666,
          20000000,
          43866666.66666666,
          88119148.9361702,
          88119148.9361702,
          88119148.9361702,
          88119148.9361702,
          100916000,
          20000000,
          20000000,
          20000000,
          20000000,
          20000000,
          39545454.54545455,
          39545454.54545455,
          39545454.54545455,
          46955102.04081633,
          46955102.04081633,
          46955102.04081633,
          56475000,
          56475000,
          64816000,
          64816000,
          98416000,
          98416000,
          98416000,
          43866666.66666666,
          43866666.66666666,
          43866666.66666666,
          88119148.9361702,
          88119148.9361702,
          100916000,
          100916000,
          71477272.72727273,
          71477272.72727273,
          71477272.72727273,
          93037209.30232558,
          93037209.30232558,
          93037209.30232558,
          93037209.30232558,
          109032258.06451613,
          130372413.79310344,
          130372413.79310344,
          130372413.79310344,
          130372413.79310344,
          125940322.58064516,
          160454545.45454547,
          160454545.45454547,
          155858695.6521739,
          158834615.3846154,
          82254400,
          172888888.8888889,
          74985200,
          104114000,
          20000000,
          20000000,
          20000000,
          20000000,
          39545454.54545455,
          39545454.54545455,
          46955102.04081633,
          46955102.04081633,
          56475000,
          56475000,
          56475000,
          64816000,
          64816000,
          64816000,
          98416000,
          98416000,
          98416000,
          98416000,
          98416000,
          98416000,
          43866666.66666666,
          43866666.66666666,
          43866666.66666666,
          43866666.66666666,
          43866666.66666666,
          43866666.66666666,
          88119148.9361702,
          88119148.9361702,
          88119148.9361702,
          88119148.9361702,
          88119148.9361702,
          100916000,
          100916000,
          100916000,
          100916000,
          93037209.30232558,
          123670833.33333331,
          123670833.33333331,
          125940322.58064516,
          20000000,
          46955102.04081633,
          64816000,
          98416000,
          98416000,
          43866666.66666666,
          88119148.9361702,
          88119148.9361702,
          100916000,
          71477272.72727273,
          93037209.30232558,
          93037209.30232558,
          130372413.79310344,
          64816000,
          98416000,
          100916000,
          71477272.72727273,
          109032258.06451613,
          109032258.06451613,
          125940322.58064516,
          20000000,
          20000000,
          39545454.54545455,
          46955102.04081633,
          56475000,
          64816000,
          43866666.66666666,
          43866666.66666666,
          88119148.9361702,
          100916000,
          71477272.72727273,
          93037209.30232558,
          123670833.33333331,
          125940322.58064516,
          39545454.54545455,
          39545454.54545455,
          56475000,
          64816000,
          98416000,
          100916000,
          93037209.30232558,
          71477272.72727273,
          109032258.06451613,
          125940322.58064516,
          160454545.45454547,
          98416000,
          98416000,
          43866666.66666666,
          88119148.9361702,
          88119148.9361702,
          100916000,
          71477272.72727273,
          71477272.72727273,
          93037209.30232558,
          93037209.30232558,
          109032258.06451613,
          109032258.06451613,
          109032258.06451613,
          123670833.33333331,
          123670833.33333331,
          130372413.79310344,
          130372413.79310344,
          125940322.58064516,
          125940322.58064516,
          126136363.63636364,
          155858695.6521739,
          158834615.3846154,
          172888888.8888889,
          103259333.33333331,
          100916000,
          71477272.72727273,
          93037209.30232558,
          43866666.66666666,
          71477272.72727273,
          109032258.06451613,
          130372413.79310344,
          125940322.58064516,
          74985200,
          119216111.1111111,
          64713815.78947368,
          65152272.72727273,
          5300000,
          5300000,
          29150000,
          54120095.23809524,
          25000000,
          25000000,
          25000000,
          25000000,
          25000000,
          25000000,
          25000000,
          63230000,
          63230000,
          59000000,
          59000000,
          216285714.2857143,
          216285714.2857143,
          216285714.2857143,
          216285714.2857143,
          279200000,
          279200000,
          279200000,
          279200000,
          279200000,
          609500000,
          609500000,
          609500000,
          609500000,
          609500000,
          1160000000,
          1160000000,
          1160000000,
          1160000000,
          1160000000,
          1160000000,
          1160000000,
          305000000,
          20000000,
          29150000,
          1160000000,
          1160000000,
          1160000000,
          1160000000,
          1160000000,
          1160000000,
          305000000,
          305000000,
          305000000,
          20000000,
          20000000,
          20000000,
          20000000,
          20000000,
          20000000,
          20000000,
          20000000,
          20000000,
          20000000,
          39545454.54545455,
          46955102.04081633,
          56475000,
          64816000,
          200000000,
          30800000,
          31000000,
          63230000,
          31000000,
          63230000,
          63230000,
          63230000,
          63230000,
          63230000,
          29150000,
          31000000,
          65000000,
          20000000,
          25000000,
          31000000,
          20000000,
          65000000,
          70645972.22222222,
          17420000,
          69700000,
          17420000,
          13000000,
          29750000,
          23000000,
          31000000,
          29750000,
          25000000,
          64680000.00000001,
          13000000,
          65000000,
          25000000,
          20000000,
          25000000,
          25000000,
          25000000,
          21000000,
          31000000,
          21000000,
          70645972.22222222,
          64680000.00000001,
          21000000,
          31000000,
          21000000,
          21000000,
          21000000,
          25000000,
          31000000,
          21000000,
          31000000,
          21000000,
          63230000,
          63230000,
          63230000,
          63230000,
          63230000,
          70645972.22222222,
          20000000,
          29150000,
          64680000.00000001,
          29750000,
          64680000.00000001,
          70645972.22222222,
          25000000,
          70645972.22222222,
          70645972.22222222,
          70645972.22222222,
          21000000,
          29750000,
          31000000,
          70645972.22222222,
          31000000,
          31000000,
          21000000,
          31000000,
          31000000,
          31000000,
          20000000,
          21000000,
          20000000,
          31000000,
          29150000,
          29750000,
          29750000,
          31000000,
          20000000,
          20000000,
          39545454.54545455,
          56475000,
          88119148.9361702,
          100916000,
          123670833.33333331,
          125940322.58064516,
          63230000,
          63230000,
          63230000,
          59000000,
          59000000,
          59000000,
          216285714.2857143,
          63230000,
          59000000,
          63230000,
          63230000,
          63230000,
          63230000,
          63230000,
          63230000,
          63230000,
          63230000,
          279200000,
          59000000,
          216285714.2857143,
          279200000,
          46955102.04081633,
          56475000,
          56475000,
          64816000,
          63230000,
          63230000,
          63230000,
          59000000,
          59000000,
          59000000,
          59000000,
          216285714.2857143,
          216285714.2857143,
          216285714.2857143,
          216285714.2857143,
          216285714.2857143,
          216285714.2857143,
          216285714.2857143,
          216285714.2857143,
          216285714.2857143,
          216285714.2857143,
          216285714.2857143,
          216285714.2857143,
          279200000,
          279200000,
          609500000,
          609500000,
          609500000,
          609500000,
          1160000000,
          1160000000,
          67000000,
          279200000,
          279200000,
          279200000,
          279200000,
          279200000,
          279200000,
          279200000,
          279200000,
          279200000,
          279200000,
          279200000,
          279200000,
          279200000,
          279200000,
          279200000,
          609500000,
          609500000,
          609500000,
          609500000,
          609500000,
          609500000,
          609500000,
          609500000,
          609500000,
          609500000,
          609500000,
          609500000,
          609500000,
          52687093.02325582,
          1160000000,
          1160000000,
          1160000000,
          1160000000,
          1160000000,
          1160000000,
          1160000000,
          1160000000,
          1160000000,
          1160000000,
          1160000000,
          1160000000,
          1160000000,
          1160000000,
          1160000000,
          1160000000,
          1160000000,
          1160000000,
          1160000000,
          1160000000,
          1160000000,
          1160000000,
          1160000000,
          1160000000,
          1160000000,
          1160000000,
          1160000000,
          1160000000,
          1160000000,
          1160000000,
          1160000000,
          1160000000,
          1160000000,
          1160000000,
          1160000000,
          1160000000,
          1160000000,
          1160000000,
          1160000000,
          1160000000,
          1160000000,
          1160000000,
          305000000,
          305000000,
          305000000,
          305000000,
          305000000,
          305000000,
          305000000,
          305000000,
          305000000,
          20000000,
          20000000,
          20000000,
          20000000,
          20000000,
          20000000,
          20000000,
          20000000,
          20000000,
          20000000,
          20000000,
          20000000,
          20000000,
          20000000,
          20000000,
          20000000,
          20000000,
          20000000,
          609500000,
          609500000,
          1160000000,
          1160000000,
          1160000000,
          1160000000,
          1160000000,
          305000000,
          29150000,
          19000000,
          29150000,
          5800000,
          23000000,
          20000000,
          19000000,
          216285714.2857143,
          216285714.2857143,
          216285714.2857143,
          279200000,
          609500000,
          609500000,
          1160000000,
          1160000000,
          1160000000,
          1160000000,
          1160000000,
          1160000000,
          1160000000,
          1160000000,
          1160000000,
          305000000,
          305000000,
          305000000,
          305000000,
          20000000,
          20000000,
          20000000,
          20000000,
          20000000,
          20000000,
          20000000,
          20000000,
          20000000,
          20000000,
          20000000,
          305000000,
          63230000,
          63230000,
          63230000,
          59000000,
          59000000,
          59000000,
          216285714.2857143,
          216285714.2857143,
          216285714.2857143,
          279200000,
          279200000,
          609500000,
          609500000,
          1160000000,
          1160000000,
          216285714.2857143,
          216285714.2857143,
          279200000,
          279200000,
          609500000,
          609500000,
          1160000000,
          1160000000,
          1160000000,
          1160000000,
          1160000000,
          1160000000,
          1160000000,
          1160000000,
          1160000000,
          1160000000,
          305000000,
          305000000,
          1160000000,
          305000000,
          305000000,
          20000000,
          20000000,
          20000000,
          20000000,
          20000000,
          20000000,
          20000000,
          20000000,
          20000000,
          20000000,
          20000000,
          20000000,
          20000000,
          20000000,
          20000000,
          20000000,
          20000000,
          20000000,
          20000000,
          46955102.04081633,
          20000000,
          279200000,
          279200000,
          609500000,
          609500000,
          1160000000,
          1160000000,
          1160000000,
          1160000000,
          305000000,
          20000000,
          20000000,
          20000000,
          20000000,
          20000000,
          20000000,
          20000000,
          279200000,
          1160000000,
          609500000,
          67000000,
          67000000,
          5800000,
          17420000,
          85000000,
          112500000,
          1160000000,
          1160000000,
          1160000000,
          1160000000,
          1160000000,
          305000000,
          305000000,
          305000000,
          20000000,
          20000000,
          20000000,
          20000000,
          20000000,
          20000000,
          20000000,
          20000000,
          20000000,
          20000000,
          20000000,
          20000000,
          20000000,
          20000000,
          20000000,
          20000000,
          20000000,
          20000000,
          39545454.54545455,
          39545454.54545455,
          39545454.54545455,
          46955102.04081633,
          46955102.04081633,
          46955102.04081633,
          56475000,
          56475000,
          64816000,
          64816000,
          98416000,
          43866666.66666666,
          43866666.66666666,
          43866666.66666666,
          88119148.9361702,
          100916000,
          71477272.72727273,
          93037209.30232558,
          109032258.06451613,
          123670833.33333331,
          1160000000,
          1160000000,
          1160000000,
          1160000000,
          1160000000,
          1160000000,
          1160000000,
          305000000,
          20000000,
          20000000,
          20000000,
          20000000,
          20000000,
          20000000,
          20000000,
          20000000,
          20000000,
          20000000,
          20000000,
          20000000,
          20000000,
          20000000,
          20000000,
          39545454.54545455,
          39545454.54545455,
          46955102.04081633,
          46955102.04081633,
          46955102.04081633,
          46955102.04081633,
          46955102.04081633,
          56475000,
          56475000,
          56475000,
          64816000,
          64816000,
          98416000,
          98416000,
          43866666.66666666,
          43866666.66666666,
          43866666.66666666,
          88119148.9361702,
          88119148.9361702,
          88119148.9361702,
          100916000,
          100916000,
          71477272.72727273,
          93037209.30232558,
          93037209.30232558,
          109032258.06451613,
          123670833.33333331,
          130372413.79310344,
          125940322.58064516,
          70372000,
          141841739.13043478,
          69644782.60869566,
          74985200,
          1160000000,
          1160000000,
          1160000000,
          1160000000,
          1160000000,
          1160000000,
          1160000000,
          1160000000,
          1160000000,
          305000000,
          305000000,
          20000000,
          20000000,
          20000000,
          20000000,
          20000000,
          20000000,
          20000000,
          20000000,
          20000000,
          20000000,
          20000000,
          20000000,
          20000000,
          20000000,
          20000000,
          39545454.54545455,
          46955102.04081633,
          50541007.75193799,
          17420000,
          50541007.75193799,
          50541007.75193799,
          50541007.75193799,
          65152272.72727273,
          74315666.66666667,
          23000000,
          83948235.29411764,
          82254400,
          141841739.13043478,
          141841739.13043478,
          172888888.8888889,
          83948235.29411764,
          67000000,
          67000000,
          67000000,
          67000000,
          67000000,
          67000000,
          67000000,
          67000000,
          67000000,
          67000000,
          67000000,
          67000000,
          67000000,
          1160000000,
          1160000000,
          1160000000,
          64713815.78947368,
          64713815.78947368,
          70645972.22222222,
          70645972.22222222,
          70645972.22222222,
          70645972.22222222,
          62631756.75675676,
          61437052.63157895,
          61437052.63157895,
          52687093.02325582,
          52687093.02325582,
          67000000,
          70372000,
          69644782.60869566,
          5800000,
          7500000,
          25000000,
          7500000,
          29750000,
          64680000.00000001,
          7500000,
          29150000,
          25000000,
          97429555.55555557,
          85000000,
          5800000,
          52687093.02325582,
          19000000,
          52687093.02325582,
          64680000.00000001,
          13000000,
          13000000,
          13000000,
          13000000,
          13000000,
          13000000,
          13000000,
          13000000,
          13000000,
          13000000,
          13000000,
          13000000,
          13000000,
          13000000,
          13000000,
          13000000,
          13000000,
          13000000,
          13000000,
          13000000,
          13000000,
          13000000,
          13000000,
          13000000,
          125940322.58064516,
          71173734.93975903,
          17420000,
          52687093.02325582,
          85000000,
          5800000,
          5800000,
          29750000,
          27000000,
          145000000,
          67000000,
          67000000,
          67000000,
          67000000,
          67000000,
          67000000,
          67000000,
          67000000,
          67000000,
          67000000,
          67000000,
          67000000,
          1160000000,
          1160000000,
          20000000,
          20000000,
          20000000,
          20000000,
          30800000,
          30800000,
          64816000,
          64816000,
          30800000,
          30800000,
          43866666.66666666,
          30800000,
          30800000,
          30800000,
          100916000,
          30800000,
          100916000,
          100916000,
          93037209.30232558,
          93037209.30232558,
          93037209.30232558,
          93037209.30232558,
          30800000,
          609500000,
          1160000000,
          1160000000,
          1160000000,
          305000000,
          20000000,
          43866666.66666666,
          69644782.60869566,
          90000000,
          25000000,
          25000000,
          25000000,
          109032258.06451613,
          29750000,
          123670833.33333331,
          30800000,
          123670833.33333331,
          30800000,
          69700000,
          29750000,
          125940322.58064516,
          125940322.58064516,
          69700000,
          160454545.45454547,
          160454545.45454547,
          160454545.45454547,
          155858695.6521739,
          155858695.6521739,
          155858695.6521739,
          29750000,
          69700000,
          158834615.3846154,
          158834615.3846154,
          158834615.3846154,
          158834615.3846154,
          63230000,
          63230000,
          63230000,
          63230000,
          63230000,
          63230000,
          63230000,
          63230000,
          63230000,
          63230000,
          63230000,
          63230000,
          63230000,
          63230000,
          63230000,
          50541007.75193799,
          57376708.07453416,
          57376708.07453416,
          63230000,
          63230000,
          63230000,
          63230000,
          63230000,
          63230000,
          63230000,
          63230000,
          63230000,
          63230000,
          63230000,
          63230000,
          63230000,
          63230000,
          63230000,
          63230000,
          15000000,
          59000000,
          59000000,
          59000000,
          59000000,
          59000000,
          59000000,
          59000000,
          59000000,
          59000000,
          59000000,
          59000000,
          59000000,
          59000000,
          59000000,
          59000000,
          59000000,
          59000000,
          59000000,
          59000000,
          59000000,
          59000000,
          59000000,
          59000000,
          59000000,
          59000000,
          216285714.2857143,
          216285714.2857143,
          216285714.2857143,
          216285714.2857143,
          216285714.2857143,
          216285714.2857143,
          216285714.2857143,
          216285714.2857143,
          216285714.2857143,
          279200000,
          279200000,
          609500000,
          1160000000,
          1160000000,
          1160000000,
          1160000000,
          305000000,
          20000000,
          20000000,
          20000000,
          20000000,
          20000000,
          609500000,
          88119148.9361702,
          109032258.06451613,
          216285714.2857143,
          54120095.23809524,
          63230000,
          63230000,
          63230000,
          59000000,
          59000000,
          59000000,
          216285714.2857143,
          279200000,
          609500000,
          1160000000,
          54120095.23809524,
          29150000,
          158834615.3846154,
          126136363.63636364,
          126136363.63636364,
          126136363.63636364,
          126136363.63636364,
          126136363.63636364,
          126136363.63636364,
          64680000.00000001,
          82254400,
          64680000.00000001,
          17420000,
          69700000,
          103259333.33333331,
          69700000,
          69700000,
          64680000.00000001,
          64680000.00000001,
          23000000,
          69700000,
          64680000.00000001,
          29750000,
          69700000,
          69644782.60869566,
          74985200,
          30800000,
          65000000,
          30800000,
          64680000.00000001,
          29750000,
          69700000,
          64680000.00000001,
          30800000,
          70372000,
          29750000,
          30000000,
          25000000,
          25000000,
          25000000,
          25000000,
          25000000,
          25000000,
          25000000,
          67000000,
          25000000,
          30800000,
          29750000,
          64680000.00000001,
          30800000,
          69700000,
          29750000,
          17420000,
          17420000,
          17420000,
          17420000,
          17420000,
          17420000,
          20000000,
          20000000,
          20000000,
          20000000,
          20000000,
          20000000,
          20000000,
          20000000,
          20000000,
          20000000,
          20000000,
          20000000,
          20000000,
          20000000,
          20000000,
          20000000,
          20000000,
          20000000,
          20000000,
          20000000,
          20000000,
          39545454.54545455,
          39545454.54545455,
          39545454.54545455,
          39545454.54545455,
          46955102.04081633,
          46955102.04081633,
          46955102.04081633,
          46955102.04081633,
          46955102.04081633,
          46955102.04081633,
          56475000,
          56475000,
          56475000,
          56475000,
          56475000,
          56475000,
          56475000,
          56475000,
          56475000,
          64816000,
          64816000,
          64816000,
          64816000,
          98416000,
          98416000,
          98416000,
          43866666.66666666,
          43866666.66666666,
          88119148.9361702,
          88119148.9361702,
          88119148.9361702,
          100916000,
          100916000,
          71477272.72727273,
          93037209.30232558,
          93037209.30232558,
          109032258.06451613,
          109032258.06451613,
          109032258.06451613,
          130372413.79310344,
          125940322.58064516,
          160454545.45454547,
          155858695.6521739,
          20000000,
          62000000,
          28300000,
          141841739.13043478,
          69644782.60869566,
          7500000,
          27000000,
          64680000.00000001,
          104114000,
          69700000,
          69700000,
          30800000,
          69700000,
          29150000,
          29750000,
          20000000,
          20000000,
          20000000,
          20000000,
          20000000,
          20000000,
          20000000,
          20000000,
          20000000,
          20000000,
          20000000,
          20000000,
          20000000,
          20000000,
          20000000,
          20000000,
          20000000,
          20000000,
          20000000,
          20000000,
          20000000,
          20000000,
          20000000,
          20000000,
          20000000,
          39545454.54545455,
          39545454.54545455,
          39545454.54545455,
          39545454.54545455,
          46955102.04081633,
          46955102.04081633,
          46955102.04081633,
          46955102.04081633,
          46955102.04081633,
          46955102.04081633,
          56475000,
          56475000,
          56475000,
          56475000,
          56475000,
          64816000,
          64816000,
          64816000,
          64816000,
          64816000,
          64816000,
          64816000,
          98416000,
          98416000,
          98416000,
          98416000,
          98416000,
          43866666.66666666,
          43866666.66666666,
          43866666.66666666,
          43866666.66666666,
          43866666.66666666,
          88119148.9361702,
          88119148.9361702,
          88119148.9361702,
          88119148.9361702,
          71477272.72727273,
          100916000,
          100916000,
          71477272.72727273,
          71477272.72727273,
          71477272.72727273,
          93037209.30232558,
          93037209.30232558,
          93037209.30232558,
          109032258.06451613,
          109032258.06451613,
          109032258.06451613,
          109032258.06451613,
          123670833.33333331,
          123670833.33333331,
          123670833.33333331,
          123670833.33333331,
          130372413.79310344,
          130372413.79310344,
          130372413.79310344,
          125940322.58064516,
          67000000,
          160454545.45454547,
          160454545.45454547,
          155858695.6521739,
          155858695.6521739,
          155858695.6521739,
          158834615.3846154,
          158834615.3846154,
          126136363.63636364,
          82254400,
          172888888.8888889,
          141841739.13043478,
          69644782.60869566,
          74985200,
          100591904.76190476,
          70372000,
          119216111.1111111,
          91519692.3076923,
          20000000,
          20000000,
          20000000,
          20000000,
          20000000,
          39545454.54545455,
          20000000,
          20000000,
          20000000,
          20000000,
          20000000,
          20000000,
          20000000,
          20000000,
          20000000,
          20000000,
          46955102.04081633,
          56475000,
          64816000,
          98416000,
          43866666.66666666,
          43866666.66666666,
          88119148.9361702,
          88119148.9361702,
          109032258.06451613,
          123670833.33333331,
          130372413.79310344,
          160454545.45454547,
          160454545.45454547,
          39545454.54545455,
          20000000,
          39545454.54545455,
          39545454.54545455,
          46955102.04081633,
          56475000,
          64816000,
          71477272.72727273,
          93037209.30232558,
          109032258.06451613,
          125940322.58064516,
          126136363.63636364,
          103259333.33333331,
          141841739.13043478,
          71477272.72727273,
          93037209.30232558,
          109032258.06451613,
          125940322.58064516,
          82254400,
          103259333.33333331,
          103259333.33333331,
          141841739.13043478,
          69644782.60869566,
          70372000,
          104114000,
          100591904.76190476,
          100591904.76190476,
          97429555.55555557,
          97429555.55555557,
          97429555.55555557,
          29000000,
          29000000,
          29000000,
          29000000,
          29000000,
          29000000,
          29000000,
          29000000,
          29000000,
          29000000,
          29000000,
          29000000,
          29000000,
          29000000,
          29000000,
          29000000,
          29000000,
          29000000,
          29000000,
          29000000,
          29000000,
          29000000,
          100591904.76190476,
          97429555.55555557,
          119216111.1111111,
          119216111.1111111,
          119216111.1111111,
          83948235.29411764,
          83948235.29411764,
          83948235.29411764,
          65152272.72727273,
          82254400,
          82254400,
          103259333.33333331,
          103259333.33333331,
          103259333.33333331,
          172888888.8888889,
          172888888.8888889,
          141841739.13043478,
          69644782.60869566,
          69644782.60869566,
          69644782.60869566,
          74985200,
          74985200,
          74985200,
          70372000,
          70372000,
          70372000,
          70372000,
          104114000,
          104114000,
          104114000,
          104114000,
          104114000,
          100591904.76190476,
          97429555.55555557,
          97429555.55555557,
          97429555.55555557,
          97429555.55555557,
          97429555.55555557,
          119216111.1111111,
          83948235.29411764,
          74315666.66666667,
          74315666.66666667,
          74315666.66666667,
          65152272.72727273,
          71173734.93975903,
          63230000,
          63230000,
          63230000,
          63230000,
          63230000,
          63230000,
          63230000,
          63230000,
          63230000,
          63230000,
          63230000,
          63230000,
          63230000,
          63230000,
          63230000,
          63230000,
          63230000,
          63230000,
          63230000,
          59000000,
          59000000,
          59000000,
          59000000,
          59000000,
          59000000,
          59000000,
          59000000,
          216285714.2857143,
          216285714.2857143,
          216285714.2857143,
          216285714.2857143,
          216285714.2857143,
          59000000,
          59000000,
          63230000,
          59000000,
          63230000,
          63230000,
          63230000,
          59000000,
          59000000,
          216285714.2857143,
          279200000,
          279200000,
          216285714.2857143,
          216285714.2857143,
          609500000,
          1160000000,
          1160000000,
          1160000000,
          1160000000,
          609500000,
          609500000,
          1160000000,
          1160000000,
          1160000000,
          1160000000,
          1160000000,
          1160000000,
          1160000000,
          1160000000,
          1160000000,
          1160000000,
          1160000000,
          279200000,
          63230000,
          63230000,
          63230000,
          63230000,
          59000000,
          59000000,
          59000000,
          59000000,
          216285714.2857143,
          216285714.2857143,
          216285714.2857143,
          216285714.2857143,
          279200000,
          279200000,
          279200000,
          609500000,
          609500000,
          609500000,
          69700000,
          100591904.76190476,
          64680000.00000001,
          69700000,
          2500000,
          54120095.23809524,
          305000000,
          305000000,
          20000000,
          20000000,
          20000000,
          20000000,
          20000000,
          20000000,
          20000000,
          20000000,
          20000000,
          20000000,
          20000000,
          20000000,
          20000000,
          20000000,
          20000000,
          20000000,
          20000000,
          39545454.54545455,
          46955102.04081633,
          56475000,
          20000000,
          20000000,
          20000000,
          20000000,
          20000000,
          20000000,
          20000000,
          20000000,
          20000000,
          20000000,
          20000000,
          20000000,
          305000000,
          20000000,
          20000000,
          20000000,
          20000000,
          39545454.54545455,
          39545454.54545455,
          20000000,
          20000000,
          20000000,
          20000000,
          20000000,
          20000000,
          39545454.54545455,
          46955102.04081633,
          56475000,
          46955102.04081633,
          46955102.04081633,
          46955102.04081633,
          56475000,
          100916000,
          98416000,
          20000000,
          20000000,
          20000000,
          20000000,
          56475000,
          39545454.54545455,
          39545454.54545455,
          100916000,
          109032258.06451613,
          4900000,
          63230000,
          63230000,
          59000000,
          63230000,
          63230000,
          63230000,
          63230000,
          63230000,
          63230000,
          59000000,
          63230000,
          63230000,
          63230000,
          63230000,
          63230000,
          63230000,
          63230000,
          63230000,
          63230000,
          59000000,
          59000000,
          59000000,
          216285714.2857143,
          216285714.2857143,
          216285714.2857143,
          216285714.2857143,
          216285714.2857143,
          216285714.2857143,
          59000000,
          59000000,
          59000000,
          59000000,
          59000000,
          59000000,
          59000000,
          59000000,
          59000000,
          216285714.2857143,
          216285714.2857143,
          216285714.2857143,
          216285714.2857143,
          216285714.2857143,
          216285714.2857143,
          216285714.2857143,
          216285714.2857143,
          216285714.2857143,
          216285714.2857143,
          216285714.2857143,
          216285714.2857143,
          216285714.2857143,
          216285714.2857143,
          279200000,
          279200000,
          279200000,
          279200000,
          279200000,
          279200000,
          279200000,
          279200000,
          279200000,
          279200000,
          279200000,
          279200000,
          279200000,
          279200000,
          279200000,
          279200000,
          279200000,
          279200000,
          279200000,
          279200000,
          279200000,
          279200000,
          279200000,
          609500000,
          609500000,
          609500000,
          609500000,
          609500000,
          609500000,
          609500000,
          609500000,
          609500000,
          609500000,
          609500000,
          609500000,
          279200000,
          279200000,
          279200000,
          279200000,
          279200000,
          279200000,
          609500000,
          43866666.66666666,
          609500000,
          609500000,
          609500000,
          609500000,
          609500000,
          609500000,
          609500000,
          609500000,
          609500000,
          609500000,
          609500000,
          609500000,
          609500000,
          609500000,
          609500000,
          609500000,
          609500000,
          609500000,
          609500000,
          1160000000,
          1160000000,
          1160000000,
          1160000000,
          1160000000,
          1160000000,
          1160000000,
          1160000000,
          1160000000,
          1160000000,
          1160000000,
          1160000000,
          1160000000,
          1160000000,
          1160000000,
          1160000000,
          1160000000,
          1160000000,
          1160000000,
          1160000000,
          1160000000,
          1160000000,
          1160000000,
          1160000000,
          1160000000,
          1160000000,
          1160000000,
          1160000000,
          1160000000,
          1160000000,
          1160000000,
          1160000000,
          1160000000,
          1160000000,
          1160000000,
          1160000000,
          1160000000,
          1160000000,
          1160000000,
          1160000000,
          1160000000,
          1160000000,
          1160000000,
          1160000000,
          1160000000,
          1160000000,
          1160000000,
          1160000000,
          1160000000,
          1160000000,
          1160000000,
          1160000000,
          1160000000,
          1160000000,
          1160000000,
          1160000000,
          1160000000,
          1160000000,
          1160000000,
          1160000000,
          1160000000,
          1160000000,
          1160000000,
          1160000000,
          1160000000,
          1160000000,
          1160000000,
          1160000000,
          1160000000,
          1160000000,
          1160000000,
          1160000000,
          1160000000,
          1160000000,
          1160000000,
          1160000000,
          1160000000,
          1160000000,
          1160000000,
          1160000000,
          1160000000,
          1160000000,
          1160000000,
          305000000,
          305000000,
          305000000,
          305000000,
          305000000,
          305000000,
          1160000000,
          1160000000,
          1160000000,
          1160000000,
          1160000000,
          1160000000,
          1160000000,
          305000000,
          305000000,
          305000000,
          305000000,
          305000000,
          305000000,
          305000000,
          305000000,
          305000000,
          20000000,
          20000000,
          20000000,
          20000000,
          20000000,
          20000000,
          305000000,
          305000000,
          305000000,
          305000000,
          305000000,
          305000000,
          305000000,
          305000000,
          305000000,
          305000000,
          305000000,
          305000000,
          305000000,
          305000000,
          305000000,
          305000000,
          305000000,
          20000000,
          20000000,
          20000000,
          20000000,
          20000000,
          20000000,
          20000000,
          20000000,
          20000000,
          20000000,
          20000000,
          20000000,
          20000000,
          20000000,
          20000000,
          20000000,
          20000000,
          20000000,
          20000000,
          20000000,
          20000000,
          20000000,
          20000000,
          20000000,
          20000000,
          20000000,
          20000000,
          20000000,
          20000000,
          20000000,
          20000000,
          20000000,
          20000000,
          20000000,
          20000000,
          20000000,
          20000000,
          20000000,
          20000000,
          20000000,
          20000000,
          20000000,
          20000000,
          20000000,
          20000000,
          20000000,
          20000000,
          20000000,
          20000000,
          20000000,
          20000000,
          20000000,
          20000000,
          20000000,
          20000000,
          20000000,
          20000000,
          20000000,
          63230000,
          63230000,
          63230000,
          63230000,
          63230000,
          63230000,
          63230000,
          63230000,
          63230000,
          63230000,
          57376708.07453416,
          63230000,
          63230000,
          63230000,
          63230000,
          63230000,
          63230000,
          59000000,
          59000000,
          59000000,
          216285714.2857143,
          216285714.2857143,
          216285714.2857143,
          216285714.2857143,
          63230000,
          63230000,
          63230000,
          20000000,
          20000000,
          305000000,
          1160000000,
          20000000,
          20000000,
          20000000,
          20000000,
          20000000,
          20000000,
          20000000,
          20000000,
          20000000,
          20000000,
          20000000,
          20000000,
          20000000,
          20000000,
          39545454.54545455,
          39545454.54545455,
          39545454.54545455,
          39545454.54545455,
          39545454.54545455,
          46955102.04081633,
          46955102.04081633,
          46955102.04081633,
          46955102.04081633,
          46955102.04081633,
          56475000,
          56475000,
          64816000,
          64816000,
          64816000,
          64816000,
          64816000,
          64816000,
          56475000,
          64816000,
          98416000,
          98416000,
          98416000,
          98416000,
          98416000,
          98416000,
          43866666.66666666,
          98416000,
          43866666.66666666,
          43866666.66666666,
          43866666.66666666,
          43866666.66666666,
          43866666.66666666,
          43866666.66666666,
          100916000,
          88119148.9361702,
          88119148.9361702,
          88119148.9361702,
          100916000,
          100916000,
          100916000,
          71477272.72727273,
          71477272.72727273,
          93037209.30232558,
          93037209.30232558,
          93037209.30232558,
          93037209.30232558,
          93037209.30232558,
          93037209.30232558,
          123670833.33333331,
          123670833.33333331,
          123670833.33333331,
          123670833.33333331,
          130372413.79310344,
          130372413.79310344,
          160454545.45454547,
          125940322.58064516,
          130372413.79310344,
          158834615.3846154,
          158834615.3846154,
          82254400,
          141841739.13043478,
          141841739.13043478,
          97429555.55555557,
          91519692.3076923,
          69644782.60869566,
          155858695.6521739,
          69644782.60869566,
          29150000,
          29150000,
          54120095.23809524,
          67000000,
          109032258.06451613,
          123670833.33333331,
          123670833.33333331,
          123670833.33333331,
          130372413.79310344,
          130372413.79310344,
          130372413.79310344,
          125940322.58064516,
          125940322.58064516,
          125940322.58064516,
          160454545.45454547,
          160454545.45454547,
          160454545.45454547,
          160454545.45454547,
          160454545.45454547,
          160454545.45454547,
          160454545.45454547,
          160454545.45454547,
          63230000,
          59000000,
          59000000,
          59000000,
          59000000,
          59000000,
          59000000,
          216285714.2857143,
          279200000,
          279200000,
          30800000,
          93037209.30232558,
          93037209.30232558,
          1160000000,
          1160000000,
          1160000000,
          1160000000,
          1160000000,
          1160000000,
          1160000000,
          1160000000,
          1160000000,
          305000000,
          305000000,
          305000000,
          20000000,
          20000000,
          20000000,
          20000000,
          20000000,
          20000000,
          20000000,
          20000000,
          20000000,
          20000000,
          20000000,
          20000000,
          20000000,
          20000000,
          20000000,
          20000000,
          20000000,
          20000000,
          20000000,
          155858695.6521739,
          155858695.6521739,
          20000000,
          1160000000,
          1160000000,
          1160000000,
          305000000,
          305000000,
          20000000,
          20000000,
          20000000,
          20000000,
          20000000,
          20000000,
          20000000,
          20000000,
          20000000,
          20000000,
          20000000,
          20000000,
          20000000,
          39545454.54545455,
          39545454.54545455,
          46955102.04081633,
          56475000,
          64816000,
          64816000,
          64816000,
          64816000,
          64816000,
          98416000,
          43866666.66666666,
          88119148.9361702,
          88119148.9361702,
          100916000,
          100916000,
          71477272.72727273,
          71477272.72727273,
          279200000,
          279200000,
          279200000,
          279200000,
          64680000.00000001,
          20140000,
          64680000.00000001,
          97429555.55555557,
          30800000,
          1160000000,
          50541007.75193799,
          30000000,
          25000000,
          25000000,
          20000000,
          17420000,
          17420000,
          17420000,
          65000000,
          57376708.07453416,
          1160000000,
          1160000000,
          1160000000,
          609500000,
          609500000,
          1160000000,
          1160000000,
          1160000000,
          1160000000,
          1160000000,
          1160000000,
          1160000000,
          305000000,
          1160000000,
          1160000000,
          1160000000,
          1160000000,
          305000000,
          305000000,
          305000000,
          305000000,
          305000000,
          305000000,
          305000000,
          20000000,
          20000000,
          20000000,
          20000000,
          20000000,
          20000000,
          1160000000,
          1160000000,
          305000000,
          20000000,
          20000000,
          20000000,
          20000000,
          20000000,
          56475000,
          98416000,
          160454545.45454547,
          155858695.6521739,
          216285714.2857143,
          216285714.2857143,
          609500000,
          609500000,
          1160000000,
          1160000000,
          1160000000,
          1160000000,
          12000000,
          65000000,
          216285714.2857143,
          1160000000,
          1160000000,
          1160000000,
          1160000000,
          20000000,
          20000000,
          20000000,
          100916000,
          65152272.72727273,
          71173734.93975903,
          63230000,
          1160000000,
          305000000,
          20000000,
          20000000,
          20000000,
          20000000,
          20000000,
          20000000,
          20000000,
          20000000,
          39545454.54545455,
          20000000,
          20000000,
          20000000,
          20000000,
          20000000,
          20000000,
          20000000,
          20000000,
          20000000,
          20000000,
          20000000,
          20000000,
          20000000,
          20000000,
          20000000,
          20000000,
          20000000,
          20000000,
          20000000,
          20000000,
          20000000,
          20000000,
          20000000,
          20000000,
          20000000,
          20000000,
          20000000,
          20000000,
          20000000,
          20000000,
          20000000,
          20000000,
          20000000,
          20000000,
          20000000,
          20000000,
          20000000,
          20000000,
          20000000,
          20000000,
          20000000,
          39545454.54545455,
          39545454.54545455,
          39545454.54545455,
          39545454.54545455,
          39545454.54545455,
          39545454.54545455,
          39545454.54545455,
          39545454.54545455,
          39545454.54545455,
          46955102.04081633,
          46955102.04081633,
          46955102.04081633,
          46955102.04081633,
          46955102.04081633,
          46955102.04081633,
          56475000,
          56475000,
          56475000,
          56475000,
          56475000,
          56475000,
          56475000,
          64816000,
          64816000,
          64816000,
          64816000,
          98416000,
          98416000,
          98416000,
          98416000,
          98416000,
          98416000,
          98416000,
          98416000,
          43866666.66666666,
          43866666.66666666,
          43866666.66666666,
          43866666.66666666,
          43866666.66666666,
          43866666.66666666,
          43866666.66666666,
          88119148.9361702,
          100916000,
          100916000,
          100916000,
          100916000,
          100916000,
          100916000,
          100916000,
          71477272.72727273,
          71477272.72727273,
          71477272.72727273,
          71477272.72727273,
          93037209.30232558,
          93037209.30232558,
          93037209.30232558,
          93037209.30232558,
          93037209.30232558,
          93037209.30232558,
          109032258.06451613,
          109032258.06451613,
          109032258.06451613,
          109032258.06451613,
          109032258.06451613,
          123670833.33333331,
          123670833.33333331,
          123670833.33333331,
          123670833.33333331,
          130372413.79310344,
          130372413.79310344,
          130372413.79310344,
          130372413.79310344,
          130372413.79310344,
          125940322.58064516,
          125940322.58064516,
          160454545.45454547,
          155858695.6521739,
          160454545.45454547,
          158834615.3846154,
          126136363.63636364,
          126136363.63636364,
          82254400,
          172888888.8888889,
          172888888.8888889,
          74985200,
          70372000,
          126136363.63636364,
          104114000,
          100591904.76190476,
          1160000000,
          1160000000,
          1160000000,
          7500000,
          1160000000,
          1160000000,
          1160000000,
          305000000,
          305000000,
          20000000,
          20000000,
          20000000,
          59000000,
          216285714.2857143,
          216285714.2857143,
          54120095.23809524,
          57376708.07453416,
          57376708.07453416,
          57376708.07453416,
          57376708.07453416,
          57376708.07453416,
          25000000,
          29150000,
          29750000,
          29750000,
          30800000,
          20000000,
          20000000,
          20000000,
          39545454.54545455,
          39545454.54545455,
          39545454.54545455,
          39545454.54545455,
          46955102.04081633,
          46955102.04081633,
          56475000,
          64816000,
          98416000,
          98416000,
          98416000,
          43866666.66666666,
          88119148.9361702,
          71477272.72727273,
          109032258.06451613,
          123670833.33333331,
          123670833.33333331,
          125940322.58064516,
          125940322.58064516,
          160454545.45454547,
          155858695.6521739,
          158834615.3846154,
          160454545.45454547,
          160454545.45454547,
          155858695.6521739,
          155858695.6521739,
          155858695.6521739,
          155858695.6521739,
          158834615.3846154,
          158834615.3846154,
          158834615.3846154,
          158834615.3846154,
          158834615.3846154,
          158834615.3846154,
          158834615.3846154,
          126136363.63636364,
          126136363.63636364,
          126136363.63636364,
          126136363.63636364,
          126136363.63636364,
          126136363.63636364,
          82254400,
          82254400,
          82254400,
          82254400,
          82254400,
          103259333.33333331,
          103259333.33333331,
          103259333.33333331,
          103259333.33333331,
          103259333.33333331,
          103259333.33333331,
          103259333.33333331,
          172888888.8888889,
          172888888.8888889,
          172888888.8888889,
          172888888.8888889,
          141841739.13043478,
          141841739.13043478,
          141841739.13043478,
          69644782.60869566,
          74985200,
          74985200,
          74985200,
          1160000000,
          20000000,
          20000000,
          20000000,
          20000000,
          98416000,
          20000000,
          279200000,
          20000000,
          20000000,
          56475000,
          64816000,
          64816000,
          98416000,
          20000000,
          20000000,
          20000000,
          20000000,
          20000000,
          20000000,
          39545454.54545455,
          20000000,
          20000000,
          20000000,
          20000000,
          39545454.54545455,
          46955102.04081633,
          56475000,
          56475000,
          64816000,
          43866666.66666666,
          88119148.9361702,
          100916000,
          100916000,
          93037209.30232558,
          109032258.06451613,
          109032258.06451613,
          130372413.79310344,
          125940322.58064516,
          125940322.58064516,
          160454545.45454547,
          56475000,
          56475000,
          64816000,
          43866666.66666666,
          88119148.9361702,
          130372413.79310344,
          130372413.79310344,
          74985200,
          1160000000,
          1160000000,
          1160000000,
          1160000000,
          305000000,
          305000000,
          305000000,
          20000000,
          20000000,
          20000000,
          20000000,
          20000000,
          20000000,
          20000000,
          20000000,
          20000000,
          20000000,
          20000000,
          20000000,
          20000000,
          20000000,
          20000000,
          20000000,
          20000000,
          20000000,
          20000000,
          39545454.54545455,
          46955102.04081633,
          46955102.04081633,
          71477272.72727273,
          136600000,
          136600000,
          136600000,
          93037209.30232558,
          93037209.30232558,
          109032258.06451613,
          109032258.06451613,
          136600000,
          123670833.33333331,
          130372413.79310344,
          125940322.58064516,
          125940322.58064516,
          125940322.58064516,
          125940322.58064516,
          160454545.45454547,
          160454545.45454547,
          160454545.45454547,
          160454545.45454547,
          155858695.6521739,
          155858695.6521739,
          155858695.6521739,
          155858695.6521739,
          158834615.3846154,
          158834615.3846154,
          158834615.3846154,
          158834615.3846154,
          126136363.63636364,
          126136363.63636364,
          82254400,
          82254400,
          82254400,
          103259333.33333331,
          103259333.33333331,
          172888888.8888889,
          172888888.8888889,
          172888888.8888889,
          141841739.13043478,
          69644782.60869566,
          69644782.60869566,
          74985200,
          70372000,
          70372000,
          7500000,
          216285714.2857143,
          216285714.2857143,
          279200000,
          279200000,
          279200000,
          279200000,
          279200000,
          609500000,
          609500000,
          609500000,
          609500000,
          609500000,
          1160000000,
          1160000000,
          1160000000,
          1160000000,
          305000000,
          305000000,
          305000000,
          305000000,
          20000000,
          20000000,
          20000000,
          20000000,
          20000000,
          20000000,
          20000000,
          20000000,
          20000000,
          20000000,
          20000000,
          20000000,
          20000000,
          20000000,
          20000000,
          64680000.00000001,
          28300000,
          29750000,
          64680000.00000001,
          64680000.00000001,
          29750000,
          64680000.00000001,
          29150000,
          29150000,
          54120095.23809524,
          5300000,
          5300000,
          5800000,
          67000000,
          67000000,
          50541007.75193799,
          29750000,
          64680000.00000001,
          140000000,
          67000000,
          67000000,
          67000000,
          67000000,
          67000000,
          29750000,
          64680000.00000001,
          29150000,
          29750000,
          54120095.23809524,
          20000000,
          20000000,
          20000000,
          20000000,
          20000000,
          20000000,
          20000000,
          20000000,
          20000000,
          20000000,
          20000000,
          20000000,
          20000000,
          20000000,
          20000000,
          20000000,
          20000000,
          59000000,
          20000000,
          20000000,
          20000000,
          20000000,
          20000000,
          20000000,
          20000000,
          20000000,
          20000000,
          20000000,
          20000000,
          20000000,
          20000000,
          20000000,
          20000000,
          20000000,
          20000000,
          20000000,
          20000000,
          20000000,
          20000000,
          20000000,
          20000000,
          20000000,
          20000000,
          20000000,
          20000000,
          20000000,
          20000000,
          20000000,
          20000000,
          20000000,
          20000000,
          20000000,
          20000000,
          20000000,
          20000000,
          20000000,
          20000000,
          20000000,
          20000000,
          20000000,
          20000000,
          20000000,
          20000000,
          20000000,
          450000000,
          158834615.3846154,
          20000000,
          20000000,
          20000000,
          20000000,
          20000000,
          20000000,
          20000000,
          20000000,
          20000000,
          20000000,
          20000000,
          20000000,
          20000000,
          20000000,
          20000000,
          20000000,
          20000000,
          20000000,
          20000000,
          20000000,
          20000000,
          20000000,
          20000000,
          20000000,
          20000000,
          20000000,
          20000000,
          20000000,
          20000000,
          20000000,
          20000000,
          20000000,
          20000000,
          20000000,
          20000000,
          20000000,
          20000000,
          20000000,
          20000000,
          20000000,
          20000000,
          20000000,
          20000000,
          20000000,
          20000000,
          20000000,
          20000000,
          20000000,
          20000000,
          20000000,
          31000000,
          29750000,
          64680000.00000001,
          69700000,
          20140000,
          30800000,
          119216111.1111111,
          30800000,
          29750000,
          64680000.00000001,
          20140000,
          64680000.00000001,
          20140000,
          5800000,
          5800000,
          100000000,
          20000000,
          20000000,
          20000000,
          20000000,
          20000000,
          39545454.54545455,
          39545454.54545455,
          39545454.54545455,
          39545454.54545455,
          39545454.54545455,
          39545454.54545455,
          39545454.54545455,
          46955102.04081633,
          46955102.04081633,
          46955102.04081633,
          46955102.04081633,
          46955102.04081633,
          46955102.04081633,
          46955102.04081633,
          46955102.04081633,
          46955102.04081633,
          46955102.04081633,
          56475000,
          56475000,
          56475000,
          19000000,
          29750000,
          20000000,
          20000000,
          20000000,
          20000000,
          20000000,
          20000000,
          20000000,
          20000000,
          20000000,
          20000000,
          20000000,
          20000000,
          20000000,
          20000000,
          20000000,
          20000000,
          20000000,
          20000000,
          20000000,
          40000000,
          20000000,
          20000000,
          20000000,
          20000000,
          20000000,
          20000000,
          20000000,
          20000000,
          20000000,
          20000000,
          20000000,
          20000000,
          5300000,
          40000000,
          40000000,
          40000000,
          40000000,
          40000000,
          40000000,
          40000000,
          40000000,
          40000000,
          40000000,
          40000000,
          40000000,
          40000000,
          40000000,
          40000000,
          40000000,
          40000000,
          40000000,
          40000000,
          40000000,
          40000000,
          40000000,
          40000000,
          40000000,
          40000000,
          40000000,
          40000000,
          40000000,
          40000000,
          40000000,
          40000000,
          40000000,
          40000000,
          40000000,
          40000000,
          40000000,
          20000000,
          20000000,
          20000000,
          20000000,
          20000000,
          20000000,
          20000000,
          20000000,
          20000000,
          20000000,
          20000000,
          20000000,
          20000000,
          20000000,
          20000000,
          20000000,
          20000000,
          20000000,
          20000000,
          20000000,
          20000000,
          20000000,
          20000000,
          20000000,
          20000000,
          20000000,
          20000000,
          20000000,
          200000000,
          67000000,
          67000000,
          7500000,
          54120095.23809524,
          30800000,
          64680000.00000001,
          20000000,
          20000000,
          20000000,
          20000000,
          20000000,
          20000000,
          20000000,
          20000000,
          20000000,
          20000000,
          20000000,
          20000000,
          20000000,
          20000000,
          20000000,
          20000000,
          20000000,
          20000000,
          20000000,
          20000000,
          20000000,
          20000000,
          20000000,
          20000000,
          20000000,
          20000000,
          20000000,
          20000000,
          20000000,
          20000000,
          20000000,
          20000000,
          20000000,
          20000000,
          20000000,
          20000000,
          20000000,
          20000000,
          20000000,
          20000000,
          20000000,
          20000000,
          20000000,
          20000000,
          29150000,
          67000000,
          90000000,
          279200000,
          279200000,
          63230000,
          59000000,
          59000000,
          59000000,
          64680000.00000001,
          172888888.8888889,
          50541007.75193799,
          56475000,
          56475000,
          56475000,
          56475000,
          56475000,
          56475000,
          56475000,
          56475000,
          56475000,
          64816000,
          64816000,
          64816000,
          103259333.33333331,
          29750000,
          103259333.33333331,
          69700000,
          64816000,
          64680000.00000001,
          103259333.33333331,
          103259333.33333331,
          29750000,
          103259333.33333331,
          29150000,
          103259333.33333331,
          29750000,
          103259333.33333331,
          20140000,
          20000000,
          20000000,
          20000000,
          20000000,
          20000000,
          103259333.33333331,
          20000000,
          20000000,
          20000000,
          20000000,
          20000000,
          20000000,
          20000000,
          20000000,
          20000000,
          20000000,
          20000000,
          20000000,
          20000000,
          20000000,
          20000000,
          20000000,
          20000000,
          20000000,
          20000000,
          20000000,
          20000000,
          20000000,
          20000000,
          20000000,
          64680000.00000001,
          20000000,
          20000000,
          20000000,
          103259333.33333331,
          20140000,
          64680000.00000001,
          20000000,
          20000000,
          20000000,
          103259333.33333331,
          69700000,
          69700000,
          103259333.33333331,
          20000000,
          103259333.33333331,
          20000000,
          103259333.33333331,
          103259333.33333331,
          64816000,
          64816000,
          20000000,
          64816000,
          20000000,
          20000000,
          64816000,
          20000000,
          64816000,
          64816000,
          64816000,
          64816000,
          64816000,
          98416000,
          65000000,
          172888888.8888889,
          172888888.8888889,
          172888888.8888889,
          172888888.8888889,
          172888888.8888889,
          50541007.75193799,
          98416000,
          7500000,
          98416000,
          98416000,
          98416000,
          98416000,
          98416000,
          98416000,
          98416000,
          98416000,
          43866666.66666666,
          141841739.13043478,
          141841739.13043478,
          43866666.66666666,
          141841739.13043478,
          141841739.13043478,
          141841739.13043478,
          141841739.13043478,
          141841739.13043478,
          141841739.13043478,
          65000000,
          43866666.66666666,
          69644782.60869566,
          69644782.60869566,
          69644782.60869566,
          69644782.60869566,
          69644782.60869566,
          43866666.66666666,
          65000000,
          74985200,
          65000000,
          74985200,
          65000000,
          65000000,
          74985200,
          74985200,
          109032258.06451613,
          43866666.66666666,
          43866666.66666666,
          43866666.66666666,
          43866666.66666666,
          65152272.72727273,
          71173734.93975903,
          2500000,
          65000000,
          29150000,
          25000000,
          43866666.66666666,
          88119148.9361702,
          88119148.9361702,
          88119148.9361702,
          88119148.9361702,
          54120095.23809524,
          88119148.9361702,
          88119148.9361702,
          88119148.9361702,
          88119148.9361702,
          88119148.9361702,
          17420000,
          20000000,
          20000000,
          20000000,
          172888888.8888889,
          20000000,
          20000000,
          172888888.8888889,
          20000000,
          20000000,
          141841739.13043478,
          20000000,
          20000000,
          20000000,
          20000000,
          20000000,
          67000000,
          67000000,
          67000000,
          67000000,
          67000000,
          67000000,
          67000000,
          67000000,
          67000000,
          67000000,
          67000000,
          67000000,
          50541007.75193799,
          20000000,
          20000000,
          20000000,
          20000000,
          20000000,
          20000000,
          20000000,
          20000000,
          20000000,
          20000000,
          20000000,
          20000000,
          20000000,
          20000000,
          20000000,
          20000000,
          20000000,
          20000000,
          20000000,
          20000000,
          20000000,
          20000000,
          20000000,
          20000000,
          20000000,
          20000000,
          20000000,
          20000000,
          20000000,
          20000000,
          20000000,
          20000000,
          20000000,
          20000000,
          20000000,
          20000000,
          20000000,
          20000000,
          20000000,
          20000000,
          20000000,
          20000000,
          17420000,
          20000000,
          17420000,
          20000000,
          20000000,
          17420000,
          69700000,
          29150000,
          30800000,
          20140000,
          69700000,
          30800000,
          29150000,
          64680000.00000001,
          30800000,
          20000000,
          20000000,
          29150000,
          20000000,
          20000000,
          20000000,
          20000000,
          20000000,
          20000000,
          20000000,
          20000000,
          20000000,
          20000000,
          20000000,
          20000000,
          29150000,
          20000000,
          20000000,
          20000000,
          64680000.00000001,
          29750000,
          30800000,
          69700000,
          20000000,
          29150000,
          64680000.00000001,
          64680000.00000001,
          69700000,
          20140000,
          29150000,
          29150000,
          29150000,
          29750000,
          64680000.00000001,
          29150000,
          64680000.00000001,
          20140000,
          29750000,
          30800000,
          20140000,
          30800000,
          64680000.00000001,
          29150000,
          29750000,
          20000000,
          20000000,
          20000000,
          20000000,
          20000000,
          20000000,
          20000000,
          20000000,
          20000000,
          20000000,
          20000000,
          20000000,
          20000000,
          20000000,
          20000000,
          20000000,
          20000000,
          20000000,
          20000000,
          20000000,
          20000000,
          20000000,
          20000000,
          20000000,
          20000000,
          20000000,
          20000000,
          20000000,
          20000000,
          20000000,
          20000000,
          20000000,
          20000000,
          20000000,
          20000000,
          20000000,
          20000000,
          20000000,
          20000000,
          20000000,
          20000000,
          20000000,
          20000000,
          20000000,
          20000000,
          20000000,
          20000000,
          20000000,
          20000000,
          20000000,
          20000000,
          20000000,
          20000000,
          20000000,
          20000000,
          20000000,
          20000000,
          20000000,
          20000000,
          20000000,
          20000000,
          20000000,
          20000000,
          20000000,
          20000000,
          20000000,
          20000000,
          20000000,
          20000000,
          20000000,
          20000000,
          20000000,
          20000000,
          20000000,
          20000000,
          20000000,
          20000000,
          20000000,
          20000000,
          20000000,
          20000000,
          20000000,
          20000000,
          20000000,
          20000000,
          20000000,
          20000000,
          20000000,
          20000000,
          20000000,
          20000000,
          20000000,
          20000000,
          20000000,
          20000000,
          20000000,
          20000000,
          20000000,
          20000000,
          20000000,
          20000000,
          20000000,
          20000000,
          20000000,
          20000000,
          20000000,
          20000000,
          20000000,
          20000000,
          20000000,
          20000000,
          20000000,
          20000000,
          20000000,
          20000000,
          20000000,
          20000000,
          20000000,
          20000000,
          20000000,
          20000000,
          20000000,
          20000000,
          20000000,
          20000000,
          20000000,
          20000000,
          20000000,
          20000000,
          20000000,
          20000000,
          20000000,
          20000000,
          20000000,
          20000000,
          20000000,
          20000000,
          20000000,
          29750000,
          29150000,
          30800000,
          64680000.00000001,
          64680000.00000001,
          64680000.00000001,
          64680000.00000001,
          30800000,
          64680000.00000001,
          29750000,
          29150000,
          64680000.00000001,
          29150000,
          30800000,
          64680000.00000001,
          64680000.00000001,
          29750000,
          64680000.00000001,
          30800000,
          64680000.00000001,
          20000000,
          30800000,
          30800000,
          29750000,
          64680000.00000001,
          64680000.00000001,
          64680000.00000001,
          69700000,
          63230000,
          63230000,
          63230000,
          63230000,
          63230000,
          63230000,
          63230000,
          63230000,
          63230000,
          63230000,
          63230000,
          63230000,
          63230000,
          63230000,
          63230000,
          63230000,
          63230000,
          63230000,
          63230000,
          63230000,
          63230000,
          63230000,
          63230000,
          63230000,
          63230000,
          63230000,
          63230000,
          63230000,
          63230000,
          63230000,
          63230000,
          64680000.00000001,
          57376708.07453416,
          57376708.07453416,
          50541007.75193799,
          50541007.75193799,
          39000000,
          57376708.07453416,
          85000000,
          85000000,
          29150000,
          7500000,
          63230000,
          305000000,
          63230000,
          59000000,
          59000000,
          59000000,
          59000000,
          216285714.2857143,
          216285714.2857143,
          216285714.2857143,
          279200000,
          1160000000,
          216285714.2857143,
          20000000,
          20000000,
          1160000000,
          1160000000,
          1160000000,
          20000000,
          70372000,
          65000000,
          70372000,
          65000000,
          70372000,
          65000000,
          65000000,
          104114000,
          65000000,
          65000000,
          1160000000,
          1160000000,
          1160000000,
          20000000,
          20000000,
          20000000,
          20000000,
          20000000,
          20000000,
          20000000,
          20000000,
          20000000,
          63230000,
          59000000,
          59000000,
          59000000,
          59000000,
          216285714.2857143,
          216285714.2857143,
          216285714.2857143,
          279200000,
          279200000,
          279200000,
          279200000,
          609500000,
          609500000,
          1160000000,
          1160000000,
          20000000,
          39545454.54545455,
          56475000,
          64816000,
          98416000,
          100916000,
          88119148.9361702,
          100916000,
          98416000,
          43866666.66666666,
          100916000,
          93037209.30232558,
          109032258.06451613,
          123670833.33333331,
          123670833.33333331,
          130372413.79310344,
          125940322.58064516,
          20000000,
          5800000,
          67000000,
          50541007.75193799,
          50541007.75193799,
          50541007.75193799,
          20000000,
          20000000,
          20000000,
          20000000,
          20000000,
          20000000,
          20000000,
          20000000,
          20000000,
          20000000,
          20000000,
          20000000,
          20000000,
          20000000,
          20000000,
          20000000,
          20000000,
          20000000,
          20000000,
          20000000,
          20000000,
          20000000,
          20000000,
          20000000,
          20000000,
          20000000,
          20000000,
          20000000,
          20000000,
          20000000,
          20000000,
          20000000,
          20000000,
          20000000,
          20000000,
          20000000,
          67000000,
          20000000,
          20000000,
          20000000,
          20000000,
          20000000,
          20000000,
          20000000,
          20000000,
          20000000,
          20000000,
          20000000,
          20000000,
          20000000,
          20000000,
          20000000,
          20000000,
          20000000,
          20000000,
          20000000,
          20000000,
          20000000,
          20000000,
          20000000,
          20000000,
          20000000,
          20000000,
          20000000,
          20000000,
          20000000,
          20000000,
          20000000,
          20000000,
          20000000,
          20000000,
          20000000,
          20000000,
          20000000,
          20000000,
          20000000,
          20000000,
          20000000,
          20000000,
          20000000,
          20000000,
          20000000,
          20000000,
          20000000,
          20000000,
          20000000,
          20000000,
          20000000,
          20000000,
          20000000,
          20000000,
          20000000,
          20000000,
          20000000,
          20000000,
          20000000,
          20000000,
          20000000,
          20000000,
          20000000,
          20000000,
          20000000,
          20000000,
          20000000,
          20000000,
          20000000,
          20000000,
          20000000,
          20000000,
          20000000,
          20000000,
          20000000,
          20000000,
          20000000,
          20000000,
          20000000,
          20000000,
          20000000,
          20000000,
          20000000,
          20000000,
          20000000,
          20000000,
          20000000,
          20000000,
          20000000,
          20000000,
          20000000,
          20000000,
          20000000,
          20000000,
          20000000,
          20000000,
          20000000,
          20000000,
          20000000,
          20000000,
          20000000,
          20000000,
          20000000,
          20000000,
          20000000,
          20000000,
          20000000,
          20000000,
          20000000,
          20000000,
          20000000,
          20000000,
          20000000,
          20000000,
          20000000,
          20000000,
          20000000,
          20000000,
          20000000,
          20000000,
          20000000,
          20000000,
          20000000,
          20000000,
          20000000,
          20000000,
          20000000,
          20000000,
          20000000,
          20000000,
          20000000,
          20000000,
          20000000,
          20000000,
          20000000,
          20000000,
          20000000,
          20000000,
          20000000,
          20000000,
          20000000,
          20000000,
          20000000,
          20000000,
          20000000,
          20000000,
          20000000,
          20000000,
          20000000,
          20000000,
          20000000,
          20000000,
          20000000,
          20000000,
          20000000,
          20000000,
          20000000,
          20000000,
          20000000,
          20000000,
          20000000,
          20000000,
          20000000,
          20000000,
          20000000,
          20000000,
          20000000,
          20000000,
          20000000,
          20000000,
          20000000,
          20000000,
          20000000,
          20000000,
          20000000,
          20000000,
          20000000,
          20000000,
          20000000,
          20000000,
          20000000,
          20000000,
          20000000,
          20000000,
          20000000,
          20000000,
          20000000,
          20000000,
          20000000,
          20000000,
          20000000,
          20000000,
          20000000,
          20000000,
          20000000,
          20000000,
          20000000,
          20000000,
          20000000,
          20000000,
          20000000,
          20000000,
          20000000,
          20000000,
          20000000,
          20000000,
          20000000,
          20000000,
          20000000,
          20000000,
          20000000,
          20000000,
          20000000,
          20000000,
          20000000,
          20000000,
          20000000,
          20000000,
          20000000,
          20000000,
          20000000,
          20000000,
          20000000,
          20000000,
          20000000,
          20000000,
          20000000,
          20000000,
          20000000,
          20000000,
          20000000,
          20000000,
          20000000,
          20000000,
          28000000,
          28000000,
          28000000,
          28000000,
          28000000,
          28000000,
          20000000,
          20000000,
          20000000,
          20000000,
          28000000,
          28000000,
          28000000,
          28000000,
          20000000,
          20000000,
          20000000,
          20000000,
          20000000,
          20000000,
          20000000,
          20000000,
          20000000,
          20000000,
          20000000,
          20000000,
          20000000,
          20000000,
          20000000,
          20000000,
          20000000,
          20000000,
          20000000,
          20000000,
          20000000,
          20000000,
          17420000,
          17420000,
          23000000,
          23000000,
          23000000,
          23000000,
          23000000,
          23000000,
          17420000,
          17420000,
          17420000,
          23000000,
          23000000,
          23000000,
          23000000,
          23000000,
          23000000,
          20000000,
          20000000,
          25000000,
          25000000,
          20000000,
          20000000,
          25000000,
          25000000,
          25000000,
          25000000,
          25000000,
          25000000,
          25000000,
          25000000,
          25000000,
          20000000,
          20000000,
          25000000,
          40000000,
          40000000,
          40000000,
          40000000,
          40000000,
          40000000,
          40000000,
          64680000.00000001,
          2500000,
          64680000.00000001,
          20000000,
          64713815.78947368,
          64680000.00000001,
          64680000.00000001,
          29150000,
          29750000,
          29150000,
          29750000,
          29150000,
          29750000,
          29150000,
          29150000,
          29150000,
          29750000,
          29150000,
          64680000.00000001,
          64680000.00000001,
          50541007.75193799,
          40000000,
          25000000,
          64680000.00000001,
          63230000,
          97429555.55555557,
          70372000,
          100591904.76190476,
          70372000,
          69644782.60869566,
          70372000,
          100591904.76190476,
          100591904.76190476,
          74315666.66666667,
          64713815.78947368,
          64713815.78947368,
          64713815.78947368,
          64713815.78947368,
          71173734.93975903,
          71173734.93975903,
          71173734.93975903,
          71173734.93975903,
          65152272.72727273,
          65152272.72727273,
          65152272.72727273,
          65152272.72727273,
          74315666.66666667,
          74315666.66666667,
          74315666.66666667,
          74315666.66666667,
          83948235.29411764,
          83948235.29411764,
          83948235.29411764,
          83948235.29411764,
          91519692.3076923,
          91519692.3076923,
          91519692.3076923,
          119216111.1111111,
          119216111.1111111,
          119216111.1111111,
          119216111.1111111,
          97429555.55555557,
          97429555.55555557,
          100591904.76190476,
          100591904.76190476,
          104114000,
          104114000,
          70372000,
          70372000,
          74985200,
          74985200,
          69644782.60869566,
          69644782.60869566,
          141841739.13043478,
          40000000,
          40000000,
          40000000,
          40000000,
          40000000,
          40000000,
          40000000,
          40000000,
          40000000,
          40000000,
          40000000,
          40000000,
          40000000,
          40000000,
          40000000,
          40000000,
          40000000,
          40000000,
          40000000,
          40000000,
          40000000,
          40000000,
          40000000,
          40000000,
          40000000,
          63230000,
          63230000,
          63230000,
          63230000,
          63230000,
          63230000,
          63230000,
          63230000,
          63230000,
          63230000,
          63230000,
          63230000,
          63230000,
          63230000,
          63230000,
          63230000,
          63230000,
          63230000,
          63230000,
          63230000,
          63230000,
          63230000,
          63230000,
          59000000,
          59000000,
          59000000,
          59000000,
          59000000,
          59000000,
          59000000,
          59000000,
          59000000,
          59000000,
          59000000,
          59000000,
          59000000,
          59000000,
          59000000,
          59000000,
          216285714.2857143,
          216285714.2857143,
          216285714.2857143,
          216285714.2857143,
          216285714.2857143,
          216285714.2857143,
          216285714.2857143,
          216285714.2857143,
          216285714.2857143,
          216285714.2857143,
          216285714.2857143,
          216285714.2857143,
          216285714.2857143,
          216285714.2857143,
          216285714.2857143,
          216285714.2857143,
          279200000,
          279200000,
          279200000,
          279200000,
          279200000,
          279200000,
          279200000,
          279200000,
          279200000,
          279200000,
          279200000,
          279200000,
          279200000,
          609500000,
          609500000,
          609500000,
          609500000,
          609500000,
          609500000,
          609500000,
          609500000,
          609500000,
          609500000,
          609500000,
          1160000000,
          1160000000,
          1160000000,
          1160000000,
          1160000000,
          1160000000,
          1160000000,
          1160000000,
          1160000000,
          1160000000,
          1160000000,
          1160000000,
          1160000000,
          1160000000,
          1160000000,
          1160000000,
          1160000000,
          1160000000,
          1160000000,
          1160000000,
          1160000000,
          1160000000,
          305000000,
          20000000,
          20000000,
          20000000,
          20000000,
          20000000,
          20000000,
          20000000,
          20000000,
          20000000,
          65000000,
          65000000,
          65000000,
          65000000,
          65000000,
          65000000,
          65000000,
          65000000,
          65000000,
          65000000,
          65000000,
          65000000,
          65000000,
          65000000,
          65000000,
          65000000,
          65000000,
          65000000,
          65000000,
          65000000,
          65000000,
          65000000,
          65000000,
          65000000,
          65000000,
          65000000,
          65000000,
          65000000,
          65000000,
          65000000,
          65000000,
          65000000,
          65000000,
          65000000,
          65000000,
          65000000,
          65000000,
          65000000,
          65000000,
          65000000,
          65000000,
          65000000,
          65000000,
          65000000,
          65000000,
          65000000,
          65000000,
          65000000,
          65000000,
          65000000,
          65000000,
          65000000,
          65000000,
          65000000,
          65000000,
          65000000,
          65000000,
          65000000,
          65000000,
          65000000,
          65000000,
          65000000,
          65000000,
          65000000,
          65000000,
          65000000,
          65000000,
          65000000,
          65000000,
          65000000,
          65000000,
          65000000,
          65000000,
          65000000,
          65000000,
          65000000,
          65000000,
          65000000,
          65000000,
          65000000,
          65000000,
          63230000,
          63230000,
          63230000,
          63230000,
          63230000,
          63230000,
          63230000,
          63230000,
          63230000,
          59000000,
          59000000,
          59000000,
          59000000,
          59000000,
          59000000,
          59000000,
          59000000,
          216285714.2857143,
          216285714.2857143,
          216285714.2857143,
          216285714.2857143,
          216285714.2857143,
          216285714.2857143,
          216285714.2857143,
          216285714.2857143,
          216285714.2857143,
          216285714.2857143,
          216285714.2857143,
          216285714.2857143,
          279200000,
          279200000,
          279200000,
          279200000,
          279200000,
          279200000,
          279200000,
          279200000,
          609500000,
          609500000,
          609500000,
          609500000,
          609500000,
          609500000,
          609500000,
          609500000,
          609500000,
          609500000,
          609500000,
          1160000000,
          1160000000,
          1160000000,
          1160000000,
          1160000000,
          1160000000,
          1160000000,
          1160000000,
          1160000000,
          1160000000,
          1160000000,
          1160000000,
          1160000000,
          1160000000,
          1160000000,
          1160000000,
          1160000000,
          1160000000,
          1160000000,
          305000000,
          305000000,
          305000000,
          305000000,
          305000000,
          305000000,
          20000000,
          20000000,
          20000000,
          20000000,
          20000000,
          20000000,
          20000000,
          20000000,
          20000000,
          20000000,
          20000000,
          20000000,
          20000000,
          20000000,
          20000000,
          20000000,
          20000000,
          20000000,
          20000000,
          20000000,
          20000000,
          20000000,
          20000000,
          20000000,
          20000000,
          20000000,
          20000000,
          20000000,
          20000000,
          20000000,
          20000000,
          20000000,
          20000000,
          20000000,
          20000000,
          20000000,
          20000000,
          20000000,
          20000000,
          20000000,
          20000000,
          20000000,
          20000000,
          20000000,
          20000000,
          20000000,
          20000000,
          20000000,
          20000000,
          20000000,
          20000000,
          20000000,
          20000000,
          20000000,
          39545454.54545455,
          39545454.54545455,
          39545454.54545455,
          39545454.54545455,
          39545454.54545455,
          46955102.04081633,
          46955102.04081633,
          46955102.04081633,
          46955102.04081633,
          46955102.04081633,
          46955102.04081633,
          46955102.04081633,
          56475000,
          56475000,
          56475000,
          56475000,
          56475000,
          56475000,
          56475000,
          56475000,
          43866666.66666666,
          43866666.66666666,
          88119148.9361702,
          88119148.9361702,
          100916000,
          71477272.72727273,
          71477272.72727273,
          305000000,
          305000000,
          305000000,
          305000000,
          305000000,
          305000000,
          20000000,
          20000000,
          20000000,
          20000000,
          20000000,
          20000000,
          20000000,
          20000000,
          20000000,
          20000000,
          20000000,
          20000000,
          20000000,
          20000000,
          20000000,
          20000000,
          20000000,
          20000000,
          20000000,
          20000000,
          20000000,
          20000000,
          20000000,
          20000000,
          20000000,
          20000000,
          20000000,
          20000000,
          20000000,
          20000000,
          20000000,
          20000000,
          20000000,
          88119148.9361702,
          88119148.9361702,
          88119148.9361702,
          88119148.9361702,
          100916000,
          100916000,
          100916000,
          100916000,
          100916000,
          100916000,
          100916000,
          100916000,
          100916000,
          100916000,
          100916000,
          100916000,
          100916000,
          71477272.72727273,
          71477272.72727273,
          71477272.72727273,
          71477272.72727273,
          71477272.72727273,
          71477272.72727273,
          71477272.72727273,
          71477272.72727273,
          71477272.72727273,
          71477272.72727273,
          71477272.72727273,
          93037209.30232558,
          93037209.30232558,
          93037209.30232558,
          93037209.30232558,
          93037209.30232558,
          93037209.30232558,
          93037209.30232558,
          93037209.30232558,
          93037209.30232558,
          93037209.30232558,
          93037209.30232558,
          109032258.06451613,
          109032258.06451613,
          109032258.06451613,
          109032258.06451613,
          109032258.06451613,
          109032258.06451613,
          109032258.06451613,
          109032258.06451613,
          123670833.33333331,
          123670833.33333331,
          123670833.33333331,
          123670833.33333331,
          123670833.33333331,
          123670833.33333331,
          123670833.33333331,
          123670833.33333331,
          130372413.79310344,
          130372413.79310344,
          130372413.79310344,
          130372413.79310344,
          130372413.79310344,
          130372413.79310344,
          125940322.58064516,
          125940322.58064516,
          125940322.58064516,
          125940322.58064516,
          125940322.58064516,
          125940322.58064516,
          125940322.58064516,
          125940322.58064516,
          125940322.58064516,
          125940322.58064516,
          125940322.58064516,
          125940322.58064516,
          125940322.58064516,
          160454545.45454547,
          160454545.45454547,
          160454545.45454547,
          160454545.45454547,
          160454545.45454547,
          160454545.45454547,
          160454545.45454547,
          155858695.6521739,
          155858695.6521739,
          155858695.6521739,
          155858695.6521739,
          155858695.6521739,
          155858695.6521739,
          155858695.6521739,
          155858695.6521739,
          158834615.3846154,
          158834615.3846154,
          158834615.3846154,
          158834615.3846154,
          158834615.3846154,
          158834615.3846154,
          158834615.3846154,
          158834615.3846154,
          126136363.63636364,
          126136363.63636364,
          126136363.63636364,
          126136363.63636364,
          126136363.63636364,
          126136363.63636364,
          126136363.63636364,
          82254400,
          82254400,
          82254400,
          82254400,
          82254400,
          82254400,
          82254400,
          82254400,
          82254400,
          104114000,
          100591904.76190476,
          97429555.55555557,
          119216111.1111111,
          74315666.66666667,
          609500000,
          40000000,
          64816000,
          64816000,
          64816000,
          64816000,
          71477272.72727273,
          1160000000,
          20000000,
          93037209.30232558,
          67000000,
          50541007.75193799,
          64680000.00000001,
          7500000,
          50541007.75193799,
          64680000.00000001,
          30800000,
          64680000.00000001,
          85000000,
          50541007.75193799,
          30800000,
          30800000,
          123000000,
          64680000.00000001,
          67000000,
          67000000,
          67000000,
          67000000,
          67000000,
          67000000,
          29750000,
          67000000,
          7500000,
          7500000,
          29750000,
          30800000,
          20000000,
          50541007.75193799,
          19000000,
          50541007.75193799,
          90000000,
          2500000,
          50541007.75193799,
          50541007.75193799,
          19000000,
          7500000,
          29150000,
          29150000,
          64680000.00000001,
          64680000.00000001,
          30800000,
          29750000,
          29150000,
          50541007.75193799,
          12000000,
          7500000,
          2500000,
          57376708.07453416,
          29150000,
          19000000,
          29750000,
          50541007.75193799,
          29150000,
          57376708.07453416,
          64680000.00000001,
          64680000.00000001,
          50541007.75193799,
          15000000,
          4900000,
          64680000.00000001,
          2500000,
          29150000,
          4900000,
          5800000,
          57376708.07453416,
          64680000.00000001,
          29150000,
          29750000,
          50541007.75193799,
          64680000.00000001,
          29750000,
          7500000,
          30800000,
          64680000.00000001,
          64680000.00000001,
          2500000,
          7500000,
          57376708.07453416,
          57376708.07453416,
          64680000.00000001,
          23000000,
          74985200,
          74985200,
          74985200,
          67000000,
          5300000,
          67000000,
          64680000.00000001,
          67000000,
          67000000,
          20000000,
          7500000,
          29150000,
          5300000,
          67000000,
          67000000,
          30800000,
          29750000,
          57376708.07453416,
          30800000,
          67000000,
          67000000,
          67000000,
          67000000,
          67000000,
          67000000,
          30800000,
          67000000,
          67000000,
          67000000,
          29750000,
          5800000,
          21000000,
          64680000.00000001,
          67000000,
          29150000,
          30800000,
          67000000,
          29750000,
          62000000,
          57376708.07453416,
          57376708.07453416,
          64680000.00000001,
          57376708.07453416,
          67000000,
          25000000,
          19000000,
          57376708.07453416,
          67000000,
          7500000,
          29750000,
          5800000,
          29750000,
          67000000,
          67000000,
          57376708.07453416,
          64680000.00000001,
          67000000,
          5800000,
          29750000,
          67000000,
          67000000,
          67000000,
          67000000,
          7500000,
          29750000,
          29750000,
          5800000,
          19000000,
          57376708.07453416,
          29750000,
          30800000,
          57376708.07453416,
          67000000,
          29750000,
          7500000,
          29150000,
          67000000,
          57376708.07453416,
          64680000.00000001,
          4900000,
          29750000,
          5300000,
          20000000,
          67000000,
          29750000,
          64680000.00000001,
          29750000,
          64680000.00000001,
          29150000
         ],
         "xaxis": "x",
         "yaxis": "y"
        }
       ],
       "layout": {
        "barmode": "relative",
        "legend": {
         "tracegroupgap": 0
        },
        "margin": {
         "t": 60
        },
        "template": {
         "data": {
          "bar": [
           {
            "error_x": {
             "color": "#2a3f5f"
            },
            "error_y": {
             "color": "#2a3f5f"
            },
            "marker": {
             "line": {
              "color": "#E5ECF6",
              "width": 0.5
             },
             "pattern": {
              "fillmode": "overlay",
              "size": 10,
              "solidity": 0.2
             }
            },
            "type": "bar"
           }
          ],
          "barpolar": [
           {
            "marker": {
             "line": {
              "color": "#E5ECF6",
              "width": 0.5
             },
             "pattern": {
              "fillmode": "overlay",
              "size": 10,
              "solidity": 0.2
             }
            },
            "type": "barpolar"
           }
          ],
          "carpet": [
           {
            "aaxis": {
             "endlinecolor": "#2a3f5f",
             "gridcolor": "white",
             "linecolor": "white",
             "minorgridcolor": "white",
             "startlinecolor": "#2a3f5f"
            },
            "baxis": {
             "endlinecolor": "#2a3f5f",
             "gridcolor": "white",
             "linecolor": "white",
             "minorgridcolor": "white",
             "startlinecolor": "#2a3f5f"
            },
            "type": "carpet"
           }
          ],
          "choropleth": [
           {
            "colorbar": {
             "outlinewidth": 0,
             "ticks": ""
            },
            "type": "choropleth"
           }
          ],
          "contour": [
           {
            "colorbar": {
             "outlinewidth": 0,
             "ticks": ""
            },
            "colorscale": [
             [
              0,
              "#0d0887"
             ],
             [
              0.1111111111111111,
              "#46039f"
             ],
             [
              0.2222222222222222,
              "#7201a8"
             ],
             [
              0.3333333333333333,
              "#9c179e"
             ],
             [
              0.4444444444444444,
              "#bd3786"
             ],
             [
              0.5555555555555556,
              "#d8576b"
             ],
             [
              0.6666666666666666,
              "#ed7953"
             ],
             [
              0.7777777777777778,
              "#fb9f3a"
             ],
             [
              0.8888888888888888,
              "#fdca26"
             ],
             [
              1,
              "#f0f921"
             ]
            ],
            "type": "contour"
           }
          ],
          "contourcarpet": [
           {
            "colorbar": {
             "outlinewidth": 0,
             "ticks": ""
            },
            "type": "contourcarpet"
           }
          ],
          "heatmap": [
           {
            "colorbar": {
             "outlinewidth": 0,
             "ticks": ""
            },
            "colorscale": [
             [
              0,
              "#0d0887"
             ],
             [
              0.1111111111111111,
              "#46039f"
             ],
             [
              0.2222222222222222,
              "#7201a8"
             ],
             [
              0.3333333333333333,
              "#9c179e"
             ],
             [
              0.4444444444444444,
              "#bd3786"
             ],
             [
              0.5555555555555556,
              "#d8576b"
             ],
             [
              0.6666666666666666,
              "#ed7953"
             ],
             [
              0.7777777777777778,
              "#fb9f3a"
             ],
             [
              0.8888888888888888,
              "#fdca26"
             ],
             [
              1,
              "#f0f921"
             ]
            ],
            "type": "heatmap"
           }
          ],
          "heatmapgl": [
           {
            "colorbar": {
             "outlinewidth": 0,
             "ticks": ""
            },
            "colorscale": [
             [
              0,
              "#0d0887"
             ],
             [
              0.1111111111111111,
              "#46039f"
             ],
             [
              0.2222222222222222,
              "#7201a8"
             ],
             [
              0.3333333333333333,
              "#9c179e"
             ],
             [
              0.4444444444444444,
              "#bd3786"
             ],
             [
              0.5555555555555556,
              "#d8576b"
             ],
             [
              0.6666666666666666,
              "#ed7953"
             ],
             [
              0.7777777777777778,
              "#fb9f3a"
             ],
             [
              0.8888888888888888,
              "#fdca26"
             ],
             [
              1,
              "#f0f921"
             ]
            ],
            "type": "heatmapgl"
           }
          ],
          "histogram": [
           {
            "marker": {
             "pattern": {
              "fillmode": "overlay",
              "size": 10,
              "solidity": 0.2
             }
            },
            "type": "histogram"
           }
          ],
          "histogram2d": [
           {
            "colorbar": {
             "outlinewidth": 0,
             "ticks": ""
            },
            "colorscale": [
             [
              0,
              "#0d0887"
             ],
             [
              0.1111111111111111,
              "#46039f"
             ],
             [
              0.2222222222222222,
              "#7201a8"
             ],
             [
              0.3333333333333333,
              "#9c179e"
             ],
             [
              0.4444444444444444,
              "#bd3786"
             ],
             [
              0.5555555555555556,
              "#d8576b"
             ],
             [
              0.6666666666666666,
              "#ed7953"
             ],
             [
              0.7777777777777778,
              "#fb9f3a"
             ],
             [
              0.8888888888888888,
              "#fdca26"
             ],
             [
              1,
              "#f0f921"
             ]
            ],
            "type": "histogram2d"
           }
          ],
          "histogram2dcontour": [
           {
            "colorbar": {
             "outlinewidth": 0,
             "ticks": ""
            },
            "colorscale": [
             [
              0,
              "#0d0887"
             ],
             [
              0.1111111111111111,
              "#46039f"
             ],
             [
              0.2222222222222222,
              "#7201a8"
             ],
             [
              0.3333333333333333,
              "#9c179e"
             ],
             [
              0.4444444444444444,
              "#bd3786"
             ],
             [
              0.5555555555555556,
              "#d8576b"
             ],
             [
              0.6666666666666666,
              "#ed7953"
             ],
             [
              0.7777777777777778,
              "#fb9f3a"
             ],
             [
              0.8888888888888888,
              "#fdca26"
             ],
             [
              1,
              "#f0f921"
             ]
            ],
            "type": "histogram2dcontour"
           }
          ],
          "mesh3d": [
           {
            "colorbar": {
             "outlinewidth": 0,
             "ticks": ""
            },
            "type": "mesh3d"
           }
          ],
          "parcoords": [
           {
            "line": {
             "colorbar": {
              "outlinewidth": 0,
              "ticks": ""
             }
            },
            "type": "parcoords"
           }
          ],
          "pie": [
           {
            "automargin": true,
            "type": "pie"
           }
          ],
          "scatter": [
           {
            "fillpattern": {
             "fillmode": "overlay",
             "size": 10,
             "solidity": 0.2
            },
            "type": "scatter"
           }
          ],
          "scatter3d": [
           {
            "line": {
             "colorbar": {
              "outlinewidth": 0,
              "ticks": ""
             }
            },
            "marker": {
             "colorbar": {
              "outlinewidth": 0,
              "ticks": ""
             }
            },
            "type": "scatter3d"
           }
          ],
          "scattercarpet": [
           {
            "marker": {
             "colorbar": {
              "outlinewidth": 0,
              "ticks": ""
             }
            },
            "type": "scattercarpet"
           }
          ],
          "scattergeo": [
           {
            "marker": {
             "colorbar": {
              "outlinewidth": 0,
              "ticks": ""
             }
            },
            "type": "scattergeo"
           }
          ],
          "scattergl": [
           {
            "marker": {
             "colorbar": {
              "outlinewidth": 0,
              "ticks": ""
             }
            },
            "type": "scattergl"
           }
          ],
          "scattermapbox": [
           {
            "marker": {
             "colorbar": {
              "outlinewidth": 0,
              "ticks": ""
             }
            },
            "type": "scattermapbox"
           }
          ],
          "scatterpolar": [
           {
            "marker": {
             "colorbar": {
              "outlinewidth": 0,
              "ticks": ""
             }
            },
            "type": "scatterpolar"
           }
          ],
          "scatterpolargl": [
           {
            "marker": {
             "colorbar": {
              "outlinewidth": 0,
              "ticks": ""
             }
            },
            "type": "scatterpolargl"
           }
          ],
          "scatterternary": [
           {
            "marker": {
             "colorbar": {
              "outlinewidth": 0,
              "ticks": ""
             }
            },
            "type": "scatterternary"
           }
          ],
          "surface": [
           {
            "colorbar": {
             "outlinewidth": 0,
             "ticks": ""
            },
            "colorscale": [
             [
              0,
              "#0d0887"
             ],
             [
              0.1111111111111111,
              "#46039f"
             ],
             [
              0.2222222222222222,
              "#7201a8"
             ],
             [
              0.3333333333333333,
              "#9c179e"
             ],
             [
              0.4444444444444444,
              "#bd3786"
             ],
             [
              0.5555555555555556,
              "#d8576b"
             ],
             [
              0.6666666666666666,
              "#ed7953"
             ],
             [
              0.7777777777777778,
              "#fb9f3a"
             ],
             [
              0.8888888888888888,
              "#fdca26"
             ],
             [
              1,
              "#f0f921"
             ]
            ],
            "type": "surface"
           }
          ],
          "table": [
           {
            "cells": {
             "fill": {
              "color": "#EBF0F8"
             },
             "line": {
              "color": "white"
             }
            },
            "header": {
             "fill": {
              "color": "#C8D4E3"
             },
             "line": {
              "color": "white"
             }
            },
            "type": "table"
           }
          ]
         },
         "layout": {
          "annotationdefaults": {
           "arrowcolor": "#2a3f5f",
           "arrowhead": 0,
           "arrowwidth": 1
          },
          "autotypenumbers": "strict",
          "coloraxis": {
           "colorbar": {
            "outlinewidth": 0,
            "ticks": ""
           }
          },
          "colorscale": {
           "diverging": [
            [
             0,
             "#8e0152"
            ],
            [
             0.1,
             "#c51b7d"
            ],
            [
             0.2,
             "#de77ae"
            ],
            [
             0.3,
             "#f1b6da"
            ],
            [
             0.4,
             "#fde0ef"
            ],
            [
             0.5,
             "#f7f7f7"
            ],
            [
             0.6,
             "#e6f5d0"
            ],
            [
             0.7,
             "#b8e186"
            ],
            [
             0.8,
             "#7fbc41"
            ],
            [
             0.9,
             "#4d9221"
            ],
            [
             1,
             "#276419"
            ]
           ],
           "sequential": [
            [
             0,
             "#0d0887"
            ],
            [
             0.1111111111111111,
             "#46039f"
            ],
            [
             0.2222222222222222,
             "#7201a8"
            ],
            [
             0.3333333333333333,
             "#9c179e"
            ],
            [
             0.4444444444444444,
             "#bd3786"
            ],
            [
             0.5555555555555556,
             "#d8576b"
            ],
            [
             0.6666666666666666,
             "#ed7953"
            ],
            [
             0.7777777777777778,
             "#fb9f3a"
            ],
            [
             0.8888888888888888,
             "#fdca26"
            ],
            [
             1,
             "#f0f921"
            ]
           ],
           "sequentialminus": [
            [
             0,
             "#0d0887"
            ],
            [
             0.1111111111111111,
             "#46039f"
            ],
            [
             0.2222222222222222,
             "#7201a8"
            ],
            [
             0.3333333333333333,
             "#9c179e"
            ],
            [
             0.4444444444444444,
             "#bd3786"
            ],
            [
             0.5555555555555556,
             "#d8576b"
            ],
            [
             0.6666666666666666,
             "#ed7953"
            ],
            [
             0.7777777777777778,
             "#fb9f3a"
            ],
            [
             0.8888888888888888,
             "#fdca26"
            ],
            [
             1,
             "#f0f921"
            ]
           ]
          },
          "colorway": [
           "#636efa",
           "#EF553B",
           "#00cc96",
           "#ab63fa",
           "#FFA15A",
           "#19d3f3",
           "#FF6692",
           "#B6E880",
           "#FF97FF",
           "#FECB52"
          ],
          "font": {
           "color": "#2a3f5f"
          },
          "geo": {
           "bgcolor": "white",
           "lakecolor": "white",
           "landcolor": "#E5ECF6",
           "showlakes": true,
           "showland": true,
           "subunitcolor": "white"
          },
          "hoverlabel": {
           "align": "left"
          },
          "hovermode": "closest",
          "mapbox": {
           "style": "light"
          },
          "paper_bgcolor": "white",
          "plot_bgcolor": "#E5ECF6",
          "polar": {
           "angularaxis": {
            "gridcolor": "white",
            "linecolor": "white",
            "ticks": ""
           },
           "bgcolor": "#E5ECF6",
           "radialaxis": {
            "gridcolor": "white",
            "linecolor": "white",
            "ticks": ""
           }
          },
          "scene": {
           "xaxis": {
            "backgroundcolor": "#E5ECF6",
            "gridcolor": "white",
            "gridwidth": 2,
            "linecolor": "white",
            "showbackground": true,
            "ticks": "",
            "zerolinecolor": "white"
           },
           "yaxis": {
            "backgroundcolor": "#E5ECF6",
            "gridcolor": "white",
            "gridwidth": 2,
            "linecolor": "white",
            "showbackground": true,
            "ticks": "",
            "zerolinecolor": "white"
           },
           "zaxis": {
            "backgroundcolor": "#E5ECF6",
            "gridcolor": "white",
            "gridwidth": 2,
            "linecolor": "white",
            "showbackground": true,
            "ticks": "",
            "zerolinecolor": "white"
           }
          },
          "shapedefaults": {
           "line": {
            "color": "#2a3f5f"
           }
          },
          "ternary": {
           "aaxis": {
            "gridcolor": "white",
            "linecolor": "white",
            "ticks": ""
           },
           "baxis": {
            "gridcolor": "white",
            "linecolor": "white",
            "ticks": ""
           },
           "bgcolor": "#E5ECF6",
           "caxis": {
            "gridcolor": "white",
            "linecolor": "white",
            "ticks": ""
           }
          },
          "title": {
           "x": 0.05
          },
          "xaxis": {
           "automargin": true,
           "gridcolor": "white",
           "linecolor": "white",
           "ticks": "",
           "title": {
            "standoff": 15
           },
           "zerolinecolor": "white",
           "zerolinewidth": 2
          },
          "yaxis": {
           "automargin": true,
           "gridcolor": "white",
           "linecolor": "white",
           "ticks": "",
           "title": {
            "standoff": 15
           },
           "zerolinecolor": "white",
           "zerolinewidth": 2
          }
         }
        },
        "xaxis": {
         "anchor": "y",
         "domain": [
          0,
          1
         ],
         "title": {
          "text": "price"
         }
        },
        "yaxis": {
         "anchor": "x",
         "domain": [
          0,
          1
         ],
         "title": {
          "text": "count"
         }
        }
       }
      },
      "text/html": [
       "<div>                            <div id=\"27e5043e-ed8f-4bd4-a597-76731524d75f\" class=\"plotly-graph-div\" style=\"height:525px; width:100%;\"></div>            <script type=\"text/javascript\">                require([\"plotly\"], function(Plotly) {                    window.PLOTLYENV=window.PLOTLYENV || {};                                    if (document.getElementById(\"27e5043e-ed8f-4bd4-a597-76731524d75f\")) {                    Plotly.newPlot(                        \"27e5043e-ed8f-4bd4-a597-76731524d75f\",                        [{\"alignmentgroup\":\"True\",\"bingroup\":\"x\",\"hovertemplate\":\"price=%{x}<br>count=%{y}<extra></extra>\",\"legendgroup\":\"\",\"marker\":{\"color\":\"#636efa\",\"pattern\":{\"shape\":\"\"}},\"name\":\"\",\"offsetgroup\":\"\",\"orientation\":\"v\",\"showlegend\":false,\"x\":[62000000.0,62000000.0,97000000.0,62000000.0,62000000.0,59500000.0,59500000.0,59500000.0,59500000.0,59500000.0,56500000.0,56500000.0,56500000.0,56500000.0,56500000.0,56500000.0,56500000.0,56500000.0,56500000.0,56500000.0,56500000.0,56500000.0,56500000.0,56500000.0,62000000.0,56500000.0,62000000.0,62000000.0,62000000.0,62000000.0,62000000.0,62000000.0,62000000.0,62000000.0,62000000.0,62000000.0,62000000.0,62000000.0,62000000.0,62000000.0,62000000.0,62000000.0,62000000.0,62000000.0,62000000.0,62000000.0,62000000.0,62000000.0,62000000.0,62000000.0,62000000.0,62000000.0,62000000.0,62000000.0,62000000.0,62000000.0,62000000.0,62000000.0,67000000.0,67000000.0,67000000.0,67000000.0,67000000.0,67000000.0,67000000.0,67000000.0,67000000.0,67000000.0,67000000.0,97000000.0,67000000.0,67000000.0,67000000.0,7000000.0,7000000.0,7000000.0,7000000.0,7000000.0,67000000.0,67000000.0,67000000.0,67000000.0,97000000.0,67000000.0,67000000.0,67000000.0,67000000.0,67000000.0,67000000.0,67000000.0,67000000.0,67000000.0,67000000.0,67000000.0,67000000.0,67000000.0,67000000.0,67000000.0,67000000.0,7500000.0,7500000.0,7500000.0,7500000.0,876000000.0,7500000.0,350000000.0,350000000.0,350000000.0,164000000.0,350000000.0,350000000.0,350000000.0,350000000.0,350000000.0,350000000.0,350000000.0,350000000.0,350000000.0,350000000.0,350000000.0,61437052.63157895,62631756.75675676,70645972.22222222,164000000.0,70645972.22222222,64713815.78947368,164000000.0,164000000.0,164000000.0,164000000.0,65152272.72727273,65152272.72727273,164000000.0,74315666.66666667,74315666.66666667,164000000.0,164000000.0,164000000.0,164000000.0,62631756.75675676,200000000.0,30800000.0,17420000.0,61437052.63157895,52687093.02325582,63230000.0,63230000.0,63230000.0,63230000.0,63230000.0,63230000.0,59000000.0,59000000.0,59000000.0,1160000000.0,279200000.0,1160000000.0,279200000.0,1160000000.0,1160000000.0,1160000000.0,1160000000.0,1160000000.0,1160000000.0,1160000000.0,1160000000.0,1160000000.0,1160000000.0,1160000000.0,305000000.0,305000000.0,305000000.0,20000000.0,155858695.6521739,158834615.3846154,126136363.63636364,82254400.0,40000000.0,40000000.0,40000000.0,40000000.0,85000000.0,40000000.0,40000000.0,40000000.0,40000000.0,40000000.0,40000000.0,40000000.0,40000000.0,103259333.33333331,40000000.0,40000000.0,103259333.33333331,40000000.0,40000000.0,103259333.33333331,40000000.0,40000000.0,40000000.0,40000000.0,40000000.0,40000000.0,40000000.0,62000000.0,40000000.0,103259333.33333331,40000000.0,40000000.0,40000000.0,40000000.0,40000000.0,40000000.0,40000000.0,40000000.0,40000000.0,40000000.0,40000000.0,40000000.0,40000000.0,40000000.0,40000000.0,40000000.0,40000000.0,40000000.0,450000000.0,40000000.0,40000000.0,450000000.0,450000000.0,450000000.0,450000000.0,172888888.8888889,450000000.0,450000000.0,172888888.8888889,450000000.0,141841739.13043478,450000000.0,450000000.0,450000000.0,450000000.0,450000000.0,450000000.0,450000000.0,450000000.0,450000000.0,450000000.0,450000000.0,450000000.0,450000000.0,141841739.13043478,141841739.13043478,200000000.0,69644782.60869566,69644782.60869566,69644782.60869566,190000000.0,450000000.0,450000000.0,450000000.0,450000000.0,190000000.0,190000000.0,450000000.0,450000000.0,450000000.0,450000000.0,450000000.0,450000000.0,450000000.0,450000000.0,450000000.0,450000000.0,450000000.0,450000000.0,200000000.0,70372000.0,70372000.0,200000000.0,70372000.0,69700000.0,450000000.0,450000000.0,450000000.0,450000000.0,450000000.0,200000000.0,200000000.0,200000000.0,200000000.0,200000000.0,200000000.0,200000000.0,200000000.0,45000000.0,45000000.0,100591904.76190476,45000000.0,200000000.0,45000000.0,100591904.76190476,40000000.0,45000000.0,40000000.0,45000000.0,45000000.0,40000000.0,40000000.0,40000000.0,40000000.0,40000000.0,45000000.0,40000000.0,46000000.0,46000000.0,40000000.0,45000000.0,40000000.0,46000000.0,55000000.0,17420000.0,40000000.0,25000000.0,46000000.0,45000000.0,40000000.0,80000000.0,80000000.0,80000000.0,80000000.0,13000000.0,37000000.0,80000000.0,85000000.0,85000000.0,85000000.0,85000000.0,85000000.0,5800000.0,21000000.0,112500000.0,61437052.63157895,61437052.63157895,61437052.63157895,61437052.63157895,25000000.0,25000000.0,25000000.0,23000000.0,153000000.0,153000000.0,153000000.0,115000000.0,153000000.0,120000000.0,450000000.0,450000000.0,450000000.0,450000000.0,450000000.0,145000000.0,130000000.0,145000000.0,140000000.0,109000000.0,109000000.0,61437052.63157895,37000000.0,37000000.0,37000000.0,37000000.0,37000000.0,30000000.0,57376708.07453416,37000000.0,37000000.0,67000000.0,57376708.07453416,200000000.0,200000000.0,200000000.0,200000000.0,200000000.0,200000000.0,200000000.0,200000000.0,200000000.0,200000000.0,200000000.0,200000000.0,450000000.0,450000000.0,450000000.0,450000000.0,450000000.0,450000000.0,450000000.0,450000000.0,450000000.0,450000000.0,450000000.0,450000000.0,450000000.0,65152272.72727273,70645972.22222222,39000000.0,39000000.0,39000000.0,112500000.0,112500000.0,112500000.0,112500000.0,112500000.0,112500000.0,112500000.0,450000000.0,450000000.0,450000000.0,450000000.0,450000000.0,450000000.0,450000000.0,450000000.0,450000000.0,450000000.0,450000000.0,450000000.0,450000000.0,450000000.0,450000000.0,450000000.0,450000000.0,450000000.0,450000000.0,450000000.0,450000000.0,450000000.0,450000000.0,450000000.0,450000000.0,450000000.0,450000000.0,450000000.0,450000000.0,450000000.0,109000000.0,153000000.0,145000000.0,115000000.0,123000000.0,145000000.0,109000000.0,109000000.0,109000000.0,109000000.0,130000000.0,145000000.0,109000000.0,115000000.0,123000000.0,153000000.0,109000000.0,109000000.0,109000000.0,109000000.0,109000000.0,123000000.0,153000000.0,109000000.0,120000000.0,123000000.0,153000000.0,64680000.00000001,37000000.0,37000000.0,37000000.0,37000000.0,37000000.0,37000000.0,37000000.0,37000000.0,37000000.0,37000000.0,37000000.0,30000000.0,30000000.0,97429555.55555557,200000000.0,200000000.0,200000000.0,200000000.0,200000000.0,200000000.0,200000000.0,200000000.0,200000000.0,200000000.0,200000000.0,119216111.1111111,200000000.0,52687093.02325582,164000000.0,109000000.0,109000000.0,135000000.0,135000000.0,130000000.0,109000000.0,153000000.0,115000000.0,109000000.0,109000000.0,123000000.0,109000000.0,115000000.0,123000000.0,123000000.0,109000000.0,109000000.0,109000000.0,130000000.0,200000000.0,61437052.63157895,200000000.0,200000000.0,200000000.0,200000000.0,109000000.0,83948235.29411764,120000000.0,71477272.72727273,200000000.0,71477272.72727273,71477272.72727273,200000000.0,200000000.0,200000000.0,74315666.66666667,200000000.0,200000000.0,200000000.0,200000000.0,200000000.0,200000000.0,200000000.0,71477272.72727273,65152272.72727273,200000000.0,200000000.0,62000000.0,450000000.0,450000000.0,450000000.0,450000000.0,450000000.0,67000000.0,450000000.0,450000000.0,450000000.0,450000000.0,450000000.0,450000000.0,450000000.0,450000000.0,450000000.0,450000000.0,200000000.0,450000000.0,450000000.0,200000000.0,450000000.0,450000000.0,450000000.0,71173734.93975903,450000000.0,200000000.0,450000000.0,450000000.0,450000000.0,200000000.0,450000000.0,200000000.0,450000000.0,450000000.0,450000000.0,450000000.0,450000000.0,61437052.63157895,61437052.63157895,61437052.63157895,52687093.02325582,52687093.02325582,65000000.0,47000000.0,450000000.0,450000000.0,450000000.0,450000000.0,450000000.0,450000000.0,450000000.0,450000000.0,450000000.0,450000000.0,450000000.0,450000000.0,450000000.0,450000000.0,450000000.0,29750000.0,61437052.63157895,31000000.0,29750000.0,5300000.0,30800000.0,200000000.0,23000000.0,29750000.0,61437052.63157895,61437052.63157895,17420000.0,90000000.0,21000000.0,12000000.0,30000000.0,29750000.0,47000000.0,61437052.63157895,61437052.63157895,64680000.00000001,200000000.0,64680000.00000001,31000000.0,65000000.0,13000000.0,5300000.0,29150000.0,64680000.00000001,64680000.00000001,29750000.0,69700000.0,61437052.63157895,90000000.0,25000000.0,30800000.0,29150000.0,5800000.0,62631756.75675676,62631756.75675676,30000000.0,200000000.0,31000000.0,20000000.0,62631756.75675676,90000000.0,29150000.0,62631756.75675676,62631756.75675676,20000000.0,20000000.0,39545454.54545455,39545454.54545455,46955102.04081633,56475000.0,56475000.0,64816000.0,64816000.0,98416000.0,43866666.66666666,200000000.0,57376708.07453416,200000000.0,200000000.0,200000000.0,200000000.0,200000000.0,200000000.0,200000000.0,200000000.0,200000000.0,200000000.0,47000000.0,30000000.0,25000000.0,90000000.0,62000000.0,65000000.0,17420000.0,64680000.00000001,29150000.0,31000000.0,62631756.75675676,62631756.75675676,61437052.63157895,65000000.0,200000000.0,70645972.22222222,200000000.0,200000000.0,200000000.0,200000000.0,200000000.0,23000000.0,62631756.75675676,62631756.75675676,65000000.0,62631756.75675676,31000000.0,65000000.0,62631756.75675676,25000000.0,65000000.0,30800000.0,29750000.0,90000000.0,13000000.0,17420000.0,62631756.75675676,90000000.0,21000000.0,21000000.0,54120095.23809524,52687093.02325582,31000000.0,30000000.0,61437052.63157895,30800000.0,64680000.00000001,64680000.00000001,52687093.02325582,100916000.0,64680000.00000001,19000000.0,62631756.75675676,30800000.0,25000000.0,20000000.0,29750000.0,29150000.0,62631756.75675676,90000000.0,29750000.0,30800000.0,62631756.75675676,140000000.0,120000000.0,120000000.0,115000000.0,109000000.0,153000000.0,145000000.0,153000000.0,140000000.0,109000000.0,109000000.0,109000000.0,120000000.0,109000000.0,109000000.0,109000000.0,109000000.0,153000000.0,140000000.0,30800000.0,109000000.0,120000000.0,109000000.0,109000000.0,145000000.0,109000000.0,109000000.0,109000000.0,145000000.0,109000000.0,109000000.0,17420000.0,17420000.0,17420000.0,17420000.0,13000000.0,5800000.0,65000000.0,25000000.0,23000000.0,12000000.0,63230000.0,30000000.0,30000000.0,63230000.0,63230000.0,63230000.0,63230000.0,63230000.0,59000000.0,59000000.0,59000000.0,59000000.0,59000000.0,25000000.0,100916000.0,71477272.72727273,71477272.72727273,71477272.72727273,71477272.72727273,52687093.02325582,52687093.02325582,17420000.0,52687093.02325582,17420000.0,29750000.0,29150000.0,65000000.0,12000000.0,47000000.0,29150000.0,54120095.23809524,29150000.0,29150000.0,54120095.23809524,64680000.00000001,20000000.0,20000000.0,30800000.0,64680000.00000001,90000000.0,37000000.0,65000000.0,93037209.30232558,93037209.30232558,93037209.30232558,93037209.30232558,93037209.30232558,93037209.30232558,29750000.0,5300000.0,109032258.06451613,109032258.06451613,109032258.06451613,109032258.06451613,109032258.06451613,109032258.06451613,109032258.06451613,109032258.06451613,123670833.33333331,123670833.33333331,123670833.33333331,123670833.33333331,123670833.33333331,123670833.33333331,123670833.33333331,20000000.0,67000000.0,130372413.79310344,130372413.79310344,130372413.79310344,130372413.79310344,130372413.79310344,130372413.79310344,130372413.79310344,30000000.0,65000000.0,100000000.0,5300000.0,25000000.0,25000000.0,65000000.0,13000000.0,25000000.0,65000000.0,100000000.0,30000000.0,90000000.0,125940322.58064516,125940322.58064516,125940322.58064516,125940322.58064516,125940322.58064516,125940322.58064516,125940322.58064516,125940322.58064516,160454545.45454547,160454545.45454547,160454545.45454547,160454545.45454547,160454545.45454547,160454545.45454547,160454545.45454547,160454545.45454547,160454545.45454547,160454545.45454547,160454545.45454547,155858695.6521739,155858695.6521739,155858695.6521739,155858695.6521739,155858695.6521739,155858695.6521739,155858695.6521739,155858695.6521739,155858695.6521739,155858695.6521739,5300000.0,158834615.3846154,158834615.3846154,29150000.0,158834615.3846154,158834615.3846154,158834615.3846154,158834615.3846154,158834615.3846154,158834615.3846154,158834615.3846154,158834615.3846154,158834615.3846154,52687093.02325582,7500000.0,52687093.02325582,29150000.0,5300000.0,109000000.0,126136363.63636364,126136363.63636364,126136363.63636364,126136363.63636364,126136363.63636364,126136363.63636364,126136363.63636364,126136363.63636364,126136363.63636364,126136363.63636364,82254400.0,82254400.0,82254400.0,82254400.0,82254400.0,82254400.0,82254400.0,82254400.0,82254400.0,103259333.33333331,103259333.33333331,103259333.33333331,103259333.33333331,103259333.33333331,103259333.33333331,103259333.33333331,103259333.33333331,172888888.8888889,172888888.8888889,172888888.8888889,172888888.8888889,172888888.8888889,172888888.8888889,141841739.13043478,141841739.13043478,141841739.13043478,141841739.13043478,141841739.13043478,141841739.13043478,141841739.13043478,141841739.13043478,69644782.60869566,3000000000.0,3000000000.0,609500000.0,609500000.0,1160000000.0,1160000000.0,15000000.0,29150000.0,64816000.0,64816000.0,98416000.0,98416000.0,98416000.0,43866666.66666666,88119148.9361702,100916000.0,100916000.0,100916000.0,71477272.72727273,43866666.66666666,88119148.9361702,100916000.0,100916000.0,71477272.72727273,71477272.72727273,123000000.0,67000000.0,67000000.0,97000000.0,47000000.0,47000000.0,47000000.0,47000000.0,47000000.0,47000000.0,47000000.0,47000000.0,47000000.0,47000000.0,67000000.0,52687093.02325582,67000000.0,164000000.0,133000000.0,133000000.0,164000000.0,164000000.0,133000000.0,119216111.1111111,279200000.0,609500000.0,1160000000.0,1160000000.0,63230000.0,59000000.0,216285714.2857143,216285714.2857143,91519692.3076923,83948235.29411764,83948235.29411764,83948235.29411764,1160000000.0,71173734.93975903,1160000000.0,1160000000.0,1160000000.0,305000000.0,20000000.0,20000000.0,20000000.0,83948235.29411764,64713815.78947368,126136363.63636364,82254400.0,103259333.33333331,98416000.0,98416000.0,98416000.0,98416000.0,43866666.66666666,43866666.66666666,88119148.9361702,88119148.9361702,88119148.9361702,88119148.9361702,88119148.9361702,100916000.0,100916000.0,93037209.30232558,93037209.30232558,91519692.3076923,20000000.0,64713815.78947368,103259333.33333331,103259333.33333331,103259333.33333331,103259333.33333331,103259333.33333331,103259333.33333331,172888888.8888889,172888888.8888889,172888888.8888889,172888888.8888889,172888888.8888889,172888888.8888889,172888888.8888889,141841739.13043478,141841739.13043478,141841739.13043478,69644782.60869566,69644782.60869566,69644782.60869566,109032258.06451613,123670833.33333331,123670833.33333331,123670833.33333331,46000000.0,7500000.0,63230000.0,63230000.0,63230000.0,63230000.0,609500000.0,609500000.0,1160000000.0,1160000000.0,1160000000.0,1160000000.0,1160000000.0,1160000000.0,1160000000.0,59000000.0,59000000.0,59000000.0,59000000.0,59000000.0,59000000.0,59000000.0,130372413.79310344,130372413.79310344,125940322.58064516,125940322.58064516,125940322.58064516,125940322.58064516,160454545.45454547,155858695.6521739,158834615.3846154,126136363.63636364,126136363.63636364,126136363.63636364,82254400.0,59000000.0,59000000.0,59000000.0,59000000.0,59000000.0,59000000.0,59000000.0,59000000.0,59000000.0,59000000.0,59000000.0,59000000.0,59000000.0,59000000.0,7500000.0,29150000.0,30000000.0,30000000.0,30000000.0,30000000.0,30000000.0,30000000.0,30000000.0,30000000.0,30000000.0,30000000.0,30000000.0,30000000.0,30000000.0,30000000.0,30000000.0,70372000.0,126136363.63636364,104114000.0,130372413.79310344,160454545.45454547,103259333.33333331,103259333.33333331,172888888.8888889,74985200.0,158834615.3846154,158834615.3846154,103259333.33333331,104114000.0,172888888.8888889,126136363.63636364,119216111.1111111,74315666.66666667,74315666.66666667,70645972.22222222,25000000.0,100916000.0,93037209.30232558,160454545.45454547,126136363.63636364,141841739.13043478,74985200.0,100591904.76190476,91519692.3076923,71173734.93975903,70645972.22222222,97429555.55555557,67000000.0,119216111.1111111,83948235.29411764,74315666.66666667,64713815.78947368,82254400.0,158834615.3846154,216285714.2857143,69644782.60869566,69644782.60869566,119216111.1111111,91519692.3076923,65152272.72727273,1160000000.0,59000000.0,59000000.0,216285714.2857143,609500000.0,123670833.33333331,109032258.06451613,93037209.30232558,71477272.72727273,100916000.0,100916000.0,93037209.30232558,88119148.9361702,43866666.66666666,20000000.0,20000000.0,20000000.0,20000000.0,46955102.04081633,20000000.0,20000000.0,88119148.9361702,39545454.54545455,39545454.54545455,56475000.0,56475000.0,64816000.0,64816000.0,43866666.66666666,82254400.0,126136363.63636364,125940322.58064516,125940322.58064516,160454545.45454547,155858695.6521739,158834615.3846154,103259333.33333331,126136363.63636364,158834615.3846154,70372000.0,69644782.60869566,104114000.0,104114000.0,1160000000.0,1160000000.0,1160000000.0,1160000000.0,20000000.0,20000000.0,20000000.0,20000000.0,20000000.0,20000000.0,20000000.0,20000000.0,39545454.54545455,56475000.0,64816000.0,98416000.0,98416000.0,88119148.9361702,71477272.72727273,93037209.30232558,109032258.06451613,160454545.45454547,130372413.79310344,90000000.0,90000000.0,90000000.0,90000000.0,64713815.78947368,90000000.0,90000000.0,90000000.0,90000000.0,90000000.0,90000000.0,90000000.0,90000000.0,90000000.0,90000000.0,90000000.0,97429555.55555557,100591904.76190476,100591904.76190476,104114000.0,90000000.0,104114000.0,104114000.0,70372000.0,69644782.60869566,69644782.60869566,90000000.0,141841739.13043478,141841739.13043478,90000000.0,69644782.60869566,65152272.72727273,71173734.93975903,5300000.0,69644782.60869566,69644782.60869566,74985200.0,74985200.0,74985200.0,74985200.0,74985200.0,74985200.0,74985200.0,104114000.0,104114000.0,104114000.0,104114000.0,21000000.0,64680000.00000001,64680000.00000001,104114000.0,104114000.0,100591904.76190476,100591904.76190476,100591904.76190476,52687093.02325582,71477272.72727273,7500000.0,100591904.76190476,100591904.76190476,97429555.55555557,97429555.55555557,97429555.55555557,97429555.55555557,119216111.1111111,119216111.1111111,100591904.76190476,100591904.76190476,100591904.76190476,97429555.55555557,119216111.1111111,119216111.1111111,119216111.1111111,119216111.1111111,119216111.1111111,119216111.1111111,70372000.0,70372000.0,70372000.0,20000000.0,7500000.0,93037209.30232558,93037209.30232558,93037209.30232558,93037209.30232558,93037209.30232558,93037209.30232558,93037209.30232558,93037209.30232558,93037209.30232558,93037209.30232558,109032258.06451613,109032258.06451613,109032258.06451613,109032258.06451613,109032258.06451613,123670833.33333331,123670833.33333331,123670833.33333331,123670833.33333331,123670833.33333331,123670833.33333331,123670833.33333331,123670833.33333331,123670833.33333331,123670833.33333331,123670833.33333331,130372413.79310344,130372413.79310344,130372413.79310344,130372413.79310344,130372413.79310344,130372413.79310344,130372413.79310344,125940322.58064516,125940322.58064516,125940322.58064516,160454545.45454547,160454545.45454547,160454545.45454547,155858695.6521739,155858695.6521739,155858695.6521739,155858695.6521739,155858695.6521739,155858695.6521739,155858695.6521739,155858695.6521739,155858695.6521739,155858695.6521739,158834615.3846154,158834615.3846154,158834615.3846154,158834615.3846154,158834615.3846154,158834615.3846154,158834615.3846154,158834615.3846154,158834615.3846154,158834615.3846154,158834615.3846154,126136363.63636364,126136363.63636364,126136363.63636364,126136363.63636364,126136363.63636364,126136363.63636364,126136363.63636364,126136363.63636364,126136363.63636364,126136363.63636364,126136363.63636364,126136363.63636364,82254400.0,82254400.0,82254400.0,82254400.0,82254400.0,82254400.0,82254400.0,82254400.0,82254400.0,82254400.0,59000000.0,59000000.0,216285714.2857143,216285714.2857143,216285714.2857143,216285714.2857143,216285714.2857143,216285714.2857143,216285714.2857143,216285714.2857143,216285714.2857143,216285714.2857143,279200000.0,279200000.0,609500000.0,1160000000.0,1160000000.0,1160000000.0,216285714.2857143,279200000.0,103259333.33333331,74985200.0,279200000.0,279200000.0,279200000.0,216285714.2857143,279200000.0,609500000.0,141841739.13043478,69644782.60869566,70372000.0,69644782.60869566,609500000.0,609500000.0,1160000000.0,1160000000.0,1160000000.0,1160000000.0,1160000000.0,1160000000.0,20000000.0,20000000.0,20000000.0,20000000.0,20000000.0,20000000.0,20000000.0,20000000.0,20000000.0,20000000.0,39545454.54545455,39545454.54545455,46955102.04081633,67000000.0,67000000.0,67000000.0,1160000000.0,1160000000.0,1160000000.0,1160000000.0,305000000.0,305000000.0,20000000.0,20000000.0,20000000.0,20000000.0,20000000.0,20000000.0,20000000.0,20000000.0,20000000.0,20000000.0,20000000.0,20000000.0,20000000.0,39545454.54545455,39545454.54545455,39545454.54545455,46955102.04081633,46955102.04081633,46955102.04081633,46955102.04081633,64816000.0,64816000.0,98416000.0,98416000.0,43866666.66666666,20000000.0,43866666.66666666,88119148.9361702,88119148.9361702,88119148.9361702,88119148.9361702,100916000.0,20000000.0,20000000.0,20000000.0,20000000.0,20000000.0,39545454.54545455,39545454.54545455,39545454.54545455,46955102.04081633,46955102.04081633,46955102.04081633,56475000.0,56475000.0,64816000.0,64816000.0,98416000.0,98416000.0,98416000.0,43866666.66666666,43866666.66666666,43866666.66666666,88119148.9361702,88119148.9361702,100916000.0,100916000.0,71477272.72727273,71477272.72727273,71477272.72727273,93037209.30232558,93037209.30232558,93037209.30232558,93037209.30232558,109032258.06451613,130372413.79310344,130372413.79310344,130372413.79310344,130372413.79310344,125940322.58064516,160454545.45454547,160454545.45454547,155858695.6521739,158834615.3846154,82254400.0,172888888.8888889,74985200.0,104114000.0,20000000.0,20000000.0,20000000.0,20000000.0,39545454.54545455,39545454.54545455,46955102.04081633,46955102.04081633,56475000.0,56475000.0,56475000.0,64816000.0,64816000.0,64816000.0,98416000.0,98416000.0,98416000.0,98416000.0,98416000.0,98416000.0,43866666.66666666,43866666.66666666,43866666.66666666,43866666.66666666,43866666.66666666,43866666.66666666,88119148.9361702,88119148.9361702,88119148.9361702,88119148.9361702,88119148.9361702,100916000.0,100916000.0,100916000.0,100916000.0,93037209.30232558,123670833.33333331,123670833.33333331,125940322.58064516,20000000.0,46955102.04081633,64816000.0,98416000.0,98416000.0,43866666.66666666,88119148.9361702,88119148.9361702,100916000.0,71477272.72727273,93037209.30232558,93037209.30232558,130372413.79310344,64816000.0,98416000.0,100916000.0,71477272.72727273,109032258.06451613,109032258.06451613,125940322.58064516,20000000.0,20000000.0,39545454.54545455,46955102.04081633,56475000.0,64816000.0,43866666.66666666,43866666.66666666,88119148.9361702,100916000.0,71477272.72727273,93037209.30232558,123670833.33333331,125940322.58064516,39545454.54545455,39545454.54545455,56475000.0,64816000.0,98416000.0,100916000.0,93037209.30232558,71477272.72727273,109032258.06451613,125940322.58064516,160454545.45454547,98416000.0,98416000.0,43866666.66666666,88119148.9361702,88119148.9361702,100916000.0,71477272.72727273,71477272.72727273,93037209.30232558,93037209.30232558,109032258.06451613,109032258.06451613,109032258.06451613,123670833.33333331,123670833.33333331,130372413.79310344,130372413.79310344,125940322.58064516,125940322.58064516,126136363.63636364,155858695.6521739,158834615.3846154,172888888.8888889,103259333.33333331,100916000.0,71477272.72727273,93037209.30232558,43866666.66666666,71477272.72727273,109032258.06451613,130372413.79310344,125940322.58064516,74985200.0,119216111.1111111,64713815.78947368,65152272.72727273,5300000.0,5300000.0,29150000.0,54120095.23809524,25000000.0,25000000.0,25000000.0,25000000.0,25000000.0,25000000.0,25000000.0,63230000.0,63230000.0,59000000.0,59000000.0,216285714.2857143,216285714.2857143,216285714.2857143,216285714.2857143,279200000.0,279200000.0,279200000.0,279200000.0,279200000.0,609500000.0,609500000.0,609500000.0,609500000.0,609500000.0,1160000000.0,1160000000.0,1160000000.0,1160000000.0,1160000000.0,1160000000.0,1160000000.0,305000000.0,20000000.0,29150000.0,1160000000.0,1160000000.0,1160000000.0,1160000000.0,1160000000.0,1160000000.0,305000000.0,305000000.0,305000000.0,20000000.0,20000000.0,20000000.0,20000000.0,20000000.0,20000000.0,20000000.0,20000000.0,20000000.0,20000000.0,39545454.54545455,46955102.04081633,56475000.0,64816000.0,200000000.0,30800000.0,31000000.0,63230000.0,31000000.0,63230000.0,63230000.0,63230000.0,63230000.0,63230000.0,29150000.0,31000000.0,65000000.0,20000000.0,25000000.0,31000000.0,20000000.0,65000000.0,70645972.22222222,17420000.0,69700000.0,17420000.0,13000000.0,29750000.0,23000000.0,31000000.0,29750000.0,25000000.0,64680000.00000001,13000000.0,65000000.0,25000000.0,20000000.0,25000000.0,25000000.0,25000000.0,21000000.0,31000000.0,21000000.0,70645972.22222222,64680000.00000001,21000000.0,31000000.0,21000000.0,21000000.0,21000000.0,25000000.0,31000000.0,21000000.0,31000000.0,21000000.0,63230000.0,63230000.0,63230000.0,63230000.0,63230000.0,70645972.22222222,20000000.0,29150000.0,64680000.00000001,29750000.0,64680000.00000001,70645972.22222222,25000000.0,70645972.22222222,70645972.22222222,70645972.22222222,21000000.0,29750000.0,31000000.0,70645972.22222222,31000000.0,31000000.0,21000000.0,31000000.0,31000000.0,31000000.0,20000000.0,21000000.0,20000000.0,31000000.0,29150000.0,29750000.0,29750000.0,31000000.0,20000000.0,20000000.0,39545454.54545455,56475000.0,88119148.9361702,100916000.0,123670833.33333331,125940322.58064516,63230000.0,63230000.0,63230000.0,59000000.0,59000000.0,59000000.0,216285714.2857143,63230000.0,59000000.0,63230000.0,63230000.0,63230000.0,63230000.0,63230000.0,63230000.0,63230000.0,63230000.0,279200000.0,59000000.0,216285714.2857143,279200000.0,46955102.04081633,56475000.0,56475000.0,64816000.0,63230000.0,63230000.0,63230000.0,59000000.0,59000000.0,59000000.0,59000000.0,216285714.2857143,216285714.2857143,216285714.2857143,216285714.2857143,216285714.2857143,216285714.2857143,216285714.2857143,216285714.2857143,216285714.2857143,216285714.2857143,216285714.2857143,216285714.2857143,279200000.0,279200000.0,609500000.0,609500000.0,609500000.0,609500000.0,1160000000.0,1160000000.0,67000000.0,279200000.0,279200000.0,279200000.0,279200000.0,279200000.0,279200000.0,279200000.0,279200000.0,279200000.0,279200000.0,279200000.0,279200000.0,279200000.0,279200000.0,279200000.0,609500000.0,609500000.0,609500000.0,609500000.0,609500000.0,609500000.0,609500000.0,609500000.0,609500000.0,609500000.0,609500000.0,609500000.0,609500000.0,52687093.02325582,1160000000.0,1160000000.0,1160000000.0,1160000000.0,1160000000.0,1160000000.0,1160000000.0,1160000000.0,1160000000.0,1160000000.0,1160000000.0,1160000000.0,1160000000.0,1160000000.0,1160000000.0,1160000000.0,1160000000.0,1160000000.0,1160000000.0,1160000000.0,1160000000.0,1160000000.0,1160000000.0,1160000000.0,1160000000.0,1160000000.0,1160000000.0,1160000000.0,1160000000.0,1160000000.0,1160000000.0,1160000000.0,1160000000.0,1160000000.0,1160000000.0,1160000000.0,1160000000.0,1160000000.0,1160000000.0,1160000000.0,1160000000.0,1160000000.0,305000000.0,305000000.0,305000000.0,305000000.0,305000000.0,305000000.0,305000000.0,305000000.0,305000000.0,20000000.0,20000000.0,20000000.0,20000000.0,20000000.0,20000000.0,20000000.0,20000000.0,20000000.0,20000000.0,20000000.0,20000000.0,20000000.0,20000000.0,20000000.0,20000000.0,20000000.0,20000000.0,609500000.0,609500000.0,1160000000.0,1160000000.0,1160000000.0,1160000000.0,1160000000.0,305000000.0,29150000.0,19000000.0,29150000.0,5800000.0,23000000.0,20000000.0,19000000.0,216285714.2857143,216285714.2857143,216285714.2857143,279200000.0,609500000.0,609500000.0,1160000000.0,1160000000.0,1160000000.0,1160000000.0,1160000000.0,1160000000.0,1160000000.0,1160000000.0,1160000000.0,305000000.0,305000000.0,305000000.0,305000000.0,20000000.0,20000000.0,20000000.0,20000000.0,20000000.0,20000000.0,20000000.0,20000000.0,20000000.0,20000000.0,20000000.0,305000000.0,63230000.0,63230000.0,63230000.0,59000000.0,59000000.0,59000000.0,216285714.2857143,216285714.2857143,216285714.2857143,279200000.0,279200000.0,609500000.0,609500000.0,1160000000.0,1160000000.0,216285714.2857143,216285714.2857143,279200000.0,279200000.0,609500000.0,609500000.0,1160000000.0,1160000000.0,1160000000.0,1160000000.0,1160000000.0,1160000000.0,1160000000.0,1160000000.0,1160000000.0,1160000000.0,305000000.0,305000000.0,1160000000.0,305000000.0,305000000.0,20000000.0,20000000.0,20000000.0,20000000.0,20000000.0,20000000.0,20000000.0,20000000.0,20000000.0,20000000.0,20000000.0,20000000.0,20000000.0,20000000.0,20000000.0,20000000.0,20000000.0,20000000.0,20000000.0,46955102.04081633,20000000.0,279200000.0,279200000.0,609500000.0,609500000.0,1160000000.0,1160000000.0,1160000000.0,1160000000.0,305000000.0,20000000.0,20000000.0,20000000.0,20000000.0,20000000.0,20000000.0,20000000.0,279200000.0,1160000000.0,609500000.0,67000000.0,67000000.0,5800000.0,17420000.0,85000000.0,112500000.0,1160000000.0,1160000000.0,1160000000.0,1160000000.0,1160000000.0,305000000.0,305000000.0,305000000.0,20000000.0,20000000.0,20000000.0,20000000.0,20000000.0,20000000.0,20000000.0,20000000.0,20000000.0,20000000.0,20000000.0,20000000.0,20000000.0,20000000.0,20000000.0,20000000.0,20000000.0,20000000.0,39545454.54545455,39545454.54545455,39545454.54545455,46955102.04081633,46955102.04081633,46955102.04081633,56475000.0,56475000.0,64816000.0,64816000.0,98416000.0,43866666.66666666,43866666.66666666,43866666.66666666,88119148.9361702,100916000.0,71477272.72727273,93037209.30232558,109032258.06451613,123670833.33333331,1160000000.0,1160000000.0,1160000000.0,1160000000.0,1160000000.0,1160000000.0,1160000000.0,305000000.0,20000000.0,20000000.0,20000000.0,20000000.0,20000000.0,20000000.0,20000000.0,20000000.0,20000000.0,20000000.0,20000000.0,20000000.0,20000000.0,20000000.0,20000000.0,39545454.54545455,39545454.54545455,46955102.04081633,46955102.04081633,46955102.04081633,46955102.04081633,46955102.04081633,56475000.0,56475000.0,56475000.0,64816000.0,64816000.0,98416000.0,98416000.0,43866666.66666666,43866666.66666666,43866666.66666666,88119148.9361702,88119148.9361702,88119148.9361702,100916000.0,100916000.0,71477272.72727273,93037209.30232558,93037209.30232558,109032258.06451613,123670833.33333331,130372413.79310344,125940322.58064516,70372000.0,141841739.13043478,69644782.60869566,74985200.0,1160000000.0,1160000000.0,1160000000.0,1160000000.0,1160000000.0,1160000000.0,1160000000.0,1160000000.0,1160000000.0,305000000.0,305000000.0,20000000.0,20000000.0,20000000.0,20000000.0,20000000.0,20000000.0,20000000.0,20000000.0,20000000.0,20000000.0,20000000.0,20000000.0,20000000.0,20000000.0,20000000.0,39545454.54545455,46955102.04081633,50541007.75193799,17420000.0,50541007.75193799,50541007.75193799,50541007.75193799,65152272.72727273,74315666.66666667,23000000.0,83948235.29411764,82254400.0,141841739.13043478,141841739.13043478,172888888.8888889,83948235.29411764,67000000.0,67000000.0,67000000.0,67000000.0,67000000.0,67000000.0,67000000.0,67000000.0,67000000.0,67000000.0,67000000.0,67000000.0,67000000.0,1160000000.0,1160000000.0,1160000000.0,64713815.78947368,64713815.78947368,70645972.22222222,70645972.22222222,70645972.22222222,70645972.22222222,62631756.75675676,61437052.63157895,61437052.63157895,52687093.02325582,52687093.02325582,67000000.0,70372000.0,69644782.60869566,5800000.0,7500000.0,25000000.0,7500000.0,29750000.0,64680000.00000001,7500000.0,29150000.0,25000000.0,97429555.55555557,85000000.0,5800000.0,52687093.02325582,19000000.0,52687093.02325582,64680000.00000001,13000000.0,13000000.0,13000000.0,13000000.0,13000000.0,13000000.0,13000000.0,13000000.0,13000000.0,13000000.0,13000000.0,13000000.0,13000000.0,13000000.0,13000000.0,13000000.0,13000000.0,13000000.0,13000000.0,13000000.0,13000000.0,13000000.0,13000000.0,13000000.0,125940322.58064516,71173734.93975903,17420000.0,52687093.02325582,85000000.0,5800000.0,5800000.0,29750000.0,27000000.0,145000000.0,67000000.0,67000000.0,67000000.0,67000000.0,67000000.0,67000000.0,67000000.0,67000000.0,67000000.0,67000000.0,67000000.0,67000000.0,1160000000.0,1160000000.0,20000000.0,20000000.0,20000000.0,20000000.0,30800000.0,30800000.0,64816000.0,64816000.0,30800000.0,30800000.0,43866666.66666666,30800000.0,30800000.0,30800000.0,100916000.0,30800000.0,100916000.0,100916000.0,93037209.30232558,93037209.30232558,93037209.30232558,93037209.30232558,30800000.0,609500000.0,1160000000.0,1160000000.0,1160000000.0,305000000.0,20000000.0,43866666.66666666,69644782.60869566,90000000.0,25000000.0,25000000.0,25000000.0,109032258.06451613,29750000.0,123670833.33333331,30800000.0,123670833.33333331,30800000.0,69700000.0,29750000.0,125940322.58064516,125940322.58064516,69700000.0,160454545.45454547,160454545.45454547,160454545.45454547,155858695.6521739,155858695.6521739,155858695.6521739,29750000.0,69700000.0,158834615.3846154,158834615.3846154,158834615.3846154,158834615.3846154,63230000.0,63230000.0,63230000.0,63230000.0,63230000.0,63230000.0,63230000.0,63230000.0,63230000.0,63230000.0,63230000.0,63230000.0,63230000.0,63230000.0,63230000.0,50541007.75193799,57376708.07453416,57376708.07453416,63230000.0,63230000.0,63230000.0,63230000.0,63230000.0,63230000.0,63230000.0,63230000.0,63230000.0,63230000.0,63230000.0,63230000.0,63230000.0,63230000.0,63230000.0,63230000.0,15000000.0,59000000.0,59000000.0,59000000.0,59000000.0,59000000.0,59000000.0,59000000.0,59000000.0,59000000.0,59000000.0,59000000.0,59000000.0,59000000.0,59000000.0,59000000.0,59000000.0,59000000.0,59000000.0,59000000.0,59000000.0,59000000.0,59000000.0,59000000.0,59000000.0,59000000.0,216285714.2857143,216285714.2857143,216285714.2857143,216285714.2857143,216285714.2857143,216285714.2857143,216285714.2857143,216285714.2857143,216285714.2857143,279200000.0,279200000.0,609500000.0,1160000000.0,1160000000.0,1160000000.0,1160000000.0,305000000.0,20000000.0,20000000.0,20000000.0,20000000.0,20000000.0,609500000.0,88119148.9361702,109032258.06451613,216285714.2857143,54120095.23809524,63230000.0,63230000.0,63230000.0,59000000.0,59000000.0,59000000.0,216285714.2857143,279200000.0,609500000.0,1160000000.0,54120095.23809524,29150000.0,158834615.3846154,126136363.63636364,126136363.63636364,126136363.63636364,126136363.63636364,126136363.63636364,126136363.63636364,64680000.00000001,82254400.0,64680000.00000001,17420000.0,69700000.0,103259333.33333331,69700000.0,69700000.0,64680000.00000001,64680000.00000001,23000000.0,69700000.0,64680000.00000001,29750000.0,69700000.0,69644782.60869566,74985200.0,30800000.0,65000000.0,30800000.0,64680000.00000001,29750000.0,69700000.0,64680000.00000001,30800000.0,70372000.0,29750000.0,30000000.0,25000000.0,25000000.0,25000000.0,25000000.0,25000000.0,25000000.0,25000000.0,67000000.0,25000000.0,30800000.0,29750000.0,64680000.00000001,30800000.0,69700000.0,29750000.0,17420000.0,17420000.0,17420000.0,17420000.0,17420000.0,17420000.0,20000000.0,20000000.0,20000000.0,20000000.0,20000000.0,20000000.0,20000000.0,20000000.0,20000000.0,20000000.0,20000000.0,20000000.0,20000000.0,20000000.0,20000000.0,20000000.0,20000000.0,20000000.0,20000000.0,20000000.0,20000000.0,39545454.54545455,39545454.54545455,39545454.54545455,39545454.54545455,46955102.04081633,46955102.04081633,46955102.04081633,46955102.04081633,46955102.04081633,46955102.04081633,56475000.0,56475000.0,56475000.0,56475000.0,56475000.0,56475000.0,56475000.0,56475000.0,56475000.0,64816000.0,64816000.0,64816000.0,64816000.0,98416000.0,98416000.0,98416000.0,43866666.66666666,43866666.66666666,88119148.9361702,88119148.9361702,88119148.9361702,100916000.0,100916000.0,71477272.72727273,93037209.30232558,93037209.30232558,109032258.06451613,109032258.06451613,109032258.06451613,130372413.79310344,125940322.58064516,160454545.45454547,155858695.6521739,20000000.0,62000000.0,28300000.0,141841739.13043478,69644782.60869566,7500000.0,27000000.0,64680000.00000001,104114000.0,69700000.0,69700000.0,30800000.0,69700000.0,29150000.0,29750000.0,20000000.0,20000000.0,20000000.0,20000000.0,20000000.0,20000000.0,20000000.0,20000000.0,20000000.0,20000000.0,20000000.0,20000000.0,20000000.0,20000000.0,20000000.0,20000000.0,20000000.0,20000000.0,20000000.0,20000000.0,20000000.0,20000000.0,20000000.0,20000000.0,20000000.0,39545454.54545455,39545454.54545455,39545454.54545455,39545454.54545455,46955102.04081633,46955102.04081633,46955102.04081633,46955102.04081633,46955102.04081633,46955102.04081633,56475000.0,56475000.0,56475000.0,56475000.0,56475000.0,64816000.0,64816000.0,64816000.0,64816000.0,64816000.0,64816000.0,64816000.0,98416000.0,98416000.0,98416000.0,98416000.0,98416000.0,43866666.66666666,43866666.66666666,43866666.66666666,43866666.66666666,43866666.66666666,88119148.9361702,88119148.9361702,88119148.9361702,88119148.9361702,71477272.72727273,100916000.0,100916000.0,71477272.72727273,71477272.72727273,71477272.72727273,93037209.30232558,93037209.30232558,93037209.30232558,109032258.06451613,109032258.06451613,109032258.06451613,109032258.06451613,123670833.33333331,123670833.33333331,123670833.33333331,123670833.33333331,130372413.79310344,130372413.79310344,130372413.79310344,125940322.58064516,67000000.0,160454545.45454547,160454545.45454547,155858695.6521739,155858695.6521739,155858695.6521739,158834615.3846154,158834615.3846154,126136363.63636364,82254400.0,172888888.8888889,141841739.13043478,69644782.60869566,74985200.0,100591904.76190476,70372000.0,119216111.1111111,91519692.3076923,20000000.0,20000000.0,20000000.0,20000000.0,20000000.0,39545454.54545455,20000000.0,20000000.0,20000000.0,20000000.0,20000000.0,20000000.0,20000000.0,20000000.0,20000000.0,20000000.0,46955102.04081633,56475000.0,64816000.0,98416000.0,43866666.66666666,43866666.66666666,88119148.9361702,88119148.9361702,109032258.06451613,123670833.33333331,130372413.79310344,160454545.45454547,160454545.45454547,39545454.54545455,20000000.0,39545454.54545455,39545454.54545455,46955102.04081633,56475000.0,64816000.0,71477272.72727273,93037209.30232558,109032258.06451613,125940322.58064516,126136363.63636364,103259333.33333331,141841739.13043478,71477272.72727273,93037209.30232558,109032258.06451613,125940322.58064516,82254400.0,103259333.33333331,103259333.33333331,141841739.13043478,69644782.60869566,70372000.0,104114000.0,100591904.76190476,100591904.76190476,97429555.55555557,97429555.55555557,97429555.55555557,29000000.0,29000000.0,29000000.0,29000000.0,29000000.0,29000000.0,29000000.0,29000000.0,29000000.0,29000000.0,29000000.0,29000000.0,29000000.0,29000000.0,29000000.0,29000000.0,29000000.0,29000000.0,29000000.0,29000000.0,29000000.0,29000000.0,100591904.76190476,97429555.55555557,119216111.1111111,119216111.1111111,119216111.1111111,83948235.29411764,83948235.29411764,83948235.29411764,65152272.72727273,82254400.0,82254400.0,103259333.33333331,103259333.33333331,103259333.33333331,172888888.8888889,172888888.8888889,141841739.13043478,69644782.60869566,69644782.60869566,69644782.60869566,74985200.0,74985200.0,74985200.0,70372000.0,70372000.0,70372000.0,70372000.0,104114000.0,104114000.0,104114000.0,104114000.0,104114000.0,100591904.76190476,97429555.55555557,97429555.55555557,97429555.55555557,97429555.55555557,97429555.55555557,119216111.1111111,83948235.29411764,74315666.66666667,74315666.66666667,74315666.66666667,65152272.72727273,71173734.93975903,63230000.0,63230000.0,63230000.0,63230000.0,63230000.0,63230000.0,63230000.0,63230000.0,63230000.0,63230000.0,63230000.0,63230000.0,63230000.0,63230000.0,63230000.0,63230000.0,63230000.0,63230000.0,63230000.0,59000000.0,59000000.0,59000000.0,59000000.0,59000000.0,59000000.0,59000000.0,59000000.0,216285714.2857143,216285714.2857143,216285714.2857143,216285714.2857143,216285714.2857143,59000000.0,59000000.0,63230000.0,59000000.0,63230000.0,63230000.0,63230000.0,59000000.0,59000000.0,216285714.2857143,279200000.0,279200000.0,216285714.2857143,216285714.2857143,609500000.0,1160000000.0,1160000000.0,1160000000.0,1160000000.0,609500000.0,609500000.0,1160000000.0,1160000000.0,1160000000.0,1160000000.0,1160000000.0,1160000000.0,1160000000.0,1160000000.0,1160000000.0,1160000000.0,1160000000.0,279200000.0,63230000.0,63230000.0,63230000.0,63230000.0,59000000.0,59000000.0,59000000.0,59000000.0,216285714.2857143,216285714.2857143,216285714.2857143,216285714.2857143,279200000.0,279200000.0,279200000.0,609500000.0,609500000.0,609500000.0,69700000.0,100591904.76190476,64680000.00000001,69700000.0,2500000.0,54120095.23809524,305000000.0,305000000.0,20000000.0,20000000.0,20000000.0,20000000.0,20000000.0,20000000.0,20000000.0,20000000.0,20000000.0,20000000.0,20000000.0,20000000.0,20000000.0,20000000.0,20000000.0,20000000.0,20000000.0,39545454.54545455,46955102.04081633,56475000.0,20000000.0,20000000.0,20000000.0,20000000.0,20000000.0,20000000.0,20000000.0,20000000.0,20000000.0,20000000.0,20000000.0,20000000.0,305000000.0,20000000.0,20000000.0,20000000.0,20000000.0,39545454.54545455,39545454.54545455,20000000.0,20000000.0,20000000.0,20000000.0,20000000.0,20000000.0,39545454.54545455,46955102.04081633,56475000.0,46955102.04081633,46955102.04081633,46955102.04081633,56475000.0,100916000.0,98416000.0,20000000.0,20000000.0,20000000.0,20000000.0,56475000.0,39545454.54545455,39545454.54545455,100916000.0,109032258.06451613,4900000.0,63230000.0,63230000.0,59000000.0,63230000.0,63230000.0,63230000.0,63230000.0,63230000.0,63230000.0,59000000.0,63230000.0,63230000.0,63230000.0,63230000.0,63230000.0,63230000.0,63230000.0,63230000.0,63230000.0,59000000.0,59000000.0,59000000.0,216285714.2857143,216285714.2857143,216285714.2857143,216285714.2857143,216285714.2857143,216285714.2857143,59000000.0,59000000.0,59000000.0,59000000.0,59000000.0,59000000.0,59000000.0,59000000.0,59000000.0,216285714.2857143,216285714.2857143,216285714.2857143,216285714.2857143,216285714.2857143,216285714.2857143,216285714.2857143,216285714.2857143,216285714.2857143,216285714.2857143,216285714.2857143,216285714.2857143,216285714.2857143,216285714.2857143,279200000.0,279200000.0,279200000.0,279200000.0,279200000.0,279200000.0,279200000.0,279200000.0,279200000.0,279200000.0,279200000.0,279200000.0,279200000.0,279200000.0,279200000.0,279200000.0,279200000.0,279200000.0,279200000.0,279200000.0,279200000.0,279200000.0,279200000.0,609500000.0,609500000.0,609500000.0,609500000.0,609500000.0,609500000.0,609500000.0,609500000.0,609500000.0,609500000.0,609500000.0,609500000.0,279200000.0,279200000.0,279200000.0,279200000.0,279200000.0,279200000.0,609500000.0,43866666.66666666,609500000.0,609500000.0,609500000.0,609500000.0,609500000.0,609500000.0,609500000.0,609500000.0,609500000.0,609500000.0,609500000.0,609500000.0,609500000.0,609500000.0,609500000.0,609500000.0,609500000.0,609500000.0,609500000.0,1160000000.0,1160000000.0,1160000000.0,1160000000.0,1160000000.0,1160000000.0,1160000000.0,1160000000.0,1160000000.0,1160000000.0,1160000000.0,1160000000.0,1160000000.0,1160000000.0,1160000000.0,1160000000.0,1160000000.0,1160000000.0,1160000000.0,1160000000.0,1160000000.0,1160000000.0,1160000000.0,1160000000.0,1160000000.0,1160000000.0,1160000000.0,1160000000.0,1160000000.0,1160000000.0,1160000000.0,1160000000.0,1160000000.0,1160000000.0,1160000000.0,1160000000.0,1160000000.0,1160000000.0,1160000000.0,1160000000.0,1160000000.0,1160000000.0,1160000000.0,1160000000.0,1160000000.0,1160000000.0,1160000000.0,1160000000.0,1160000000.0,1160000000.0,1160000000.0,1160000000.0,1160000000.0,1160000000.0,1160000000.0,1160000000.0,1160000000.0,1160000000.0,1160000000.0,1160000000.0,1160000000.0,1160000000.0,1160000000.0,1160000000.0,1160000000.0,1160000000.0,1160000000.0,1160000000.0,1160000000.0,1160000000.0,1160000000.0,1160000000.0,1160000000.0,1160000000.0,1160000000.0,1160000000.0,1160000000.0,1160000000.0,1160000000.0,1160000000.0,1160000000.0,1160000000.0,1160000000.0,305000000.0,305000000.0,305000000.0,305000000.0,305000000.0,305000000.0,1160000000.0,1160000000.0,1160000000.0,1160000000.0,1160000000.0,1160000000.0,1160000000.0,305000000.0,305000000.0,305000000.0,305000000.0,305000000.0,305000000.0,305000000.0,305000000.0,305000000.0,20000000.0,20000000.0,20000000.0,20000000.0,20000000.0,20000000.0,305000000.0,305000000.0,305000000.0,305000000.0,305000000.0,305000000.0,305000000.0,305000000.0,305000000.0,305000000.0,305000000.0,305000000.0,305000000.0,305000000.0,305000000.0,305000000.0,305000000.0,20000000.0,20000000.0,20000000.0,20000000.0,20000000.0,20000000.0,20000000.0,20000000.0,20000000.0,20000000.0,20000000.0,20000000.0,20000000.0,20000000.0,20000000.0,20000000.0,20000000.0,20000000.0,20000000.0,20000000.0,20000000.0,20000000.0,20000000.0,20000000.0,20000000.0,20000000.0,20000000.0,20000000.0,20000000.0,20000000.0,20000000.0,20000000.0,20000000.0,20000000.0,20000000.0,20000000.0,20000000.0,20000000.0,20000000.0,20000000.0,20000000.0,20000000.0,20000000.0,20000000.0,20000000.0,20000000.0,20000000.0,20000000.0,20000000.0,20000000.0,20000000.0,20000000.0,20000000.0,20000000.0,20000000.0,20000000.0,20000000.0,20000000.0,63230000.0,63230000.0,63230000.0,63230000.0,63230000.0,63230000.0,63230000.0,63230000.0,63230000.0,63230000.0,57376708.07453416,63230000.0,63230000.0,63230000.0,63230000.0,63230000.0,63230000.0,59000000.0,59000000.0,59000000.0,216285714.2857143,216285714.2857143,216285714.2857143,216285714.2857143,63230000.0,63230000.0,63230000.0,20000000.0,20000000.0,305000000.0,1160000000.0,20000000.0,20000000.0,20000000.0,20000000.0,20000000.0,20000000.0,20000000.0,20000000.0,20000000.0,20000000.0,20000000.0,20000000.0,20000000.0,20000000.0,39545454.54545455,39545454.54545455,39545454.54545455,39545454.54545455,39545454.54545455,46955102.04081633,46955102.04081633,46955102.04081633,46955102.04081633,46955102.04081633,56475000.0,56475000.0,64816000.0,64816000.0,64816000.0,64816000.0,64816000.0,64816000.0,56475000.0,64816000.0,98416000.0,98416000.0,98416000.0,98416000.0,98416000.0,98416000.0,43866666.66666666,98416000.0,43866666.66666666,43866666.66666666,43866666.66666666,43866666.66666666,43866666.66666666,43866666.66666666,100916000.0,88119148.9361702,88119148.9361702,88119148.9361702,100916000.0,100916000.0,100916000.0,71477272.72727273,71477272.72727273,93037209.30232558,93037209.30232558,93037209.30232558,93037209.30232558,93037209.30232558,93037209.30232558,123670833.33333331,123670833.33333331,123670833.33333331,123670833.33333331,130372413.79310344,130372413.79310344,160454545.45454547,125940322.58064516,130372413.79310344,158834615.3846154,158834615.3846154,82254400.0,141841739.13043478,141841739.13043478,97429555.55555557,91519692.3076923,69644782.60869566,155858695.6521739,69644782.60869566,29150000.0,29150000.0,54120095.23809524,67000000.0,109032258.06451613,123670833.33333331,123670833.33333331,123670833.33333331,130372413.79310344,130372413.79310344,130372413.79310344,125940322.58064516,125940322.58064516,125940322.58064516,160454545.45454547,160454545.45454547,160454545.45454547,160454545.45454547,160454545.45454547,160454545.45454547,160454545.45454547,160454545.45454547,63230000.0,59000000.0,59000000.0,59000000.0,59000000.0,59000000.0,59000000.0,216285714.2857143,279200000.0,279200000.0,30800000.0,93037209.30232558,93037209.30232558,1160000000.0,1160000000.0,1160000000.0,1160000000.0,1160000000.0,1160000000.0,1160000000.0,1160000000.0,1160000000.0,305000000.0,305000000.0,305000000.0,20000000.0,20000000.0,20000000.0,20000000.0,20000000.0,20000000.0,20000000.0,20000000.0,20000000.0,20000000.0,20000000.0,20000000.0,20000000.0,20000000.0,20000000.0,20000000.0,20000000.0,20000000.0,20000000.0,155858695.6521739,155858695.6521739,20000000.0,1160000000.0,1160000000.0,1160000000.0,305000000.0,305000000.0,20000000.0,20000000.0,20000000.0,20000000.0,20000000.0,20000000.0,20000000.0,20000000.0,20000000.0,20000000.0,20000000.0,20000000.0,20000000.0,39545454.54545455,39545454.54545455,46955102.04081633,56475000.0,64816000.0,64816000.0,64816000.0,64816000.0,64816000.0,98416000.0,43866666.66666666,88119148.9361702,88119148.9361702,100916000.0,100916000.0,71477272.72727273,71477272.72727273,279200000.0,279200000.0,279200000.0,279200000.0,64680000.00000001,20140000.0,64680000.00000001,97429555.55555557,30800000.0,1160000000.0,50541007.75193799,30000000.0,25000000.0,25000000.0,20000000.0,17420000.0,17420000.0,17420000.0,65000000.0,57376708.07453416,1160000000.0,1160000000.0,1160000000.0,609500000.0,609500000.0,1160000000.0,1160000000.0,1160000000.0,1160000000.0,1160000000.0,1160000000.0,1160000000.0,305000000.0,1160000000.0,1160000000.0,1160000000.0,1160000000.0,305000000.0,305000000.0,305000000.0,305000000.0,305000000.0,305000000.0,305000000.0,20000000.0,20000000.0,20000000.0,20000000.0,20000000.0,20000000.0,1160000000.0,1160000000.0,305000000.0,20000000.0,20000000.0,20000000.0,20000000.0,20000000.0,56475000.0,98416000.0,160454545.45454547,155858695.6521739,216285714.2857143,216285714.2857143,609500000.0,609500000.0,1160000000.0,1160000000.0,1160000000.0,1160000000.0,12000000.0,65000000.0,216285714.2857143,1160000000.0,1160000000.0,1160000000.0,1160000000.0,20000000.0,20000000.0,20000000.0,100916000.0,65152272.72727273,71173734.93975903,63230000.0,1160000000.0,305000000.0,20000000.0,20000000.0,20000000.0,20000000.0,20000000.0,20000000.0,20000000.0,20000000.0,39545454.54545455,20000000.0,20000000.0,20000000.0,20000000.0,20000000.0,20000000.0,20000000.0,20000000.0,20000000.0,20000000.0,20000000.0,20000000.0,20000000.0,20000000.0,20000000.0,20000000.0,20000000.0,20000000.0,20000000.0,20000000.0,20000000.0,20000000.0,20000000.0,20000000.0,20000000.0,20000000.0,20000000.0,20000000.0,20000000.0,20000000.0,20000000.0,20000000.0,20000000.0,20000000.0,20000000.0,20000000.0,20000000.0,20000000.0,20000000.0,20000000.0,20000000.0,39545454.54545455,39545454.54545455,39545454.54545455,39545454.54545455,39545454.54545455,39545454.54545455,39545454.54545455,39545454.54545455,39545454.54545455,46955102.04081633,46955102.04081633,46955102.04081633,46955102.04081633,46955102.04081633,46955102.04081633,56475000.0,56475000.0,56475000.0,56475000.0,56475000.0,56475000.0,56475000.0,64816000.0,64816000.0,64816000.0,64816000.0,98416000.0,98416000.0,98416000.0,98416000.0,98416000.0,98416000.0,98416000.0,98416000.0,43866666.66666666,43866666.66666666,43866666.66666666,43866666.66666666,43866666.66666666,43866666.66666666,43866666.66666666,88119148.9361702,100916000.0,100916000.0,100916000.0,100916000.0,100916000.0,100916000.0,100916000.0,71477272.72727273,71477272.72727273,71477272.72727273,71477272.72727273,93037209.30232558,93037209.30232558,93037209.30232558,93037209.30232558,93037209.30232558,93037209.30232558,109032258.06451613,109032258.06451613,109032258.06451613,109032258.06451613,109032258.06451613,123670833.33333331,123670833.33333331,123670833.33333331,123670833.33333331,130372413.79310344,130372413.79310344,130372413.79310344,130372413.79310344,130372413.79310344,125940322.58064516,125940322.58064516,160454545.45454547,155858695.6521739,160454545.45454547,158834615.3846154,126136363.63636364,126136363.63636364,82254400.0,172888888.8888889,172888888.8888889,74985200.0,70372000.0,126136363.63636364,104114000.0,100591904.76190476,1160000000.0,1160000000.0,1160000000.0,7500000.0,1160000000.0,1160000000.0,1160000000.0,305000000.0,305000000.0,20000000.0,20000000.0,20000000.0,59000000.0,216285714.2857143,216285714.2857143,54120095.23809524,57376708.07453416,57376708.07453416,57376708.07453416,57376708.07453416,57376708.07453416,25000000.0,29150000.0,29750000.0,29750000.0,30800000.0,20000000.0,20000000.0,20000000.0,39545454.54545455,39545454.54545455,39545454.54545455,39545454.54545455,46955102.04081633,46955102.04081633,56475000.0,64816000.0,98416000.0,98416000.0,98416000.0,43866666.66666666,88119148.9361702,71477272.72727273,109032258.06451613,123670833.33333331,123670833.33333331,125940322.58064516,125940322.58064516,160454545.45454547,155858695.6521739,158834615.3846154,160454545.45454547,160454545.45454547,155858695.6521739,155858695.6521739,155858695.6521739,155858695.6521739,158834615.3846154,158834615.3846154,158834615.3846154,158834615.3846154,158834615.3846154,158834615.3846154,158834615.3846154,126136363.63636364,126136363.63636364,126136363.63636364,126136363.63636364,126136363.63636364,126136363.63636364,82254400.0,82254400.0,82254400.0,82254400.0,82254400.0,103259333.33333331,103259333.33333331,103259333.33333331,103259333.33333331,103259333.33333331,103259333.33333331,103259333.33333331,172888888.8888889,172888888.8888889,172888888.8888889,172888888.8888889,141841739.13043478,141841739.13043478,141841739.13043478,69644782.60869566,74985200.0,74985200.0,74985200.0,1160000000.0,20000000.0,20000000.0,20000000.0,20000000.0,98416000.0,20000000.0,279200000.0,20000000.0,20000000.0,56475000.0,64816000.0,64816000.0,98416000.0,20000000.0,20000000.0,20000000.0,20000000.0,20000000.0,20000000.0,39545454.54545455,20000000.0,20000000.0,20000000.0,20000000.0,39545454.54545455,46955102.04081633,56475000.0,56475000.0,64816000.0,43866666.66666666,88119148.9361702,100916000.0,100916000.0,93037209.30232558,109032258.06451613,109032258.06451613,130372413.79310344,125940322.58064516,125940322.58064516,160454545.45454547,56475000.0,56475000.0,64816000.0,43866666.66666666,88119148.9361702,130372413.79310344,130372413.79310344,74985200.0,1160000000.0,1160000000.0,1160000000.0,1160000000.0,305000000.0,305000000.0,305000000.0,20000000.0,20000000.0,20000000.0,20000000.0,20000000.0,20000000.0,20000000.0,20000000.0,20000000.0,20000000.0,20000000.0,20000000.0,20000000.0,20000000.0,20000000.0,20000000.0,20000000.0,20000000.0,20000000.0,39545454.54545455,46955102.04081633,46955102.04081633,71477272.72727273,136600000.0,136600000.0,136600000.0,93037209.30232558,93037209.30232558,109032258.06451613,109032258.06451613,136600000.0,123670833.33333331,130372413.79310344,125940322.58064516,125940322.58064516,125940322.58064516,125940322.58064516,160454545.45454547,160454545.45454547,160454545.45454547,160454545.45454547,155858695.6521739,155858695.6521739,155858695.6521739,155858695.6521739,158834615.3846154,158834615.3846154,158834615.3846154,158834615.3846154,126136363.63636364,126136363.63636364,82254400.0,82254400.0,82254400.0,103259333.33333331,103259333.33333331,172888888.8888889,172888888.8888889,172888888.8888889,141841739.13043478,69644782.60869566,69644782.60869566,74985200.0,70372000.0,70372000.0,7500000.0,216285714.2857143,216285714.2857143,279200000.0,279200000.0,279200000.0,279200000.0,279200000.0,609500000.0,609500000.0,609500000.0,609500000.0,609500000.0,1160000000.0,1160000000.0,1160000000.0,1160000000.0,305000000.0,305000000.0,305000000.0,305000000.0,20000000.0,20000000.0,20000000.0,20000000.0,20000000.0,20000000.0,20000000.0,20000000.0,20000000.0,20000000.0,20000000.0,20000000.0,20000000.0,20000000.0,20000000.0,64680000.00000001,28300000.0,29750000.0,64680000.00000001,64680000.00000001,29750000.0,64680000.00000001,29150000.0,29150000.0,54120095.23809524,5300000.0,5300000.0,5800000.0,67000000.0,67000000.0,50541007.75193799,29750000.0,64680000.00000001,140000000.0,67000000.0,67000000.0,67000000.0,67000000.0,67000000.0,29750000.0,64680000.00000001,29150000.0,29750000.0,54120095.23809524,20000000.0,20000000.0,20000000.0,20000000.0,20000000.0,20000000.0,20000000.0,20000000.0,20000000.0,20000000.0,20000000.0,20000000.0,20000000.0,20000000.0,20000000.0,20000000.0,20000000.0,59000000.0,20000000.0,20000000.0,20000000.0,20000000.0,20000000.0,20000000.0,20000000.0,20000000.0,20000000.0,20000000.0,20000000.0,20000000.0,20000000.0,20000000.0,20000000.0,20000000.0,20000000.0,20000000.0,20000000.0,20000000.0,20000000.0,20000000.0,20000000.0,20000000.0,20000000.0,20000000.0,20000000.0,20000000.0,20000000.0,20000000.0,20000000.0,20000000.0,20000000.0,20000000.0,20000000.0,20000000.0,20000000.0,20000000.0,20000000.0,20000000.0,20000000.0,20000000.0,20000000.0,20000000.0,20000000.0,20000000.0,450000000.0,158834615.3846154,20000000.0,20000000.0,20000000.0,20000000.0,20000000.0,20000000.0,20000000.0,20000000.0,20000000.0,20000000.0,20000000.0,20000000.0,20000000.0,20000000.0,20000000.0,20000000.0,20000000.0,20000000.0,20000000.0,20000000.0,20000000.0,20000000.0,20000000.0,20000000.0,20000000.0,20000000.0,20000000.0,20000000.0,20000000.0,20000000.0,20000000.0,20000000.0,20000000.0,20000000.0,20000000.0,20000000.0,20000000.0,20000000.0,20000000.0,20000000.0,20000000.0,20000000.0,20000000.0,20000000.0,20000000.0,20000000.0,20000000.0,20000000.0,20000000.0,20000000.0,31000000.0,29750000.0,64680000.00000001,69700000.0,20140000.0,30800000.0,119216111.1111111,30800000.0,29750000.0,64680000.00000001,20140000.0,64680000.00000001,20140000.0,5800000.0,5800000.0,100000000.0,20000000.0,20000000.0,20000000.0,20000000.0,20000000.0,39545454.54545455,39545454.54545455,39545454.54545455,39545454.54545455,39545454.54545455,39545454.54545455,39545454.54545455,46955102.04081633,46955102.04081633,46955102.04081633,46955102.04081633,46955102.04081633,46955102.04081633,46955102.04081633,46955102.04081633,46955102.04081633,46955102.04081633,56475000.0,56475000.0,56475000.0,19000000.0,29750000.0,20000000.0,20000000.0,20000000.0,20000000.0,20000000.0,20000000.0,20000000.0,20000000.0,20000000.0,20000000.0,20000000.0,20000000.0,20000000.0,20000000.0,20000000.0,20000000.0,20000000.0,20000000.0,20000000.0,40000000.0,20000000.0,20000000.0,20000000.0,20000000.0,20000000.0,20000000.0,20000000.0,20000000.0,20000000.0,20000000.0,20000000.0,20000000.0,5300000.0,40000000.0,40000000.0,40000000.0,40000000.0,40000000.0,40000000.0,40000000.0,40000000.0,40000000.0,40000000.0,40000000.0,40000000.0,40000000.0,40000000.0,40000000.0,40000000.0,40000000.0,40000000.0,40000000.0,40000000.0,40000000.0,40000000.0,40000000.0,40000000.0,40000000.0,40000000.0,40000000.0,40000000.0,40000000.0,40000000.0,40000000.0,40000000.0,40000000.0,40000000.0,40000000.0,40000000.0,20000000.0,20000000.0,20000000.0,20000000.0,20000000.0,20000000.0,20000000.0,20000000.0,20000000.0,20000000.0,20000000.0,20000000.0,20000000.0,20000000.0,20000000.0,20000000.0,20000000.0,20000000.0,20000000.0,20000000.0,20000000.0,20000000.0,20000000.0,20000000.0,20000000.0,20000000.0,20000000.0,20000000.0,200000000.0,67000000.0,67000000.0,7500000.0,54120095.23809524,30800000.0,64680000.00000001,20000000.0,20000000.0,20000000.0,20000000.0,20000000.0,20000000.0,20000000.0,20000000.0,20000000.0,20000000.0,20000000.0,20000000.0,20000000.0,20000000.0,20000000.0,20000000.0,20000000.0,20000000.0,20000000.0,20000000.0,20000000.0,20000000.0,20000000.0,20000000.0,20000000.0,20000000.0,20000000.0,20000000.0,20000000.0,20000000.0,20000000.0,20000000.0,20000000.0,20000000.0,20000000.0,20000000.0,20000000.0,20000000.0,20000000.0,20000000.0,20000000.0,20000000.0,20000000.0,20000000.0,29150000.0,67000000.0,90000000.0,279200000.0,279200000.0,63230000.0,59000000.0,59000000.0,59000000.0,64680000.00000001,172888888.8888889,50541007.75193799,56475000.0,56475000.0,56475000.0,56475000.0,56475000.0,56475000.0,56475000.0,56475000.0,56475000.0,64816000.0,64816000.0,64816000.0,103259333.33333331,29750000.0,103259333.33333331,69700000.0,64816000.0,64680000.00000001,103259333.33333331,103259333.33333331,29750000.0,103259333.33333331,29150000.0,103259333.33333331,29750000.0,103259333.33333331,20140000.0,20000000.0,20000000.0,20000000.0,20000000.0,20000000.0,103259333.33333331,20000000.0,20000000.0,20000000.0,20000000.0,20000000.0,20000000.0,20000000.0,20000000.0,20000000.0,20000000.0,20000000.0,20000000.0,20000000.0,20000000.0,20000000.0,20000000.0,20000000.0,20000000.0,20000000.0,20000000.0,20000000.0,20000000.0,20000000.0,20000000.0,64680000.00000001,20000000.0,20000000.0,20000000.0,103259333.33333331,20140000.0,64680000.00000001,20000000.0,20000000.0,20000000.0,103259333.33333331,69700000.0,69700000.0,103259333.33333331,20000000.0,103259333.33333331,20000000.0,103259333.33333331,103259333.33333331,64816000.0,64816000.0,20000000.0,64816000.0,20000000.0,20000000.0,64816000.0,20000000.0,64816000.0,64816000.0,64816000.0,64816000.0,64816000.0,98416000.0,65000000.0,172888888.8888889,172888888.8888889,172888888.8888889,172888888.8888889,172888888.8888889,50541007.75193799,98416000.0,7500000.0,98416000.0,98416000.0,98416000.0,98416000.0,98416000.0,98416000.0,98416000.0,98416000.0,43866666.66666666,141841739.13043478,141841739.13043478,43866666.66666666,141841739.13043478,141841739.13043478,141841739.13043478,141841739.13043478,141841739.13043478,141841739.13043478,65000000.0,43866666.66666666,69644782.60869566,69644782.60869566,69644782.60869566,69644782.60869566,69644782.60869566,43866666.66666666,65000000.0,74985200.0,65000000.0,74985200.0,65000000.0,65000000.0,74985200.0,74985200.0,109032258.06451613,43866666.66666666,43866666.66666666,43866666.66666666,43866666.66666666,65152272.72727273,71173734.93975903,2500000.0,65000000.0,29150000.0,25000000.0,43866666.66666666,88119148.9361702,88119148.9361702,88119148.9361702,88119148.9361702,54120095.23809524,88119148.9361702,88119148.9361702,88119148.9361702,88119148.9361702,88119148.9361702,17420000.0,20000000.0,20000000.0,20000000.0,172888888.8888889,20000000.0,20000000.0,172888888.8888889,20000000.0,20000000.0,141841739.13043478,20000000.0,20000000.0,20000000.0,20000000.0,20000000.0,67000000.0,67000000.0,67000000.0,67000000.0,67000000.0,67000000.0,67000000.0,67000000.0,67000000.0,67000000.0,67000000.0,67000000.0,50541007.75193799,20000000.0,20000000.0,20000000.0,20000000.0,20000000.0,20000000.0,20000000.0,20000000.0,20000000.0,20000000.0,20000000.0,20000000.0,20000000.0,20000000.0,20000000.0,20000000.0,20000000.0,20000000.0,20000000.0,20000000.0,20000000.0,20000000.0,20000000.0,20000000.0,20000000.0,20000000.0,20000000.0,20000000.0,20000000.0,20000000.0,20000000.0,20000000.0,20000000.0,20000000.0,20000000.0,20000000.0,20000000.0,20000000.0,20000000.0,20000000.0,20000000.0,20000000.0,17420000.0,20000000.0,17420000.0,20000000.0,20000000.0,17420000.0,69700000.0,29150000.0,30800000.0,20140000.0,69700000.0,30800000.0,29150000.0,64680000.00000001,30800000.0,20000000.0,20000000.0,29150000.0,20000000.0,20000000.0,20000000.0,20000000.0,20000000.0,20000000.0,20000000.0,20000000.0,20000000.0,20000000.0,20000000.0,20000000.0,29150000.0,20000000.0,20000000.0,20000000.0,64680000.00000001,29750000.0,30800000.0,69700000.0,20000000.0,29150000.0,64680000.00000001,64680000.00000001,69700000.0,20140000.0,29150000.0,29150000.0,29150000.0,29750000.0,64680000.00000001,29150000.0,64680000.00000001,20140000.0,29750000.0,30800000.0,20140000.0,30800000.0,64680000.00000001,29150000.0,29750000.0,20000000.0,20000000.0,20000000.0,20000000.0,20000000.0,20000000.0,20000000.0,20000000.0,20000000.0,20000000.0,20000000.0,20000000.0,20000000.0,20000000.0,20000000.0,20000000.0,20000000.0,20000000.0,20000000.0,20000000.0,20000000.0,20000000.0,20000000.0,20000000.0,20000000.0,20000000.0,20000000.0,20000000.0,20000000.0,20000000.0,20000000.0,20000000.0,20000000.0,20000000.0,20000000.0,20000000.0,20000000.0,20000000.0,20000000.0,20000000.0,20000000.0,20000000.0,20000000.0,20000000.0,20000000.0,20000000.0,20000000.0,20000000.0,20000000.0,20000000.0,20000000.0,20000000.0,20000000.0,20000000.0,20000000.0,20000000.0,20000000.0,20000000.0,20000000.0,20000000.0,20000000.0,20000000.0,20000000.0,20000000.0,20000000.0,20000000.0,20000000.0,20000000.0,20000000.0,20000000.0,20000000.0,20000000.0,20000000.0,20000000.0,20000000.0,20000000.0,20000000.0,20000000.0,20000000.0,20000000.0,20000000.0,20000000.0,20000000.0,20000000.0,20000000.0,20000000.0,20000000.0,20000000.0,20000000.0,20000000.0,20000000.0,20000000.0,20000000.0,20000000.0,20000000.0,20000000.0,20000000.0,20000000.0,20000000.0,20000000.0,20000000.0,20000000.0,20000000.0,20000000.0,20000000.0,20000000.0,20000000.0,20000000.0,20000000.0,20000000.0,20000000.0,20000000.0,20000000.0,20000000.0,20000000.0,20000000.0,20000000.0,20000000.0,20000000.0,20000000.0,20000000.0,20000000.0,20000000.0,20000000.0,20000000.0,20000000.0,20000000.0,20000000.0,20000000.0,20000000.0,20000000.0,20000000.0,20000000.0,20000000.0,20000000.0,20000000.0,20000000.0,20000000.0,29750000.0,29150000.0,30800000.0,64680000.00000001,64680000.00000001,64680000.00000001,64680000.00000001,30800000.0,64680000.00000001,29750000.0,29150000.0,64680000.00000001,29150000.0,30800000.0,64680000.00000001,64680000.00000001,29750000.0,64680000.00000001,30800000.0,64680000.00000001,20000000.0,30800000.0,30800000.0,29750000.0,64680000.00000001,64680000.00000001,64680000.00000001,69700000.0,63230000.0,63230000.0,63230000.0,63230000.0,63230000.0,63230000.0,63230000.0,63230000.0,63230000.0,63230000.0,63230000.0,63230000.0,63230000.0,63230000.0,63230000.0,63230000.0,63230000.0,63230000.0,63230000.0,63230000.0,63230000.0,63230000.0,63230000.0,63230000.0,63230000.0,63230000.0,63230000.0,63230000.0,63230000.0,63230000.0,63230000.0,64680000.00000001,57376708.07453416,57376708.07453416,50541007.75193799,50541007.75193799,39000000.0,57376708.07453416,85000000.0,85000000.0,29150000.0,7500000.0,63230000.0,305000000.0,63230000.0,59000000.0,59000000.0,59000000.0,59000000.0,216285714.2857143,216285714.2857143,216285714.2857143,279200000.0,1160000000.0,216285714.2857143,20000000.0,20000000.0,1160000000.0,1160000000.0,1160000000.0,20000000.0,70372000.0,65000000.0,70372000.0,65000000.0,70372000.0,65000000.0,65000000.0,104114000.0,65000000.0,65000000.0,1160000000.0,1160000000.0,1160000000.0,20000000.0,20000000.0,20000000.0,20000000.0,20000000.0,20000000.0,20000000.0,20000000.0,20000000.0,63230000.0,59000000.0,59000000.0,59000000.0,59000000.0,216285714.2857143,216285714.2857143,216285714.2857143,279200000.0,279200000.0,279200000.0,279200000.0,609500000.0,609500000.0,1160000000.0,1160000000.0,20000000.0,39545454.54545455,56475000.0,64816000.0,98416000.0,100916000.0,88119148.9361702,100916000.0,98416000.0,43866666.66666666,100916000.0,93037209.30232558,109032258.06451613,123670833.33333331,123670833.33333331,130372413.79310344,125940322.58064516,20000000.0,5800000.0,67000000.0,50541007.75193799,50541007.75193799,50541007.75193799,20000000.0,20000000.0,20000000.0,20000000.0,20000000.0,20000000.0,20000000.0,20000000.0,20000000.0,20000000.0,20000000.0,20000000.0,20000000.0,20000000.0,20000000.0,20000000.0,20000000.0,20000000.0,20000000.0,20000000.0,20000000.0,20000000.0,20000000.0,20000000.0,20000000.0,20000000.0,20000000.0,20000000.0,20000000.0,20000000.0,20000000.0,20000000.0,20000000.0,20000000.0,20000000.0,20000000.0,67000000.0,20000000.0,20000000.0,20000000.0,20000000.0,20000000.0,20000000.0,20000000.0,20000000.0,20000000.0,20000000.0,20000000.0,20000000.0,20000000.0,20000000.0,20000000.0,20000000.0,20000000.0,20000000.0,20000000.0,20000000.0,20000000.0,20000000.0,20000000.0,20000000.0,20000000.0,20000000.0,20000000.0,20000000.0,20000000.0,20000000.0,20000000.0,20000000.0,20000000.0,20000000.0,20000000.0,20000000.0,20000000.0,20000000.0,20000000.0,20000000.0,20000000.0,20000000.0,20000000.0,20000000.0,20000000.0,20000000.0,20000000.0,20000000.0,20000000.0,20000000.0,20000000.0,20000000.0,20000000.0,20000000.0,20000000.0,20000000.0,20000000.0,20000000.0,20000000.0,20000000.0,20000000.0,20000000.0,20000000.0,20000000.0,20000000.0,20000000.0,20000000.0,20000000.0,20000000.0,20000000.0,20000000.0,20000000.0,20000000.0,20000000.0,20000000.0,20000000.0,20000000.0,20000000.0,20000000.0,20000000.0,20000000.0,20000000.0,20000000.0,20000000.0,20000000.0,20000000.0,20000000.0,20000000.0,20000000.0,20000000.0,20000000.0,20000000.0,20000000.0,20000000.0,20000000.0,20000000.0,20000000.0,20000000.0,20000000.0,20000000.0,20000000.0,20000000.0,20000000.0,20000000.0,20000000.0,20000000.0,20000000.0,20000000.0,20000000.0,20000000.0,20000000.0,20000000.0,20000000.0,20000000.0,20000000.0,20000000.0,20000000.0,20000000.0,20000000.0,20000000.0,20000000.0,20000000.0,20000000.0,20000000.0,20000000.0,20000000.0,20000000.0,20000000.0,20000000.0,20000000.0,20000000.0,20000000.0,20000000.0,20000000.0,20000000.0,20000000.0,20000000.0,20000000.0,20000000.0,20000000.0,20000000.0,20000000.0,20000000.0,20000000.0,20000000.0,20000000.0,20000000.0,20000000.0,20000000.0,20000000.0,20000000.0,20000000.0,20000000.0,20000000.0,20000000.0,20000000.0,20000000.0,20000000.0,20000000.0,20000000.0,20000000.0,20000000.0,20000000.0,20000000.0,20000000.0,20000000.0,20000000.0,20000000.0,20000000.0,20000000.0,20000000.0,20000000.0,20000000.0,20000000.0,20000000.0,20000000.0,20000000.0,20000000.0,20000000.0,20000000.0,20000000.0,20000000.0,20000000.0,20000000.0,20000000.0,20000000.0,20000000.0,20000000.0,20000000.0,20000000.0,20000000.0,20000000.0,20000000.0,20000000.0,20000000.0,20000000.0,20000000.0,20000000.0,20000000.0,20000000.0,20000000.0,20000000.0,20000000.0,20000000.0,20000000.0,20000000.0,20000000.0,20000000.0,20000000.0,20000000.0,20000000.0,20000000.0,20000000.0,20000000.0,20000000.0,20000000.0,20000000.0,20000000.0,20000000.0,20000000.0,20000000.0,20000000.0,20000000.0,20000000.0,20000000.0,20000000.0,20000000.0,20000000.0,20000000.0,20000000.0,20000000.0,20000000.0,20000000.0,20000000.0,28000000.0,28000000.0,28000000.0,28000000.0,28000000.0,28000000.0,20000000.0,20000000.0,20000000.0,20000000.0,28000000.0,28000000.0,28000000.0,28000000.0,20000000.0,20000000.0,20000000.0,20000000.0,20000000.0,20000000.0,20000000.0,20000000.0,20000000.0,20000000.0,20000000.0,20000000.0,20000000.0,20000000.0,20000000.0,20000000.0,20000000.0,20000000.0,20000000.0,20000000.0,20000000.0,20000000.0,17420000.0,17420000.0,23000000.0,23000000.0,23000000.0,23000000.0,23000000.0,23000000.0,17420000.0,17420000.0,17420000.0,23000000.0,23000000.0,23000000.0,23000000.0,23000000.0,23000000.0,20000000.0,20000000.0,25000000.0,25000000.0,20000000.0,20000000.0,25000000.0,25000000.0,25000000.0,25000000.0,25000000.0,25000000.0,25000000.0,25000000.0,25000000.0,20000000.0,20000000.0,25000000.0,40000000.0,40000000.0,40000000.0,40000000.0,40000000.0,40000000.0,40000000.0,64680000.00000001,2500000.0,64680000.00000001,20000000.0,64713815.78947368,64680000.00000001,64680000.00000001,29150000.0,29750000.0,29150000.0,29750000.0,29150000.0,29750000.0,29150000.0,29150000.0,29150000.0,29750000.0,29150000.0,64680000.00000001,64680000.00000001,50541007.75193799,40000000.0,25000000.0,64680000.00000001,63230000.0,97429555.55555557,70372000.0,100591904.76190476,70372000.0,69644782.60869566,70372000.0,100591904.76190476,100591904.76190476,74315666.66666667,64713815.78947368,64713815.78947368,64713815.78947368,64713815.78947368,71173734.93975903,71173734.93975903,71173734.93975903,71173734.93975903,65152272.72727273,65152272.72727273,65152272.72727273,65152272.72727273,74315666.66666667,74315666.66666667,74315666.66666667,74315666.66666667,83948235.29411764,83948235.29411764,83948235.29411764,83948235.29411764,91519692.3076923,91519692.3076923,91519692.3076923,119216111.1111111,119216111.1111111,119216111.1111111,119216111.1111111,97429555.55555557,97429555.55555557,100591904.76190476,100591904.76190476,104114000.0,104114000.0,70372000.0,70372000.0,74985200.0,74985200.0,69644782.60869566,69644782.60869566,141841739.13043478,40000000.0,40000000.0,40000000.0,40000000.0,40000000.0,40000000.0,40000000.0,40000000.0,40000000.0,40000000.0,40000000.0,40000000.0,40000000.0,40000000.0,40000000.0,40000000.0,40000000.0,40000000.0,40000000.0,40000000.0,40000000.0,40000000.0,40000000.0,40000000.0,40000000.0,63230000.0,63230000.0,63230000.0,63230000.0,63230000.0,63230000.0,63230000.0,63230000.0,63230000.0,63230000.0,63230000.0,63230000.0,63230000.0,63230000.0,63230000.0,63230000.0,63230000.0,63230000.0,63230000.0,63230000.0,63230000.0,63230000.0,63230000.0,59000000.0,59000000.0,59000000.0,59000000.0,59000000.0,59000000.0,59000000.0,59000000.0,59000000.0,59000000.0,59000000.0,59000000.0,59000000.0,59000000.0,59000000.0,59000000.0,216285714.2857143,216285714.2857143,216285714.2857143,216285714.2857143,216285714.2857143,216285714.2857143,216285714.2857143,216285714.2857143,216285714.2857143,216285714.2857143,216285714.2857143,216285714.2857143,216285714.2857143,216285714.2857143,216285714.2857143,216285714.2857143,279200000.0,279200000.0,279200000.0,279200000.0,279200000.0,279200000.0,279200000.0,279200000.0,279200000.0,279200000.0,279200000.0,279200000.0,279200000.0,609500000.0,609500000.0,609500000.0,609500000.0,609500000.0,609500000.0,609500000.0,609500000.0,609500000.0,609500000.0,609500000.0,1160000000.0,1160000000.0,1160000000.0,1160000000.0,1160000000.0,1160000000.0,1160000000.0,1160000000.0,1160000000.0,1160000000.0,1160000000.0,1160000000.0,1160000000.0,1160000000.0,1160000000.0,1160000000.0,1160000000.0,1160000000.0,1160000000.0,1160000000.0,1160000000.0,1160000000.0,305000000.0,20000000.0,20000000.0,20000000.0,20000000.0,20000000.0,20000000.0,20000000.0,20000000.0,20000000.0,65000000.0,65000000.0,65000000.0,65000000.0,65000000.0,65000000.0,65000000.0,65000000.0,65000000.0,65000000.0,65000000.0,65000000.0,65000000.0,65000000.0,65000000.0,65000000.0,65000000.0,65000000.0,65000000.0,65000000.0,65000000.0,65000000.0,65000000.0,65000000.0,65000000.0,65000000.0,65000000.0,65000000.0,65000000.0,65000000.0,65000000.0,65000000.0,65000000.0,65000000.0,65000000.0,65000000.0,65000000.0,65000000.0,65000000.0,65000000.0,65000000.0,65000000.0,65000000.0,65000000.0,65000000.0,65000000.0,65000000.0,65000000.0,65000000.0,65000000.0,65000000.0,65000000.0,65000000.0,65000000.0,65000000.0,65000000.0,65000000.0,65000000.0,65000000.0,65000000.0,65000000.0,65000000.0,65000000.0,65000000.0,65000000.0,65000000.0,65000000.0,65000000.0,65000000.0,65000000.0,65000000.0,65000000.0,65000000.0,65000000.0,65000000.0,65000000.0,65000000.0,65000000.0,65000000.0,65000000.0,65000000.0,63230000.0,63230000.0,63230000.0,63230000.0,63230000.0,63230000.0,63230000.0,63230000.0,63230000.0,59000000.0,59000000.0,59000000.0,59000000.0,59000000.0,59000000.0,59000000.0,59000000.0,216285714.2857143,216285714.2857143,216285714.2857143,216285714.2857143,216285714.2857143,216285714.2857143,216285714.2857143,216285714.2857143,216285714.2857143,216285714.2857143,216285714.2857143,216285714.2857143,279200000.0,279200000.0,279200000.0,279200000.0,279200000.0,279200000.0,279200000.0,279200000.0,609500000.0,609500000.0,609500000.0,609500000.0,609500000.0,609500000.0,609500000.0,609500000.0,609500000.0,609500000.0,609500000.0,1160000000.0,1160000000.0,1160000000.0,1160000000.0,1160000000.0,1160000000.0,1160000000.0,1160000000.0,1160000000.0,1160000000.0,1160000000.0,1160000000.0,1160000000.0,1160000000.0,1160000000.0,1160000000.0,1160000000.0,1160000000.0,1160000000.0,305000000.0,305000000.0,305000000.0,305000000.0,305000000.0,305000000.0,20000000.0,20000000.0,20000000.0,20000000.0,20000000.0,20000000.0,20000000.0,20000000.0,20000000.0,20000000.0,20000000.0,20000000.0,20000000.0,20000000.0,20000000.0,20000000.0,20000000.0,20000000.0,20000000.0,20000000.0,20000000.0,20000000.0,20000000.0,20000000.0,20000000.0,20000000.0,20000000.0,20000000.0,20000000.0,20000000.0,20000000.0,20000000.0,20000000.0,20000000.0,20000000.0,20000000.0,20000000.0,20000000.0,20000000.0,20000000.0,20000000.0,20000000.0,20000000.0,20000000.0,20000000.0,20000000.0,20000000.0,20000000.0,20000000.0,20000000.0,20000000.0,20000000.0,20000000.0,20000000.0,39545454.54545455,39545454.54545455,39545454.54545455,39545454.54545455,39545454.54545455,46955102.04081633,46955102.04081633,46955102.04081633,46955102.04081633,46955102.04081633,46955102.04081633,46955102.04081633,56475000.0,56475000.0,56475000.0,56475000.0,56475000.0,56475000.0,56475000.0,56475000.0,43866666.66666666,43866666.66666666,88119148.9361702,88119148.9361702,100916000.0,71477272.72727273,71477272.72727273,305000000.0,305000000.0,305000000.0,305000000.0,305000000.0,305000000.0,20000000.0,20000000.0,20000000.0,20000000.0,20000000.0,20000000.0,20000000.0,20000000.0,20000000.0,20000000.0,20000000.0,20000000.0,20000000.0,20000000.0,20000000.0,20000000.0,20000000.0,20000000.0,20000000.0,20000000.0,20000000.0,20000000.0,20000000.0,20000000.0,20000000.0,20000000.0,20000000.0,20000000.0,20000000.0,20000000.0,20000000.0,20000000.0,20000000.0,88119148.9361702,88119148.9361702,88119148.9361702,88119148.9361702,100916000.0,100916000.0,100916000.0,100916000.0,100916000.0,100916000.0,100916000.0,100916000.0,100916000.0,100916000.0,100916000.0,100916000.0,100916000.0,71477272.72727273,71477272.72727273,71477272.72727273,71477272.72727273,71477272.72727273,71477272.72727273,71477272.72727273,71477272.72727273,71477272.72727273,71477272.72727273,71477272.72727273,93037209.30232558,93037209.30232558,93037209.30232558,93037209.30232558,93037209.30232558,93037209.30232558,93037209.30232558,93037209.30232558,93037209.30232558,93037209.30232558,93037209.30232558,109032258.06451613,109032258.06451613,109032258.06451613,109032258.06451613,109032258.06451613,109032258.06451613,109032258.06451613,109032258.06451613,123670833.33333331,123670833.33333331,123670833.33333331,123670833.33333331,123670833.33333331,123670833.33333331,123670833.33333331,123670833.33333331,130372413.79310344,130372413.79310344,130372413.79310344,130372413.79310344,130372413.79310344,130372413.79310344,125940322.58064516,125940322.58064516,125940322.58064516,125940322.58064516,125940322.58064516,125940322.58064516,125940322.58064516,125940322.58064516,125940322.58064516,125940322.58064516,125940322.58064516,125940322.58064516,125940322.58064516,160454545.45454547,160454545.45454547,160454545.45454547,160454545.45454547,160454545.45454547,160454545.45454547,160454545.45454547,155858695.6521739,155858695.6521739,155858695.6521739,155858695.6521739,155858695.6521739,155858695.6521739,155858695.6521739,155858695.6521739,158834615.3846154,158834615.3846154,158834615.3846154,158834615.3846154,158834615.3846154,158834615.3846154,158834615.3846154,158834615.3846154,126136363.63636364,126136363.63636364,126136363.63636364,126136363.63636364,126136363.63636364,126136363.63636364,126136363.63636364,82254400.0,82254400.0,82254400.0,82254400.0,82254400.0,82254400.0,82254400.0,82254400.0,82254400.0,104114000.0,100591904.76190476,97429555.55555557,119216111.1111111,74315666.66666667,609500000.0,40000000.0,64816000.0,64816000.0,64816000.0,64816000.0,71477272.72727273,1160000000.0,20000000.0,93037209.30232558,67000000.0,50541007.75193799,64680000.00000001,7500000.0,50541007.75193799,64680000.00000001,30800000.0,64680000.00000001,85000000.0,50541007.75193799,30800000.0,30800000.0,123000000.0,64680000.00000001,67000000.0,67000000.0,67000000.0,67000000.0,67000000.0,67000000.0,29750000.0,67000000.0,7500000.0,7500000.0,29750000.0,30800000.0,20000000.0,50541007.75193799,19000000.0,50541007.75193799,90000000.0,2500000.0,50541007.75193799,50541007.75193799,19000000.0,7500000.0,29150000.0,29150000.0,64680000.00000001,64680000.00000001,30800000.0,29750000.0,29150000.0,50541007.75193799,12000000.0,7500000.0,2500000.0,57376708.07453416,29150000.0,19000000.0,29750000.0,50541007.75193799,29150000.0,57376708.07453416,64680000.00000001,64680000.00000001,50541007.75193799,15000000.0,4900000.0,64680000.00000001,2500000.0,29150000.0,4900000.0,5800000.0,57376708.07453416,64680000.00000001,29150000.0,29750000.0,50541007.75193799,64680000.00000001,29750000.0,7500000.0,30800000.0,64680000.00000001,64680000.00000001,2500000.0,7500000.0,57376708.07453416,57376708.07453416,64680000.00000001,23000000.0,74985200.0,74985200.0,74985200.0,67000000.0,5300000.0,67000000.0,64680000.00000001,67000000.0,67000000.0,20000000.0,7500000.0,29150000.0,5300000.0,67000000.0,67000000.0,30800000.0,29750000.0,57376708.07453416,30800000.0,67000000.0,67000000.0,67000000.0,67000000.0,67000000.0,67000000.0,30800000.0,67000000.0,67000000.0,67000000.0,29750000.0,5800000.0,21000000.0,64680000.00000001,67000000.0,29150000.0,30800000.0,67000000.0,29750000.0,62000000.0,57376708.07453416,57376708.07453416,64680000.00000001,57376708.07453416,67000000.0,25000000.0,19000000.0,57376708.07453416,67000000.0,7500000.0,29750000.0,5800000.0,29750000.0,67000000.0,67000000.0,57376708.07453416,64680000.00000001,67000000.0,5800000.0,29750000.0,67000000.0,67000000.0,67000000.0,67000000.0,7500000.0,29750000.0,29750000.0,5800000.0,19000000.0,57376708.07453416,29750000.0,30800000.0,57376708.07453416,67000000.0,29750000.0,7500000.0,29150000.0,67000000.0,57376708.07453416,64680000.00000001,4900000.0,29750000.0,5300000.0,20000000.0,67000000.0,29750000.0,64680000.00000001,29750000.0,64680000.00000001,29150000.0],\"xaxis\":\"x\",\"yaxis\":\"y\",\"type\":\"histogram\"}],                        {\"template\":{\"data\":{\"histogram2dcontour\":[{\"type\":\"histogram2dcontour\",\"colorbar\":{\"outlinewidth\":0,\"ticks\":\"\"},\"colorscale\":[[0.0,\"#0d0887\"],[0.1111111111111111,\"#46039f\"],[0.2222222222222222,\"#7201a8\"],[0.3333333333333333,\"#9c179e\"],[0.4444444444444444,\"#bd3786\"],[0.5555555555555556,\"#d8576b\"],[0.6666666666666666,\"#ed7953\"],[0.7777777777777778,\"#fb9f3a\"],[0.8888888888888888,\"#fdca26\"],[1.0,\"#f0f921\"]]}],\"choropleth\":[{\"type\":\"choropleth\",\"colorbar\":{\"outlinewidth\":0,\"ticks\":\"\"}}],\"histogram2d\":[{\"type\":\"histogram2d\",\"colorbar\":{\"outlinewidth\":0,\"ticks\":\"\"},\"colorscale\":[[0.0,\"#0d0887\"],[0.1111111111111111,\"#46039f\"],[0.2222222222222222,\"#7201a8\"],[0.3333333333333333,\"#9c179e\"],[0.4444444444444444,\"#bd3786\"],[0.5555555555555556,\"#d8576b\"],[0.6666666666666666,\"#ed7953\"],[0.7777777777777778,\"#fb9f3a\"],[0.8888888888888888,\"#fdca26\"],[1.0,\"#f0f921\"]]}],\"heatmap\":[{\"type\":\"heatmap\",\"colorbar\":{\"outlinewidth\":0,\"ticks\":\"\"},\"colorscale\":[[0.0,\"#0d0887\"],[0.1111111111111111,\"#46039f\"],[0.2222222222222222,\"#7201a8\"],[0.3333333333333333,\"#9c179e\"],[0.4444444444444444,\"#bd3786\"],[0.5555555555555556,\"#d8576b\"],[0.6666666666666666,\"#ed7953\"],[0.7777777777777778,\"#fb9f3a\"],[0.8888888888888888,\"#fdca26\"],[1.0,\"#f0f921\"]]}],\"heatmapgl\":[{\"type\":\"heatmapgl\",\"colorbar\":{\"outlinewidth\":0,\"ticks\":\"\"},\"colorscale\":[[0.0,\"#0d0887\"],[0.1111111111111111,\"#46039f\"],[0.2222222222222222,\"#7201a8\"],[0.3333333333333333,\"#9c179e\"],[0.4444444444444444,\"#bd3786\"],[0.5555555555555556,\"#d8576b\"],[0.6666666666666666,\"#ed7953\"],[0.7777777777777778,\"#fb9f3a\"],[0.8888888888888888,\"#fdca26\"],[1.0,\"#f0f921\"]]}],\"contourcarpet\":[{\"type\":\"contourcarpet\",\"colorbar\":{\"outlinewidth\":0,\"ticks\":\"\"}}],\"contour\":[{\"type\":\"contour\",\"colorbar\":{\"outlinewidth\":0,\"ticks\":\"\"},\"colorscale\":[[0.0,\"#0d0887\"],[0.1111111111111111,\"#46039f\"],[0.2222222222222222,\"#7201a8\"],[0.3333333333333333,\"#9c179e\"],[0.4444444444444444,\"#bd3786\"],[0.5555555555555556,\"#d8576b\"],[0.6666666666666666,\"#ed7953\"],[0.7777777777777778,\"#fb9f3a\"],[0.8888888888888888,\"#fdca26\"],[1.0,\"#f0f921\"]]}],\"surface\":[{\"type\":\"surface\",\"colorbar\":{\"outlinewidth\":0,\"ticks\":\"\"},\"colorscale\":[[0.0,\"#0d0887\"],[0.1111111111111111,\"#46039f\"],[0.2222222222222222,\"#7201a8\"],[0.3333333333333333,\"#9c179e\"],[0.4444444444444444,\"#bd3786\"],[0.5555555555555556,\"#d8576b\"],[0.6666666666666666,\"#ed7953\"],[0.7777777777777778,\"#fb9f3a\"],[0.8888888888888888,\"#fdca26\"],[1.0,\"#f0f921\"]]}],\"mesh3d\":[{\"type\":\"mesh3d\",\"colorbar\":{\"outlinewidth\":0,\"ticks\":\"\"}}],\"scatter\":[{\"fillpattern\":{\"fillmode\":\"overlay\",\"size\":10,\"solidity\":0.2},\"type\":\"scatter\"}],\"parcoords\":[{\"type\":\"parcoords\",\"line\":{\"colorbar\":{\"outlinewidth\":0,\"ticks\":\"\"}}}],\"scatterpolargl\":[{\"type\":\"scatterpolargl\",\"marker\":{\"colorbar\":{\"outlinewidth\":0,\"ticks\":\"\"}}}],\"bar\":[{\"error_x\":{\"color\":\"#2a3f5f\"},\"error_y\":{\"color\":\"#2a3f5f\"},\"marker\":{\"line\":{\"color\":\"#E5ECF6\",\"width\":0.5},\"pattern\":{\"fillmode\":\"overlay\",\"size\":10,\"solidity\":0.2}},\"type\":\"bar\"}],\"scattergeo\":[{\"type\":\"scattergeo\",\"marker\":{\"colorbar\":{\"outlinewidth\":0,\"ticks\":\"\"}}}],\"scatterpolar\":[{\"type\":\"scatterpolar\",\"marker\":{\"colorbar\":{\"outlinewidth\":0,\"ticks\":\"\"}}}],\"histogram\":[{\"marker\":{\"pattern\":{\"fillmode\":\"overlay\",\"size\":10,\"solidity\":0.2}},\"type\":\"histogram\"}],\"scattergl\":[{\"type\":\"scattergl\",\"marker\":{\"colorbar\":{\"outlinewidth\":0,\"ticks\":\"\"}}}],\"scatter3d\":[{\"type\":\"scatter3d\",\"line\":{\"colorbar\":{\"outlinewidth\":0,\"ticks\":\"\"}},\"marker\":{\"colorbar\":{\"outlinewidth\":0,\"ticks\":\"\"}}}],\"scattermapbox\":[{\"type\":\"scattermapbox\",\"marker\":{\"colorbar\":{\"outlinewidth\":0,\"ticks\":\"\"}}}],\"scatterternary\":[{\"type\":\"scatterternary\",\"marker\":{\"colorbar\":{\"outlinewidth\":0,\"ticks\":\"\"}}}],\"scattercarpet\":[{\"type\":\"scattercarpet\",\"marker\":{\"colorbar\":{\"outlinewidth\":0,\"ticks\":\"\"}}}],\"carpet\":[{\"aaxis\":{\"endlinecolor\":\"#2a3f5f\",\"gridcolor\":\"white\",\"linecolor\":\"white\",\"minorgridcolor\":\"white\",\"startlinecolor\":\"#2a3f5f\"},\"baxis\":{\"endlinecolor\":\"#2a3f5f\",\"gridcolor\":\"white\",\"linecolor\":\"white\",\"minorgridcolor\":\"white\",\"startlinecolor\":\"#2a3f5f\"},\"type\":\"carpet\"}],\"table\":[{\"cells\":{\"fill\":{\"color\":\"#EBF0F8\"},\"line\":{\"color\":\"white\"}},\"header\":{\"fill\":{\"color\":\"#C8D4E3\"},\"line\":{\"color\":\"white\"}},\"type\":\"table\"}],\"barpolar\":[{\"marker\":{\"line\":{\"color\":\"#E5ECF6\",\"width\":0.5},\"pattern\":{\"fillmode\":\"overlay\",\"size\":10,\"solidity\":0.2}},\"type\":\"barpolar\"}],\"pie\":[{\"automargin\":true,\"type\":\"pie\"}]},\"layout\":{\"autotypenumbers\":\"strict\",\"colorway\":[\"#636efa\",\"#EF553B\",\"#00cc96\",\"#ab63fa\",\"#FFA15A\",\"#19d3f3\",\"#FF6692\",\"#B6E880\",\"#FF97FF\",\"#FECB52\"],\"font\":{\"color\":\"#2a3f5f\"},\"hovermode\":\"closest\",\"hoverlabel\":{\"align\":\"left\"},\"paper_bgcolor\":\"white\",\"plot_bgcolor\":\"#E5ECF6\",\"polar\":{\"bgcolor\":\"#E5ECF6\",\"angularaxis\":{\"gridcolor\":\"white\",\"linecolor\":\"white\",\"ticks\":\"\"},\"radialaxis\":{\"gridcolor\":\"white\",\"linecolor\":\"white\",\"ticks\":\"\"}},\"ternary\":{\"bgcolor\":\"#E5ECF6\",\"aaxis\":{\"gridcolor\":\"white\",\"linecolor\":\"white\",\"ticks\":\"\"},\"baxis\":{\"gridcolor\":\"white\",\"linecolor\":\"white\",\"ticks\":\"\"},\"caxis\":{\"gridcolor\":\"white\",\"linecolor\":\"white\",\"ticks\":\"\"}},\"coloraxis\":{\"colorbar\":{\"outlinewidth\":0,\"ticks\":\"\"}},\"colorscale\":{\"sequential\":[[0.0,\"#0d0887\"],[0.1111111111111111,\"#46039f\"],[0.2222222222222222,\"#7201a8\"],[0.3333333333333333,\"#9c179e\"],[0.4444444444444444,\"#bd3786\"],[0.5555555555555556,\"#d8576b\"],[0.6666666666666666,\"#ed7953\"],[0.7777777777777778,\"#fb9f3a\"],[0.8888888888888888,\"#fdca26\"],[1.0,\"#f0f921\"]],\"sequentialminus\":[[0.0,\"#0d0887\"],[0.1111111111111111,\"#46039f\"],[0.2222222222222222,\"#7201a8\"],[0.3333333333333333,\"#9c179e\"],[0.4444444444444444,\"#bd3786\"],[0.5555555555555556,\"#d8576b\"],[0.6666666666666666,\"#ed7953\"],[0.7777777777777778,\"#fb9f3a\"],[0.8888888888888888,\"#fdca26\"],[1.0,\"#f0f921\"]],\"diverging\":[[0,\"#8e0152\"],[0.1,\"#c51b7d\"],[0.2,\"#de77ae\"],[0.3,\"#f1b6da\"],[0.4,\"#fde0ef\"],[0.5,\"#f7f7f7\"],[0.6,\"#e6f5d0\"],[0.7,\"#b8e186\"],[0.8,\"#7fbc41\"],[0.9,\"#4d9221\"],[1,\"#276419\"]]},\"xaxis\":{\"gridcolor\":\"white\",\"linecolor\":\"white\",\"ticks\":\"\",\"title\":{\"standoff\":15},\"zerolinecolor\":\"white\",\"automargin\":true,\"zerolinewidth\":2},\"yaxis\":{\"gridcolor\":\"white\",\"linecolor\":\"white\",\"ticks\":\"\",\"title\":{\"standoff\":15},\"zerolinecolor\":\"white\",\"automargin\":true,\"zerolinewidth\":2},\"scene\":{\"xaxis\":{\"backgroundcolor\":\"#E5ECF6\",\"gridcolor\":\"white\",\"linecolor\":\"white\",\"showbackground\":true,\"ticks\":\"\",\"zerolinecolor\":\"white\",\"gridwidth\":2},\"yaxis\":{\"backgroundcolor\":\"#E5ECF6\",\"gridcolor\":\"white\",\"linecolor\":\"white\",\"showbackground\":true,\"ticks\":\"\",\"zerolinecolor\":\"white\",\"gridwidth\":2},\"zaxis\":{\"backgroundcolor\":\"#E5ECF6\",\"gridcolor\":\"white\",\"linecolor\":\"white\",\"showbackground\":true,\"ticks\":\"\",\"zerolinecolor\":\"white\",\"gridwidth\":2}},\"shapedefaults\":{\"line\":{\"color\":\"#2a3f5f\"}},\"annotationdefaults\":{\"arrowcolor\":\"#2a3f5f\",\"arrowhead\":0,\"arrowwidth\":1},\"geo\":{\"bgcolor\":\"white\",\"landcolor\":\"#E5ECF6\",\"subunitcolor\":\"white\",\"showland\":true,\"showlakes\":true,\"lakecolor\":\"white\"},\"title\":{\"x\":0.05},\"mapbox\":{\"style\":\"light\"}}},\"xaxis\":{\"anchor\":\"y\",\"domain\":[0.0,1.0],\"title\":{\"text\":\"price\"}},\"yaxis\":{\"anchor\":\"x\",\"domain\":[0.0,1.0],\"title\":{\"text\":\"count\"}},\"legend\":{\"tracegroupgap\":0},\"margin\":{\"t\":60},\"barmode\":\"relative\"},                        {\"responsive\": true}                    ).then(function(){\n",
       "                            \n",
       "var gd = document.getElementById('27e5043e-ed8f-4bd4-a597-76731524d75f');\n",
       "var x = new MutationObserver(function (mutations, observer) {{\n",
       "        var display = window.getComputedStyle(gd).display;\n",
       "        if (!display || display === 'none') {{\n",
       "            console.log([gd, 'removed!']);\n",
       "            Plotly.purge(gd);\n",
       "            observer.disconnect();\n",
       "        }}\n",
       "}});\n",
       "\n",
       "// Listen for the removal of the full notebook cells\n",
       "var notebookContainer = gd.closest('#notebook-container');\n",
       "if (notebookContainer) {{\n",
       "    x.observe(notebookContainer, {childList: true});\n",
       "}}\n",
       "\n",
       "// Listen for the clearing of the current output cell\n",
       "var outputEl = gd.closest('.output');\n",
       "if (outputEl) {{\n",
       "    x.observe(outputEl, {childList: true});\n",
       "}}\n",
       "\n",
       "                        })                };                });            </script>        </div>"
      ]
     },
     "metadata": {},
     "output_type": "display_data"
    }
   ],
   "source": [
    "fig = px.histogram(df, x=\"price\")\n",
    "fig.show()"
   ]
  },
  {
   "cell_type": "markdown",
   "id": "605225da",
   "metadata": {},
   "source": [
    "The histogram shows that most missions were priced within 10mil - 150mil but there are 2 missions that cost around 3 billion usd! These 2 missions were launched by the USSR in the late 1980's, during the cold war."
   ]
  },
  {
   "cell_type": "code",
   "execution_count": 247,
   "id": "19448304",
   "metadata": {
    "scrolled": true
   },
   "outputs": [
    {
     "data": {
      "text/html": [
       "<div>\n",
       "<style scoped>\n",
       "    .dataframe tbody tr th:only-of-type {\n",
       "        vertical-align: middle;\n",
       "    }\n",
       "\n",
       "    .dataframe tbody tr th {\n",
       "        vertical-align: top;\n",
       "    }\n",
       "\n",
       "    .dataframe thead th {\n",
       "        text-align: right;\n",
       "    }\n",
       "</style>\n",
       "<table border=\"1\" class=\"dataframe\">\n",
       "  <thead>\n",
       "    <tr style=\"text-align: right;\">\n",
       "      <th></th>\n",
       "      <th>mission</th>\n",
       "      <th>time</th>\n",
       "      <th>location</th>\n",
       "      <th>rocket</th>\n",
       "      <th>result</th>\n",
       "      <th>organization</th>\n",
       "      <th>status</th>\n",
       "      <th>price</th>\n",
       "      <th>liftoff thrust</th>\n",
       "      <th>payload to LEO</th>\n",
       "      <th>Payload to GTO</th>\n",
       "      <th>Stages</th>\n",
       "      <th>Strap-ons</th>\n",
       "      <th>Rocket Height</th>\n",
       "      <th>Fairing Diameter</th>\n",
       "      <th>Fairing Height</th>\n",
       "      <th>year</th>\n",
       "      <th>outcome_cat</th>\n",
       "    </tr>\n",
       "  </thead>\n",
       "  <tbody>\n",
       "    <tr>\n",
       "      <th>965</th>\n",
       "      <td>Polyus</td>\n",
       "      <td>1987-05-15 17:30:00+00:00</td>\n",
       "      <td>Site 250, Baikonur Cosmodrome, Kazakhstan</td>\n",
       "      <td>Energiya/Polyus</td>\n",
       "      <td>Success</td>\n",
       "      <td>RVSN USSR</td>\n",
       "      <td>Retired</td>\n",
       "      <td>3.000000e+09</td>\n",
       "      <td>35832.0</td>\n",
       "      <td>105000.0</td>\n",
       "      <td>40000.0</td>\n",
       "      <td>1.0</td>\n",
       "      <td>4.0</td>\n",
       "      <td>59.0</td>\n",
       "      <td>5.7</td>\n",
       "      <td>41.0</td>\n",
       "      <td>1987</td>\n",
       "      <td>1</td>\n",
       "    </tr>\n",
       "    <tr>\n",
       "      <th>966</th>\n",
       "      <td>Buran</td>\n",
       "      <td>1988-11-15 03:00:00+00:00</td>\n",
       "      <td>Site 110/37, Baikonur Cosmodrome, Kazakhstan</td>\n",
       "      <td>Energiya/Buran</td>\n",
       "      <td>Success</td>\n",
       "      <td>RVSN USSR</td>\n",
       "      <td>Retired</td>\n",
       "      <td>3.000000e+09</td>\n",
       "      <td>35832.0</td>\n",
       "      <td>105000.0</td>\n",
       "      <td>40000.0</td>\n",
       "      <td>1.0</td>\n",
       "      <td>4.0</td>\n",
       "      <td>59.0</td>\n",
       "      <td>5.7</td>\n",
       "      <td>41.0</td>\n",
       "      <td>1988</td>\n",
       "      <td>1</td>\n",
       "    </tr>\n",
       "  </tbody>\n",
       "</table>\n",
       "</div>"
      ],
      "text/plain": [
       "    mission                       time  \\\n",
       "965  Polyus  1987-05-15 17:30:00+00:00   \n",
       "966   Buran  1988-11-15 03:00:00+00:00   \n",
       "\n",
       "                                         location           rocket   result  \\\n",
       "965     Site 250, Baikonur Cosmodrome, Kazakhstan  Energiya/Polyus  Success   \n",
       "966  Site 110/37, Baikonur Cosmodrome, Kazakhstan   Energiya/Buran  Success   \n",
       "\n",
       "    organization   status         price  liftoff thrust  payload to LEO  \\\n",
       "965    RVSN USSR  Retired  3.000000e+09         35832.0        105000.0   \n",
       "966    RVSN USSR  Retired  3.000000e+09         35832.0        105000.0   \n",
       "\n",
       "     Payload to GTO  Stages  Strap-ons  Rocket Height  Fairing Diameter  \\\n",
       "965         40000.0     1.0        4.0           59.0               5.7   \n",
       "966         40000.0     1.0        4.0           59.0               5.7   \n",
       "\n",
       "     Fairing Height  year  outcome_cat  \n",
       "965            41.0  1987            1  \n",
       "966            41.0  1988            1  "
      ]
     },
     "execution_count": 247,
     "metadata": {},
     "output_type": "execute_result"
    }
   ],
   "source": [
    "df[df['price'] >= 3000000000]"
   ]
  },
  {
   "cell_type": "markdown",
   "id": "757e7137",
   "metadata": {},
   "source": [
    "### Mission prices over time\n",
    "\n",
    "Did the avg cost of a mission go up for down since the start of the dataset"
   ]
  },
  {
   "cell_type": "code",
   "execution_count": 269,
   "id": "2b3f9c96",
   "metadata": {},
   "outputs": [
    {
     "data": {
      "application/vnd.plotly.v1+json": {
       "config": {
        "plotlyServerURL": "https://plot.ly"
       },
       "data": [
        {
         "hovertemplate": "year=%{x}<br>y=%{y}<extra></extra>",
         "legendgroup": "",
         "line": {
          "color": "#636efa",
          "dash": "solid"
         },
         "marker": {
          "symbol": "circle"
         },
         "mode": "lines",
         "name": "",
         "orientation": "v",
         "showlegend": false,
         "type": "scatter",
         "x": [
          1964,
          1965,
          1966,
          1967,
          1968,
          1969,
          1970,
          1971,
          1972,
          1973,
          1974,
          1975,
          1976,
          1977,
          1978,
          1979,
          1980,
          1981,
          1982,
          1983,
          1984,
          1985,
          1986,
          1987,
          1988,
          1989,
          1990,
          1991,
          1992,
          1993,
          1994,
          1995,
          1996,
          1997,
          1998,
          1999,
          2000,
          2001,
          2002,
          2003,
          2004,
          2005,
          2006,
          2007,
          2008,
          2009,
          2010,
          2011,
          2012,
          2013,
          2014,
          2015,
          2016,
          2017,
          2018,
          2019,
          2020,
          2021,
          2022
         ],
         "xaxis": "x",
         "y": [
          63230000,
          63230000,
          59000000,
          216285714.2857143,
          279200000,
          609500000,
          1160000000,
          1160000000,
          1160000000,
          305000000,
          20000000,
          20000000,
          20000000,
          20000000,
          20000000,
          20000000,
          20000000,
          39545454.54545455,
          46955102.04081633,
          56475000,
          64816000,
          98416000,
          43866666.666666664,
          88119148.9361702,
          101465300,
          71838433.84338434,
          93037209.30232558,
          109032258.06451613,
          124594487.84722221,
          131535492.0100925,
          126928804.3478261,
          160454545.45454547,
          155858695.6521739,
          160258001.7683466,
          127275568.18181817,
          83549041.09589042,
          104071944.44444443,
          172888888.8888889,
          143511141.3043478,
          70780677.12045616,
          74985200,
          70372000,
          104114000,
          100591904.76190476,
          97429555.55555557,
          119216111.1111111,
          91519692.3076923,
          83948235.29411764,
          74315666.66666667,
          65152272.727272734,
          71173734.93975903,
          64713815.78947368,
          70645972.22222222,
          62631756.75675676,
          61437052.631578945,
          52687093.02325581,
          54120095.23809523,
          50541007.751937985,
          57376708.07453416
         ],
         "yaxis": "y"
        }
       ],
       "layout": {
        "legend": {
         "tracegroupgap": 0
        },
        "margin": {
         "t": 60
        },
        "template": {
         "data": {
          "bar": [
           {
            "error_x": {
             "color": "#2a3f5f"
            },
            "error_y": {
             "color": "#2a3f5f"
            },
            "marker": {
             "line": {
              "color": "#E5ECF6",
              "width": 0.5
             },
             "pattern": {
              "fillmode": "overlay",
              "size": 10,
              "solidity": 0.2
             }
            },
            "type": "bar"
           }
          ],
          "barpolar": [
           {
            "marker": {
             "line": {
              "color": "#E5ECF6",
              "width": 0.5
             },
             "pattern": {
              "fillmode": "overlay",
              "size": 10,
              "solidity": 0.2
             }
            },
            "type": "barpolar"
           }
          ],
          "carpet": [
           {
            "aaxis": {
             "endlinecolor": "#2a3f5f",
             "gridcolor": "white",
             "linecolor": "white",
             "minorgridcolor": "white",
             "startlinecolor": "#2a3f5f"
            },
            "baxis": {
             "endlinecolor": "#2a3f5f",
             "gridcolor": "white",
             "linecolor": "white",
             "minorgridcolor": "white",
             "startlinecolor": "#2a3f5f"
            },
            "type": "carpet"
           }
          ],
          "choropleth": [
           {
            "colorbar": {
             "outlinewidth": 0,
             "ticks": ""
            },
            "type": "choropleth"
           }
          ],
          "contour": [
           {
            "colorbar": {
             "outlinewidth": 0,
             "ticks": ""
            },
            "colorscale": [
             [
              0,
              "#0d0887"
             ],
             [
              0.1111111111111111,
              "#46039f"
             ],
             [
              0.2222222222222222,
              "#7201a8"
             ],
             [
              0.3333333333333333,
              "#9c179e"
             ],
             [
              0.4444444444444444,
              "#bd3786"
             ],
             [
              0.5555555555555556,
              "#d8576b"
             ],
             [
              0.6666666666666666,
              "#ed7953"
             ],
             [
              0.7777777777777778,
              "#fb9f3a"
             ],
             [
              0.8888888888888888,
              "#fdca26"
             ],
             [
              1,
              "#f0f921"
             ]
            ],
            "type": "contour"
           }
          ],
          "contourcarpet": [
           {
            "colorbar": {
             "outlinewidth": 0,
             "ticks": ""
            },
            "type": "contourcarpet"
           }
          ],
          "heatmap": [
           {
            "colorbar": {
             "outlinewidth": 0,
             "ticks": ""
            },
            "colorscale": [
             [
              0,
              "#0d0887"
             ],
             [
              0.1111111111111111,
              "#46039f"
             ],
             [
              0.2222222222222222,
              "#7201a8"
             ],
             [
              0.3333333333333333,
              "#9c179e"
             ],
             [
              0.4444444444444444,
              "#bd3786"
             ],
             [
              0.5555555555555556,
              "#d8576b"
             ],
             [
              0.6666666666666666,
              "#ed7953"
             ],
             [
              0.7777777777777778,
              "#fb9f3a"
             ],
             [
              0.8888888888888888,
              "#fdca26"
             ],
             [
              1,
              "#f0f921"
             ]
            ],
            "type": "heatmap"
           }
          ],
          "heatmapgl": [
           {
            "colorbar": {
             "outlinewidth": 0,
             "ticks": ""
            },
            "colorscale": [
             [
              0,
              "#0d0887"
             ],
             [
              0.1111111111111111,
              "#46039f"
             ],
             [
              0.2222222222222222,
              "#7201a8"
             ],
             [
              0.3333333333333333,
              "#9c179e"
             ],
             [
              0.4444444444444444,
              "#bd3786"
             ],
             [
              0.5555555555555556,
              "#d8576b"
             ],
             [
              0.6666666666666666,
              "#ed7953"
             ],
             [
              0.7777777777777778,
              "#fb9f3a"
             ],
             [
              0.8888888888888888,
              "#fdca26"
             ],
             [
              1,
              "#f0f921"
             ]
            ],
            "type": "heatmapgl"
           }
          ],
          "histogram": [
           {
            "marker": {
             "pattern": {
              "fillmode": "overlay",
              "size": 10,
              "solidity": 0.2
             }
            },
            "type": "histogram"
           }
          ],
          "histogram2d": [
           {
            "colorbar": {
             "outlinewidth": 0,
             "ticks": ""
            },
            "colorscale": [
             [
              0,
              "#0d0887"
             ],
             [
              0.1111111111111111,
              "#46039f"
             ],
             [
              0.2222222222222222,
              "#7201a8"
             ],
             [
              0.3333333333333333,
              "#9c179e"
             ],
             [
              0.4444444444444444,
              "#bd3786"
             ],
             [
              0.5555555555555556,
              "#d8576b"
             ],
             [
              0.6666666666666666,
              "#ed7953"
             ],
             [
              0.7777777777777778,
              "#fb9f3a"
             ],
             [
              0.8888888888888888,
              "#fdca26"
             ],
             [
              1,
              "#f0f921"
             ]
            ],
            "type": "histogram2d"
           }
          ],
          "histogram2dcontour": [
           {
            "colorbar": {
             "outlinewidth": 0,
             "ticks": ""
            },
            "colorscale": [
             [
              0,
              "#0d0887"
             ],
             [
              0.1111111111111111,
              "#46039f"
             ],
             [
              0.2222222222222222,
              "#7201a8"
             ],
             [
              0.3333333333333333,
              "#9c179e"
             ],
             [
              0.4444444444444444,
              "#bd3786"
             ],
             [
              0.5555555555555556,
              "#d8576b"
             ],
             [
              0.6666666666666666,
              "#ed7953"
             ],
             [
              0.7777777777777778,
              "#fb9f3a"
             ],
             [
              0.8888888888888888,
              "#fdca26"
             ],
             [
              1,
              "#f0f921"
             ]
            ],
            "type": "histogram2dcontour"
           }
          ],
          "mesh3d": [
           {
            "colorbar": {
             "outlinewidth": 0,
             "ticks": ""
            },
            "type": "mesh3d"
           }
          ],
          "parcoords": [
           {
            "line": {
             "colorbar": {
              "outlinewidth": 0,
              "ticks": ""
             }
            },
            "type": "parcoords"
           }
          ],
          "pie": [
           {
            "automargin": true,
            "type": "pie"
           }
          ],
          "scatter": [
           {
            "fillpattern": {
             "fillmode": "overlay",
             "size": 10,
             "solidity": 0.2
            },
            "type": "scatter"
           }
          ],
          "scatter3d": [
           {
            "line": {
             "colorbar": {
              "outlinewidth": 0,
              "ticks": ""
             }
            },
            "marker": {
             "colorbar": {
              "outlinewidth": 0,
              "ticks": ""
             }
            },
            "type": "scatter3d"
           }
          ],
          "scattercarpet": [
           {
            "marker": {
             "colorbar": {
              "outlinewidth": 0,
              "ticks": ""
             }
            },
            "type": "scattercarpet"
           }
          ],
          "scattergeo": [
           {
            "marker": {
             "colorbar": {
              "outlinewidth": 0,
              "ticks": ""
             }
            },
            "type": "scattergeo"
           }
          ],
          "scattergl": [
           {
            "marker": {
             "colorbar": {
              "outlinewidth": 0,
              "ticks": ""
             }
            },
            "type": "scattergl"
           }
          ],
          "scattermapbox": [
           {
            "marker": {
             "colorbar": {
              "outlinewidth": 0,
              "ticks": ""
             }
            },
            "type": "scattermapbox"
           }
          ],
          "scatterpolar": [
           {
            "marker": {
             "colorbar": {
              "outlinewidth": 0,
              "ticks": ""
             }
            },
            "type": "scatterpolar"
           }
          ],
          "scatterpolargl": [
           {
            "marker": {
             "colorbar": {
              "outlinewidth": 0,
              "ticks": ""
             }
            },
            "type": "scatterpolargl"
           }
          ],
          "scatterternary": [
           {
            "marker": {
             "colorbar": {
              "outlinewidth": 0,
              "ticks": ""
             }
            },
            "type": "scatterternary"
           }
          ],
          "surface": [
           {
            "colorbar": {
             "outlinewidth": 0,
             "ticks": ""
            },
            "colorscale": [
             [
              0,
              "#0d0887"
             ],
             [
              0.1111111111111111,
              "#46039f"
             ],
             [
              0.2222222222222222,
              "#7201a8"
             ],
             [
              0.3333333333333333,
              "#9c179e"
             ],
             [
              0.4444444444444444,
              "#bd3786"
             ],
             [
              0.5555555555555556,
              "#d8576b"
             ],
             [
              0.6666666666666666,
              "#ed7953"
             ],
             [
              0.7777777777777778,
              "#fb9f3a"
             ],
             [
              0.8888888888888888,
              "#fdca26"
             ],
             [
              1,
              "#f0f921"
             ]
            ],
            "type": "surface"
           }
          ],
          "table": [
           {
            "cells": {
             "fill": {
              "color": "#EBF0F8"
             },
             "line": {
              "color": "white"
             }
            },
            "header": {
             "fill": {
              "color": "#C8D4E3"
             },
             "line": {
              "color": "white"
             }
            },
            "type": "table"
           }
          ]
         },
         "layout": {
          "annotationdefaults": {
           "arrowcolor": "#2a3f5f",
           "arrowhead": 0,
           "arrowwidth": 1
          },
          "autotypenumbers": "strict",
          "coloraxis": {
           "colorbar": {
            "outlinewidth": 0,
            "ticks": ""
           }
          },
          "colorscale": {
           "diverging": [
            [
             0,
             "#8e0152"
            ],
            [
             0.1,
             "#c51b7d"
            ],
            [
             0.2,
             "#de77ae"
            ],
            [
             0.3,
             "#f1b6da"
            ],
            [
             0.4,
             "#fde0ef"
            ],
            [
             0.5,
             "#f7f7f7"
            ],
            [
             0.6,
             "#e6f5d0"
            ],
            [
             0.7,
             "#b8e186"
            ],
            [
             0.8,
             "#7fbc41"
            ],
            [
             0.9,
             "#4d9221"
            ],
            [
             1,
             "#276419"
            ]
           ],
           "sequential": [
            [
             0,
             "#0d0887"
            ],
            [
             0.1111111111111111,
             "#46039f"
            ],
            [
             0.2222222222222222,
             "#7201a8"
            ],
            [
             0.3333333333333333,
             "#9c179e"
            ],
            [
             0.4444444444444444,
             "#bd3786"
            ],
            [
             0.5555555555555556,
             "#d8576b"
            ],
            [
             0.6666666666666666,
             "#ed7953"
            ],
            [
             0.7777777777777778,
             "#fb9f3a"
            ],
            [
             0.8888888888888888,
             "#fdca26"
            ],
            [
             1,
             "#f0f921"
            ]
           ],
           "sequentialminus": [
            [
             0,
             "#0d0887"
            ],
            [
             0.1111111111111111,
             "#46039f"
            ],
            [
             0.2222222222222222,
             "#7201a8"
            ],
            [
             0.3333333333333333,
             "#9c179e"
            ],
            [
             0.4444444444444444,
             "#bd3786"
            ],
            [
             0.5555555555555556,
             "#d8576b"
            ],
            [
             0.6666666666666666,
             "#ed7953"
            ],
            [
             0.7777777777777778,
             "#fb9f3a"
            ],
            [
             0.8888888888888888,
             "#fdca26"
            ],
            [
             1,
             "#f0f921"
            ]
           ]
          },
          "colorway": [
           "#636efa",
           "#EF553B",
           "#00cc96",
           "#ab63fa",
           "#FFA15A",
           "#19d3f3",
           "#FF6692",
           "#B6E880",
           "#FF97FF",
           "#FECB52"
          ],
          "font": {
           "color": "#2a3f5f"
          },
          "geo": {
           "bgcolor": "white",
           "lakecolor": "white",
           "landcolor": "#E5ECF6",
           "showlakes": true,
           "showland": true,
           "subunitcolor": "white"
          },
          "hoverlabel": {
           "align": "left"
          },
          "hovermode": "closest",
          "mapbox": {
           "style": "light"
          },
          "paper_bgcolor": "white",
          "plot_bgcolor": "#E5ECF6",
          "polar": {
           "angularaxis": {
            "gridcolor": "white",
            "linecolor": "white",
            "ticks": ""
           },
           "bgcolor": "#E5ECF6",
           "radialaxis": {
            "gridcolor": "white",
            "linecolor": "white",
            "ticks": ""
           }
          },
          "scene": {
           "xaxis": {
            "backgroundcolor": "#E5ECF6",
            "gridcolor": "white",
            "gridwidth": 2,
            "linecolor": "white",
            "showbackground": true,
            "ticks": "",
            "zerolinecolor": "white"
           },
           "yaxis": {
            "backgroundcolor": "#E5ECF6",
            "gridcolor": "white",
            "gridwidth": 2,
            "linecolor": "white",
            "showbackground": true,
            "ticks": "",
            "zerolinecolor": "white"
           },
           "zaxis": {
            "backgroundcolor": "#E5ECF6",
            "gridcolor": "white",
            "gridwidth": 2,
            "linecolor": "white",
            "showbackground": true,
            "ticks": "",
            "zerolinecolor": "white"
           }
          },
          "shapedefaults": {
           "line": {
            "color": "#2a3f5f"
           }
          },
          "ternary": {
           "aaxis": {
            "gridcolor": "white",
            "linecolor": "white",
            "ticks": ""
           },
           "baxis": {
            "gridcolor": "white",
            "linecolor": "white",
            "ticks": ""
           },
           "bgcolor": "#E5ECF6",
           "caxis": {
            "gridcolor": "white",
            "linecolor": "white",
            "ticks": ""
           }
          },
          "title": {
           "x": 0.05
          },
          "xaxis": {
           "automargin": true,
           "gridcolor": "white",
           "linecolor": "white",
           "ticks": "",
           "title": {
            "standoff": 15
           },
           "zerolinecolor": "white",
           "zerolinewidth": 2
          },
          "yaxis": {
           "automargin": true,
           "gridcolor": "white",
           "linecolor": "white",
           "ticks": "",
           "title": {
            "standoff": 15
           },
           "zerolinecolor": "white",
           "zerolinewidth": 2
          }
         }
        },
        "xaxis": {
         "anchor": "y",
         "domain": [
          0,
          1
         ],
         "title": {
          "text": "year"
         }
        },
        "yaxis": {
         "anchor": "x",
         "domain": [
          0,
          1
         ],
         "title": {
          "text": "y"
         }
        }
       }
      },
      "text/html": [
       "<div>                            <div id=\"dfea5ced-08ef-4c1d-ab84-0f51c2501ca0\" class=\"plotly-graph-div\" style=\"height:525px; width:100%;\"></div>            <script type=\"text/javascript\">                require([\"plotly\"], function(Plotly) {                    window.PLOTLYENV=window.PLOTLYENV || {};                                    if (document.getElementById(\"dfea5ced-08ef-4c1d-ab84-0f51c2501ca0\")) {                    Plotly.newPlot(                        \"dfea5ced-08ef-4c1d-ab84-0f51c2501ca0\",                        [{\"hovertemplate\":\"year=%{x}<br>y=%{y}<extra></extra>\",\"legendgroup\":\"\",\"line\":{\"color\":\"#636efa\",\"dash\":\"solid\"},\"marker\":{\"symbol\":\"circle\"},\"mode\":\"lines\",\"name\":\"\",\"orientation\":\"v\",\"showlegend\":false,\"x\":[1964,1965,1966,1967,1968,1969,1970,1971,1972,1973,1974,1975,1976,1977,1978,1979,1980,1981,1982,1983,1984,1985,1986,1987,1988,1989,1990,1991,1992,1993,1994,1995,1996,1997,1998,1999,2000,2001,2002,2003,2004,2005,2006,2007,2008,2009,2010,2011,2012,2013,2014,2015,2016,2017,2018,2019,2020,2021,2022],\"xaxis\":\"x\",\"y\":[63230000.0,63230000.0,59000000.0,216285714.2857143,279200000.0,609500000.0,1160000000.0,1160000000.0,1160000000.0,305000000.0,20000000.0,20000000.0,20000000.0,20000000.0,20000000.0,20000000.0,20000000.0,39545454.54545455,46955102.04081633,56475000.0,64816000.0,98416000.0,43866666.666666664,88119148.9361702,101465300.0,71838433.84338434,93037209.30232558,109032258.06451613,124594487.84722221,131535492.0100925,126928804.3478261,160454545.45454547,155858695.6521739,160258001.7683466,127275568.18181817,83549041.09589042,104071944.44444443,172888888.8888889,143511141.3043478,70780677.12045616,74985200.0,70372000.0,104114000.0,100591904.76190476,97429555.55555557,119216111.1111111,91519692.3076923,83948235.29411764,74315666.66666667,65152272.727272734,71173734.93975903,64713815.78947368,70645972.22222222,62631756.75675676,61437052.631578945,52687093.02325581,54120095.23809523,50541007.751937985,57376708.07453416],\"yaxis\":\"y\",\"type\":\"scatter\"}],                        {\"template\":{\"data\":{\"histogram2dcontour\":[{\"type\":\"histogram2dcontour\",\"colorbar\":{\"outlinewidth\":0,\"ticks\":\"\"},\"colorscale\":[[0.0,\"#0d0887\"],[0.1111111111111111,\"#46039f\"],[0.2222222222222222,\"#7201a8\"],[0.3333333333333333,\"#9c179e\"],[0.4444444444444444,\"#bd3786\"],[0.5555555555555556,\"#d8576b\"],[0.6666666666666666,\"#ed7953\"],[0.7777777777777778,\"#fb9f3a\"],[0.8888888888888888,\"#fdca26\"],[1.0,\"#f0f921\"]]}],\"choropleth\":[{\"type\":\"choropleth\",\"colorbar\":{\"outlinewidth\":0,\"ticks\":\"\"}}],\"histogram2d\":[{\"type\":\"histogram2d\",\"colorbar\":{\"outlinewidth\":0,\"ticks\":\"\"},\"colorscale\":[[0.0,\"#0d0887\"],[0.1111111111111111,\"#46039f\"],[0.2222222222222222,\"#7201a8\"],[0.3333333333333333,\"#9c179e\"],[0.4444444444444444,\"#bd3786\"],[0.5555555555555556,\"#d8576b\"],[0.6666666666666666,\"#ed7953\"],[0.7777777777777778,\"#fb9f3a\"],[0.8888888888888888,\"#fdca26\"],[1.0,\"#f0f921\"]]}],\"heatmap\":[{\"type\":\"heatmap\",\"colorbar\":{\"outlinewidth\":0,\"ticks\":\"\"},\"colorscale\":[[0.0,\"#0d0887\"],[0.1111111111111111,\"#46039f\"],[0.2222222222222222,\"#7201a8\"],[0.3333333333333333,\"#9c179e\"],[0.4444444444444444,\"#bd3786\"],[0.5555555555555556,\"#d8576b\"],[0.6666666666666666,\"#ed7953\"],[0.7777777777777778,\"#fb9f3a\"],[0.8888888888888888,\"#fdca26\"],[1.0,\"#f0f921\"]]}],\"heatmapgl\":[{\"type\":\"heatmapgl\",\"colorbar\":{\"outlinewidth\":0,\"ticks\":\"\"},\"colorscale\":[[0.0,\"#0d0887\"],[0.1111111111111111,\"#46039f\"],[0.2222222222222222,\"#7201a8\"],[0.3333333333333333,\"#9c179e\"],[0.4444444444444444,\"#bd3786\"],[0.5555555555555556,\"#d8576b\"],[0.6666666666666666,\"#ed7953\"],[0.7777777777777778,\"#fb9f3a\"],[0.8888888888888888,\"#fdca26\"],[1.0,\"#f0f921\"]]}],\"contourcarpet\":[{\"type\":\"contourcarpet\",\"colorbar\":{\"outlinewidth\":0,\"ticks\":\"\"}}],\"contour\":[{\"type\":\"contour\",\"colorbar\":{\"outlinewidth\":0,\"ticks\":\"\"},\"colorscale\":[[0.0,\"#0d0887\"],[0.1111111111111111,\"#46039f\"],[0.2222222222222222,\"#7201a8\"],[0.3333333333333333,\"#9c179e\"],[0.4444444444444444,\"#bd3786\"],[0.5555555555555556,\"#d8576b\"],[0.6666666666666666,\"#ed7953\"],[0.7777777777777778,\"#fb9f3a\"],[0.8888888888888888,\"#fdca26\"],[1.0,\"#f0f921\"]]}],\"surface\":[{\"type\":\"surface\",\"colorbar\":{\"outlinewidth\":0,\"ticks\":\"\"},\"colorscale\":[[0.0,\"#0d0887\"],[0.1111111111111111,\"#46039f\"],[0.2222222222222222,\"#7201a8\"],[0.3333333333333333,\"#9c179e\"],[0.4444444444444444,\"#bd3786\"],[0.5555555555555556,\"#d8576b\"],[0.6666666666666666,\"#ed7953\"],[0.7777777777777778,\"#fb9f3a\"],[0.8888888888888888,\"#fdca26\"],[1.0,\"#f0f921\"]]}],\"mesh3d\":[{\"type\":\"mesh3d\",\"colorbar\":{\"outlinewidth\":0,\"ticks\":\"\"}}],\"scatter\":[{\"fillpattern\":{\"fillmode\":\"overlay\",\"size\":10,\"solidity\":0.2},\"type\":\"scatter\"}],\"parcoords\":[{\"type\":\"parcoords\",\"line\":{\"colorbar\":{\"outlinewidth\":0,\"ticks\":\"\"}}}],\"scatterpolargl\":[{\"type\":\"scatterpolargl\",\"marker\":{\"colorbar\":{\"outlinewidth\":0,\"ticks\":\"\"}}}],\"bar\":[{\"error_x\":{\"color\":\"#2a3f5f\"},\"error_y\":{\"color\":\"#2a3f5f\"},\"marker\":{\"line\":{\"color\":\"#E5ECF6\",\"width\":0.5},\"pattern\":{\"fillmode\":\"overlay\",\"size\":10,\"solidity\":0.2}},\"type\":\"bar\"}],\"scattergeo\":[{\"type\":\"scattergeo\",\"marker\":{\"colorbar\":{\"outlinewidth\":0,\"ticks\":\"\"}}}],\"scatterpolar\":[{\"type\":\"scatterpolar\",\"marker\":{\"colorbar\":{\"outlinewidth\":0,\"ticks\":\"\"}}}],\"histogram\":[{\"marker\":{\"pattern\":{\"fillmode\":\"overlay\",\"size\":10,\"solidity\":0.2}},\"type\":\"histogram\"}],\"scattergl\":[{\"type\":\"scattergl\",\"marker\":{\"colorbar\":{\"outlinewidth\":0,\"ticks\":\"\"}}}],\"scatter3d\":[{\"type\":\"scatter3d\",\"line\":{\"colorbar\":{\"outlinewidth\":0,\"ticks\":\"\"}},\"marker\":{\"colorbar\":{\"outlinewidth\":0,\"ticks\":\"\"}}}],\"scattermapbox\":[{\"type\":\"scattermapbox\",\"marker\":{\"colorbar\":{\"outlinewidth\":0,\"ticks\":\"\"}}}],\"scatterternary\":[{\"type\":\"scatterternary\",\"marker\":{\"colorbar\":{\"outlinewidth\":0,\"ticks\":\"\"}}}],\"scattercarpet\":[{\"type\":\"scattercarpet\",\"marker\":{\"colorbar\":{\"outlinewidth\":0,\"ticks\":\"\"}}}],\"carpet\":[{\"aaxis\":{\"endlinecolor\":\"#2a3f5f\",\"gridcolor\":\"white\",\"linecolor\":\"white\",\"minorgridcolor\":\"white\",\"startlinecolor\":\"#2a3f5f\"},\"baxis\":{\"endlinecolor\":\"#2a3f5f\",\"gridcolor\":\"white\",\"linecolor\":\"white\",\"minorgridcolor\":\"white\",\"startlinecolor\":\"#2a3f5f\"},\"type\":\"carpet\"}],\"table\":[{\"cells\":{\"fill\":{\"color\":\"#EBF0F8\"},\"line\":{\"color\":\"white\"}},\"header\":{\"fill\":{\"color\":\"#C8D4E3\"},\"line\":{\"color\":\"white\"}},\"type\":\"table\"}],\"barpolar\":[{\"marker\":{\"line\":{\"color\":\"#E5ECF6\",\"width\":0.5},\"pattern\":{\"fillmode\":\"overlay\",\"size\":10,\"solidity\":0.2}},\"type\":\"barpolar\"}],\"pie\":[{\"automargin\":true,\"type\":\"pie\"}]},\"layout\":{\"autotypenumbers\":\"strict\",\"colorway\":[\"#636efa\",\"#EF553B\",\"#00cc96\",\"#ab63fa\",\"#FFA15A\",\"#19d3f3\",\"#FF6692\",\"#B6E880\",\"#FF97FF\",\"#FECB52\"],\"font\":{\"color\":\"#2a3f5f\"},\"hovermode\":\"closest\",\"hoverlabel\":{\"align\":\"left\"},\"paper_bgcolor\":\"white\",\"plot_bgcolor\":\"#E5ECF6\",\"polar\":{\"bgcolor\":\"#E5ECF6\",\"angularaxis\":{\"gridcolor\":\"white\",\"linecolor\":\"white\",\"ticks\":\"\"},\"radialaxis\":{\"gridcolor\":\"white\",\"linecolor\":\"white\",\"ticks\":\"\"}},\"ternary\":{\"bgcolor\":\"#E5ECF6\",\"aaxis\":{\"gridcolor\":\"white\",\"linecolor\":\"white\",\"ticks\":\"\"},\"baxis\":{\"gridcolor\":\"white\",\"linecolor\":\"white\",\"ticks\":\"\"},\"caxis\":{\"gridcolor\":\"white\",\"linecolor\":\"white\",\"ticks\":\"\"}},\"coloraxis\":{\"colorbar\":{\"outlinewidth\":0,\"ticks\":\"\"}},\"colorscale\":{\"sequential\":[[0.0,\"#0d0887\"],[0.1111111111111111,\"#46039f\"],[0.2222222222222222,\"#7201a8\"],[0.3333333333333333,\"#9c179e\"],[0.4444444444444444,\"#bd3786\"],[0.5555555555555556,\"#d8576b\"],[0.6666666666666666,\"#ed7953\"],[0.7777777777777778,\"#fb9f3a\"],[0.8888888888888888,\"#fdca26\"],[1.0,\"#f0f921\"]],\"sequentialminus\":[[0.0,\"#0d0887\"],[0.1111111111111111,\"#46039f\"],[0.2222222222222222,\"#7201a8\"],[0.3333333333333333,\"#9c179e\"],[0.4444444444444444,\"#bd3786\"],[0.5555555555555556,\"#d8576b\"],[0.6666666666666666,\"#ed7953\"],[0.7777777777777778,\"#fb9f3a\"],[0.8888888888888888,\"#fdca26\"],[1.0,\"#f0f921\"]],\"diverging\":[[0,\"#8e0152\"],[0.1,\"#c51b7d\"],[0.2,\"#de77ae\"],[0.3,\"#f1b6da\"],[0.4,\"#fde0ef\"],[0.5,\"#f7f7f7\"],[0.6,\"#e6f5d0\"],[0.7,\"#b8e186\"],[0.8,\"#7fbc41\"],[0.9,\"#4d9221\"],[1,\"#276419\"]]},\"xaxis\":{\"gridcolor\":\"white\",\"linecolor\":\"white\",\"ticks\":\"\",\"title\":{\"standoff\":15},\"zerolinecolor\":\"white\",\"automargin\":true,\"zerolinewidth\":2},\"yaxis\":{\"gridcolor\":\"white\",\"linecolor\":\"white\",\"ticks\":\"\",\"title\":{\"standoff\":15},\"zerolinecolor\":\"white\",\"automargin\":true,\"zerolinewidth\":2},\"scene\":{\"xaxis\":{\"backgroundcolor\":\"#E5ECF6\",\"gridcolor\":\"white\",\"linecolor\":\"white\",\"showbackground\":true,\"ticks\":\"\",\"zerolinecolor\":\"white\",\"gridwidth\":2},\"yaxis\":{\"backgroundcolor\":\"#E5ECF6\",\"gridcolor\":\"white\",\"linecolor\":\"white\",\"showbackground\":true,\"ticks\":\"\",\"zerolinecolor\":\"white\",\"gridwidth\":2},\"zaxis\":{\"backgroundcolor\":\"#E5ECF6\",\"gridcolor\":\"white\",\"linecolor\":\"white\",\"showbackground\":true,\"ticks\":\"\",\"zerolinecolor\":\"white\",\"gridwidth\":2}},\"shapedefaults\":{\"line\":{\"color\":\"#2a3f5f\"}},\"annotationdefaults\":{\"arrowcolor\":\"#2a3f5f\",\"arrowhead\":0,\"arrowwidth\":1},\"geo\":{\"bgcolor\":\"white\",\"landcolor\":\"#E5ECF6\",\"subunitcolor\":\"white\",\"showland\":true,\"showlakes\":true,\"lakecolor\":\"white\"},\"title\":{\"x\":0.05},\"mapbox\":{\"style\":\"light\"}}},\"xaxis\":{\"anchor\":\"y\",\"domain\":[0.0,1.0],\"title\":{\"text\":\"year\"}},\"yaxis\":{\"anchor\":\"x\",\"domain\":[0.0,1.0],\"title\":{\"text\":\"y\"}},\"legend\":{\"tracegroupgap\":0},\"margin\":{\"t\":60}},                        {\"responsive\": true}                    ).then(function(){\n",
       "                            \n",
       "var gd = document.getElementById('dfea5ced-08ef-4c1d-ab84-0f51c2501ca0');\n",
       "var x = new MutationObserver(function (mutations, observer) {{\n",
       "        var display = window.getComputedStyle(gd).display;\n",
       "        if (!display || display === 'none') {{\n",
       "            console.log([gd, 'removed!']);\n",
       "            Plotly.purge(gd);\n",
       "            observer.disconnect();\n",
       "        }}\n",
       "}});\n",
       "\n",
       "// Listen for the removal of the full notebook cells\n",
       "var notebookContainer = gd.closest('#notebook-container');\n",
       "if (notebookContainer) {{\n",
       "    x.observe(notebookContainer, {childList: true});\n",
       "}}\n",
       "\n",
       "// Listen for the clearing of the current output cell\n",
       "var outputEl = gd.closest('.output');\n",
       "if (outputEl) {{\n",
       "    x.observe(outputEl, {childList: true});\n",
       "}}\n",
       "\n",
       "                        })                };                });            </script>        </div>"
      ]
     },
     "metadata": {},
     "output_type": "display_data"
    }
   ],
   "source": [
    "avg_mission_cost = df.groupby('year').mean()['price']\n",
    "\n",
    "fig = px.line(avg_mission_cost, x=avg_mission_cost.index, y=avg_mission_cost.values)\n",
    "fig.show()"
   ]
  },
  {
   "cell_type": "markdown",
   "id": "33aaffbb",
   "metadata": {},
   "source": [
    "It looks like the average cost of a mission has remained relatively consistent since the mid 1970's"
   ]
  },
  {
   "cell_type": "markdown",
   "id": "24063902",
   "metadata": {},
   "source": [
    "### Visual of launches by country"
   ]
  },
  {
   "cell_type": "code",
   "execution_count": 248,
   "id": "38faecd6",
   "metadata": {},
   "outputs": [
    {
     "data": {
      "text/plain": [
       "array(['USA', 'Marshall Islands', 'New Zealand', 'France', 'China',\n",
       "       'Kazakhstan', 'Gran Canaria', 'India', 'Russia', 'Japan', 'Iran',\n",
       "       'Australia', 'Barents Sea', 'North Korea', 'Israel', 'Brazil',\n",
       "       'South Korea', 'Yellow Sea', 'Pacific Missile Range Facility',\n",
       "       'Pacific Ocean', 'Kenya'], dtype=object)"
      ]
     },
     "execution_count": 248,
     "metadata": {},
     "output_type": "execute_result"
    }
   ],
   "source": [
    "def country(x):\n",
    "    return x.rsplit(', ',1)[1]\n",
    "\n",
    "df['country']= df['location'].apply(country)\n",
    "df['country'].unique()"
   ]
  },
  {
   "cell_type": "markdown",
   "id": "f05ec9c4",
   "metadata": {},
   "source": [
    "The countries need to be wrangled to match the country name according to ISO 3166 country codes\n",
    "* Russia is the Russian Federation\n",
    "* Yellow Sea refers to China\n",
    "* Shahrud Missile Test Site should be Iran\n",
    "* Pacific Missile Range Facility should be USA\n",
    "* Barents Sea should be Russian Federation\n",
    "* Gran Canaria should be USA"
   ]
  },
  {
   "cell_type": "code",
   "execution_count": 249,
   "id": "19e7be1e",
   "metadata": {},
   "outputs": [],
   "source": [
    "# create a new column that contains the alpha3 country code that adheres to ISO 3166 guidelines\n",
    "\n",
    "def country1(x):\n",
    "    if 'Russia'in x or 'Barents' in x:\n",
    "        return 'Russian Federation'\n",
    "    elif 'Yellow' in x:\n",
    "        return 'China'\n",
    "    elif 'Shahrud' in x or 'Iran' in x:\n",
    "        return 'Iran, Islamic Republic of'\n",
    "    elif 'Pacific' in x or 'Gran' in x:\n",
    "        return 'USA'\n",
    "    elif 'South Korea' in x:\n",
    "        return 'Korea, Republic of'\n",
    "    elif 'North Korea' in x:\n",
    "        return \"Korea, Democratic People's Republic of\"\n",
    "    else:\n",
    "        return x\n",
    "\n",
    "df['country'] = df['country'].apply(country1)\n",
    "\n",
    "def iso3(x):\n",
    "    try:\n",
    "        return iso3166.countries.get(x).alpha3\n",
    "    except:\n",
    "        return x\n",
    "\n",
    "df['country'] = df['country'].apply(iso3)\n"
   ]
  },
  {
   "cell_type": "code",
   "execution_count": 259,
   "id": "7cec09c7",
   "metadata": {},
   "outputs": [
    {
     "data": {
      "application/vnd.plotly.v1+json": {
       "config": {
        "plotlyServerURL": "https://plot.ly"
       },
       "data": [
        {
         "coloraxis": "coloraxis",
         "geo": "geo",
         "hovertemplate": "<b>%{hovertext}</b><br><br>country=%{location}<br>color=%{z}<extra></extra>",
         "hovertext": [
          "AUS",
          "BRA",
          "CHN",
          "FRA",
          "IND",
          "IRN",
          "ISR",
          "JPN",
          "KAZ",
          "KEN",
          "KOR",
          "MHL",
          "NZL",
          "PRK",
          "RUS",
          "USA"
         ],
         "locations": [
          "AUS",
          "BRA",
          "CHN",
          "FRA",
          "IND",
          "IRN",
          "ISR",
          "JPN",
          "KAZ",
          "KEN",
          "KOR",
          "MHL",
          "NZL",
          "PRK",
          "RUS",
          "USA"
         ],
         "name": "",
         "type": "choropleth",
         "z": [
          4,
          2,
          508,
          321,
          84,
          12,
          11,
          128,
          1483,
          9,
          5,
          9,
          32,
          5,
          1778,
          1675
         ]
        }
       ],
       "layout": {
        "coloraxis": {
         "colorbar": {
          "title": {
           "text": "color"
          }
         },
         "colorscale": [
          [
           0,
           "rgb(253, 237, 176)"
          ],
          [
           0.09090909090909091,
           "rgb(250, 205, 145)"
          ],
          [
           0.18181818181818182,
           "rgb(246, 173, 119)"
          ],
          [
           0.2727272727272727,
           "rgb(240, 142, 98)"
          ],
          [
           0.36363636363636365,
           "rgb(231, 109, 84)"
          ],
          [
           0.45454545454545453,
           "rgb(216, 80, 83)"
          ],
          [
           0.5454545454545454,
           "rgb(195, 56, 90)"
          ],
          [
           0.6363636363636364,
           "rgb(168, 40, 96)"
          ],
          [
           0.7272727272727273,
           "rgb(138, 29, 99)"
          ],
          [
           0.8181818181818182,
           "rgb(107, 24, 93)"
          ],
          [
           0.9090909090909091,
           "rgb(76, 21, 80)"
          ],
          [
           1,
           "rgb(47, 15, 61)"
          ]
         ]
        },
        "geo": {
         "center": {},
         "domain": {
          "x": [
           0,
           1
          ],
          "y": [
           0,
           1
          ]
         }
        },
        "legend": {
         "tracegroupgap": 0
        },
        "margin": {
         "t": 60
        },
        "template": {
         "data": {
          "bar": [
           {
            "error_x": {
             "color": "#2a3f5f"
            },
            "error_y": {
             "color": "#2a3f5f"
            },
            "marker": {
             "line": {
              "color": "#E5ECF6",
              "width": 0.5
             },
             "pattern": {
              "fillmode": "overlay",
              "size": 10,
              "solidity": 0.2
             }
            },
            "type": "bar"
           }
          ],
          "barpolar": [
           {
            "marker": {
             "line": {
              "color": "#E5ECF6",
              "width": 0.5
             },
             "pattern": {
              "fillmode": "overlay",
              "size": 10,
              "solidity": 0.2
             }
            },
            "type": "barpolar"
           }
          ],
          "carpet": [
           {
            "aaxis": {
             "endlinecolor": "#2a3f5f",
             "gridcolor": "white",
             "linecolor": "white",
             "minorgridcolor": "white",
             "startlinecolor": "#2a3f5f"
            },
            "baxis": {
             "endlinecolor": "#2a3f5f",
             "gridcolor": "white",
             "linecolor": "white",
             "minorgridcolor": "white",
             "startlinecolor": "#2a3f5f"
            },
            "type": "carpet"
           }
          ],
          "choropleth": [
           {
            "colorbar": {
             "outlinewidth": 0,
             "ticks": ""
            },
            "type": "choropleth"
           }
          ],
          "contour": [
           {
            "colorbar": {
             "outlinewidth": 0,
             "ticks": ""
            },
            "colorscale": [
             [
              0,
              "#0d0887"
             ],
             [
              0.1111111111111111,
              "#46039f"
             ],
             [
              0.2222222222222222,
              "#7201a8"
             ],
             [
              0.3333333333333333,
              "#9c179e"
             ],
             [
              0.4444444444444444,
              "#bd3786"
             ],
             [
              0.5555555555555556,
              "#d8576b"
             ],
             [
              0.6666666666666666,
              "#ed7953"
             ],
             [
              0.7777777777777778,
              "#fb9f3a"
             ],
             [
              0.8888888888888888,
              "#fdca26"
             ],
             [
              1,
              "#f0f921"
             ]
            ],
            "type": "contour"
           }
          ],
          "contourcarpet": [
           {
            "colorbar": {
             "outlinewidth": 0,
             "ticks": ""
            },
            "type": "contourcarpet"
           }
          ],
          "heatmap": [
           {
            "colorbar": {
             "outlinewidth": 0,
             "ticks": ""
            },
            "colorscale": [
             [
              0,
              "#0d0887"
             ],
             [
              0.1111111111111111,
              "#46039f"
             ],
             [
              0.2222222222222222,
              "#7201a8"
             ],
             [
              0.3333333333333333,
              "#9c179e"
             ],
             [
              0.4444444444444444,
              "#bd3786"
             ],
             [
              0.5555555555555556,
              "#d8576b"
             ],
             [
              0.6666666666666666,
              "#ed7953"
             ],
             [
              0.7777777777777778,
              "#fb9f3a"
             ],
             [
              0.8888888888888888,
              "#fdca26"
             ],
             [
              1,
              "#f0f921"
             ]
            ],
            "type": "heatmap"
           }
          ],
          "heatmapgl": [
           {
            "colorbar": {
             "outlinewidth": 0,
             "ticks": ""
            },
            "colorscale": [
             [
              0,
              "#0d0887"
             ],
             [
              0.1111111111111111,
              "#46039f"
             ],
             [
              0.2222222222222222,
              "#7201a8"
             ],
             [
              0.3333333333333333,
              "#9c179e"
             ],
             [
              0.4444444444444444,
              "#bd3786"
             ],
             [
              0.5555555555555556,
              "#d8576b"
             ],
             [
              0.6666666666666666,
              "#ed7953"
             ],
             [
              0.7777777777777778,
              "#fb9f3a"
             ],
             [
              0.8888888888888888,
              "#fdca26"
             ],
             [
              1,
              "#f0f921"
             ]
            ],
            "type": "heatmapgl"
           }
          ],
          "histogram": [
           {
            "marker": {
             "pattern": {
              "fillmode": "overlay",
              "size": 10,
              "solidity": 0.2
             }
            },
            "type": "histogram"
           }
          ],
          "histogram2d": [
           {
            "colorbar": {
             "outlinewidth": 0,
             "ticks": ""
            },
            "colorscale": [
             [
              0,
              "#0d0887"
             ],
             [
              0.1111111111111111,
              "#46039f"
             ],
             [
              0.2222222222222222,
              "#7201a8"
             ],
             [
              0.3333333333333333,
              "#9c179e"
             ],
             [
              0.4444444444444444,
              "#bd3786"
             ],
             [
              0.5555555555555556,
              "#d8576b"
             ],
             [
              0.6666666666666666,
              "#ed7953"
             ],
             [
              0.7777777777777778,
              "#fb9f3a"
             ],
             [
              0.8888888888888888,
              "#fdca26"
             ],
             [
              1,
              "#f0f921"
             ]
            ],
            "type": "histogram2d"
           }
          ],
          "histogram2dcontour": [
           {
            "colorbar": {
             "outlinewidth": 0,
             "ticks": ""
            },
            "colorscale": [
             [
              0,
              "#0d0887"
             ],
             [
              0.1111111111111111,
              "#46039f"
             ],
             [
              0.2222222222222222,
              "#7201a8"
             ],
             [
              0.3333333333333333,
              "#9c179e"
             ],
             [
              0.4444444444444444,
              "#bd3786"
             ],
             [
              0.5555555555555556,
              "#d8576b"
             ],
             [
              0.6666666666666666,
              "#ed7953"
             ],
             [
              0.7777777777777778,
              "#fb9f3a"
             ],
             [
              0.8888888888888888,
              "#fdca26"
             ],
             [
              1,
              "#f0f921"
             ]
            ],
            "type": "histogram2dcontour"
           }
          ],
          "mesh3d": [
           {
            "colorbar": {
             "outlinewidth": 0,
             "ticks": ""
            },
            "type": "mesh3d"
           }
          ],
          "parcoords": [
           {
            "line": {
             "colorbar": {
              "outlinewidth": 0,
              "ticks": ""
             }
            },
            "type": "parcoords"
           }
          ],
          "pie": [
           {
            "automargin": true,
            "type": "pie"
           }
          ],
          "scatter": [
           {
            "fillpattern": {
             "fillmode": "overlay",
             "size": 10,
             "solidity": 0.2
            },
            "type": "scatter"
           }
          ],
          "scatter3d": [
           {
            "line": {
             "colorbar": {
              "outlinewidth": 0,
              "ticks": ""
             }
            },
            "marker": {
             "colorbar": {
              "outlinewidth": 0,
              "ticks": ""
             }
            },
            "type": "scatter3d"
           }
          ],
          "scattercarpet": [
           {
            "marker": {
             "colorbar": {
              "outlinewidth": 0,
              "ticks": ""
             }
            },
            "type": "scattercarpet"
           }
          ],
          "scattergeo": [
           {
            "marker": {
             "colorbar": {
              "outlinewidth": 0,
              "ticks": ""
             }
            },
            "type": "scattergeo"
           }
          ],
          "scattergl": [
           {
            "marker": {
             "colorbar": {
              "outlinewidth": 0,
              "ticks": ""
             }
            },
            "type": "scattergl"
           }
          ],
          "scattermapbox": [
           {
            "marker": {
             "colorbar": {
              "outlinewidth": 0,
              "ticks": ""
             }
            },
            "type": "scattermapbox"
           }
          ],
          "scatterpolar": [
           {
            "marker": {
             "colorbar": {
              "outlinewidth": 0,
              "ticks": ""
             }
            },
            "type": "scatterpolar"
           }
          ],
          "scatterpolargl": [
           {
            "marker": {
             "colorbar": {
              "outlinewidth": 0,
              "ticks": ""
             }
            },
            "type": "scatterpolargl"
           }
          ],
          "scatterternary": [
           {
            "marker": {
             "colorbar": {
              "outlinewidth": 0,
              "ticks": ""
             }
            },
            "type": "scatterternary"
           }
          ],
          "surface": [
           {
            "colorbar": {
             "outlinewidth": 0,
             "ticks": ""
            },
            "colorscale": [
             [
              0,
              "#0d0887"
             ],
             [
              0.1111111111111111,
              "#46039f"
             ],
             [
              0.2222222222222222,
              "#7201a8"
             ],
             [
              0.3333333333333333,
              "#9c179e"
             ],
             [
              0.4444444444444444,
              "#bd3786"
             ],
             [
              0.5555555555555556,
              "#d8576b"
             ],
             [
              0.6666666666666666,
              "#ed7953"
             ],
             [
              0.7777777777777778,
              "#fb9f3a"
             ],
             [
              0.8888888888888888,
              "#fdca26"
             ],
             [
              1,
              "#f0f921"
             ]
            ],
            "type": "surface"
           }
          ],
          "table": [
           {
            "cells": {
             "fill": {
              "color": "#EBF0F8"
             },
             "line": {
              "color": "white"
             }
            },
            "header": {
             "fill": {
              "color": "#C8D4E3"
             },
             "line": {
              "color": "white"
             }
            },
            "type": "table"
           }
          ]
         },
         "layout": {
          "annotationdefaults": {
           "arrowcolor": "#2a3f5f",
           "arrowhead": 0,
           "arrowwidth": 1
          },
          "autotypenumbers": "strict",
          "coloraxis": {
           "colorbar": {
            "outlinewidth": 0,
            "ticks": ""
           }
          },
          "colorscale": {
           "diverging": [
            [
             0,
             "#8e0152"
            ],
            [
             0.1,
             "#c51b7d"
            ],
            [
             0.2,
             "#de77ae"
            ],
            [
             0.3,
             "#f1b6da"
            ],
            [
             0.4,
             "#fde0ef"
            ],
            [
             0.5,
             "#f7f7f7"
            ],
            [
             0.6,
             "#e6f5d0"
            ],
            [
             0.7,
             "#b8e186"
            ],
            [
             0.8,
             "#7fbc41"
            ],
            [
             0.9,
             "#4d9221"
            ],
            [
             1,
             "#276419"
            ]
           ],
           "sequential": [
            [
             0,
             "#0d0887"
            ],
            [
             0.1111111111111111,
             "#46039f"
            ],
            [
             0.2222222222222222,
             "#7201a8"
            ],
            [
             0.3333333333333333,
             "#9c179e"
            ],
            [
             0.4444444444444444,
             "#bd3786"
            ],
            [
             0.5555555555555556,
             "#d8576b"
            ],
            [
             0.6666666666666666,
             "#ed7953"
            ],
            [
             0.7777777777777778,
             "#fb9f3a"
            ],
            [
             0.8888888888888888,
             "#fdca26"
            ],
            [
             1,
             "#f0f921"
            ]
           ],
           "sequentialminus": [
            [
             0,
             "#0d0887"
            ],
            [
             0.1111111111111111,
             "#46039f"
            ],
            [
             0.2222222222222222,
             "#7201a8"
            ],
            [
             0.3333333333333333,
             "#9c179e"
            ],
            [
             0.4444444444444444,
             "#bd3786"
            ],
            [
             0.5555555555555556,
             "#d8576b"
            ],
            [
             0.6666666666666666,
             "#ed7953"
            ],
            [
             0.7777777777777778,
             "#fb9f3a"
            ],
            [
             0.8888888888888888,
             "#fdca26"
            ],
            [
             1,
             "#f0f921"
            ]
           ]
          },
          "colorway": [
           "#636efa",
           "#EF553B",
           "#00cc96",
           "#ab63fa",
           "#FFA15A",
           "#19d3f3",
           "#FF6692",
           "#B6E880",
           "#FF97FF",
           "#FECB52"
          ],
          "font": {
           "color": "#2a3f5f"
          },
          "geo": {
           "bgcolor": "white",
           "lakecolor": "white",
           "landcolor": "#E5ECF6",
           "showlakes": true,
           "showland": true,
           "subunitcolor": "white"
          },
          "hoverlabel": {
           "align": "left"
          },
          "hovermode": "closest",
          "mapbox": {
           "style": "light"
          },
          "paper_bgcolor": "white",
          "plot_bgcolor": "#E5ECF6",
          "polar": {
           "angularaxis": {
            "gridcolor": "white",
            "linecolor": "white",
            "ticks": ""
           },
           "bgcolor": "#E5ECF6",
           "radialaxis": {
            "gridcolor": "white",
            "linecolor": "white",
            "ticks": ""
           }
          },
          "scene": {
           "xaxis": {
            "backgroundcolor": "#E5ECF6",
            "gridcolor": "white",
            "gridwidth": 2,
            "linecolor": "white",
            "showbackground": true,
            "ticks": "",
            "zerolinecolor": "white"
           },
           "yaxis": {
            "backgroundcolor": "#E5ECF6",
            "gridcolor": "white",
            "gridwidth": 2,
            "linecolor": "white",
            "showbackground": true,
            "ticks": "",
            "zerolinecolor": "white"
           },
           "zaxis": {
            "backgroundcolor": "#E5ECF6",
            "gridcolor": "white",
            "gridwidth": 2,
            "linecolor": "white",
            "showbackground": true,
            "ticks": "",
            "zerolinecolor": "white"
           }
          },
          "shapedefaults": {
           "line": {
            "color": "#2a3f5f"
           }
          },
          "ternary": {
           "aaxis": {
            "gridcolor": "white",
            "linecolor": "white",
            "ticks": ""
           },
           "baxis": {
            "gridcolor": "white",
            "linecolor": "white",
            "ticks": ""
           },
           "bgcolor": "#E5ECF6",
           "caxis": {
            "gridcolor": "white",
            "linecolor": "white",
            "ticks": ""
           }
          },
          "title": {
           "x": 0.05
          },
          "xaxis": {
           "automargin": true,
           "gridcolor": "white",
           "linecolor": "white",
           "ticks": "",
           "title": {
            "standoff": 15
           },
           "zerolinecolor": "white",
           "zerolinewidth": 2
          },
          "yaxis": {
           "automargin": true,
           "gridcolor": "white",
           "linecolor": "white",
           "ticks": "",
           "title": {
            "standoff": 15
           },
           "zerolinecolor": "white",
           "zerolinewidth": 2
          }
         }
        }
       }
      },
      "text/html": [
       "<div>                            <div id=\"9e010fe3-6290-4006-8b44-ca760a34e38f\" class=\"plotly-graph-div\" style=\"height:525px; width:100%;\"></div>            <script type=\"text/javascript\">                require([\"plotly\"], function(Plotly) {                    window.PLOTLYENV=window.PLOTLYENV || {};                                    if (document.getElementById(\"9e010fe3-6290-4006-8b44-ca760a34e38f\")) {                    Plotly.newPlot(                        \"9e010fe3-6290-4006-8b44-ca760a34e38f\",                        [{\"coloraxis\":\"coloraxis\",\"geo\":\"geo\",\"hovertemplate\":\"<b>%{hovertext}</b><br><br>country=%{location}<br>color=%{z}<extra></extra>\",\"hovertext\":[\"AUS\",\"BRA\",\"CHN\",\"FRA\",\"IND\",\"IRN\",\"ISR\",\"JPN\",\"KAZ\",\"KEN\",\"KOR\",\"MHL\",\"NZL\",\"PRK\",\"RUS\",\"USA\"],\"locations\":[\"AUS\",\"BRA\",\"CHN\",\"FRA\",\"IND\",\"IRN\",\"ISR\",\"JPN\",\"KAZ\",\"KEN\",\"KOR\",\"MHL\",\"NZL\",\"PRK\",\"RUS\",\"USA\"],\"name\":\"\",\"z\":[4,2,508,321,84,12,11,128,1483,9,5,9,32,5,1778,1675],\"type\":\"choropleth\"}],                        {\"template\":{\"data\":{\"histogram2dcontour\":[{\"type\":\"histogram2dcontour\",\"colorbar\":{\"outlinewidth\":0,\"ticks\":\"\"},\"colorscale\":[[0.0,\"#0d0887\"],[0.1111111111111111,\"#46039f\"],[0.2222222222222222,\"#7201a8\"],[0.3333333333333333,\"#9c179e\"],[0.4444444444444444,\"#bd3786\"],[0.5555555555555556,\"#d8576b\"],[0.6666666666666666,\"#ed7953\"],[0.7777777777777778,\"#fb9f3a\"],[0.8888888888888888,\"#fdca26\"],[1.0,\"#f0f921\"]]}],\"choropleth\":[{\"type\":\"choropleth\",\"colorbar\":{\"outlinewidth\":0,\"ticks\":\"\"}}],\"histogram2d\":[{\"type\":\"histogram2d\",\"colorbar\":{\"outlinewidth\":0,\"ticks\":\"\"},\"colorscale\":[[0.0,\"#0d0887\"],[0.1111111111111111,\"#46039f\"],[0.2222222222222222,\"#7201a8\"],[0.3333333333333333,\"#9c179e\"],[0.4444444444444444,\"#bd3786\"],[0.5555555555555556,\"#d8576b\"],[0.6666666666666666,\"#ed7953\"],[0.7777777777777778,\"#fb9f3a\"],[0.8888888888888888,\"#fdca26\"],[1.0,\"#f0f921\"]]}],\"heatmap\":[{\"type\":\"heatmap\",\"colorbar\":{\"outlinewidth\":0,\"ticks\":\"\"},\"colorscale\":[[0.0,\"#0d0887\"],[0.1111111111111111,\"#46039f\"],[0.2222222222222222,\"#7201a8\"],[0.3333333333333333,\"#9c179e\"],[0.4444444444444444,\"#bd3786\"],[0.5555555555555556,\"#d8576b\"],[0.6666666666666666,\"#ed7953\"],[0.7777777777777778,\"#fb9f3a\"],[0.8888888888888888,\"#fdca26\"],[1.0,\"#f0f921\"]]}],\"heatmapgl\":[{\"type\":\"heatmapgl\",\"colorbar\":{\"outlinewidth\":0,\"ticks\":\"\"},\"colorscale\":[[0.0,\"#0d0887\"],[0.1111111111111111,\"#46039f\"],[0.2222222222222222,\"#7201a8\"],[0.3333333333333333,\"#9c179e\"],[0.4444444444444444,\"#bd3786\"],[0.5555555555555556,\"#d8576b\"],[0.6666666666666666,\"#ed7953\"],[0.7777777777777778,\"#fb9f3a\"],[0.8888888888888888,\"#fdca26\"],[1.0,\"#f0f921\"]]}],\"contourcarpet\":[{\"type\":\"contourcarpet\",\"colorbar\":{\"outlinewidth\":0,\"ticks\":\"\"}}],\"contour\":[{\"type\":\"contour\",\"colorbar\":{\"outlinewidth\":0,\"ticks\":\"\"},\"colorscale\":[[0.0,\"#0d0887\"],[0.1111111111111111,\"#46039f\"],[0.2222222222222222,\"#7201a8\"],[0.3333333333333333,\"#9c179e\"],[0.4444444444444444,\"#bd3786\"],[0.5555555555555556,\"#d8576b\"],[0.6666666666666666,\"#ed7953\"],[0.7777777777777778,\"#fb9f3a\"],[0.8888888888888888,\"#fdca26\"],[1.0,\"#f0f921\"]]}],\"surface\":[{\"type\":\"surface\",\"colorbar\":{\"outlinewidth\":0,\"ticks\":\"\"},\"colorscale\":[[0.0,\"#0d0887\"],[0.1111111111111111,\"#46039f\"],[0.2222222222222222,\"#7201a8\"],[0.3333333333333333,\"#9c179e\"],[0.4444444444444444,\"#bd3786\"],[0.5555555555555556,\"#d8576b\"],[0.6666666666666666,\"#ed7953\"],[0.7777777777777778,\"#fb9f3a\"],[0.8888888888888888,\"#fdca26\"],[1.0,\"#f0f921\"]]}],\"mesh3d\":[{\"type\":\"mesh3d\",\"colorbar\":{\"outlinewidth\":0,\"ticks\":\"\"}}],\"scatter\":[{\"fillpattern\":{\"fillmode\":\"overlay\",\"size\":10,\"solidity\":0.2},\"type\":\"scatter\"}],\"parcoords\":[{\"type\":\"parcoords\",\"line\":{\"colorbar\":{\"outlinewidth\":0,\"ticks\":\"\"}}}],\"scatterpolargl\":[{\"type\":\"scatterpolargl\",\"marker\":{\"colorbar\":{\"outlinewidth\":0,\"ticks\":\"\"}}}],\"bar\":[{\"error_x\":{\"color\":\"#2a3f5f\"},\"error_y\":{\"color\":\"#2a3f5f\"},\"marker\":{\"line\":{\"color\":\"#E5ECF6\",\"width\":0.5},\"pattern\":{\"fillmode\":\"overlay\",\"size\":10,\"solidity\":0.2}},\"type\":\"bar\"}],\"scattergeo\":[{\"type\":\"scattergeo\",\"marker\":{\"colorbar\":{\"outlinewidth\":0,\"ticks\":\"\"}}}],\"scatterpolar\":[{\"type\":\"scatterpolar\",\"marker\":{\"colorbar\":{\"outlinewidth\":0,\"ticks\":\"\"}}}],\"histogram\":[{\"marker\":{\"pattern\":{\"fillmode\":\"overlay\",\"size\":10,\"solidity\":0.2}},\"type\":\"histogram\"}],\"scattergl\":[{\"type\":\"scattergl\",\"marker\":{\"colorbar\":{\"outlinewidth\":0,\"ticks\":\"\"}}}],\"scatter3d\":[{\"type\":\"scatter3d\",\"line\":{\"colorbar\":{\"outlinewidth\":0,\"ticks\":\"\"}},\"marker\":{\"colorbar\":{\"outlinewidth\":0,\"ticks\":\"\"}}}],\"scattermapbox\":[{\"type\":\"scattermapbox\",\"marker\":{\"colorbar\":{\"outlinewidth\":0,\"ticks\":\"\"}}}],\"scatterternary\":[{\"type\":\"scatterternary\",\"marker\":{\"colorbar\":{\"outlinewidth\":0,\"ticks\":\"\"}}}],\"scattercarpet\":[{\"type\":\"scattercarpet\",\"marker\":{\"colorbar\":{\"outlinewidth\":0,\"ticks\":\"\"}}}],\"carpet\":[{\"aaxis\":{\"endlinecolor\":\"#2a3f5f\",\"gridcolor\":\"white\",\"linecolor\":\"white\",\"minorgridcolor\":\"white\",\"startlinecolor\":\"#2a3f5f\"},\"baxis\":{\"endlinecolor\":\"#2a3f5f\",\"gridcolor\":\"white\",\"linecolor\":\"white\",\"minorgridcolor\":\"white\",\"startlinecolor\":\"#2a3f5f\"},\"type\":\"carpet\"}],\"table\":[{\"cells\":{\"fill\":{\"color\":\"#EBF0F8\"},\"line\":{\"color\":\"white\"}},\"header\":{\"fill\":{\"color\":\"#C8D4E3\"},\"line\":{\"color\":\"white\"}},\"type\":\"table\"}],\"barpolar\":[{\"marker\":{\"line\":{\"color\":\"#E5ECF6\",\"width\":0.5},\"pattern\":{\"fillmode\":\"overlay\",\"size\":10,\"solidity\":0.2}},\"type\":\"barpolar\"}],\"pie\":[{\"automargin\":true,\"type\":\"pie\"}]},\"layout\":{\"autotypenumbers\":\"strict\",\"colorway\":[\"#636efa\",\"#EF553B\",\"#00cc96\",\"#ab63fa\",\"#FFA15A\",\"#19d3f3\",\"#FF6692\",\"#B6E880\",\"#FF97FF\",\"#FECB52\"],\"font\":{\"color\":\"#2a3f5f\"},\"hovermode\":\"closest\",\"hoverlabel\":{\"align\":\"left\"},\"paper_bgcolor\":\"white\",\"plot_bgcolor\":\"#E5ECF6\",\"polar\":{\"bgcolor\":\"#E5ECF6\",\"angularaxis\":{\"gridcolor\":\"white\",\"linecolor\":\"white\",\"ticks\":\"\"},\"radialaxis\":{\"gridcolor\":\"white\",\"linecolor\":\"white\",\"ticks\":\"\"}},\"ternary\":{\"bgcolor\":\"#E5ECF6\",\"aaxis\":{\"gridcolor\":\"white\",\"linecolor\":\"white\",\"ticks\":\"\"},\"baxis\":{\"gridcolor\":\"white\",\"linecolor\":\"white\",\"ticks\":\"\"},\"caxis\":{\"gridcolor\":\"white\",\"linecolor\":\"white\",\"ticks\":\"\"}},\"coloraxis\":{\"colorbar\":{\"outlinewidth\":0,\"ticks\":\"\"}},\"colorscale\":{\"sequential\":[[0.0,\"#0d0887\"],[0.1111111111111111,\"#46039f\"],[0.2222222222222222,\"#7201a8\"],[0.3333333333333333,\"#9c179e\"],[0.4444444444444444,\"#bd3786\"],[0.5555555555555556,\"#d8576b\"],[0.6666666666666666,\"#ed7953\"],[0.7777777777777778,\"#fb9f3a\"],[0.8888888888888888,\"#fdca26\"],[1.0,\"#f0f921\"]],\"sequentialminus\":[[0.0,\"#0d0887\"],[0.1111111111111111,\"#46039f\"],[0.2222222222222222,\"#7201a8\"],[0.3333333333333333,\"#9c179e\"],[0.4444444444444444,\"#bd3786\"],[0.5555555555555556,\"#d8576b\"],[0.6666666666666666,\"#ed7953\"],[0.7777777777777778,\"#fb9f3a\"],[0.8888888888888888,\"#fdca26\"],[1.0,\"#f0f921\"]],\"diverging\":[[0,\"#8e0152\"],[0.1,\"#c51b7d\"],[0.2,\"#de77ae\"],[0.3,\"#f1b6da\"],[0.4,\"#fde0ef\"],[0.5,\"#f7f7f7\"],[0.6,\"#e6f5d0\"],[0.7,\"#b8e186\"],[0.8,\"#7fbc41\"],[0.9,\"#4d9221\"],[1,\"#276419\"]]},\"xaxis\":{\"gridcolor\":\"white\",\"linecolor\":\"white\",\"ticks\":\"\",\"title\":{\"standoff\":15},\"zerolinecolor\":\"white\",\"automargin\":true,\"zerolinewidth\":2},\"yaxis\":{\"gridcolor\":\"white\",\"linecolor\":\"white\",\"ticks\":\"\",\"title\":{\"standoff\":15},\"zerolinecolor\":\"white\",\"automargin\":true,\"zerolinewidth\":2},\"scene\":{\"xaxis\":{\"backgroundcolor\":\"#E5ECF6\",\"gridcolor\":\"white\",\"linecolor\":\"white\",\"showbackground\":true,\"ticks\":\"\",\"zerolinecolor\":\"white\",\"gridwidth\":2},\"yaxis\":{\"backgroundcolor\":\"#E5ECF6\",\"gridcolor\":\"white\",\"linecolor\":\"white\",\"showbackground\":true,\"ticks\":\"\",\"zerolinecolor\":\"white\",\"gridwidth\":2},\"zaxis\":{\"backgroundcolor\":\"#E5ECF6\",\"gridcolor\":\"white\",\"linecolor\":\"white\",\"showbackground\":true,\"ticks\":\"\",\"zerolinecolor\":\"white\",\"gridwidth\":2}},\"shapedefaults\":{\"line\":{\"color\":\"#2a3f5f\"}},\"annotationdefaults\":{\"arrowcolor\":\"#2a3f5f\",\"arrowhead\":0,\"arrowwidth\":1},\"geo\":{\"bgcolor\":\"white\",\"landcolor\":\"#E5ECF6\",\"subunitcolor\":\"white\",\"showland\":true,\"showlakes\":true,\"lakecolor\":\"white\"},\"title\":{\"x\":0.05},\"mapbox\":{\"style\":\"light\"}}},\"geo\":{\"domain\":{\"x\":[0.0,1.0],\"y\":[0.0,1.0]},\"center\":{}},\"coloraxis\":{\"colorbar\":{\"title\":{\"text\":\"color\"}},\"colorscale\":[[0.0,\"rgb(253, 237, 176)\"],[0.09090909090909091,\"rgb(250, 205, 145)\"],[0.18181818181818182,\"rgb(246, 173, 119)\"],[0.2727272727272727,\"rgb(240, 142, 98)\"],[0.36363636363636365,\"rgb(231, 109, 84)\"],[0.45454545454545453,\"rgb(216, 80, 83)\"],[0.5454545454545454,\"rgb(195, 56, 90)\"],[0.6363636363636364,\"rgb(168, 40, 96)\"],[0.7272727272727273,\"rgb(138, 29, 99)\"],[0.8181818181818182,\"rgb(107, 24, 93)\"],[0.9090909090909091,\"rgb(76, 21, 80)\"],[1.0,\"rgb(47, 15, 61)\"]]},\"legend\":{\"tracegroupgap\":0},\"margin\":{\"t\":60}},                        {\"responsive\": true}                    ).then(function(){\n",
       "                            \n",
       "var gd = document.getElementById('9e010fe3-6290-4006-8b44-ca760a34e38f');\n",
       "var x = new MutationObserver(function (mutations, observer) {{\n",
       "        var display = window.getComputedStyle(gd).display;\n",
       "        if (!display || display === 'none') {{\n",
       "            console.log([gd, 'removed!']);\n",
       "            Plotly.purge(gd);\n",
       "            observer.disconnect();\n",
       "        }}\n",
       "}});\n",
       "\n",
       "// Listen for the removal of the full notebook cells\n",
       "var notebookContainer = gd.closest('#notebook-container');\n",
       "if (notebookContainer) {{\n",
       "    x.observe(notebookContainer, {childList: true});\n",
       "}}\n",
       "\n",
       "// Listen for the clearing of the current output cell\n",
       "var outputEl = gd.closest('.output');\n",
       "if (outputEl) {{\n",
       "    x.observe(outputEl, {childList: true});\n",
       "}}\n",
       "\n",
       "                        })                };                });            </script>        </div>"
      ]
     },
     "metadata": {},
     "output_type": "display_data"
    }
   ],
   "source": [
    "launch_by_country = df.groupby('country').count()['mission']\n",
    "\n",
    "fig = px.choropleth(launch_by_country, locations=launch_by_country.index,\n",
    "                    color=launch_by_country.values, # lifeExp is a column of gapminder\n",
    "                    hover_name=launch_by_country.index, # column to add to hover information\n",
    "                    color_continuous_scale=px.colors.sequential.matter)\n",
    "fig.show()"
   ]
  },
  {
   "cell_type": "markdown",
   "id": "e26136bb",
   "metadata": {},
   "source": [
    "The Choropleth map gives a visualization of which countries launched the most missions, painting a more clear picture than if presented on a simple table. The US and Russia dominate the number of missions launched, denoted by the darker color."
   ]
  },
  {
   "cell_type": "markdown",
   "id": "f3d029aa",
   "metadata": {},
   "source": [
    "### Cold war space race: USA vs. USSR\n",
    "\n",
    "lets investigate how the 2 superpowers matched up in the space race during the cold war(start of dataset to 1991). \n",
    "- First, which country had the most launches year to year? \n",
    "- (note launches in Kazakhstan has been counted as part of the USSR since it was a former member)"
   ]
  },
  {
   "cell_type": "code",
   "execution_count": 280,
   "id": "86755bc3",
   "metadata": {},
   "outputs": [],
   "source": [
    "def USorUSSR(x):\n",
    "    if x == 'KAZ' or x == 'RUS':\n",
    "        return 'USSR'\n",
    "    elif x == 'USA':\n",
    "        return 'US'\n",
    "    else:\n",
    "        return 'None'\n",
    "\n",
    "df['USorUSSR'] = df['country'].apply(USorUSSR)"
   ]
  },
  {
   "cell_type": "code",
   "execution_count": 314,
   "id": "06d424f5",
   "metadata": {},
   "outputs": [
    {
     "data": {
      "text/html": [
       "<div>\n",
       "<style scoped>\n",
       "    .dataframe tbody tr th:only-of-type {\n",
       "        vertical-align: middle;\n",
       "    }\n",
       "\n",
       "    .dataframe tbody tr th {\n",
       "        vertical-align: top;\n",
       "    }\n",
       "\n",
       "    .dataframe thead th {\n",
       "        text-align: right;\n",
       "    }\n",
       "</style>\n",
       "<table border=\"1\" class=\"dataframe\">\n",
       "  <thead>\n",
       "    <tr style=\"text-align: right;\">\n",
       "      <th></th>\n",
       "      <th>year</th>\n",
       "      <th>USorUSSR</th>\n",
       "      <th>mission</th>\n",
       "    </tr>\n",
       "  </thead>\n",
       "  <tbody>\n",
       "    <tr>\n",
       "      <th>0</th>\n",
       "      <td>1964</td>\n",
       "      <td>US</td>\n",
       "      <td>57</td>\n",
       "    </tr>\n",
       "    <tr>\n",
       "      <th>1</th>\n",
       "      <td>1964</td>\n",
       "      <td>USSR</td>\n",
       "      <td>36</td>\n",
       "    </tr>\n",
       "    <tr>\n",
       "      <th>2</th>\n",
       "      <td>1965</td>\n",
       "      <td>US</td>\n",
       "      <td>67</td>\n",
       "    </tr>\n",
       "    <tr>\n",
       "      <th>3</th>\n",
       "      <td>1965</td>\n",
       "      <td>USSR</td>\n",
       "      <td>54</td>\n",
       "    </tr>\n",
       "    <tr>\n",
       "      <th>4</th>\n",
       "      <td>1966</td>\n",
       "      <td>US</td>\n",
       "      <td>78</td>\n",
       "    </tr>\n",
       "  </tbody>\n",
       "</table>\n",
       "</div>"
      ],
      "text/plain": [
       "   year USorUSSR  mission\n",
       "0  1964       US       57\n",
       "1  1964     USSR       36\n",
       "2  1965       US       67\n",
       "3  1965     USSR       54\n",
       "4  1966       US       78"
      ]
     },
     "execution_count": 314,
     "metadata": {},
     "output_type": "execute_result"
    }
   ],
   "source": [
    "superp = df[(df['USorUSSR']== 'US')|(df['USorUSSR'] == 'USSR')]\n",
    "superp = superp[superp['year'] < 1992]\n",
    "\n",
    "total = (superp.groupby(['year', 'USorUSSR']).count()['mission']).reset_index()"
   ]
  },
  {
   "cell_type": "code",
   "execution_count": 348,
   "id": "1a56a6b2",
   "metadata": {},
   "outputs": [
    {
     "data": {
      "application/vnd.plotly.v1+json": {
       "config": {
        "plotlyServerURL": "https://plot.ly"
       },
       "data": [
        {
         "hovertemplate": "USorUSSR=US<br>year=%{x}<br>mission=%{y}<extra></extra>",
         "legendgroup": "US",
         "line": {
          "color": "#636efa",
          "dash": "solid"
         },
         "marker": {
          "symbol": "circle"
         },
         "mode": "lines",
         "name": "US",
         "orientation": "v",
         "showlegend": true,
         "type": "scatter",
         "x": [
          1964,
          1965,
          1966,
          1967,
          1968,
          1969,
          1970,
          1971,
          1972,
          1973,
          1974,
          1975,
          1976,
          1977,
          1978,
          1979,
          1980,
          1981,
          1982,
          1983,
          1984,
          1985,
          1986,
          1987,
          1988,
          1989,
          1990,
          1991
         ],
         "xaxis": "x",
         "y": [
          57,
          67,
          78,
          59,
          48,
          41,
          29,
          32,
          31,
          24,
          23,
          29,
          24,
          26,
          31,
          16,
          14,
          18,
          17,
          21,
          21,
          17,
          9,
          8,
          10,
          17,
          27,
          19
         ],
         "yaxis": "y"
        },
        {
         "hovertemplate": "USorUSSR=USSR<br>year=%{x}<br>mission=%{y}<extra></extra>",
         "legendgroup": "USSR",
         "line": {
          "color": "#EF553B",
          "dash": "solid"
         },
         "marker": {
          "symbol": "circle"
         },
         "mode": "lines",
         "name": "USSR",
         "orientation": "v",
         "showlegend": true,
         "type": "scatter",
         "x": [
          1964,
          1965,
          1966,
          1967,
          1968,
          1969,
          1970,
          1971,
          1972,
          1973,
          1974,
          1975,
          1976,
          1977,
          1978,
          1979,
          1980,
          1981,
          1982,
          1983,
          1984,
          1985,
          1986,
          1987,
          1988,
          1989,
          1990,
          1991
         ],
         "xaxis": "x",
         "y": [
          36,
          54,
          54,
          75,
          81,
          84,
          89,
          92,
          80,
          90,
          86,
          93,
          100,
          102,
          91,
          89,
          89,
          100,
          108,
          100,
          97,
          100,
          94,
          97,
          94,
          75,
          79,
          61
         ],
         "yaxis": "y"
        }
       ],
       "layout": {
        "legend": {
         "title": {
          "text": "USorUSSR"
         },
         "tracegroupgap": 0
        },
        "margin": {
         "t": 60
        },
        "template": {
         "data": {
          "bar": [
           {
            "error_x": {
             "color": "#2a3f5f"
            },
            "error_y": {
             "color": "#2a3f5f"
            },
            "marker": {
             "line": {
              "color": "#E5ECF6",
              "width": 0.5
             },
             "pattern": {
              "fillmode": "overlay",
              "size": 10,
              "solidity": 0.2
             }
            },
            "type": "bar"
           }
          ],
          "barpolar": [
           {
            "marker": {
             "line": {
              "color": "#E5ECF6",
              "width": 0.5
             },
             "pattern": {
              "fillmode": "overlay",
              "size": 10,
              "solidity": 0.2
             }
            },
            "type": "barpolar"
           }
          ],
          "carpet": [
           {
            "aaxis": {
             "endlinecolor": "#2a3f5f",
             "gridcolor": "white",
             "linecolor": "white",
             "minorgridcolor": "white",
             "startlinecolor": "#2a3f5f"
            },
            "baxis": {
             "endlinecolor": "#2a3f5f",
             "gridcolor": "white",
             "linecolor": "white",
             "minorgridcolor": "white",
             "startlinecolor": "#2a3f5f"
            },
            "type": "carpet"
           }
          ],
          "choropleth": [
           {
            "colorbar": {
             "outlinewidth": 0,
             "ticks": ""
            },
            "type": "choropleth"
           }
          ],
          "contour": [
           {
            "colorbar": {
             "outlinewidth": 0,
             "ticks": ""
            },
            "colorscale": [
             [
              0,
              "#0d0887"
             ],
             [
              0.1111111111111111,
              "#46039f"
             ],
             [
              0.2222222222222222,
              "#7201a8"
             ],
             [
              0.3333333333333333,
              "#9c179e"
             ],
             [
              0.4444444444444444,
              "#bd3786"
             ],
             [
              0.5555555555555556,
              "#d8576b"
             ],
             [
              0.6666666666666666,
              "#ed7953"
             ],
             [
              0.7777777777777778,
              "#fb9f3a"
             ],
             [
              0.8888888888888888,
              "#fdca26"
             ],
             [
              1,
              "#f0f921"
             ]
            ],
            "type": "contour"
           }
          ],
          "contourcarpet": [
           {
            "colorbar": {
             "outlinewidth": 0,
             "ticks": ""
            },
            "type": "contourcarpet"
           }
          ],
          "heatmap": [
           {
            "colorbar": {
             "outlinewidth": 0,
             "ticks": ""
            },
            "colorscale": [
             [
              0,
              "#0d0887"
             ],
             [
              0.1111111111111111,
              "#46039f"
             ],
             [
              0.2222222222222222,
              "#7201a8"
             ],
             [
              0.3333333333333333,
              "#9c179e"
             ],
             [
              0.4444444444444444,
              "#bd3786"
             ],
             [
              0.5555555555555556,
              "#d8576b"
             ],
             [
              0.6666666666666666,
              "#ed7953"
             ],
             [
              0.7777777777777778,
              "#fb9f3a"
             ],
             [
              0.8888888888888888,
              "#fdca26"
             ],
             [
              1,
              "#f0f921"
             ]
            ],
            "type": "heatmap"
           }
          ],
          "heatmapgl": [
           {
            "colorbar": {
             "outlinewidth": 0,
             "ticks": ""
            },
            "colorscale": [
             [
              0,
              "#0d0887"
             ],
             [
              0.1111111111111111,
              "#46039f"
             ],
             [
              0.2222222222222222,
              "#7201a8"
             ],
             [
              0.3333333333333333,
              "#9c179e"
             ],
             [
              0.4444444444444444,
              "#bd3786"
             ],
             [
              0.5555555555555556,
              "#d8576b"
             ],
             [
              0.6666666666666666,
              "#ed7953"
             ],
             [
              0.7777777777777778,
              "#fb9f3a"
             ],
             [
              0.8888888888888888,
              "#fdca26"
             ],
             [
              1,
              "#f0f921"
             ]
            ],
            "type": "heatmapgl"
           }
          ],
          "histogram": [
           {
            "marker": {
             "pattern": {
              "fillmode": "overlay",
              "size": 10,
              "solidity": 0.2
             }
            },
            "type": "histogram"
           }
          ],
          "histogram2d": [
           {
            "colorbar": {
             "outlinewidth": 0,
             "ticks": ""
            },
            "colorscale": [
             [
              0,
              "#0d0887"
             ],
             [
              0.1111111111111111,
              "#46039f"
             ],
             [
              0.2222222222222222,
              "#7201a8"
             ],
             [
              0.3333333333333333,
              "#9c179e"
             ],
             [
              0.4444444444444444,
              "#bd3786"
             ],
             [
              0.5555555555555556,
              "#d8576b"
             ],
             [
              0.6666666666666666,
              "#ed7953"
             ],
             [
              0.7777777777777778,
              "#fb9f3a"
             ],
             [
              0.8888888888888888,
              "#fdca26"
             ],
             [
              1,
              "#f0f921"
             ]
            ],
            "type": "histogram2d"
           }
          ],
          "histogram2dcontour": [
           {
            "colorbar": {
             "outlinewidth": 0,
             "ticks": ""
            },
            "colorscale": [
             [
              0,
              "#0d0887"
             ],
             [
              0.1111111111111111,
              "#46039f"
             ],
             [
              0.2222222222222222,
              "#7201a8"
             ],
             [
              0.3333333333333333,
              "#9c179e"
             ],
             [
              0.4444444444444444,
              "#bd3786"
             ],
             [
              0.5555555555555556,
              "#d8576b"
             ],
             [
              0.6666666666666666,
              "#ed7953"
             ],
             [
              0.7777777777777778,
              "#fb9f3a"
             ],
             [
              0.8888888888888888,
              "#fdca26"
             ],
             [
              1,
              "#f0f921"
             ]
            ],
            "type": "histogram2dcontour"
           }
          ],
          "mesh3d": [
           {
            "colorbar": {
             "outlinewidth": 0,
             "ticks": ""
            },
            "type": "mesh3d"
           }
          ],
          "parcoords": [
           {
            "line": {
             "colorbar": {
              "outlinewidth": 0,
              "ticks": ""
             }
            },
            "type": "parcoords"
           }
          ],
          "pie": [
           {
            "automargin": true,
            "type": "pie"
           }
          ],
          "scatter": [
           {
            "fillpattern": {
             "fillmode": "overlay",
             "size": 10,
             "solidity": 0.2
            },
            "type": "scatter"
           }
          ],
          "scatter3d": [
           {
            "line": {
             "colorbar": {
              "outlinewidth": 0,
              "ticks": ""
             }
            },
            "marker": {
             "colorbar": {
              "outlinewidth": 0,
              "ticks": ""
             }
            },
            "type": "scatter3d"
           }
          ],
          "scattercarpet": [
           {
            "marker": {
             "colorbar": {
              "outlinewidth": 0,
              "ticks": ""
             }
            },
            "type": "scattercarpet"
           }
          ],
          "scattergeo": [
           {
            "marker": {
             "colorbar": {
              "outlinewidth": 0,
              "ticks": ""
             }
            },
            "type": "scattergeo"
           }
          ],
          "scattergl": [
           {
            "marker": {
             "colorbar": {
              "outlinewidth": 0,
              "ticks": ""
             }
            },
            "type": "scattergl"
           }
          ],
          "scattermapbox": [
           {
            "marker": {
             "colorbar": {
              "outlinewidth": 0,
              "ticks": ""
             }
            },
            "type": "scattermapbox"
           }
          ],
          "scatterpolar": [
           {
            "marker": {
             "colorbar": {
              "outlinewidth": 0,
              "ticks": ""
             }
            },
            "type": "scatterpolar"
           }
          ],
          "scatterpolargl": [
           {
            "marker": {
             "colorbar": {
              "outlinewidth": 0,
              "ticks": ""
             }
            },
            "type": "scatterpolargl"
           }
          ],
          "scatterternary": [
           {
            "marker": {
             "colorbar": {
              "outlinewidth": 0,
              "ticks": ""
             }
            },
            "type": "scatterternary"
           }
          ],
          "surface": [
           {
            "colorbar": {
             "outlinewidth": 0,
             "ticks": ""
            },
            "colorscale": [
             [
              0,
              "#0d0887"
             ],
             [
              0.1111111111111111,
              "#46039f"
             ],
             [
              0.2222222222222222,
              "#7201a8"
             ],
             [
              0.3333333333333333,
              "#9c179e"
             ],
             [
              0.4444444444444444,
              "#bd3786"
             ],
             [
              0.5555555555555556,
              "#d8576b"
             ],
             [
              0.6666666666666666,
              "#ed7953"
             ],
             [
              0.7777777777777778,
              "#fb9f3a"
             ],
             [
              0.8888888888888888,
              "#fdca26"
             ],
             [
              1,
              "#f0f921"
             ]
            ],
            "type": "surface"
           }
          ],
          "table": [
           {
            "cells": {
             "fill": {
              "color": "#EBF0F8"
             },
             "line": {
              "color": "white"
             }
            },
            "header": {
             "fill": {
              "color": "#C8D4E3"
             },
             "line": {
              "color": "white"
             }
            },
            "type": "table"
           }
          ]
         },
         "layout": {
          "annotationdefaults": {
           "arrowcolor": "#2a3f5f",
           "arrowhead": 0,
           "arrowwidth": 1
          },
          "autotypenumbers": "strict",
          "coloraxis": {
           "colorbar": {
            "outlinewidth": 0,
            "ticks": ""
           }
          },
          "colorscale": {
           "diverging": [
            [
             0,
             "#8e0152"
            ],
            [
             0.1,
             "#c51b7d"
            ],
            [
             0.2,
             "#de77ae"
            ],
            [
             0.3,
             "#f1b6da"
            ],
            [
             0.4,
             "#fde0ef"
            ],
            [
             0.5,
             "#f7f7f7"
            ],
            [
             0.6,
             "#e6f5d0"
            ],
            [
             0.7,
             "#b8e186"
            ],
            [
             0.8,
             "#7fbc41"
            ],
            [
             0.9,
             "#4d9221"
            ],
            [
             1,
             "#276419"
            ]
           ],
           "sequential": [
            [
             0,
             "#0d0887"
            ],
            [
             0.1111111111111111,
             "#46039f"
            ],
            [
             0.2222222222222222,
             "#7201a8"
            ],
            [
             0.3333333333333333,
             "#9c179e"
            ],
            [
             0.4444444444444444,
             "#bd3786"
            ],
            [
             0.5555555555555556,
             "#d8576b"
            ],
            [
             0.6666666666666666,
             "#ed7953"
            ],
            [
             0.7777777777777778,
             "#fb9f3a"
            ],
            [
             0.8888888888888888,
             "#fdca26"
            ],
            [
             1,
             "#f0f921"
            ]
           ],
           "sequentialminus": [
            [
             0,
             "#0d0887"
            ],
            [
             0.1111111111111111,
             "#46039f"
            ],
            [
             0.2222222222222222,
             "#7201a8"
            ],
            [
             0.3333333333333333,
             "#9c179e"
            ],
            [
             0.4444444444444444,
             "#bd3786"
            ],
            [
             0.5555555555555556,
             "#d8576b"
            ],
            [
             0.6666666666666666,
             "#ed7953"
            ],
            [
             0.7777777777777778,
             "#fb9f3a"
            ],
            [
             0.8888888888888888,
             "#fdca26"
            ],
            [
             1,
             "#f0f921"
            ]
           ]
          },
          "colorway": [
           "#636efa",
           "#EF553B",
           "#00cc96",
           "#ab63fa",
           "#FFA15A",
           "#19d3f3",
           "#FF6692",
           "#B6E880",
           "#FF97FF",
           "#FECB52"
          ],
          "font": {
           "color": "#2a3f5f"
          },
          "geo": {
           "bgcolor": "white",
           "lakecolor": "white",
           "landcolor": "#E5ECF6",
           "showlakes": true,
           "showland": true,
           "subunitcolor": "white"
          },
          "hoverlabel": {
           "align": "left"
          },
          "hovermode": "closest",
          "mapbox": {
           "style": "light"
          },
          "paper_bgcolor": "white",
          "plot_bgcolor": "#E5ECF6",
          "polar": {
           "angularaxis": {
            "gridcolor": "white",
            "linecolor": "white",
            "ticks": ""
           },
           "bgcolor": "#E5ECF6",
           "radialaxis": {
            "gridcolor": "white",
            "linecolor": "white",
            "ticks": ""
           }
          },
          "scene": {
           "xaxis": {
            "backgroundcolor": "#E5ECF6",
            "gridcolor": "white",
            "gridwidth": 2,
            "linecolor": "white",
            "showbackground": true,
            "ticks": "",
            "zerolinecolor": "white"
           },
           "yaxis": {
            "backgroundcolor": "#E5ECF6",
            "gridcolor": "white",
            "gridwidth": 2,
            "linecolor": "white",
            "showbackground": true,
            "ticks": "",
            "zerolinecolor": "white"
           },
           "zaxis": {
            "backgroundcolor": "#E5ECF6",
            "gridcolor": "white",
            "gridwidth": 2,
            "linecolor": "white",
            "showbackground": true,
            "ticks": "",
            "zerolinecolor": "white"
           }
          },
          "shapedefaults": {
           "line": {
            "color": "#2a3f5f"
           }
          },
          "ternary": {
           "aaxis": {
            "gridcolor": "white",
            "linecolor": "white",
            "ticks": ""
           },
           "baxis": {
            "gridcolor": "white",
            "linecolor": "white",
            "ticks": ""
           },
           "bgcolor": "#E5ECF6",
           "caxis": {
            "gridcolor": "white",
            "linecolor": "white",
            "ticks": ""
           }
          },
          "title": {
           "x": 0.05
          },
          "xaxis": {
           "automargin": true,
           "gridcolor": "white",
           "linecolor": "white",
           "ticks": "",
           "title": {
            "standoff": 15
           },
           "zerolinecolor": "white",
           "zerolinewidth": 2
          },
          "yaxis": {
           "automargin": true,
           "gridcolor": "white",
           "linecolor": "white",
           "ticks": "",
           "title": {
            "standoff": 15
           },
           "zerolinecolor": "white",
           "zerolinewidth": 2
          }
         }
        },
        "xaxis": {
         "anchor": "y",
         "domain": [
          0,
          1
         ],
         "title": {
          "text": "Year"
         }
        },
        "yaxis": {
         "anchor": "x",
         "domain": [
          0,
          1
         ],
         "title": {
          "text": "Total Missions"
         }
        }
       }
      },
      "text/html": [
       "<div>                            <div id=\"d37dd46c-14f0-41b3-b7f1-b73a62be78fd\" class=\"plotly-graph-div\" style=\"height:525px; width:100%;\"></div>            <script type=\"text/javascript\">                require([\"plotly\"], function(Plotly) {                    window.PLOTLYENV=window.PLOTLYENV || {};                                    if (document.getElementById(\"d37dd46c-14f0-41b3-b7f1-b73a62be78fd\")) {                    Plotly.newPlot(                        \"d37dd46c-14f0-41b3-b7f1-b73a62be78fd\",                        [{\"hovertemplate\":\"USorUSSR=US<br>year=%{x}<br>mission=%{y}<extra></extra>\",\"legendgroup\":\"US\",\"line\":{\"color\":\"#636efa\",\"dash\":\"solid\"},\"marker\":{\"symbol\":\"circle\"},\"mode\":\"lines\",\"name\":\"US\",\"orientation\":\"v\",\"showlegend\":true,\"x\":[1964,1965,1966,1967,1968,1969,1970,1971,1972,1973,1974,1975,1976,1977,1978,1979,1980,1981,1982,1983,1984,1985,1986,1987,1988,1989,1990,1991],\"xaxis\":\"x\",\"y\":[57,67,78,59,48,41,29,32,31,24,23,29,24,26,31,16,14,18,17,21,21,17,9,8,10,17,27,19],\"yaxis\":\"y\",\"type\":\"scatter\"},{\"hovertemplate\":\"USorUSSR=USSR<br>year=%{x}<br>mission=%{y}<extra></extra>\",\"legendgroup\":\"USSR\",\"line\":{\"color\":\"#EF553B\",\"dash\":\"solid\"},\"marker\":{\"symbol\":\"circle\"},\"mode\":\"lines\",\"name\":\"USSR\",\"orientation\":\"v\",\"showlegend\":true,\"x\":[1964,1965,1966,1967,1968,1969,1970,1971,1972,1973,1974,1975,1976,1977,1978,1979,1980,1981,1982,1983,1984,1985,1986,1987,1988,1989,1990,1991],\"xaxis\":\"x\",\"y\":[36,54,54,75,81,84,89,92,80,90,86,93,100,102,91,89,89,100,108,100,97,100,94,97,94,75,79,61],\"yaxis\":\"y\",\"type\":\"scatter\"}],                        {\"template\":{\"data\":{\"histogram2dcontour\":[{\"type\":\"histogram2dcontour\",\"colorbar\":{\"outlinewidth\":0,\"ticks\":\"\"},\"colorscale\":[[0.0,\"#0d0887\"],[0.1111111111111111,\"#46039f\"],[0.2222222222222222,\"#7201a8\"],[0.3333333333333333,\"#9c179e\"],[0.4444444444444444,\"#bd3786\"],[0.5555555555555556,\"#d8576b\"],[0.6666666666666666,\"#ed7953\"],[0.7777777777777778,\"#fb9f3a\"],[0.8888888888888888,\"#fdca26\"],[1.0,\"#f0f921\"]]}],\"choropleth\":[{\"type\":\"choropleth\",\"colorbar\":{\"outlinewidth\":0,\"ticks\":\"\"}}],\"histogram2d\":[{\"type\":\"histogram2d\",\"colorbar\":{\"outlinewidth\":0,\"ticks\":\"\"},\"colorscale\":[[0.0,\"#0d0887\"],[0.1111111111111111,\"#46039f\"],[0.2222222222222222,\"#7201a8\"],[0.3333333333333333,\"#9c179e\"],[0.4444444444444444,\"#bd3786\"],[0.5555555555555556,\"#d8576b\"],[0.6666666666666666,\"#ed7953\"],[0.7777777777777778,\"#fb9f3a\"],[0.8888888888888888,\"#fdca26\"],[1.0,\"#f0f921\"]]}],\"heatmap\":[{\"type\":\"heatmap\",\"colorbar\":{\"outlinewidth\":0,\"ticks\":\"\"},\"colorscale\":[[0.0,\"#0d0887\"],[0.1111111111111111,\"#46039f\"],[0.2222222222222222,\"#7201a8\"],[0.3333333333333333,\"#9c179e\"],[0.4444444444444444,\"#bd3786\"],[0.5555555555555556,\"#d8576b\"],[0.6666666666666666,\"#ed7953\"],[0.7777777777777778,\"#fb9f3a\"],[0.8888888888888888,\"#fdca26\"],[1.0,\"#f0f921\"]]}],\"heatmapgl\":[{\"type\":\"heatmapgl\",\"colorbar\":{\"outlinewidth\":0,\"ticks\":\"\"},\"colorscale\":[[0.0,\"#0d0887\"],[0.1111111111111111,\"#46039f\"],[0.2222222222222222,\"#7201a8\"],[0.3333333333333333,\"#9c179e\"],[0.4444444444444444,\"#bd3786\"],[0.5555555555555556,\"#d8576b\"],[0.6666666666666666,\"#ed7953\"],[0.7777777777777778,\"#fb9f3a\"],[0.8888888888888888,\"#fdca26\"],[1.0,\"#f0f921\"]]}],\"contourcarpet\":[{\"type\":\"contourcarpet\",\"colorbar\":{\"outlinewidth\":0,\"ticks\":\"\"}}],\"contour\":[{\"type\":\"contour\",\"colorbar\":{\"outlinewidth\":0,\"ticks\":\"\"},\"colorscale\":[[0.0,\"#0d0887\"],[0.1111111111111111,\"#46039f\"],[0.2222222222222222,\"#7201a8\"],[0.3333333333333333,\"#9c179e\"],[0.4444444444444444,\"#bd3786\"],[0.5555555555555556,\"#d8576b\"],[0.6666666666666666,\"#ed7953\"],[0.7777777777777778,\"#fb9f3a\"],[0.8888888888888888,\"#fdca26\"],[1.0,\"#f0f921\"]]}],\"surface\":[{\"type\":\"surface\",\"colorbar\":{\"outlinewidth\":0,\"ticks\":\"\"},\"colorscale\":[[0.0,\"#0d0887\"],[0.1111111111111111,\"#46039f\"],[0.2222222222222222,\"#7201a8\"],[0.3333333333333333,\"#9c179e\"],[0.4444444444444444,\"#bd3786\"],[0.5555555555555556,\"#d8576b\"],[0.6666666666666666,\"#ed7953\"],[0.7777777777777778,\"#fb9f3a\"],[0.8888888888888888,\"#fdca26\"],[1.0,\"#f0f921\"]]}],\"mesh3d\":[{\"type\":\"mesh3d\",\"colorbar\":{\"outlinewidth\":0,\"ticks\":\"\"}}],\"scatter\":[{\"fillpattern\":{\"fillmode\":\"overlay\",\"size\":10,\"solidity\":0.2},\"type\":\"scatter\"}],\"parcoords\":[{\"type\":\"parcoords\",\"line\":{\"colorbar\":{\"outlinewidth\":0,\"ticks\":\"\"}}}],\"scatterpolargl\":[{\"type\":\"scatterpolargl\",\"marker\":{\"colorbar\":{\"outlinewidth\":0,\"ticks\":\"\"}}}],\"bar\":[{\"error_x\":{\"color\":\"#2a3f5f\"},\"error_y\":{\"color\":\"#2a3f5f\"},\"marker\":{\"line\":{\"color\":\"#E5ECF6\",\"width\":0.5},\"pattern\":{\"fillmode\":\"overlay\",\"size\":10,\"solidity\":0.2}},\"type\":\"bar\"}],\"scattergeo\":[{\"type\":\"scattergeo\",\"marker\":{\"colorbar\":{\"outlinewidth\":0,\"ticks\":\"\"}}}],\"scatterpolar\":[{\"type\":\"scatterpolar\",\"marker\":{\"colorbar\":{\"outlinewidth\":0,\"ticks\":\"\"}}}],\"histogram\":[{\"marker\":{\"pattern\":{\"fillmode\":\"overlay\",\"size\":10,\"solidity\":0.2}},\"type\":\"histogram\"}],\"scattergl\":[{\"type\":\"scattergl\",\"marker\":{\"colorbar\":{\"outlinewidth\":0,\"ticks\":\"\"}}}],\"scatter3d\":[{\"type\":\"scatter3d\",\"line\":{\"colorbar\":{\"outlinewidth\":0,\"ticks\":\"\"}},\"marker\":{\"colorbar\":{\"outlinewidth\":0,\"ticks\":\"\"}}}],\"scattermapbox\":[{\"type\":\"scattermapbox\",\"marker\":{\"colorbar\":{\"outlinewidth\":0,\"ticks\":\"\"}}}],\"scatterternary\":[{\"type\":\"scatterternary\",\"marker\":{\"colorbar\":{\"outlinewidth\":0,\"ticks\":\"\"}}}],\"scattercarpet\":[{\"type\":\"scattercarpet\",\"marker\":{\"colorbar\":{\"outlinewidth\":0,\"ticks\":\"\"}}}],\"carpet\":[{\"aaxis\":{\"endlinecolor\":\"#2a3f5f\",\"gridcolor\":\"white\",\"linecolor\":\"white\",\"minorgridcolor\":\"white\",\"startlinecolor\":\"#2a3f5f\"},\"baxis\":{\"endlinecolor\":\"#2a3f5f\",\"gridcolor\":\"white\",\"linecolor\":\"white\",\"minorgridcolor\":\"white\",\"startlinecolor\":\"#2a3f5f\"},\"type\":\"carpet\"}],\"table\":[{\"cells\":{\"fill\":{\"color\":\"#EBF0F8\"},\"line\":{\"color\":\"white\"}},\"header\":{\"fill\":{\"color\":\"#C8D4E3\"},\"line\":{\"color\":\"white\"}},\"type\":\"table\"}],\"barpolar\":[{\"marker\":{\"line\":{\"color\":\"#E5ECF6\",\"width\":0.5},\"pattern\":{\"fillmode\":\"overlay\",\"size\":10,\"solidity\":0.2}},\"type\":\"barpolar\"}],\"pie\":[{\"automargin\":true,\"type\":\"pie\"}]},\"layout\":{\"autotypenumbers\":\"strict\",\"colorway\":[\"#636efa\",\"#EF553B\",\"#00cc96\",\"#ab63fa\",\"#FFA15A\",\"#19d3f3\",\"#FF6692\",\"#B6E880\",\"#FF97FF\",\"#FECB52\"],\"font\":{\"color\":\"#2a3f5f\"},\"hovermode\":\"closest\",\"hoverlabel\":{\"align\":\"left\"},\"paper_bgcolor\":\"white\",\"plot_bgcolor\":\"#E5ECF6\",\"polar\":{\"bgcolor\":\"#E5ECF6\",\"angularaxis\":{\"gridcolor\":\"white\",\"linecolor\":\"white\",\"ticks\":\"\"},\"radialaxis\":{\"gridcolor\":\"white\",\"linecolor\":\"white\",\"ticks\":\"\"}},\"ternary\":{\"bgcolor\":\"#E5ECF6\",\"aaxis\":{\"gridcolor\":\"white\",\"linecolor\":\"white\",\"ticks\":\"\"},\"baxis\":{\"gridcolor\":\"white\",\"linecolor\":\"white\",\"ticks\":\"\"},\"caxis\":{\"gridcolor\":\"white\",\"linecolor\":\"white\",\"ticks\":\"\"}},\"coloraxis\":{\"colorbar\":{\"outlinewidth\":0,\"ticks\":\"\"}},\"colorscale\":{\"sequential\":[[0.0,\"#0d0887\"],[0.1111111111111111,\"#46039f\"],[0.2222222222222222,\"#7201a8\"],[0.3333333333333333,\"#9c179e\"],[0.4444444444444444,\"#bd3786\"],[0.5555555555555556,\"#d8576b\"],[0.6666666666666666,\"#ed7953\"],[0.7777777777777778,\"#fb9f3a\"],[0.8888888888888888,\"#fdca26\"],[1.0,\"#f0f921\"]],\"sequentialminus\":[[0.0,\"#0d0887\"],[0.1111111111111111,\"#46039f\"],[0.2222222222222222,\"#7201a8\"],[0.3333333333333333,\"#9c179e\"],[0.4444444444444444,\"#bd3786\"],[0.5555555555555556,\"#d8576b\"],[0.6666666666666666,\"#ed7953\"],[0.7777777777777778,\"#fb9f3a\"],[0.8888888888888888,\"#fdca26\"],[1.0,\"#f0f921\"]],\"diverging\":[[0,\"#8e0152\"],[0.1,\"#c51b7d\"],[0.2,\"#de77ae\"],[0.3,\"#f1b6da\"],[0.4,\"#fde0ef\"],[0.5,\"#f7f7f7\"],[0.6,\"#e6f5d0\"],[0.7,\"#b8e186\"],[0.8,\"#7fbc41\"],[0.9,\"#4d9221\"],[1,\"#276419\"]]},\"xaxis\":{\"gridcolor\":\"white\",\"linecolor\":\"white\",\"ticks\":\"\",\"title\":{\"standoff\":15},\"zerolinecolor\":\"white\",\"automargin\":true,\"zerolinewidth\":2},\"yaxis\":{\"gridcolor\":\"white\",\"linecolor\":\"white\",\"ticks\":\"\",\"title\":{\"standoff\":15},\"zerolinecolor\":\"white\",\"automargin\":true,\"zerolinewidth\":2},\"scene\":{\"xaxis\":{\"backgroundcolor\":\"#E5ECF6\",\"gridcolor\":\"white\",\"linecolor\":\"white\",\"showbackground\":true,\"ticks\":\"\",\"zerolinecolor\":\"white\",\"gridwidth\":2},\"yaxis\":{\"backgroundcolor\":\"#E5ECF6\",\"gridcolor\":\"white\",\"linecolor\":\"white\",\"showbackground\":true,\"ticks\":\"\",\"zerolinecolor\":\"white\",\"gridwidth\":2},\"zaxis\":{\"backgroundcolor\":\"#E5ECF6\",\"gridcolor\":\"white\",\"linecolor\":\"white\",\"showbackground\":true,\"ticks\":\"\",\"zerolinecolor\":\"white\",\"gridwidth\":2}},\"shapedefaults\":{\"line\":{\"color\":\"#2a3f5f\"}},\"annotationdefaults\":{\"arrowcolor\":\"#2a3f5f\",\"arrowhead\":0,\"arrowwidth\":1},\"geo\":{\"bgcolor\":\"white\",\"landcolor\":\"#E5ECF6\",\"subunitcolor\":\"white\",\"showland\":true,\"showlakes\":true,\"lakecolor\":\"white\"},\"title\":{\"x\":0.05},\"mapbox\":{\"style\":\"light\"}}},\"xaxis\":{\"anchor\":\"y\",\"domain\":[0.0,1.0],\"title\":{\"text\":\"Year\"}},\"yaxis\":{\"anchor\":\"x\",\"domain\":[0.0,1.0],\"title\":{\"text\":\"Total Missions\"}},\"legend\":{\"title\":{\"text\":\"USorUSSR\"},\"tracegroupgap\":0},\"margin\":{\"t\":60}},                        {\"responsive\": true}                    ).then(function(){\n",
       "                            \n",
       "var gd = document.getElementById('d37dd46c-14f0-41b3-b7f1-b73a62be78fd');\n",
       "var x = new MutationObserver(function (mutations, observer) {{\n",
       "        var display = window.getComputedStyle(gd).display;\n",
       "        if (!display || display === 'none') {{\n",
       "            console.log([gd, 'removed!']);\n",
       "            Plotly.purge(gd);\n",
       "            observer.disconnect();\n",
       "        }}\n",
       "}});\n",
       "\n",
       "// Listen for the removal of the full notebook cells\n",
       "var notebookContainer = gd.closest('#notebook-container');\n",
       "if (notebookContainer) {{\n",
       "    x.observe(notebookContainer, {childList: true});\n",
       "}}\n",
       "\n",
       "// Listen for the clearing of the current output cell\n",
       "var outputEl = gd.closest('.output');\n",
       "if (outputEl) {{\n",
       "    x.observe(outputEl, {childList: true});\n",
       "}}\n",
       "\n",
       "                        })                };                });            </script>        </div>"
      ]
     },
     "metadata": {},
     "output_type": "display_data"
    }
   ],
   "source": [
    "fig = px.line(total, x='year', y=\"mission\", color='USorUSSR').update_layout(\n",
    "    xaxis_title=\"Year\", yaxis_title=\"Total Missions\")\n",
    "fig.show()"
   ]
  },
  {
   "cell_type": "markdown",
   "id": "701bd802",
   "metadata": {},
   "source": [
    "The line graph shows that in terms of sheer number of missions to space, the USSR wins by a large margin. \n",
    "- next, lets see who wins the highest mission success ratio"
   ]
  },
  {
   "cell_type": "code",
   "execution_count": 338,
   "id": "c9401481",
   "metadata": {},
   "outputs": [],
   "source": [
    "my_df = (superp.groupby(['year', 'USorUSSR', 'outcome_cat']).count()['mission']).reset_index()\n",
    "my_df1 = (my_df.pivot(index=[\"year\", \"USorUSSR\"], columns=['outcome_cat'],values=\"mission\")).reset_index()\n",
    "my_df1['success_rate1'] = my_df1[1]/(my_df1[1]+my_df1[0])\n",
    "my_df1 = my_df1.dropna()"
   ]
  },
  {
   "cell_type": "code",
   "execution_count": 339,
   "id": "270c6d52",
   "metadata": {},
   "outputs": [
    {
     "data": {
      "application/vnd.plotly.v1+json": {
       "config": {
        "plotlyServerURL": "https://plot.ly"
       },
       "data": [
        {
         "hovertemplate": "USorUSSR=US<br>year=%{x}<br>success_rate1=%{y}<extra></extra>",
         "legendgroup": "US",
         "line": {
          "color": "#636efa",
          "dash": "solid"
         },
         "marker": {
          "symbol": "circle"
         },
         "mode": "lines",
         "name": "US",
         "orientation": "v",
         "showlegend": true,
         "type": "scatter",
         "x": [
          1964,
          1965,
          1966,
          1967,
          1968,
          1969,
          1970,
          1971,
          1972,
          1973,
          1974,
          1975,
          1976,
          1977,
          1978,
          1980,
          1981,
          1984,
          1985,
          1986,
          1987,
          1988,
          1990,
          1991
         ],
         "xaxis": "x",
         "y": [
          0.8245614035087719,
          0.8507462686567164,
          0.9102564102564102,
          0.9152542372881356,
          0.875,
          0.926829268292683,
          0.9310344827586207,
          0.90625,
          0.967741935483871,
          0.9166666666666666,
          0.9130434782608695,
          0.896551724137931,
          0.9583333333333334,
          0.8846153846153846,
          0.967741935483871,
          0.7857142857142857,
          0.8888888888888888,
          0.9523809523809523,
          0.9411764705882353,
          0.6666666666666666,
          0.875,
          0.9,
          0.9629629629629629,
          0.8947368421052632
         ],
         "yaxis": "y"
        },
        {
         "hovertemplate": "USorUSSR=USSR<br>year=%{x}<br>success_rate1=%{y}<extra></extra>",
         "legendgroup": "USSR",
         "line": {
          "color": "#EF553B",
          "dash": "solid"
         },
         "marker": {
          "symbol": "circle"
         },
         "mode": "lines",
         "name": "USSR",
         "orientation": "v",
         "showlegend": true,
         "type": "scatter",
         "x": [
          1964,
          1965,
          1966,
          1967,
          1968,
          1969,
          1970,
          1971,
          1972,
          1973,
          1974,
          1975,
          1976,
          1977,
          1978,
          1979,
          1980,
          1981,
          1982,
          1983,
          1984,
          1985,
          1986,
          1987,
          1988,
          1989,
          1990,
          1991
         ],
         "xaxis": "x",
         "y": [
          0.8055555555555556,
          0.8888888888888888,
          0.7777777777777778,
          0.8533333333333334,
          0.9259259259259259,
          0.8214285714285714,
          0.898876404494382,
          0.8804347826086957,
          0.9,
          0.9666666666666667,
          0.9418604651162791,
          0.956989247311828,
          0.97,
          0.9509803921568627,
          0.9340659340659341,
          0.9775280898876404,
          0.9662921348314607,
          0.96,
          0.9259259259259259,
          0.98,
          0.9896907216494846,
          0.96,
          0.925531914893617,
          0.9587628865979382,
          0.9468085106382979,
          0.9733333333333334,
          0.9367088607594937,
          0.9672131147540983
         ],
         "yaxis": "y"
        }
       ],
       "layout": {
        "legend": {
         "title": {
          "text": "USorUSSR"
         },
         "tracegroupgap": 0
        },
        "margin": {
         "t": 60
        },
        "template": {
         "data": {
          "bar": [
           {
            "error_x": {
             "color": "#2a3f5f"
            },
            "error_y": {
             "color": "#2a3f5f"
            },
            "marker": {
             "line": {
              "color": "#E5ECF6",
              "width": 0.5
             },
             "pattern": {
              "fillmode": "overlay",
              "size": 10,
              "solidity": 0.2
             }
            },
            "type": "bar"
           }
          ],
          "barpolar": [
           {
            "marker": {
             "line": {
              "color": "#E5ECF6",
              "width": 0.5
             },
             "pattern": {
              "fillmode": "overlay",
              "size": 10,
              "solidity": 0.2
             }
            },
            "type": "barpolar"
           }
          ],
          "carpet": [
           {
            "aaxis": {
             "endlinecolor": "#2a3f5f",
             "gridcolor": "white",
             "linecolor": "white",
             "minorgridcolor": "white",
             "startlinecolor": "#2a3f5f"
            },
            "baxis": {
             "endlinecolor": "#2a3f5f",
             "gridcolor": "white",
             "linecolor": "white",
             "minorgridcolor": "white",
             "startlinecolor": "#2a3f5f"
            },
            "type": "carpet"
           }
          ],
          "choropleth": [
           {
            "colorbar": {
             "outlinewidth": 0,
             "ticks": ""
            },
            "type": "choropleth"
           }
          ],
          "contour": [
           {
            "colorbar": {
             "outlinewidth": 0,
             "ticks": ""
            },
            "colorscale": [
             [
              0,
              "#0d0887"
             ],
             [
              0.1111111111111111,
              "#46039f"
             ],
             [
              0.2222222222222222,
              "#7201a8"
             ],
             [
              0.3333333333333333,
              "#9c179e"
             ],
             [
              0.4444444444444444,
              "#bd3786"
             ],
             [
              0.5555555555555556,
              "#d8576b"
             ],
             [
              0.6666666666666666,
              "#ed7953"
             ],
             [
              0.7777777777777778,
              "#fb9f3a"
             ],
             [
              0.8888888888888888,
              "#fdca26"
             ],
             [
              1,
              "#f0f921"
             ]
            ],
            "type": "contour"
           }
          ],
          "contourcarpet": [
           {
            "colorbar": {
             "outlinewidth": 0,
             "ticks": ""
            },
            "type": "contourcarpet"
           }
          ],
          "heatmap": [
           {
            "colorbar": {
             "outlinewidth": 0,
             "ticks": ""
            },
            "colorscale": [
             [
              0,
              "#0d0887"
             ],
             [
              0.1111111111111111,
              "#46039f"
             ],
             [
              0.2222222222222222,
              "#7201a8"
             ],
             [
              0.3333333333333333,
              "#9c179e"
             ],
             [
              0.4444444444444444,
              "#bd3786"
             ],
             [
              0.5555555555555556,
              "#d8576b"
             ],
             [
              0.6666666666666666,
              "#ed7953"
             ],
             [
              0.7777777777777778,
              "#fb9f3a"
             ],
             [
              0.8888888888888888,
              "#fdca26"
             ],
             [
              1,
              "#f0f921"
             ]
            ],
            "type": "heatmap"
           }
          ],
          "heatmapgl": [
           {
            "colorbar": {
             "outlinewidth": 0,
             "ticks": ""
            },
            "colorscale": [
             [
              0,
              "#0d0887"
             ],
             [
              0.1111111111111111,
              "#46039f"
             ],
             [
              0.2222222222222222,
              "#7201a8"
             ],
             [
              0.3333333333333333,
              "#9c179e"
             ],
             [
              0.4444444444444444,
              "#bd3786"
             ],
             [
              0.5555555555555556,
              "#d8576b"
             ],
             [
              0.6666666666666666,
              "#ed7953"
             ],
             [
              0.7777777777777778,
              "#fb9f3a"
             ],
             [
              0.8888888888888888,
              "#fdca26"
             ],
             [
              1,
              "#f0f921"
             ]
            ],
            "type": "heatmapgl"
           }
          ],
          "histogram": [
           {
            "marker": {
             "pattern": {
              "fillmode": "overlay",
              "size": 10,
              "solidity": 0.2
             }
            },
            "type": "histogram"
           }
          ],
          "histogram2d": [
           {
            "colorbar": {
             "outlinewidth": 0,
             "ticks": ""
            },
            "colorscale": [
             [
              0,
              "#0d0887"
             ],
             [
              0.1111111111111111,
              "#46039f"
             ],
             [
              0.2222222222222222,
              "#7201a8"
             ],
             [
              0.3333333333333333,
              "#9c179e"
             ],
             [
              0.4444444444444444,
              "#bd3786"
             ],
             [
              0.5555555555555556,
              "#d8576b"
             ],
             [
              0.6666666666666666,
              "#ed7953"
             ],
             [
              0.7777777777777778,
              "#fb9f3a"
             ],
             [
              0.8888888888888888,
              "#fdca26"
             ],
             [
              1,
              "#f0f921"
             ]
            ],
            "type": "histogram2d"
           }
          ],
          "histogram2dcontour": [
           {
            "colorbar": {
             "outlinewidth": 0,
             "ticks": ""
            },
            "colorscale": [
             [
              0,
              "#0d0887"
             ],
             [
              0.1111111111111111,
              "#46039f"
             ],
             [
              0.2222222222222222,
              "#7201a8"
             ],
             [
              0.3333333333333333,
              "#9c179e"
             ],
             [
              0.4444444444444444,
              "#bd3786"
             ],
             [
              0.5555555555555556,
              "#d8576b"
             ],
             [
              0.6666666666666666,
              "#ed7953"
             ],
             [
              0.7777777777777778,
              "#fb9f3a"
             ],
             [
              0.8888888888888888,
              "#fdca26"
             ],
             [
              1,
              "#f0f921"
             ]
            ],
            "type": "histogram2dcontour"
           }
          ],
          "mesh3d": [
           {
            "colorbar": {
             "outlinewidth": 0,
             "ticks": ""
            },
            "type": "mesh3d"
           }
          ],
          "parcoords": [
           {
            "line": {
             "colorbar": {
              "outlinewidth": 0,
              "ticks": ""
             }
            },
            "type": "parcoords"
           }
          ],
          "pie": [
           {
            "automargin": true,
            "type": "pie"
           }
          ],
          "scatter": [
           {
            "fillpattern": {
             "fillmode": "overlay",
             "size": 10,
             "solidity": 0.2
            },
            "type": "scatter"
           }
          ],
          "scatter3d": [
           {
            "line": {
             "colorbar": {
              "outlinewidth": 0,
              "ticks": ""
             }
            },
            "marker": {
             "colorbar": {
              "outlinewidth": 0,
              "ticks": ""
             }
            },
            "type": "scatter3d"
           }
          ],
          "scattercarpet": [
           {
            "marker": {
             "colorbar": {
              "outlinewidth": 0,
              "ticks": ""
             }
            },
            "type": "scattercarpet"
           }
          ],
          "scattergeo": [
           {
            "marker": {
             "colorbar": {
              "outlinewidth": 0,
              "ticks": ""
             }
            },
            "type": "scattergeo"
           }
          ],
          "scattergl": [
           {
            "marker": {
             "colorbar": {
              "outlinewidth": 0,
              "ticks": ""
             }
            },
            "type": "scattergl"
           }
          ],
          "scattermapbox": [
           {
            "marker": {
             "colorbar": {
              "outlinewidth": 0,
              "ticks": ""
             }
            },
            "type": "scattermapbox"
           }
          ],
          "scatterpolar": [
           {
            "marker": {
             "colorbar": {
              "outlinewidth": 0,
              "ticks": ""
             }
            },
            "type": "scatterpolar"
           }
          ],
          "scatterpolargl": [
           {
            "marker": {
             "colorbar": {
              "outlinewidth": 0,
              "ticks": ""
             }
            },
            "type": "scatterpolargl"
           }
          ],
          "scatterternary": [
           {
            "marker": {
             "colorbar": {
              "outlinewidth": 0,
              "ticks": ""
             }
            },
            "type": "scatterternary"
           }
          ],
          "surface": [
           {
            "colorbar": {
             "outlinewidth": 0,
             "ticks": ""
            },
            "colorscale": [
             [
              0,
              "#0d0887"
             ],
             [
              0.1111111111111111,
              "#46039f"
             ],
             [
              0.2222222222222222,
              "#7201a8"
             ],
             [
              0.3333333333333333,
              "#9c179e"
             ],
             [
              0.4444444444444444,
              "#bd3786"
             ],
             [
              0.5555555555555556,
              "#d8576b"
             ],
             [
              0.6666666666666666,
              "#ed7953"
             ],
             [
              0.7777777777777778,
              "#fb9f3a"
             ],
             [
              0.8888888888888888,
              "#fdca26"
             ],
             [
              1,
              "#f0f921"
             ]
            ],
            "type": "surface"
           }
          ],
          "table": [
           {
            "cells": {
             "fill": {
              "color": "#EBF0F8"
             },
             "line": {
              "color": "white"
             }
            },
            "header": {
             "fill": {
              "color": "#C8D4E3"
             },
             "line": {
              "color": "white"
             }
            },
            "type": "table"
           }
          ]
         },
         "layout": {
          "annotationdefaults": {
           "arrowcolor": "#2a3f5f",
           "arrowhead": 0,
           "arrowwidth": 1
          },
          "autotypenumbers": "strict",
          "coloraxis": {
           "colorbar": {
            "outlinewidth": 0,
            "ticks": ""
           }
          },
          "colorscale": {
           "diverging": [
            [
             0,
             "#8e0152"
            ],
            [
             0.1,
             "#c51b7d"
            ],
            [
             0.2,
             "#de77ae"
            ],
            [
             0.3,
             "#f1b6da"
            ],
            [
             0.4,
             "#fde0ef"
            ],
            [
             0.5,
             "#f7f7f7"
            ],
            [
             0.6,
             "#e6f5d0"
            ],
            [
             0.7,
             "#b8e186"
            ],
            [
             0.8,
             "#7fbc41"
            ],
            [
             0.9,
             "#4d9221"
            ],
            [
             1,
             "#276419"
            ]
           ],
           "sequential": [
            [
             0,
             "#0d0887"
            ],
            [
             0.1111111111111111,
             "#46039f"
            ],
            [
             0.2222222222222222,
             "#7201a8"
            ],
            [
             0.3333333333333333,
             "#9c179e"
            ],
            [
             0.4444444444444444,
             "#bd3786"
            ],
            [
             0.5555555555555556,
             "#d8576b"
            ],
            [
             0.6666666666666666,
             "#ed7953"
            ],
            [
             0.7777777777777778,
             "#fb9f3a"
            ],
            [
             0.8888888888888888,
             "#fdca26"
            ],
            [
             1,
             "#f0f921"
            ]
           ],
           "sequentialminus": [
            [
             0,
             "#0d0887"
            ],
            [
             0.1111111111111111,
             "#46039f"
            ],
            [
             0.2222222222222222,
             "#7201a8"
            ],
            [
             0.3333333333333333,
             "#9c179e"
            ],
            [
             0.4444444444444444,
             "#bd3786"
            ],
            [
             0.5555555555555556,
             "#d8576b"
            ],
            [
             0.6666666666666666,
             "#ed7953"
            ],
            [
             0.7777777777777778,
             "#fb9f3a"
            ],
            [
             0.8888888888888888,
             "#fdca26"
            ],
            [
             1,
             "#f0f921"
            ]
           ]
          },
          "colorway": [
           "#636efa",
           "#EF553B",
           "#00cc96",
           "#ab63fa",
           "#FFA15A",
           "#19d3f3",
           "#FF6692",
           "#B6E880",
           "#FF97FF",
           "#FECB52"
          ],
          "font": {
           "color": "#2a3f5f"
          },
          "geo": {
           "bgcolor": "white",
           "lakecolor": "white",
           "landcolor": "#E5ECF6",
           "showlakes": true,
           "showland": true,
           "subunitcolor": "white"
          },
          "hoverlabel": {
           "align": "left"
          },
          "hovermode": "closest",
          "mapbox": {
           "style": "light"
          },
          "paper_bgcolor": "white",
          "plot_bgcolor": "#E5ECF6",
          "polar": {
           "angularaxis": {
            "gridcolor": "white",
            "linecolor": "white",
            "ticks": ""
           },
           "bgcolor": "#E5ECF6",
           "radialaxis": {
            "gridcolor": "white",
            "linecolor": "white",
            "ticks": ""
           }
          },
          "scene": {
           "xaxis": {
            "backgroundcolor": "#E5ECF6",
            "gridcolor": "white",
            "gridwidth": 2,
            "linecolor": "white",
            "showbackground": true,
            "ticks": "",
            "zerolinecolor": "white"
           },
           "yaxis": {
            "backgroundcolor": "#E5ECF6",
            "gridcolor": "white",
            "gridwidth": 2,
            "linecolor": "white",
            "showbackground": true,
            "ticks": "",
            "zerolinecolor": "white"
           },
           "zaxis": {
            "backgroundcolor": "#E5ECF6",
            "gridcolor": "white",
            "gridwidth": 2,
            "linecolor": "white",
            "showbackground": true,
            "ticks": "",
            "zerolinecolor": "white"
           }
          },
          "shapedefaults": {
           "line": {
            "color": "#2a3f5f"
           }
          },
          "ternary": {
           "aaxis": {
            "gridcolor": "white",
            "linecolor": "white",
            "ticks": ""
           },
           "baxis": {
            "gridcolor": "white",
            "linecolor": "white",
            "ticks": ""
           },
           "bgcolor": "#E5ECF6",
           "caxis": {
            "gridcolor": "white",
            "linecolor": "white",
            "ticks": ""
           }
          },
          "title": {
           "x": 0.05
          },
          "xaxis": {
           "automargin": true,
           "gridcolor": "white",
           "linecolor": "white",
           "ticks": "",
           "title": {
            "standoff": 15
           },
           "zerolinecolor": "white",
           "zerolinewidth": 2
          },
          "yaxis": {
           "automargin": true,
           "gridcolor": "white",
           "linecolor": "white",
           "ticks": "",
           "title": {
            "standoff": 15
           },
           "zerolinecolor": "white",
           "zerolinewidth": 2
          }
         }
        },
        "xaxis": {
         "anchor": "y",
         "domain": [
          0,
          1
         ],
         "title": {
          "text": "year"
         }
        },
        "yaxis": {
         "anchor": "x",
         "domain": [
          0,
          1
         ],
         "title": {
          "text": "success_rate1"
         }
        }
       }
      },
      "text/html": [
       "<div>                            <div id=\"c0c78ec5-7daa-49e2-8745-2b349fe4f1f5\" class=\"plotly-graph-div\" style=\"height:525px; width:100%;\"></div>            <script type=\"text/javascript\">                require([\"plotly\"], function(Plotly) {                    window.PLOTLYENV=window.PLOTLYENV || {};                                    if (document.getElementById(\"c0c78ec5-7daa-49e2-8745-2b349fe4f1f5\")) {                    Plotly.newPlot(                        \"c0c78ec5-7daa-49e2-8745-2b349fe4f1f5\",                        [{\"hovertemplate\":\"USorUSSR=US<br>year=%{x}<br>success_rate1=%{y}<extra></extra>\",\"legendgroup\":\"US\",\"line\":{\"color\":\"#636efa\",\"dash\":\"solid\"},\"marker\":{\"symbol\":\"circle\"},\"mode\":\"lines\",\"name\":\"US\",\"orientation\":\"v\",\"showlegend\":true,\"x\":[1964,1965,1966,1967,1968,1969,1970,1971,1972,1973,1974,1975,1976,1977,1978,1980,1981,1984,1985,1986,1987,1988,1990,1991],\"xaxis\":\"x\",\"y\":[0.8245614035087719,0.8507462686567164,0.9102564102564102,0.9152542372881356,0.875,0.926829268292683,0.9310344827586207,0.90625,0.967741935483871,0.9166666666666666,0.9130434782608695,0.896551724137931,0.9583333333333334,0.8846153846153846,0.967741935483871,0.7857142857142857,0.8888888888888888,0.9523809523809523,0.9411764705882353,0.6666666666666666,0.875,0.9,0.9629629629629629,0.8947368421052632],\"yaxis\":\"y\",\"type\":\"scatter\"},{\"hovertemplate\":\"USorUSSR=USSR<br>year=%{x}<br>success_rate1=%{y}<extra></extra>\",\"legendgroup\":\"USSR\",\"line\":{\"color\":\"#EF553B\",\"dash\":\"solid\"},\"marker\":{\"symbol\":\"circle\"},\"mode\":\"lines\",\"name\":\"USSR\",\"orientation\":\"v\",\"showlegend\":true,\"x\":[1964,1965,1966,1967,1968,1969,1970,1971,1972,1973,1974,1975,1976,1977,1978,1979,1980,1981,1982,1983,1984,1985,1986,1987,1988,1989,1990,1991],\"xaxis\":\"x\",\"y\":[0.8055555555555556,0.8888888888888888,0.7777777777777778,0.8533333333333334,0.9259259259259259,0.8214285714285714,0.898876404494382,0.8804347826086957,0.9,0.9666666666666667,0.9418604651162791,0.956989247311828,0.97,0.9509803921568627,0.9340659340659341,0.9775280898876404,0.9662921348314607,0.96,0.9259259259259259,0.98,0.9896907216494846,0.96,0.925531914893617,0.9587628865979382,0.9468085106382979,0.9733333333333334,0.9367088607594937,0.9672131147540983],\"yaxis\":\"y\",\"type\":\"scatter\"}],                        {\"template\":{\"data\":{\"histogram2dcontour\":[{\"type\":\"histogram2dcontour\",\"colorbar\":{\"outlinewidth\":0,\"ticks\":\"\"},\"colorscale\":[[0.0,\"#0d0887\"],[0.1111111111111111,\"#46039f\"],[0.2222222222222222,\"#7201a8\"],[0.3333333333333333,\"#9c179e\"],[0.4444444444444444,\"#bd3786\"],[0.5555555555555556,\"#d8576b\"],[0.6666666666666666,\"#ed7953\"],[0.7777777777777778,\"#fb9f3a\"],[0.8888888888888888,\"#fdca26\"],[1.0,\"#f0f921\"]]}],\"choropleth\":[{\"type\":\"choropleth\",\"colorbar\":{\"outlinewidth\":0,\"ticks\":\"\"}}],\"histogram2d\":[{\"type\":\"histogram2d\",\"colorbar\":{\"outlinewidth\":0,\"ticks\":\"\"},\"colorscale\":[[0.0,\"#0d0887\"],[0.1111111111111111,\"#46039f\"],[0.2222222222222222,\"#7201a8\"],[0.3333333333333333,\"#9c179e\"],[0.4444444444444444,\"#bd3786\"],[0.5555555555555556,\"#d8576b\"],[0.6666666666666666,\"#ed7953\"],[0.7777777777777778,\"#fb9f3a\"],[0.8888888888888888,\"#fdca26\"],[1.0,\"#f0f921\"]]}],\"heatmap\":[{\"type\":\"heatmap\",\"colorbar\":{\"outlinewidth\":0,\"ticks\":\"\"},\"colorscale\":[[0.0,\"#0d0887\"],[0.1111111111111111,\"#46039f\"],[0.2222222222222222,\"#7201a8\"],[0.3333333333333333,\"#9c179e\"],[0.4444444444444444,\"#bd3786\"],[0.5555555555555556,\"#d8576b\"],[0.6666666666666666,\"#ed7953\"],[0.7777777777777778,\"#fb9f3a\"],[0.8888888888888888,\"#fdca26\"],[1.0,\"#f0f921\"]]}],\"heatmapgl\":[{\"type\":\"heatmapgl\",\"colorbar\":{\"outlinewidth\":0,\"ticks\":\"\"},\"colorscale\":[[0.0,\"#0d0887\"],[0.1111111111111111,\"#46039f\"],[0.2222222222222222,\"#7201a8\"],[0.3333333333333333,\"#9c179e\"],[0.4444444444444444,\"#bd3786\"],[0.5555555555555556,\"#d8576b\"],[0.6666666666666666,\"#ed7953\"],[0.7777777777777778,\"#fb9f3a\"],[0.8888888888888888,\"#fdca26\"],[1.0,\"#f0f921\"]]}],\"contourcarpet\":[{\"type\":\"contourcarpet\",\"colorbar\":{\"outlinewidth\":0,\"ticks\":\"\"}}],\"contour\":[{\"type\":\"contour\",\"colorbar\":{\"outlinewidth\":0,\"ticks\":\"\"},\"colorscale\":[[0.0,\"#0d0887\"],[0.1111111111111111,\"#46039f\"],[0.2222222222222222,\"#7201a8\"],[0.3333333333333333,\"#9c179e\"],[0.4444444444444444,\"#bd3786\"],[0.5555555555555556,\"#d8576b\"],[0.6666666666666666,\"#ed7953\"],[0.7777777777777778,\"#fb9f3a\"],[0.8888888888888888,\"#fdca26\"],[1.0,\"#f0f921\"]]}],\"surface\":[{\"type\":\"surface\",\"colorbar\":{\"outlinewidth\":0,\"ticks\":\"\"},\"colorscale\":[[0.0,\"#0d0887\"],[0.1111111111111111,\"#46039f\"],[0.2222222222222222,\"#7201a8\"],[0.3333333333333333,\"#9c179e\"],[0.4444444444444444,\"#bd3786\"],[0.5555555555555556,\"#d8576b\"],[0.6666666666666666,\"#ed7953\"],[0.7777777777777778,\"#fb9f3a\"],[0.8888888888888888,\"#fdca26\"],[1.0,\"#f0f921\"]]}],\"mesh3d\":[{\"type\":\"mesh3d\",\"colorbar\":{\"outlinewidth\":0,\"ticks\":\"\"}}],\"scatter\":[{\"fillpattern\":{\"fillmode\":\"overlay\",\"size\":10,\"solidity\":0.2},\"type\":\"scatter\"}],\"parcoords\":[{\"type\":\"parcoords\",\"line\":{\"colorbar\":{\"outlinewidth\":0,\"ticks\":\"\"}}}],\"scatterpolargl\":[{\"type\":\"scatterpolargl\",\"marker\":{\"colorbar\":{\"outlinewidth\":0,\"ticks\":\"\"}}}],\"bar\":[{\"error_x\":{\"color\":\"#2a3f5f\"},\"error_y\":{\"color\":\"#2a3f5f\"},\"marker\":{\"line\":{\"color\":\"#E5ECF6\",\"width\":0.5},\"pattern\":{\"fillmode\":\"overlay\",\"size\":10,\"solidity\":0.2}},\"type\":\"bar\"}],\"scattergeo\":[{\"type\":\"scattergeo\",\"marker\":{\"colorbar\":{\"outlinewidth\":0,\"ticks\":\"\"}}}],\"scatterpolar\":[{\"type\":\"scatterpolar\",\"marker\":{\"colorbar\":{\"outlinewidth\":0,\"ticks\":\"\"}}}],\"histogram\":[{\"marker\":{\"pattern\":{\"fillmode\":\"overlay\",\"size\":10,\"solidity\":0.2}},\"type\":\"histogram\"}],\"scattergl\":[{\"type\":\"scattergl\",\"marker\":{\"colorbar\":{\"outlinewidth\":0,\"ticks\":\"\"}}}],\"scatter3d\":[{\"type\":\"scatter3d\",\"line\":{\"colorbar\":{\"outlinewidth\":0,\"ticks\":\"\"}},\"marker\":{\"colorbar\":{\"outlinewidth\":0,\"ticks\":\"\"}}}],\"scattermapbox\":[{\"type\":\"scattermapbox\",\"marker\":{\"colorbar\":{\"outlinewidth\":0,\"ticks\":\"\"}}}],\"scatterternary\":[{\"type\":\"scatterternary\",\"marker\":{\"colorbar\":{\"outlinewidth\":0,\"ticks\":\"\"}}}],\"scattercarpet\":[{\"type\":\"scattercarpet\",\"marker\":{\"colorbar\":{\"outlinewidth\":0,\"ticks\":\"\"}}}],\"carpet\":[{\"aaxis\":{\"endlinecolor\":\"#2a3f5f\",\"gridcolor\":\"white\",\"linecolor\":\"white\",\"minorgridcolor\":\"white\",\"startlinecolor\":\"#2a3f5f\"},\"baxis\":{\"endlinecolor\":\"#2a3f5f\",\"gridcolor\":\"white\",\"linecolor\":\"white\",\"minorgridcolor\":\"white\",\"startlinecolor\":\"#2a3f5f\"},\"type\":\"carpet\"}],\"table\":[{\"cells\":{\"fill\":{\"color\":\"#EBF0F8\"},\"line\":{\"color\":\"white\"}},\"header\":{\"fill\":{\"color\":\"#C8D4E3\"},\"line\":{\"color\":\"white\"}},\"type\":\"table\"}],\"barpolar\":[{\"marker\":{\"line\":{\"color\":\"#E5ECF6\",\"width\":0.5},\"pattern\":{\"fillmode\":\"overlay\",\"size\":10,\"solidity\":0.2}},\"type\":\"barpolar\"}],\"pie\":[{\"automargin\":true,\"type\":\"pie\"}]},\"layout\":{\"autotypenumbers\":\"strict\",\"colorway\":[\"#636efa\",\"#EF553B\",\"#00cc96\",\"#ab63fa\",\"#FFA15A\",\"#19d3f3\",\"#FF6692\",\"#B6E880\",\"#FF97FF\",\"#FECB52\"],\"font\":{\"color\":\"#2a3f5f\"},\"hovermode\":\"closest\",\"hoverlabel\":{\"align\":\"left\"},\"paper_bgcolor\":\"white\",\"plot_bgcolor\":\"#E5ECF6\",\"polar\":{\"bgcolor\":\"#E5ECF6\",\"angularaxis\":{\"gridcolor\":\"white\",\"linecolor\":\"white\",\"ticks\":\"\"},\"radialaxis\":{\"gridcolor\":\"white\",\"linecolor\":\"white\",\"ticks\":\"\"}},\"ternary\":{\"bgcolor\":\"#E5ECF6\",\"aaxis\":{\"gridcolor\":\"white\",\"linecolor\":\"white\",\"ticks\":\"\"},\"baxis\":{\"gridcolor\":\"white\",\"linecolor\":\"white\",\"ticks\":\"\"},\"caxis\":{\"gridcolor\":\"white\",\"linecolor\":\"white\",\"ticks\":\"\"}},\"coloraxis\":{\"colorbar\":{\"outlinewidth\":0,\"ticks\":\"\"}},\"colorscale\":{\"sequential\":[[0.0,\"#0d0887\"],[0.1111111111111111,\"#46039f\"],[0.2222222222222222,\"#7201a8\"],[0.3333333333333333,\"#9c179e\"],[0.4444444444444444,\"#bd3786\"],[0.5555555555555556,\"#d8576b\"],[0.6666666666666666,\"#ed7953\"],[0.7777777777777778,\"#fb9f3a\"],[0.8888888888888888,\"#fdca26\"],[1.0,\"#f0f921\"]],\"sequentialminus\":[[0.0,\"#0d0887\"],[0.1111111111111111,\"#46039f\"],[0.2222222222222222,\"#7201a8\"],[0.3333333333333333,\"#9c179e\"],[0.4444444444444444,\"#bd3786\"],[0.5555555555555556,\"#d8576b\"],[0.6666666666666666,\"#ed7953\"],[0.7777777777777778,\"#fb9f3a\"],[0.8888888888888888,\"#fdca26\"],[1.0,\"#f0f921\"]],\"diverging\":[[0,\"#8e0152\"],[0.1,\"#c51b7d\"],[0.2,\"#de77ae\"],[0.3,\"#f1b6da\"],[0.4,\"#fde0ef\"],[0.5,\"#f7f7f7\"],[0.6,\"#e6f5d0\"],[0.7,\"#b8e186\"],[0.8,\"#7fbc41\"],[0.9,\"#4d9221\"],[1,\"#276419\"]]},\"xaxis\":{\"gridcolor\":\"white\",\"linecolor\":\"white\",\"ticks\":\"\",\"title\":{\"standoff\":15},\"zerolinecolor\":\"white\",\"automargin\":true,\"zerolinewidth\":2},\"yaxis\":{\"gridcolor\":\"white\",\"linecolor\":\"white\",\"ticks\":\"\",\"title\":{\"standoff\":15},\"zerolinecolor\":\"white\",\"automargin\":true,\"zerolinewidth\":2},\"scene\":{\"xaxis\":{\"backgroundcolor\":\"#E5ECF6\",\"gridcolor\":\"white\",\"linecolor\":\"white\",\"showbackground\":true,\"ticks\":\"\",\"zerolinecolor\":\"white\",\"gridwidth\":2},\"yaxis\":{\"backgroundcolor\":\"#E5ECF6\",\"gridcolor\":\"white\",\"linecolor\":\"white\",\"showbackground\":true,\"ticks\":\"\",\"zerolinecolor\":\"white\",\"gridwidth\":2},\"zaxis\":{\"backgroundcolor\":\"#E5ECF6\",\"gridcolor\":\"white\",\"linecolor\":\"white\",\"showbackground\":true,\"ticks\":\"\",\"zerolinecolor\":\"white\",\"gridwidth\":2}},\"shapedefaults\":{\"line\":{\"color\":\"#2a3f5f\"}},\"annotationdefaults\":{\"arrowcolor\":\"#2a3f5f\",\"arrowhead\":0,\"arrowwidth\":1},\"geo\":{\"bgcolor\":\"white\",\"landcolor\":\"#E5ECF6\",\"subunitcolor\":\"white\",\"showland\":true,\"showlakes\":true,\"lakecolor\":\"white\"},\"title\":{\"x\":0.05},\"mapbox\":{\"style\":\"light\"}}},\"xaxis\":{\"anchor\":\"y\",\"domain\":[0.0,1.0],\"title\":{\"text\":\"year\"}},\"yaxis\":{\"anchor\":\"x\",\"domain\":[0.0,1.0],\"title\":{\"text\":\"success_rate1\"}},\"legend\":{\"title\":{\"text\":\"USorUSSR\"},\"tracegroupgap\":0},\"margin\":{\"t\":60}},                        {\"responsive\": true}                    ).then(function(){\n",
       "                            \n",
       "var gd = document.getElementById('c0c78ec5-7daa-49e2-8745-2b349fe4f1f5');\n",
       "var x = new MutationObserver(function (mutations, observer) {{\n",
       "        var display = window.getComputedStyle(gd).display;\n",
       "        if (!display || display === 'none') {{\n",
       "            console.log([gd, 'removed!']);\n",
       "            Plotly.purge(gd);\n",
       "            observer.disconnect();\n",
       "        }}\n",
       "}});\n",
       "\n",
       "// Listen for the removal of the full notebook cells\n",
       "var notebookContainer = gd.closest('#notebook-container');\n",
       "if (notebookContainer) {{\n",
       "    x.observe(notebookContainer, {childList: true});\n",
       "}}\n",
       "\n",
       "// Listen for the clearing of the current output cell\n",
       "var outputEl = gd.closest('.output');\n",
       "if (outputEl) {{\n",
       "    x.observe(outputEl, {childList: true});\n",
       "}}\n",
       "\n",
       "                        })                };                });            </script>        </div>"
      ]
     },
     "metadata": {},
     "output_type": "display_data"
    }
   ],
   "source": [
    "fig = px.line(my_df1, x='year', y=\"success_rate1\", color='USorUSSR')\n",
    "fig.show()"
   ]
  },
  {
   "cell_type": "markdown",
   "id": "6333c670",
   "metadata": {},
   "source": [
    "As shown on the graph, the USSR also consistently performs better in terms of success ratio after ~1977. Since it appears the USSR wins in both number of missions launched as well as success ratio, does the total monetary investment reflect this trend?:\n",
    "- how much did the 2 superpowers invest in the space race? Is there a correlation to spending more and having more launches/ succesful launches?"
   ]
  },
  {
   "cell_type": "code",
   "execution_count": 347,
   "id": "3f7b2045",
   "metadata": {
    "scrolled": false
   },
   "outputs": [
    {
     "data": {
      "application/vnd.plotly.v1+json": {
       "config": {
        "plotlyServerURL": "https://plot.ly"
       },
       "data": [
        {
         "hovertemplate": "USorUSSR=US<br>year=%{x}<br>price=%{y}<extra></extra>",
         "legendgroup": "US",
         "line": {
          "color": "#636efa",
          "dash": "solid"
         },
         "marker": {
          "symbol": "circle"
         },
         "mode": "lines",
         "name": "US",
         "orientation": "v",
         "showlegend": true,
         "type": "scatter",
         "x": [
          1964,
          1965,
          1966,
          1967,
          1968,
          1969,
          1970,
          1971,
          1972,
          1973,
          1974,
          1975,
          1976,
          1977,
          1978,
          1979,
          1980,
          1981,
          1982,
          1983,
          1984,
          1985,
          1986,
          1987,
          1988,
          1989,
          1990,
          1991
         ],
         "xaxis": "x",
         "y": [
          3604110000,
          4236410000,
          4602000000,
          12760857142.857143,
          13401600000,
          24989500000,
          33640000000,
          37120000000,
          35960000000,
          8175000000,
          460000000,
          580000000,
          480000000,
          520000000,
          620000000,
          320000000,
          280000000,
          1532727272.7272727,
          2007371428.5714285,
          2760075000,
          3287056000,
          4837328000,
          1207066666.6666665,
          704953191.4893616,
          1707328000,
          3107727272.727273,
          4731432558.139535,
          4048387096.774194
         ],
         "yaxis": "y"
        },
        {
         "hovertemplate": "USorUSSR=USSR<br>year=%{x}<br>price=%{y}<extra></extra>",
         "legendgroup": "USSR",
         "line": {
          "color": "#EF553B",
          "dash": "solid"
         },
         "marker": {
          "symbol": "circle"
         },
         "mode": "lines",
         "name": "USSR",
         "orientation": "v",
         "showlegend": true,
         "type": "scatter",
         "x": [
          1964,
          1965,
          1966,
          1967,
          1968,
          1969,
          1970,
          1971,
          1972,
          1973,
          1974,
          1975,
          1976,
          1977,
          1978,
          1979,
          1980,
          1981,
          1982,
          1983,
          1984,
          1985,
          1986,
          1987,
          1988,
          1989,
          1990,
          1991
         ],
         "xaxis": "x",
         "y": [
          2276280000,
          3414420000,
          3186000000,
          16221428571.428572,
          22615200000,
          51198000000,
          103240000000,
          106720000000,
          92800000000,
          26595000000,
          1720000000,
          1860000000,
          2000000000,
          2040000000,
          1820000000,
          1780000000,
          1780000000,
          3133636363.6363635,
          3878171428.571429,
          4099075000,
          4395248000,
          6744960000,
          3324266666.666666,
          8662195744.680851,
          8923968000,
          3504659090.909091,
          5192748837.209302,
          4674193548.387096
         ],
         "yaxis": "y"
        }
       ],
       "layout": {
        "legend": {
         "title": {
          "text": "USorUSSR"
         },
         "tracegroupgap": 0
        },
        "margin": {
         "t": 60
        },
        "template": {
         "data": {
          "bar": [
           {
            "error_x": {
             "color": "#2a3f5f"
            },
            "error_y": {
             "color": "#2a3f5f"
            },
            "marker": {
             "line": {
              "color": "#E5ECF6",
              "width": 0.5
             },
             "pattern": {
              "fillmode": "overlay",
              "size": 10,
              "solidity": 0.2
             }
            },
            "type": "bar"
           }
          ],
          "barpolar": [
           {
            "marker": {
             "line": {
              "color": "#E5ECF6",
              "width": 0.5
             },
             "pattern": {
              "fillmode": "overlay",
              "size": 10,
              "solidity": 0.2
             }
            },
            "type": "barpolar"
           }
          ],
          "carpet": [
           {
            "aaxis": {
             "endlinecolor": "#2a3f5f",
             "gridcolor": "white",
             "linecolor": "white",
             "minorgridcolor": "white",
             "startlinecolor": "#2a3f5f"
            },
            "baxis": {
             "endlinecolor": "#2a3f5f",
             "gridcolor": "white",
             "linecolor": "white",
             "minorgridcolor": "white",
             "startlinecolor": "#2a3f5f"
            },
            "type": "carpet"
           }
          ],
          "choropleth": [
           {
            "colorbar": {
             "outlinewidth": 0,
             "ticks": ""
            },
            "type": "choropleth"
           }
          ],
          "contour": [
           {
            "colorbar": {
             "outlinewidth": 0,
             "ticks": ""
            },
            "colorscale": [
             [
              0,
              "#0d0887"
             ],
             [
              0.1111111111111111,
              "#46039f"
             ],
             [
              0.2222222222222222,
              "#7201a8"
             ],
             [
              0.3333333333333333,
              "#9c179e"
             ],
             [
              0.4444444444444444,
              "#bd3786"
             ],
             [
              0.5555555555555556,
              "#d8576b"
             ],
             [
              0.6666666666666666,
              "#ed7953"
             ],
             [
              0.7777777777777778,
              "#fb9f3a"
             ],
             [
              0.8888888888888888,
              "#fdca26"
             ],
             [
              1,
              "#f0f921"
             ]
            ],
            "type": "contour"
           }
          ],
          "contourcarpet": [
           {
            "colorbar": {
             "outlinewidth": 0,
             "ticks": ""
            },
            "type": "contourcarpet"
           }
          ],
          "heatmap": [
           {
            "colorbar": {
             "outlinewidth": 0,
             "ticks": ""
            },
            "colorscale": [
             [
              0,
              "#0d0887"
             ],
             [
              0.1111111111111111,
              "#46039f"
             ],
             [
              0.2222222222222222,
              "#7201a8"
             ],
             [
              0.3333333333333333,
              "#9c179e"
             ],
             [
              0.4444444444444444,
              "#bd3786"
             ],
             [
              0.5555555555555556,
              "#d8576b"
             ],
             [
              0.6666666666666666,
              "#ed7953"
             ],
             [
              0.7777777777777778,
              "#fb9f3a"
             ],
             [
              0.8888888888888888,
              "#fdca26"
             ],
             [
              1,
              "#f0f921"
             ]
            ],
            "type": "heatmap"
           }
          ],
          "heatmapgl": [
           {
            "colorbar": {
             "outlinewidth": 0,
             "ticks": ""
            },
            "colorscale": [
             [
              0,
              "#0d0887"
             ],
             [
              0.1111111111111111,
              "#46039f"
             ],
             [
              0.2222222222222222,
              "#7201a8"
             ],
             [
              0.3333333333333333,
              "#9c179e"
             ],
             [
              0.4444444444444444,
              "#bd3786"
             ],
             [
              0.5555555555555556,
              "#d8576b"
             ],
             [
              0.6666666666666666,
              "#ed7953"
             ],
             [
              0.7777777777777778,
              "#fb9f3a"
             ],
             [
              0.8888888888888888,
              "#fdca26"
             ],
             [
              1,
              "#f0f921"
             ]
            ],
            "type": "heatmapgl"
           }
          ],
          "histogram": [
           {
            "marker": {
             "pattern": {
              "fillmode": "overlay",
              "size": 10,
              "solidity": 0.2
             }
            },
            "type": "histogram"
           }
          ],
          "histogram2d": [
           {
            "colorbar": {
             "outlinewidth": 0,
             "ticks": ""
            },
            "colorscale": [
             [
              0,
              "#0d0887"
             ],
             [
              0.1111111111111111,
              "#46039f"
             ],
             [
              0.2222222222222222,
              "#7201a8"
             ],
             [
              0.3333333333333333,
              "#9c179e"
             ],
             [
              0.4444444444444444,
              "#bd3786"
             ],
             [
              0.5555555555555556,
              "#d8576b"
             ],
             [
              0.6666666666666666,
              "#ed7953"
             ],
             [
              0.7777777777777778,
              "#fb9f3a"
             ],
             [
              0.8888888888888888,
              "#fdca26"
             ],
             [
              1,
              "#f0f921"
             ]
            ],
            "type": "histogram2d"
           }
          ],
          "histogram2dcontour": [
           {
            "colorbar": {
             "outlinewidth": 0,
             "ticks": ""
            },
            "colorscale": [
             [
              0,
              "#0d0887"
             ],
             [
              0.1111111111111111,
              "#46039f"
             ],
             [
              0.2222222222222222,
              "#7201a8"
             ],
             [
              0.3333333333333333,
              "#9c179e"
             ],
             [
              0.4444444444444444,
              "#bd3786"
             ],
             [
              0.5555555555555556,
              "#d8576b"
             ],
             [
              0.6666666666666666,
              "#ed7953"
             ],
             [
              0.7777777777777778,
              "#fb9f3a"
             ],
             [
              0.8888888888888888,
              "#fdca26"
             ],
             [
              1,
              "#f0f921"
             ]
            ],
            "type": "histogram2dcontour"
           }
          ],
          "mesh3d": [
           {
            "colorbar": {
             "outlinewidth": 0,
             "ticks": ""
            },
            "type": "mesh3d"
           }
          ],
          "parcoords": [
           {
            "line": {
             "colorbar": {
              "outlinewidth": 0,
              "ticks": ""
             }
            },
            "type": "parcoords"
           }
          ],
          "pie": [
           {
            "automargin": true,
            "type": "pie"
           }
          ],
          "scatter": [
           {
            "fillpattern": {
             "fillmode": "overlay",
             "size": 10,
             "solidity": 0.2
            },
            "type": "scatter"
           }
          ],
          "scatter3d": [
           {
            "line": {
             "colorbar": {
              "outlinewidth": 0,
              "ticks": ""
             }
            },
            "marker": {
             "colorbar": {
              "outlinewidth": 0,
              "ticks": ""
             }
            },
            "type": "scatter3d"
           }
          ],
          "scattercarpet": [
           {
            "marker": {
             "colorbar": {
              "outlinewidth": 0,
              "ticks": ""
             }
            },
            "type": "scattercarpet"
           }
          ],
          "scattergeo": [
           {
            "marker": {
             "colorbar": {
              "outlinewidth": 0,
              "ticks": ""
             }
            },
            "type": "scattergeo"
           }
          ],
          "scattergl": [
           {
            "marker": {
             "colorbar": {
              "outlinewidth": 0,
              "ticks": ""
             }
            },
            "type": "scattergl"
           }
          ],
          "scattermapbox": [
           {
            "marker": {
             "colorbar": {
              "outlinewidth": 0,
              "ticks": ""
             }
            },
            "type": "scattermapbox"
           }
          ],
          "scatterpolar": [
           {
            "marker": {
             "colorbar": {
              "outlinewidth": 0,
              "ticks": ""
             }
            },
            "type": "scatterpolar"
           }
          ],
          "scatterpolargl": [
           {
            "marker": {
             "colorbar": {
              "outlinewidth": 0,
              "ticks": ""
             }
            },
            "type": "scatterpolargl"
           }
          ],
          "scatterternary": [
           {
            "marker": {
             "colorbar": {
              "outlinewidth": 0,
              "ticks": ""
             }
            },
            "type": "scatterternary"
           }
          ],
          "surface": [
           {
            "colorbar": {
             "outlinewidth": 0,
             "ticks": ""
            },
            "colorscale": [
             [
              0,
              "#0d0887"
             ],
             [
              0.1111111111111111,
              "#46039f"
             ],
             [
              0.2222222222222222,
              "#7201a8"
             ],
             [
              0.3333333333333333,
              "#9c179e"
             ],
             [
              0.4444444444444444,
              "#bd3786"
             ],
             [
              0.5555555555555556,
              "#d8576b"
             ],
             [
              0.6666666666666666,
              "#ed7953"
             ],
             [
              0.7777777777777778,
              "#fb9f3a"
             ],
             [
              0.8888888888888888,
              "#fdca26"
             ],
             [
              1,
              "#f0f921"
             ]
            ],
            "type": "surface"
           }
          ],
          "table": [
           {
            "cells": {
             "fill": {
              "color": "#EBF0F8"
             },
             "line": {
              "color": "white"
             }
            },
            "header": {
             "fill": {
              "color": "#C8D4E3"
             },
             "line": {
              "color": "white"
             }
            },
            "type": "table"
           }
          ]
         },
         "layout": {
          "annotationdefaults": {
           "arrowcolor": "#2a3f5f",
           "arrowhead": 0,
           "arrowwidth": 1
          },
          "autotypenumbers": "strict",
          "coloraxis": {
           "colorbar": {
            "outlinewidth": 0,
            "ticks": ""
           }
          },
          "colorscale": {
           "diverging": [
            [
             0,
             "#8e0152"
            ],
            [
             0.1,
             "#c51b7d"
            ],
            [
             0.2,
             "#de77ae"
            ],
            [
             0.3,
             "#f1b6da"
            ],
            [
             0.4,
             "#fde0ef"
            ],
            [
             0.5,
             "#f7f7f7"
            ],
            [
             0.6,
             "#e6f5d0"
            ],
            [
             0.7,
             "#b8e186"
            ],
            [
             0.8,
             "#7fbc41"
            ],
            [
             0.9,
             "#4d9221"
            ],
            [
             1,
             "#276419"
            ]
           ],
           "sequential": [
            [
             0,
             "#0d0887"
            ],
            [
             0.1111111111111111,
             "#46039f"
            ],
            [
             0.2222222222222222,
             "#7201a8"
            ],
            [
             0.3333333333333333,
             "#9c179e"
            ],
            [
             0.4444444444444444,
             "#bd3786"
            ],
            [
             0.5555555555555556,
             "#d8576b"
            ],
            [
             0.6666666666666666,
             "#ed7953"
            ],
            [
             0.7777777777777778,
             "#fb9f3a"
            ],
            [
             0.8888888888888888,
             "#fdca26"
            ],
            [
             1,
             "#f0f921"
            ]
           ],
           "sequentialminus": [
            [
             0,
             "#0d0887"
            ],
            [
             0.1111111111111111,
             "#46039f"
            ],
            [
             0.2222222222222222,
             "#7201a8"
            ],
            [
             0.3333333333333333,
             "#9c179e"
            ],
            [
             0.4444444444444444,
             "#bd3786"
            ],
            [
             0.5555555555555556,
             "#d8576b"
            ],
            [
             0.6666666666666666,
             "#ed7953"
            ],
            [
             0.7777777777777778,
             "#fb9f3a"
            ],
            [
             0.8888888888888888,
             "#fdca26"
            ],
            [
             1,
             "#f0f921"
            ]
           ]
          },
          "colorway": [
           "#636efa",
           "#EF553B",
           "#00cc96",
           "#ab63fa",
           "#FFA15A",
           "#19d3f3",
           "#FF6692",
           "#B6E880",
           "#FF97FF",
           "#FECB52"
          ],
          "font": {
           "color": "#2a3f5f"
          },
          "geo": {
           "bgcolor": "white",
           "lakecolor": "white",
           "landcolor": "#E5ECF6",
           "showlakes": true,
           "showland": true,
           "subunitcolor": "white"
          },
          "hoverlabel": {
           "align": "left"
          },
          "hovermode": "closest",
          "mapbox": {
           "style": "light"
          },
          "paper_bgcolor": "white",
          "plot_bgcolor": "#E5ECF6",
          "polar": {
           "angularaxis": {
            "gridcolor": "white",
            "linecolor": "white",
            "ticks": ""
           },
           "bgcolor": "#E5ECF6",
           "radialaxis": {
            "gridcolor": "white",
            "linecolor": "white",
            "ticks": ""
           }
          },
          "scene": {
           "xaxis": {
            "backgroundcolor": "#E5ECF6",
            "gridcolor": "white",
            "gridwidth": 2,
            "linecolor": "white",
            "showbackground": true,
            "ticks": "",
            "zerolinecolor": "white"
           },
           "yaxis": {
            "backgroundcolor": "#E5ECF6",
            "gridcolor": "white",
            "gridwidth": 2,
            "linecolor": "white",
            "showbackground": true,
            "ticks": "",
            "zerolinecolor": "white"
           },
           "zaxis": {
            "backgroundcolor": "#E5ECF6",
            "gridcolor": "white",
            "gridwidth": 2,
            "linecolor": "white",
            "showbackground": true,
            "ticks": "",
            "zerolinecolor": "white"
           }
          },
          "shapedefaults": {
           "line": {
            "color": "#2a3f5f"
           }
          },
          "ternary": {
           "aaxis": {
            "gridcolor": "white",
            "linecolor": "white",
            "ticks": ""
           },
           "baxis": {
            "gridcolor": "white",
            "linecolor": "white",
            "ticks": ""
           },
           "bgcolor": "#E5ECF6",
           "caxis": {
            "gridcolor": "white",
            "linecolor": "white",
            "ticks": ""
           }
          },
          "title": {
           "x": 0.05
          },
          "xaxis": {
           "automargin": true,
           "gridcolor": "white",
           "linecolor": "white",
           "ticks": "",
           "title": {
            "standoff": 15
           },
           "zerolinecolor": "white",
           "zerolinewidth": 2
          },
          "yaxis": {
           "automargin": true,
           "gridcolor": "white",
           "linecolor": "white",
           "ticks": "",
           "title": {
            "standoff": 15
           },
           "zerolinecolor": "white",
           "zerolinewidth": 2
          }
         }
        },
        "xaxis": {
         "anchor": "y",
         "domain": [
          0,
          1
         ],
         "title": {
          "text": "Year"
         }
        },
        "yaxis": {
         "anchor": "x",
         "domain": [
          0,
          1
         ],
         "title": {
          "text": "Total Cost"
         }
        }
       }
      },
      "text/html": [
       "<div>                            <div id=\"9b5785e2-661a-437b-b251-4fddf024d37c\" class=\"plotly-graph-div\" style=\"height:525px; width:100%;\"></div>            <script type=\"text/javascript\">                require([\"plotly\"], function(Plotly) {                    window.PLOTLYENV=window.PLOTLYENV || {};                                    if (document.getElementById(\"9b5785e2-661a-437b-b251-4fddf024d37c\")) {                    Plotly.newPlot(                        \"9b5785e2-661a-437b-b251-4fddf024d37c\",                        [{\"hovertemplate\":\"USorUSSR=US<br>year=%{x}<br>price=%{y}<extra></extra>\",\"legendgroup\":\"US\",\"line\":{\"color\":\"#636efa\",\"dash\":\"solid\"},\"marker\":{\"symbol\":\"circle\"},\"mode\":\"lines\",\"name\":\"US\",\"orientation\":\"v\",\"showlegend\":true,\"x\":[1964,1965,1966,1967,1968,1969,1970,1971,1972,1973,1974,1975,1976,1977,1978,1979,1980,1981,1982,1983,1984,1985,1986,1987,1988,1989,1990,1991],\"xaxis\":\"x\",\"y\":[3604110000.0,4236410000.0,4602000000.0,12760857142.857143,13401600000.0,24989500000.0,33640000000.0,37120000000.0,35960000000.0,8175000000.0,460000000.0,580000000.0,480000000.0,520000000.0,620000000.0,320000000.0,280000000.0,1532727272.7272727,2007371428.5714285,2760075000.0,3287056000.0,4837328000.0,1207066666.6666665,704953191.4893616,1707328000.0,3107727272.727273,4731432558.139535,4048387096.774194],\"yaxis\":\"y\",\"type\":\"scatter\"},{\"hovertemplate\":\"USorUSSR=USSR<br>year=%{x}<br>price=%{y}<extra></extra>\",\"legendgroup\":\"USSR\",\"line\":{\"color\":\"#EF553B\",\"dash\":\"solid\"},\"marker\":{\"symbol\":\"circle\"},\"mode\":\"lines\",\"name\":\"USSR\",\"orientation\":\"v\",\"showlegend\":true,\"x\":[1964,1965,1966,1967,1968,1969,1970,1971,1972,1973,1974,1975,1976,1977,1978,1979,1980,1981,1982,1983,1984,1985,1986,1987,1988,1989,1990,1991],\"xaxis\":\"x\",\"y\":[2276280000.0,3414420000.0,3186000000.0,16221428571.428572,22615200000.0,51198000000.0,103240000000.0,106720000000.0,92800000000.0,26595000000.0,1720000000.0,1860000000.0,2000000000.0,2040000000.0,1820000000.0,1780000000.0,1780000000.0,3133636363.6363635,3878171428.571429,4099075000.0,4395248000.0,6744960000.0,3324266666.666666,8662195744.680851,8923968000.0,3504659090.909091,5192748837.209302,4674193548.387096],\"yaxis\":\"y\",\"type\":\"scatter\"}],                        {\"template\":{\"data\":{\"histogram2dcontour\":[{\"type\":\"histogram2dcontour\",\"colorbar\":{\"outlinewidth\":0,\"ticks\":\"\"},\"colorscale\":[[0.0,\"#0d0887\"],[0.1111111111111111,\"#46039f\"],[0.2222222222222222,\"#7201a8\"],[0.3333333333333333,\"#9c179e\"],[0.4444444444444444,\"#bd3786\"],[0.5555555555555556,\"#d8576b\"],[0.6666666666666666,\"#ed7953\"],[0.7777777777777778,\"#fb9f3a\"],[0.8888888888888888,\"#fdca26\"],[1.0,\"#f0f921\"]]}],\"choropleth\":[{\"type\":\"choropleth\",\"colorbar\":{\"outlinewidth\":0,\"ticks\":\"\"}}],\"histogram2d\":[{\"type\":\"histogram2d\",\"colorbar\":{\"outlinewidth\":0,\"ticks\":\"\"},\"colorscale\":[[0.0,\"#0d0887\"],[0.1111111111111111,\"#46039f\"],[0.2222222222222222,\"#7201a8\"],[0.3333333333333333,\"#9c179e\"],[0.4444444444444444,\"#bd3786\"],[0.5555555555555556,\"#d8576b\"],[0.6666666666666666,\"#ed7953\"],[0.7777777777777778,\"#fb9f3a\"],[0.8888888888888888,\"#fdca26\"],[1.0,\"#f0f921\"]]}],\"heatmap\":[{\"type\":\"heatmap\",\"colorbar\":{\"outlinewidth\":0,\"ticks\":\"\"},\"colorscale\":[[0.0,\"#0d0887\"],[0.1111111111111111,\"#46039f\"],[0.2222222222222222,\"#7201a8\"],[0.3333333333333333,\"#9c179e\"],[0.4444444444444444,\"#bd3786\"],[0.5555555555555556,\"#d8576b\"],[0.6666666666666666,\"#ed7953\"],[0.7777777777777778,\"#fb9f3a\"],[0.8888888888888888,\"#fdca26\"],[1.0,\"#f0f921\"]]}],\"heatmapgl\":[{\"type\":\"heatmapgl\",\"colorbar\":{\"outlinewidth\":0,\"ticks\":\"\"},\"colorscale\":[[0.0,\"#0d0887\"],[0.1111111111111111,\"#46039f\"],[0.2222222222222222,\"#7201a8\"],[0.3333333333333333,\"#9c179e\"],[0.4444444444444444,\"#bd3786\"],[0.5555555555555556,\"#d8576b\"],[0.6666666666666666,\"#ed7953\"],[0.7777777777777778,\"#fb9f3a\"],[0.8888888888888888,\"#fdca26\"],[1.0,\"#f0f921\"]]}],\"contourcarpet\":[{\"type\":\"contourcarpet\",\"colorbar\":{\"outlinewidth\":0,\"ticks\":\"\"}}],\"contour\":[{\"type\":\"contour\",\"colorbar\":{\"outlinewidth\":0,\"ticks\":\"\"},\"colorscale\":[[0.0,\"#0d0887\"],[0.1111111111111111,\"#46039f\"],[0.2222222222222222,\"#7201a8\"],[0.3333333333333333,\"#9c179e\"],[0.4444444444444444,\"#bd3786\"],[0.5555555555555556,\"#d8576b\"],[0.6666666666666666,\"#ed7953\"],[0.7777777777777778,\"#fb9f3a\"],[0.8888888888888888,\"#fdca26\"],[1.0,\"#f0f921\"]]}],\"surface\":[{\"type\":\"surface\",\"colorbar\":{\"outlinewidth\":0,\"ticks\":\"\"},\"colorscale\":[[0.0,\"#0d0887\"],[0.1111111111111111,\"#46039f\"],[0.2222222222222222,\"#7201a8\"],[0.3333333333333333,\"#9c179e\"],[0.4444444444444444,\"#bd3786\"],[0.5555555555555556,\"#d8576b\"],[0.6666666666666666,\"#ed7953\"],[0.7777777777777778,\"#fb9f3a\"],[0.8888888888888888,\"#fdca26\"],[1.0,\"#f0f921\"]]}],\"mesh3d\":[{\"type\":\"mesh3d\",\"colorbar\":{\"outlinewidth\":0,\"ticks\":\"\"}}],\"scatter\":[{\"fillpattern\":{\"fillmode\":\"overlay\",\"size\":10,\"solidity\":0.2},\"type\":\"scatter\"}],\"parcoords\":[{\"type\":\"parcoords\",\"line\":{\"colorbar\":{\"outlinewidth\":0,\"ticks\":\"\"}}}],\"scatterpolargl\":[{\"type\":\"scatterpolargl\",\"marker\":{\"colorbar\":{\"outlinewidth\":0,\"ticks\":\"\"}}}],\"bar\":[{\"error_x\":{\"color\":\"#2a3f5f\"},\"error_y\":{\"color\":\"#2a3f5f\"},\"marker\":{\"line\":{\"color\":\"#E5ECF6\",\"width\":0.5},\"pattern\":{\"fillmode\":\"overlay\",\"size\":10,\"solidity\":0.2}},\"type\":\"bar\"}],\"scattergeo\":[{\"type\":\"scattergeo\",\"marker\":{\"colorbar\":{\"outlinewidth\":0,\"ticks\":\"\"}}}],\"scatterpolar\":[{\"type\":\"scatterpolar\",\"marker\":{\"colorbar\":{\"outlinewidth\":0,\"ticks\":\"\"}}}],\"histogram\":[{\"marker\":{\"pattern\":{\"fillmode\":\"overlay\",\"size\":10,\"solidity\":0.2}},\"type\":\"histogram\"}],\"scattergl\":[{\"type\":\"scattergl\",\"marker\":{\"colorbar\":{\"outlinewidth\":0,\"ticks\":\"\"}}}],\"scatter3d\":[{\"type\":\"scatter3d\",\"line\":{\"colorbar\":{\"outlinewidth\":0,\"ticks\":\"\"}},\"marker\":{\"colorbar\":{\"outlinewidth\":0,\"ticks\":\"\"}}}],\"scattermapbox\":[{\"type\":\"scattermapbox\",\"marker\":{\"colorbar\":{\"outlinewidth\":0,\"ticks\":\"\"}}}],\"scatterternary\":[{\"type\":\"scatterternary\",\"marker\":{\"colorbar\":{\"outlinewidth\":0,\"ticks\":\"\"}}}],\"scattercarpet\":[{\"type\":\"scattercarpet\",\"marker\":{\"colorbar\":{\"outlinewidth\":0,\"ticks\":\"\"}}}],\"carpet\":[{\"aaxis\":{\"endlinecolor\":\"#2a3f5f\",\"gridcolor\":\"white\",\"linecolor\":\"white\",\"minorgridcolor\":\"white\",\"startlinecolor\":\"#2a3f5f\"},\"baxis\":{\"endlinecolor\":\"#2a3f5f\",\"gridcolor\":\"white\",\"linecolor\":\"white\",\"minorgridcolor\":\"white\",\"startlinecolor\":\"#2a3f5f\"},\"type\":\"carpet\"}],\"table\":[{\"cells\":{\"fill\":{\"color\":\"#EBF0F8\"},\"line\":{\"color\":\"white\"}},\"header\":{\"fill\":{\"color\":\"#C8D4E3\"},\"line\":{\"color\":\"white\"}},\"type\":\"table\"}],\"barpolar\":[{\"marker\":{\"line\":{\"color\":\"#E5ECF6\",\"width\":0.5},\"pattern\":{\"fillmode\":\"overlay\",\"size\":10,\"solidity\":0.2}},\"type\":\"barpolar\"}],\"pie\":[{\"automargin\":true,\"type\":\"pie\"}]},\"layout\":{\"autotypenumbers\":\"strict\",\"colorway\":[\"#636efa\",\"#EF553B\",\"#00cc96\",\"#ab63fa\",\"#FFA15A\",\"#19d3f3\",\"#FF6692\",\"#B6E880\",\"#FF97FF\",\"#FECB52\"],\"font\":{\"color\":\"#2a3f5f\"},\"hovermode\":\"closest\",\"hoverlabel\":{\"align\":\"left\"},\"paper_bgcolor\":\"white\",\"plot_bgcolor\":\"#E5ECF6\",\"polar\":{\"bgcolor\":\"#E5ECF6\",\"angularaxis\":{\"gridcolor\":\"white\",\"linecolor\":\"white\",\"ticks\":\"\"},\"radialaxis\":{\"gridcolor\":\"white\",\"linecolor\":\"white\",\"ticks\":\"\"}},\"ternary\":{\"bgcolor\":\"#E5ECF6\",\"aaxis\":{\"gridcolor\":\"white\",\"linecolor\":\"white\",\"ticks\":\"\"},\"baxis\":{\"gridcolor\":\"white\",\"linecolor\":\"white\",\"ticks\":\"\"},\"caxis\":{\"gridcolor\":\"white\",\"linecolor\":\"white\",\"ticks\":\"\"}},\"coloraxis\":{\"colorbar\":{\"outlinewidth\":0,\"ticks\":\"\"}},\"colorscale\":{\"sequential\":[[0.0,\"#0d0887\"],[0.1111111111111111,\"#46039f\"],[0.2222222222222222,\"#7201a8\"],[0.3333333333333333,\"#9c179e\"],[0.4444444444444444,\"#bd3786\"],[0.5555555555555556,\"#d8576b\"],[0.6666666666666666,\"#ed7953\"],[0.7777777777777778,\"#fb9f3a\"],[0.8888888888888888,\"#fdca26\"],[1.0,\"#f0f921\"]],\"sequentialminus\":[[0.0,\"#0d0887\"],[0.1111111111111111,\"#46039f\"],[0.2222222222222222,\"#7201a8\"],[0.3333333333333333,\"#9c179e\"],[0.4444444444444444,\"#bd3786\"],[0.5555555555555556,\"#d8576b\"],[0.6666666666666666,\"#ed7953\"],[0.7777777777777778,\"#fb9f3a\"],[0.8888888888888888,\"#fdca26\"],[1.0,\"#f0f921\"]],\"diverging\":[[0,\"#8e0152\"],[0.1,\"#c51b7d\"],[0.2,\"#de77ae\"],[0.3,\"#f1b6da\"],[0.4,\"#fde0ef\"],[0.5,\"#f7f7f7\"],[0.6,\"#e6f5d0\"],[0.7,\"#b8e186\"],[0.8,\"#7fbc41\"],[0.9,\"#4d9221\"],[1,\"#276419\"]]},\"xaxis\":{\"gridcolor\":\"white\",\"linecolor\":\"white\",\"ticks\":\"\",\"title\":{\"standoff\":15},\"zerolinecolor\":\"white\",\"automargin\":true,\"zerolinewidth\":2},\"yaxis\":{\"gridcolor\":\"white\",\"linecolor\":\"white\",\"ticks\":\"\",\"title\":{\"standoff\":15},\"zerolinecolor\":\"white\",\"automargin\":true,\"zerolinewidth\":2},\"scene\":{\"xaxis\":{\"backgroundcolor\":\"#E5ECF6\",\"gridcolor\":\"white\",\"linecolor\":\"white\",\"showbackground\":true,\"ticks\":\"\",\"zerolinecolor\":\"white\",\"gridwidth\":2},\"yaxis\":{\"backgroundcolor\":\"#E5ECF6\",\"gridcolor\":\"white\",\"linecolor\":\"white\",\"showbackground\":true,\"ticks\":\"\",\"zerolinecolor\":\"white\",\"gridwidth\":2},\"zaxis\":{\"backgroundcolor\":\"#E5ECF6\",\"gridcolor\":\"white\",\"linecolor\":\"white\",\"showbackground\":true,\"ticks\":\"\",\"zerolinecolor\":\"white\",\"gridwidth\":2}},\"shapedefaults\":{\"line\":{\"color\":\"#2a3f5f\"}},\"annotationdefaults\":{\"arrowcolor\":\"#2a3f5f\",\"arrowhead\":0,\"arrowwidth\":1},\"geo\":{\"bgcolor\":\"white\",\"landcolor\":\"#E5ECF6\",\"subunitcolor\":\"white\",\"showland\":true,\"showlakes\":true,\"lakecolor\":\"white\"},\"title\":{\"x\":0.05},\"mapbox\":{\"style\":\"light\"}}},\"xaxis\":{\"anchor\":\"y\",\"domain\":[0.0,1.0],\"title\":{\"text\":\"Year\"}},\"yaxis\":{\"anchor\":\"x\",\"domain\":[0.0,1.0],\"title\":{\"text\":\"Total Cost\"}},\"legend\":{\"title\":{\"text\":\"USorUSSR\"},\"tracegroupgap\":0},\"margin\":{\"t\":60}},                        {\"responsive\": true}                    ).then(function(){\n",
       "                            \n",
       "var gd = document.getElementById('9b5785e2-661a-437b-b251-4fddf024d37c');\n",
       "var x = new MutationObserver(function (mutations, observer) {{\n",
       "        var display = window.getComputedStyle(gd).display;\n",
       "        if (!display || display === 'none') {{\n",
       "            console.log([gd, 'removed!']);\n",
       "            Plotly.purge(gd);\n",
       "            observer.disconnect();\n",
       "        }}\n",
       "}});\n",
       "\n",
       "// Listen for the removal of the full notebook cells\n",
       "var notebookContainer = gd.closest('#notebook-container');\n",
       "if (notebookContainer) {{\n",
       "    x.observe(notebookContainer, {childList: true});\n",
       "}}\n",
       "\n",
       "// Listen for the clearing of the current output cell\n",
       "var outputEl = gd.closest('.output');\n",
       "if (outputEl) {{\n",
       "    x.observe(outputEl, {childList: true});\n",
       "}}\n",
       "\n",
       "                        })                };                });            </script>        </div>"
      ]
     },
     "metadata": {},
     "output_type": "display_data"
    }
   ],
   "source": [
    "price_per_year = (superp.groupby(['year','USorUSSR']).sum()['price']).reset_index()\n",
    "\n",
    "fig = px.line(price_per_year, x='year', y=\"price\", color='USorUSSR').update_layout(\n",
    "    xaxis_title=\"Year\", yaxis_title=\"Total Cost\")\n",
    "fig.show()"
   ]
  },
  {
   "cell_type": "markdown",
   "id": "957838ae",
   "metadata": {},
   "source": [
    "The graph shows that after 1974, the 2 superpowers had around the same budget to spend on the space race. However, since half of the missions were missing price on the original dataset, the average price of the year was used to substitute the missing cells. We must keep in mind this will lower the variance year to year between the US and USSR so this graph might not be an accurate representation of true cost."
   ]
  },
  {
   "cell_type": "code",
   "execution_count": null,
   "id": "655bc015",
   "metadata": {},
   "outputs": [],
   "source": []
  }
 ],
 "metadata": {
  "kernelspec": {
   "display_name": "Python 3 (ipykernel)",
   "language": "python",
   "name": "python3"
  },
  "language_info": {
   "codemirror_mode": {
    "name": "ipython",
    "version": 3
   },
   "file_extension": ".py",
   "mimetype": "text/x-python",
   "name": "python",
   "nbconvert_exporter": "python",
   "pygments_lexer": "ipython3",
   "version": "3.9.13"
  }
 },
 "nbformat": 4,
 "nbformat_minor": 5
}
