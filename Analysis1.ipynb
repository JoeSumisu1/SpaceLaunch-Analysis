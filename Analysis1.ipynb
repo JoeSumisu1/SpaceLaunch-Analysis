{
 "cells": [
  {
   "cell_type": "markdown",
   "id": "38bbf8e0",
   "metadata": {},
   "source": [
    "# Introduction"
   ]
  },
  {
   "cell_type": "markdown",
   "id": "3e0f4f03",
   "metadata": {},
   "source": [
    "<center><img src=\"https://i.imgur.com/9hLRsjZ.jpg\" height=200></center>\n",
    "\n",
    "The dataset used for this analysis was scraped from nextspaceflight.com and includes all space missions between 1957 to present time. Please note data preprocessing has already been performed and methodologies have been documented on 'Preprocessing.ipynb'\n",
    "- I want to explore how the mission details changed over time and answer questions with the insights gained from analyzing this dataset"
   ]
  },
  {
   "cell_type": "markdown",
   "id": "b487bf9e",
   "metadata": {},
   "source": [
    "### Install package with country codes"
   ]
  },
  {
   "cell_type": "code",
   "execution_count": 32,
   "id": "fd913cbf",
   "metadata": {},
   "outputs": [
    {
     "name": "stdout",
     "output_type": "stream",
     "text": [
      "Requirement already satisfied: iso3166 in /Users/joekimurasmith/opt/anaconda3/lib/python3.9/site-packages (2.1.1)\n",
      "Note: you may need to restart the kernel to use updated packages.\n"
     ]
    }
   ],
   "source": [
    "%pip install iso3166"
   ]
  },
  {
   "cell_type": "markdown",
   "id": "8e8dc9c8",
   "metadata": {},
   "source": [
    "### Import Statements"
   ]
  },
  {
   "cell_type": "code",
   "execution_count": 33,
   "id": "e51cbdde",
   "metadata": {},
   "outputs": [],
   "source": [
    "import numpy as np\n",
    "import pandas as pd\n",
    "import plotly.express as px\n",
    "import matplotlib.pyplot as plt\n",
    "import seaborn as sns\n",
    "import warnings\n",
    "warnings.filterwarnings('ignore')\n",
    "import iso3166\n",
    "%matplotlib inline"
   ]
  },
  {
   "cell_type": "markdown",
   "id": "dba8cf2b",
   "metadata": {},
   "source": [
    "### Load the data"
   ]
  },
  {
   "cell_type": "code",
   "execution_count": 34,
   "id": "e57f9182",
   "metadata": {},
   "outputs": [],
   "source": [
    "df = pd.read_csv('cleanLaunchData.csv')"
   ]
  },
  {
   "cell_type": "markdown",
   "id": "520b96da",
   "metadata": {},
   "source": [
    "### Preliminary Data Exploration\n",
    "\n",
    "(No need to clean the dataset since it was alread processed using PreProcessing.ipynb)"
   ]
  },
  {
   "cell_type": "code",
   "execution_count": 35,
   "id": "e9641ba8",
   "metadata": {},
   "outputs": [
    {
     "data": {
      "text/html": [
       "<div>\n",
       "<style scoped>\n",
       "    .dataframe tbody tr th:only-of-type {\n",
       "        vertical-align: middle;\n",
       "    }\n",
       "\n",
       "    .dataframe tbody tr th {\n",
       "        vertical-align: top;\n",
       "    }\n",
       "\n",
       "    .dataframe thead th {\n",
       "        text-align: right;\n",
       "    }\n",
       "</style>\n",
       "<table border=\"1\" class=\"dataframe\">\n",
       "  <thead>\n",
       "    <tr style=\"text-align: right;\">\n",
       "      <th></th>\n",
       "      <th>mission</th>\n",
       "      <th>time</th>\n",
       "      <th>location</th>\n",
       "      <th>rocket</th>\n",
       "      <th>result</th>\n",
       "      <th>organization</th>\n",
       "      <th>status</th>\n",
       "      <th>price</th>\n",
       "      <th>liftoff thrust</th>\n",
       "      <th>payload to LEO</th>\n",
       "      <th>Payload to GTO</th>\n",
       "      <th>Stages</th>\n",
       "      <th>Strap-ons</th>\n",
       "      <th>Rocket Height</th>\n",
       "      <th>Fairing Diameter</th>\n",
       "      <th>Fairing Height</th>\n",
       "      <th>year</th>\n",
       "    </tr>\n",
       "  </thead>\n",
       "  <tbody>\n",
       "    <tr>\n",
       "      <th>0</th>\n",
       "      <td>Iridium-6 &amp; GRACE-FO</td>\n",
       "      <td>2018-05-22 19:47:00+00:00</td>\n",
       "      <td>SLC-4E, Vandenberg SFB, California, USA</td>\n",
       "      <td>Falcon 9 Block 4</td>\n",
       "      <td>Success</td>\n",
       "      <td>SpaceX</td>\n",
       "      <td>Retired</td>\n",
       "      <td>62000000.0</td>\n",
       "      <td>6804.0</td>\n",
       "      <td>22800.0</td>\n",
       "      <td>8300.0</td>\n",
       "      <td>2.0</td>\n",
       "      <td>0.0</td>\n",
       "      <td>70.0</td>\n",
       "      <td>5.2</td>\n",
       "      <td>13.0</td>\n",
       "      <td>2018</td>\n",
       "    </tr>\n",
       "  </tbody>\n",
       "</table>\n",
       "</div>"
      ],
      "text/plain": [
       "                mission                       time  \\\n",
       "0  Iridium-6 & GRACE-FO  2018-05-22 19:47:00+00:00   \n",
       "\n",
       "                                  location            rocket   result  \\\n",
       "0  SLC-4E, Vandenberg SFB, California, USA  Falcon 9 Block 4  Success   \n",
       "\n",
       "  organization   status       price  liftoff thrust  payload to LEO  \\\n",
       "0       SpaceX  Retired  62000000.0          6804.0         22800.0   \n",
       "\n",
       "   Payload to GTO  Stages  Strap-ons  Rocket Height  Fairing Diameter  \\\n",
       "0          8300.0     2.0        0.0           70.0               5.2   \n",
       "\n",
       "   Fairing Height  year  \n",
       "0            13.0  2018  "
      ]
     },
     "execution_count": 35,
     "metadata": {},
     "output_type": "execute_result"
    }
   ],
   "source": [
    "df.head(1)"
   ]
  },
  {
   "cell_type": "code",
   "execution_count": 36,
   "id": "058cd873",
   "metadata": {},
   "outputs": [
    {
     "data": {
      "text/html": [
       "<div>\n",
       "<style scoped>\n",
       "    .dataframe tbody tr th:only-of-type {\n",
       "        vertical-align: middle;\n",
       "    }\n",
       "\n",
       "    .dataframe tbody tr th {\n",
       "        vertical-align: top;\n",
       "    }\n",
       "\n",
       "    .dataframe thead th {\n",
       "        text-align: right;\n",
       "    }\n",
       "</style>\n",
       "<table border=\"1\" class=\"dataframe\">\n",
       "  <thead>\n",
       "    <tr style=\"text-align: right;\">\n",
       "      <th></th>\n",
       "      <th>price</th>\n",
       "      <th>liftoff thrust</th>\n",
       "      <th>payload to LEO</th>\n",
       "      <th>Payload to GTO</th>\n",
       "      <th>Stages</th>\n",
       "      <th>Strap-ons</th>\n",
       "      <th>Rocket Height</th>\n",
       "      <th>Fairing Diameter</th>\n",
       "      <th>Fairing Height</th>\n",
       "      <th>year</th>\n",
       "    </tr>\n",
       "  </thead>\n",
       "  <tbody>\n",
       "    <tr>\n",
       "      <th>count</th>\n",
       "      <td>6.107000e+03</td>\n",
       "      <td>6107.000000</td>\n",
       "      <td>6107.000000</td>\n",
       "      <td>6107.000000</td>\n",
       "      <td>6107.000000</td>\n",
       "      <td>6107.000000</td>\n",
       "      <td>6107.000000</td>\n",
       "      <td>6107.000000</td>\n",
       "      <td>6107.000000</td>\n",
       "      <td>6107.000000</td>\n",
       "    </tr>\n",
       "    <tr>\n",
       "      <th>mean</th>\n",
       "      <td>1.622906e+08</td>\n",
       "      <td>5325.710447</td>\n",
       "      <td>8417.561919</td>\n",
       "      <td>1978.013016</td>\n",
       "      <td>2.810545</td>\n",
       "      <td>2.123956</td>\n",
       "      <td>45.252049</td>\n",
       "      <td>3.125353</td>\n",
       "      <td>10.064185</td>\n",
       "      <td>1991.376290</td>\n",
       "    </tr>\n",
       "    <tr>\n",
       "      <th>std</th>\n",
       "      <td>2.850611e+08</td>\n",
       "      <td>5152.652485</td>\n",
       "      <td>9686.780008</td>\n",
       "      <td>2844.735485</td>\n",
       "      <td>0.742448</td>\n",
       "      <td>2.320855</td>\n",
       "      <td>11.964466</td>\n",
       "      <td>0.911966</td>\n",
       "      <td>4.183693</td>\n",
       "      <td>18.000188</td>\n",
       "    </tr>\n",
       "    <tr>\n",
       "      <th>min</th>\n",
       "      <td>2.500000e+06</td>\n",
       "      <td>133.000000</td>\n",
       "      <td>0.000000</td>\n",
       "      <td>0.000000</td>\n",
       "      <td>1.000000</td>\n",
       "      <td>0.000000</td>\n",
       "      <td>9.540000</td>\n",
       "      <td>0.500000</td>\n",
       "      <td>1.000000</td>\n",
       "      <td>1964.000000</td>\n",
       "    </tr>\n",
       "    <tr>\n",
       "      <th>25%</th>\n",
       "      <td>2.000000e+07</td>\n",
       "      <td>2962.000000</td>\n",
       "      <td>3300.000000</td>\n",
       "      <td>0.000000</td>\n",
       "      <td>2.000000</td>\n",
       "      <td>0.000000</td>\n",
       "      <td>38.100000</td>\n",
       "      <td>2.580000</td>\n",
       "      <td>7.140000</td>\n",
       "      <td>1976.000000</td>\n",
       "    </tr>\n",
       "    <tr>\n",
       "      <th>50%</th>\n",
       "      <td>6.468000e+07</td>\n",
       "      <td>4456.000000</td>\n",
       "      <td>6860.000000</td>\n",
       "      <td>662.094737</td>\n",
       "      <td>3.000000</td>\n",
       "      <td>2.000000</td>\n",
       "      <td>44.630000</td>\n",
       "      <td>3.000000</td>\n",
       "      <td>9.540000</td>\n",
       "      <td>1988.000000</td>\n",
       "    </tr>\n",
       "    <tr>\n",
       "      <th>75%</th>\n",
       "      <td>1.259403e+08</td>\n",
       "      <td>5885.000000</td>\n",
       "      <td>9797.000000</td>\n",
       "      <td>3000.000000</td>\n",
       "      <td>3.000000</td>\n",
       "      <td>4.000000</td>\n",
       "      <td>51.380000</td>\n",
       "      <td>3.800000</td>\n",
       "      <td>13.000000</td>\n",
       "      <td>2008.000000</td>\n",
       "    </tr>\n",
       "    <tr>\n",
       "      <th>max</th>\n",
       "      <td>3.000000e+09</td>\n",
       "      <td>45307.000000</td>\n",
       "      <td>140000.000000</td>\n",
       "      <td>40000.000000</td>\n",
       "      <td>5.000000</td>\n",
       "      <td>9.000000</td>\n",
       "      <td>110.600000</td>\n",
       "      <td>5.920000</td>\n",
       "      <td>43.720000</td>\n",
       "      <td>2023.000000</td>\n",
       "    </tr>\n",
       "  </tbody>\n",
       "</table>\n",
       "</div>"
      ],
      "text/plain": [
       "              price  liftoff thrust  payload to LEO  Payload to GTO  \\\n",
       "count  6.107000e+03     6107.000000     6107.000000     6107.000000   \n",
       "mean   1.622906e+08     5325.710447     8417.561919     1978.013016   \n",
       "std    2.850611e+08     5152.652485     9686.780008     2844.735485   \n",
       "min    2.500000e+06      133.000000        0.000000        0.000000   \n",
       "25%    2.000000e+07     2962.000000     3300.000000        0.000000   \n",
       "50%    6.468000e+07     4456.000000     6860.000000      662.094737   \n",
       "75%    1.259403e+08     5885.000000     9797.000000     3000.000000   \n",
       "max    3.000000e+09    45307.000000   140000.000000    40000.000000   \n",
       "\n",
       "            Stages    Strap-ons  Rocket Height  Fairing Diameter  \\\n",
       "count  6107.000000  6107.000000    6107.000000       6107.000000   \n",
       "mean      2.810545     2.123956      45.252049          3.125353   \n",
       "std       0.742448     2.320855      11.964466          0.911966   \n",
       "min       1.000000     0.000000       9.540000          0.500000   \n",
       "25%       2.000000     0.000000      38.100000          2.580000   \n",
       "50%       3.000000     2.000000      44.630000          3.000000   \n",
       "75%       3.000000     4.000000      51.380000          3.800000   \n",
       "max       5.000000     9.000000     110.600000          5.920000   \n",
       "\n",
       "       Fairing Height         year  \n",
       "count     6107.000000  6107.000000  \n",
       "mean        10.064185  1991.376290  \n",
       "std          4.183693    18.000188  \n",
       "min          1.000000  1964.000000  \n",
       "25%          7.140000  1976.000000  \n",
       "50%          9.540000  1988.000000  \n",
       "75%         13.000000  2008.000000  \n",
       "max         43.720000  2023.000000  "
      ]
     },
     "execution_count": 36,
     "metadata": {},
     "output_type": "execute_result"
    }
   ],
   "source": [
    "df.describe()"
   ]
  },
  {
   "cell_type": "markdown",
   "id": "d2c5052e",
   "metadata": {},
   "source": [
    "### Number of launches each year"
   ]
  },
  {
   "cell_type": "code",
   "execution_count": 37,
   "id": "4cdf01db",
   "metadata": {},
   "outputs": [],
   "source": [
    "# 2023 missions have been removed since it is partial data\n",
    "df = df[df['year']<2023]"
   ]
  },
  {
   "cell_type": "code",
   "execution_count": 38,
   "id": "4984a0ea",
   "metadata": {},
   "outputs": [
    {
     "data": {
      "text/plain": [
       "Text(0.5, 1.0, 'Launches over time')"
      ]
     },
     "execution_count": 38,
     "metadata": {},
     "output_type": "execute_result"
    },
    {
     "data": {
      "image/png": "[encoded data removed]",
      "text/plain": [
       "<Figure size 640x480 with 1 Axes>"
      ]
     },
     "metadata": {},
     "output_type": "display_data"
    }
   ],
   "source": [
    "mis_per_yr = df.groupby('year')['mission'].count()\n",
    "plt.plot(mis_per_yr.index, mis_per_yr.values)\n",
    "\n",
    "plt.xlim([1964, 2022])\n",
    "plt.xlabel(\"Year\")\n",
    "plt.ylabel(\"Number of Launches\")\n",
    "plt.title(\"Launches over time\")"
   ]
  },
  {
   "cell_type": "markdown",
   "id": "cb4725fd",
   "metadata": {},
   "source": [
    "As shown in the chart above, there is a clear downward trend of total launches between 1970 up until the mid 2000's where a upward trend appears. It is also important to note the number of missions has skyrocketed between 2020 and 2022, with 2022 showing the highest number of launches in recorded history. "
   ]
  },
  {
   "cell_type": "markdown",
   "id": "c46fba39",
   "metadata": {},
   "source": [
    "### Success vs. Failure\n",
    "\n",
    "Next, I will explore the outcome of the missions for each year. For the purpose of this analysis, partial and prelaunch failures will be classified as a full failure. I have added a new column called 'outcome_cat' that categorizes a success as 1 and failure as 0."
   ]
  },
  {
   "cell_type": "code",
   "execution_count": 39,
   "id": "265e1c64",
   "metadata": {},
   "outputs": [],
   "source": [
    "df['outcome_cat'] = df['result'].apply(lambda x:0 if 'Failure' in x else 1)"
   ]
  },
  {
   "cell_type": "code",
   "execution_count": 40,
   "id": "c72f6eb8",
   "metadata": {},
   "outputs": [
    {
     "ename": "ValueError",
     "evalue": "\nImage export using the \"kaleido\" engine requires the kaleido package,\nwhich can be installed using pip:\n    $ pip install -U kaleido\n",
     "output_type": "error",
     "traceback": [
      "\u001b[0;31m---------------------------------------------------------------------------\u001b[0m",
      "\u001b[0;31mValueError\u001b[0m                                Traceback (most recent call last)",
      "\u001b[0;32m/var/folders/4s/b1xc_yr953d0psqkhxxqy7b00000gn/T/ipykernel_1095/1834135475.py\u001b[0m in \u001b[0;36m<module>\u001b[0;34m\u001b[0m\n\u001b[1;32m     18\u001b[0m               row=2, col=1)\n\u001b[1;32m     19\u001b[0m \u001b[0;31m# fig = px.line(num_succ, x=num_succ.index, y=num_succ.values, title = 'success rate')\u001b[0m\u001b[0;34m\u001b[0m\u001b[0;34m\u001b[0m\u001b[0m\n\u001b[0;32m---> 20\u001b[0;31m \u001b[0mfig\u001b[0m\u001b[0;34m.\u001b[0m\u001b[0mshow\u001b[0m\u001b[0;34m(\u001b[0m\u001b[0;34m'png'\u001b[0m\u001b[0;34m)\u001b[0m\u001b[0;34m\u001b[0m\u001b[0;34m\u001b[0m\u001b[0m\n\u001b[0m",
      "\u001b[0;32m~/opt/anaconda3/lib/python3.9/site-packages/plotly/basedatatypes.py\u001b[0m in \u001b[0;36mshow\u001b[0;34m(self, *args, **kwargs)\u001b[0m\n\u001b[1;32m   3396\u001b[0m         \u001b[0;32mimport\u001b[0m \u001b[0mplotly\u001b[0m\u001b[0;34m.\u001b[0m\u001b[0mio\u001b[0m \u001b[0;32mas\u001b[0m \u001b[0mpio\u001b[0m\u001b[0;34m\u001b[0m\u001b[0;34m\u001b[0m\u001b[0m\n\u001b[1;32m   3397\u001b[0m \u001b[0;34m\u001b[0m\u001b[0m\n\u001b[0;32m-> 3398\u001b[0;31m         \u001b[0;32mreturn\u001b[0m \u001b[0mpio\u001b[0m\u001b[0;34m.\u001b[0m\u001b[0mshow\u001b[0m\u001b[0;34m(\u001b[0m\u001b[0mself\u001b[0m\u001b[0;34m,\u001b[0m \u001b[0;34m*\u001b[0m\u001b[0margs\u001b[0m\u001b[0;34m,\u001b[0m \u001b[0;34m**\u001b[0m\u001b[0mkwargs\u001b[0m\u001b[0;34m)\u001b[0m\u001b[0;34m\u001b[0m\u001b[0;34m\u001b[0m\u001b[0m\n\u001b[0m\u001b[1;32m   3399\u001b[0m \u001b[0;34m\u001b[0m\u001b[0m\n\u001b[1;32m   3400\u001b[0m     \u001b[0;32mdef\u001b[0m \u001b[0mto_json\u001b[0m\u001b[0;34m(\u001b[0m\u001b[0mself\u001b[0m\u001b[0;34m,\u001b[0m \u001b[0;34m*\u001b[0m\u001b[0margs\u001b[0m\u001b[0;34m,\u001b[0m \u001b[0;34m**\u001b[0m\u001b[0mkwargs\u001b[0m\u001b[0;34m)\u001b[0m\u001b[0;34m:\u001b[0m\u001b[0;34m\u001b[0m\u001b[0;34m\u001b[0m\u001b[0m\n",
      "\u001b[0;32m~/opt/anaconda3/lib/python3.9/site-packages/plotly/io/_renderers.py\u001b[0m in \u001b[0;36mshow\u001b[0;34m(fig, renderer, validate, **kwargs)\u001b[0m\n\u001b[1;32m    386\u001b[0m \u001b[0;34m\u001b[0m\u001b[0m\n\u001b[1;32m    387\u001b[0m     \u001b[0;31m# Mimetype renderers\u001b[0m\u001b[0;34m\u001b[0m\u001b[0;34m\u001b[0m\u001b[0m\n\u001b[0;32m--> 388\u001b[0;31m     \u001b[0mbundle\u001b[0m \u001b[0;34m=\u001b[0m \u001b[0mrenderers\u001b[0m\u001b[0;34m.\u001b[0m\u001b[0m_build_mime_bundle\u001b[0m\u001b[0;34m(\u001b[0m\u001b[0mfig_dict\u001b[0m\u001b[0;34m,\u001b[0m \u001b[0mrenderers_string\u001b[0m\u001b[0;34m=\u001b[0m\u001b[0mrenderer\u001b[0m\u001b[0;34m,\u001b[0m \u001b[0;34m**\u001b[0m\u001b[0mkwargs\u001b[0m\u001b[0;34m)\u001b[0m\u001b[0;34m\u001b[0m\u001b[0;34m\u001b[0m\u001b[0m\n\u001b[0m\u001b[1;32m    389\u001b[0m     \u001b[0;32mif\u001b[0m \u001b[0mbundle\u001b[0m\u001b[0;34m:\u001b[0m\u001b[0;34m\u001b[0m\u001b[0;34m\u001b[0m\u001b[0m\n\u001b[1;32m    390\u001b[0m         \u001b[0;32mif\u001b[0m \u001b[0;32mnot\u001b[0m \u001b[0mipython_display\u001b[0m\u001b[0;34m:\u001b[0m\u001b[0;34m\u001b[0m\u001b[0;34m\u001b[0m\u001b[0m\n",
      "\u001b[0;32m~/opt/anaconda3/lib/python3.9/site-packages/plotly/io/_renderers.py\u001b[0m in \u001b[0;36m_build_mime_bundle\u001b[0;34m(self, fig_dict, renderers_string, **kwargs)\u001b[0m\n\u001b[1;32m    294\u001b[0m                         \u001b[0msetattr\u001b[0m\u001b[0;34m(\u001b[0m\u001b[0mrenderer\u001b[0m\u001b[0;34m,\u001b[0m \u001b[0mk\u001b[0m\u001b[0;34m,\u001b[0m \u001b[0mv\u001b[0m\u001b[0;34m)\u001b[0m\u001b[0;34m\u001b[0m\u001b[0;34m\u001b[0m\u001b[0m\n\u001b[1;32m    295\u001b[0m \u001b[0;34m\u001b[0m\u001b[0m\n\u001b[0;32m--> 296\u001b[0;31m                 \u001b[0mbundle\u001b[0m\u001b[0;34m.\u001b[0m\u001b[0mupdate\u001b[0m\u001b[0;34m(\u001b[0m\u001b[0mrenderer\u001b[0m\u001b[0;34m.\u001b[0m\u001b[0mto_mimebundle\u001b[0m\u001b[0;34m(\u001b[0m\u001b[0mfig_dict\u001b[0m\u001b[0;34m)\u001b[0m\u001b[0;34m)\u001b[0m\u001b[0;34m\u001b[0m\u001b[0;34m\u001b[0m\u001b[0m\n\u001b[0m\u001b[1;32m    297\u001b[0m \u001b[0;34m\u001b[0m\u001b[0m\n\u001b[1;32m    298\u001b[0m         \u001b[0;32mreturn\u001b[0m \u001b[0mbundle\u001b[0m\u001b[0;34m\u001b[0m\u001b[0;34m\u001b[0m\u001b[0m\n",
      "\u001b[0;32m~/opt/anaconda3/lib/python3.9/site-packages/plotly/io/_base_renderers.py\u001b[0m in \u001b[0;36mto_mimebundle\u001b[0;34m(self, fig_dict)\u001b[0m\n\u001b[1;32m    125\u001b[0m \u001b[0;34m\u001b[0m\u001b[0m\n\u001b[1;32m    126\u001b[0m     \u001b[0;32mdef\u001b[0m \u001b[0mto_mimebundle\u001b[0m\u001b[0;34m(\u001b[0m\u001b[0mself\u001b[0m\u001b[0;34m,\u001b[0m \u001b[0mfig_dict\u001b[0m\u001b[0;34m)\u001b[0m\u001b[0;34m:\u001b[0m\u001b[0;34m\u001b[0m\u001b[0;34m\u001b[0m\u001b[0m\n\u001b[0;32m--> 127\u001b[0;31m         image_bytes = to_image(\n\u001b[0m\u001b[1;32m    128\u001b[0m             \u001b[0mfig_dict\u001b[0m\u001b[0;34m,\u001b[0m\u001b[0;34m\u001b[0m\u001b[0;34m\u001b[0m\u001b[0m\n\u001b[1;32m    129\u001b[0m             \u001b[0mformat\u001b[0m\u001b[0;34m=\u001b[0m\u001b[0mself\u001b[0m\u001b[0;34m.\u001b[0m\u001b[0mformat\u001b[0m\u001b[0;34m,\u001b[0m\u001b[0;34m\u001b[0m\u001b[0;34m\u001b[0m\u001b[0m\n",
      "\u001b[0;32m~/opt/anaconda3/lib/python3.9/site-packages/plotly/io/_kaleido.py\u001b[0m in \u001b[0;36mto_image\u001b[0;34m(fig, format, width, height, scale, validate, engine)\u001b[0m\n\u001b[1;32m    131\u001b[0m     \u001b[0;31m# Raise informative error message if Kaleido is not installed\u001b[0m\u001b[0;34m\u001b[0m\u001b[0;34m\u001b[0m\u001b[0m\n\u001b[1;32m    132\u001b[0m     \u001b[0;32mif\u001b[0m \u001b[0mscope\u001b[0m \u001b[0;32mis\u001b[0m \u001b[0;32mNone\u001b[0m\u001b[0;34m:\u001b[0m\u001b[0;34m\u001b[0m\u001b[0;34m\u001b[0m\u001b[0m\n\u001b[0;32m--> 133\u001b[0;31m         raise ValueError(\n\u001b[0m\u001b[1;32m    134\u001b[0m             \"\"\"\n\u001b[1;32m    135\u001b[0m \u001b[0mImage\u001b[0m \u001b[0mexport\u001b[0m \u001b[0musing\u001b[0m \u001b[0mthe\u001b[0m \u001b[0;34m\"kaleido\"\u001b[0m \u001b[0mengine\u001b[0m \u001b[0mrequires\u001b[0m \u001b[0mthe\u001b[0m \u001b[0mkaleido\u001b[0m \u001b[0mpackage\u001b[0m\u001b[0;34m,\u001b[0m\u001b[0;34m\u001b[0m\u001b[0;34m\u001b[0m\u001b[0m\n",
      "\u001b[0;31mValueError\u001b[0m: \nImage export using the \"kaleido\" engine requires the kaleido package,\nwhich can be installed using pip:\n    $ pip install -U kaleido\n"
     ]
    }
   ],
   "source": [
    "from plotly.subplots import make_subplots\n",
    "import plotly.graph_objects as go\n",
    "\n",
    "# number of success per year\n",
    "num_succ=df[df['outcome_cat']==1].groupby('year').count()['outcome_cat']\n",
    "\n",
    "# number of fail per year\n",
    "num_fail=df[df['outcome_cat']==0].groupby('year').count()['outcome_cat']\n",
    "\n",
    "\n",
    "fig = make_subplots(rows=2, cols=1, shared_xaxes=True, vertical_spacing=0.09,\n",
    "                   subplot_titles=(\"Success\",\"Failure\"))\n",
    "\n",
    "fig.add_trace(go.Scatter(x=num_succ.index, y=num_succ.values),\n",
    "              row=1, col=1)\n",
    "\n",
    "fig.add_trace(go.Scatter(x=num_fail.index, y=num_fail.values),\n",
    "              row=2, col=1)\n",
    "# fig = px.line(num_succ, x=num_succ.index, y=num_succ.values, title = 'success rate')\n",
    "fig.show('png')"
   ]
  },
  {
   "cell_type": "markdown",
   "id": "4591b191",
   "metadata": {},
   "source": [
    "The chart above shows the total number of failures and successes in any given year. At a glance, it shows the number of failed launches are correlated with the total number of launches. Next I want to determine the ratio of success to failure per year"
   ]
  },
  {
   "cell_type": "markdown",
   "id": "71989e0e",
   "metadata": {},
   "source": [
    "### Outcome ratio"
   ]
  },
  {
   "cell_type": "code",
   "execution_count": null,
   "id": "05881b57",
   "metadata": {},
   "outputs": [],
   "source": [
    "ratio=pd.concat([num_fail, num_succ], axis=1)\n",
    "ratio.columns = ['fail', 'success']\n",
    "ratio[\"success_rate\"] = ratio['success']/(ratio['success']+ratio['fail'])\n",
    "\n",
    "ratio['SMA30'] = ratio['success_rate'].rolling(8).mean()\n",
    "\n",
    "# set figure size\n",
    "plt.figure(figsize=(9,6))\n",
    "# Time series plot with Seaborn lineplot() with label\n",
    "sns.lineplot(x=ratio.index,y=\"success_rate\",\n",
    "             label=\"yearly\", data=ratio,\n",
    "             ci=None)\n",
    "# 10 year rolling average Time series plot with Seaborn lineplot() with label\n",
    "sns.lineplot(x=ratio.index,y=\"SMA30\",\n",
    "             label=\"8 year moving avg\",\n",
    "             data=ratio,\n",
    "             ci=None)\n",
    "# set axis labels\n",
    "plt.xlabel(\"Date\", size=14)\n",
    "plt.ylabel(\"Success rate\", size=14)\n"
   ]
  },
  {
   "cell_type": "markdown",
   "id": "3c4a383a",
   "metadata": {},
   "source": [
    "The chart above shows the yearly average success rate, as well as the 8 year rolling average. The trend depicts a general increasing success rate over time. The orange line represents a simple 8 year moving average to get a more clear picture of the trend. This chart can back the claim that organizations have generally gotten better at minimising risk and improving their chances at a favorable mission outcome over time. "
   ]
  },
  {
   "cell_type": "markdown",
   "id": "958fc8ab",
   "metadata": {},
   "source": [
    "### Which organization has had the most launches\n"
   ]
  },
  {
   "cell_type": "code",
   "execution_count": null,
   "id": "1cc5d408",
   "metadata": {},
   "outputs": [],
   "source": [
    "df.groupby('organization').count()['mission'].sort_values(ascending=False).head()"
   ]
  },
  {
   "cell_type": "markdown",
   "id": "e9bab0ea",
   "metadata": {},
   "source": [
    "The USSR has had just under 2389 launches, 5 times as many as the runner up, CASC! To follow up it would be interesting to see which organizations spent the most money on missions"
   ]
  },
  {
   "cell_type": "code",
   "execution_count": null,
   "id": "77d680d7",
   "metadata": {},
   "outputs": [],
   "source": [
    "df.groupby('organization').sum()['price'].sort_values(ascending=False).head()"
   ]
  },
  {
   "cell_type": "markdown",
   "id": "66eb040a",
   "metadata": {},
   "source": [
    "The USSR spent nearly 500 billion usd total on space missions, nearly quintuple the US Air Force budget which comes in at second. This makes sense when considering the number of missions launched by the USSR"
   ]
  },
  {
   "cell_type": "markdown",
   "id": "18c8a5d0",
   "metadata": {},
   "source": [
    "### How expensive was each mission"
   ]
  },
  {
   "cell_type": "code",
   "execution_count": null,
   "id": "20ba861f",
   "metadata": {},
   "outputs": [],
   "source": [
    "fig = px.histogram(df, x=\"price\")\n",
    "fig.show('png')"
   ]
  },
  {
   "cell_type": "markdown",
   "id": "605225da",
   "metadata": {},
   "source": [
    "The histogram shows that most missions were priced within 10mil - 150mil but there are 2 missions that cost around 3 billion usd! These 2 missions were launched by the USSR in the late 1980's, during the cold war."
   ]
  },
  {
   "cell_type": "code",
   "execution_count": null,
   "id": "19448304",
   "metadata": {
    "scrolled": true
   },
   "outputs": [],
   "source": [
    "df[df['price'] >= 3000000000]"
   ]
  },
  {
   "cell_type": "markdown",
   "id": "757e7137",
   "metadata": {},
   "source": [
    "### Mission prices over time\n",
    "\n",
    "Did the avg cost of a mission go up for down since the start of the dataset"
   ]
  },
  {
   "cell_type": "code",
   "execution_count": null,
   "id": "2b3f9c96",
   "metadata": {},
   "outputs": [],
   "source": [
    "avg_mission_cost = df.groupby('year').mean()['price']\n",
    "\n",
    "fig = px.line(avg_mission_cost, x=avg_mission_cost.index, y=avg_mission_cost.values)\n",
    "fig.show('png')"
   ]
  },
  {
   "cell_type": "markdown",
   "id": "33aaffbb",
   "metadata": {},
   "source": [
    "It looks like the average cost of a mission has remained relatively consistent since the mid 1970's"
   ]
  },
  {
   "cell_type": "markdown",
   "id": "24063902",
   "metadata": {},
   "source": [
    "### Visual of launches by country"
   ]
  },
  {
   "cell_type": "code",
   "execution_count": null,
   "id": "38faecd6",
   "metadata": {},
   "outputs": [],
   "source": [
    "def country(x):\n",
    "    return x.rsplit(', ',1)[1]\n",
    "\n",
    "df['country']= df['location'].apply(country)\n",
    "df['country'].unique()"
   ]
  },
  {
   "cell_type": "markdown",
   "id": "f05ec9c4",
   "metadata": {},
   "source": [
    "The countries need to be wrangled to match the country name according to ISO 3166 country codes\n",
    "* Russia is the Russian Federation\n",
    "* Yellow Sea refers to China\n",
    "* Shahrud Missile Test Site should be Iran\n",
    "* Pacific Missile Range Facility should be USA\n",
    "* Barents Sea should be Russian Federation\n",
    "* Gran Canaria should be USA"
   ]
  },
  {
   "cell_type": "code",
   "execution_count": null,
   "id": "19e7be1e",
   "metadata": {},
   "outputs": [],
   "source": [
    "# create a new column that contains the alpha3 country code that adheres to ISO 3166 guidelines\n",
    "\n",
    "def country1(x):\n",
    "    if 'Russia'in x or 'Barents' in x:\n",
    "        return 'Russian Federation'\n",
    "    elif 'Yellow' in x:\n",
    "        return 'China'\n",
    "    elif 'Shahrud' in x or 'Iran' in x:\n",
    "        return 'Iran, Islamic Republic of'\n",
    "    elif 'Pacific' in x or 'Gran' in x:\n",
    "        return 'USA'\n",
    "    elif 'South Korea' in x:\n",
    "        return 'Korea, Republic of'\n",
    "    elif 'North Korea' in x:\n",
    "        return \"Korea, Democratic People's Republic of\"\n",
    "    else:\n",
    "        return x\n",
    "\n",
    "df['country'] = df['country'].apply(country1)\n",
    "\n",
    "def iso3(x):\n",
    "    try:\n",
    "        return iso3166.countries.get(x).alpha3\n",
    "    except:\n",
    "        return x\n",
    "\n",
    "df['country'] = df['country'].apply(iso3)\n"
   ]
  },
  {
   "cell_type": "code",
   "execution_count": null,
   "id": "7cec09c7",
   "metadata": {},
   "outputs": [],
   "source": [
    "launch_by_country = df.groupby('country').count()['mission']\n",
    "\n",
    "fig = px.choropleth(launch_by_country, locations=launch_by_country.index,\n",
    "                    color=launch_by_country.values, # lifeExp is a column of gapminder\n",
    "                    hover_name=launch_by_country.index, # column to add to hover information\n",
    "                    color_continuous_scale=px.colors.sequential.matter)\n",
    "fig.show('png')"
   ]
  },
  {
   "cell_type": "markdown",
   "id": "e26136bb",
   "metadata": {},
   "source": [
    "The Choropleth map gives a visualization of which countries launched the most missions, painting a more clear picture than if presented on a simple table. The US and Russia dominate the number of missions launched, denoted by the darker color."
   ]
  },
  {
   "cell_type": "markdown",
   "id": "f3d029aa",
   "metadata": {},
   "source": [
    "### Cold war space race: USA vs. USSR\n",
    "\n",
    "lets investigate how the 2 superpowers matched up in the space race during the cold war(start of dataset to 1991). \n",
    "- First, which country had the most launches year to year? \n",
    "- (note launches in Kazakhstan has been counted as part of the USSR since it was a former member)"
   ]
  },
  {
   "cell_type": "code",
   "execution_count": null,
   "id": "86755bc3",
   "metadata": {},
   "outputs": [],
   "source": [
    "def USorUSSR(x):\n",
    "    if x == 'KAZ' or x == 'RUS':\n",
    "        return 'USSR'\n",
    "    elif x == 'USA':\n",
    "        return 'US'\n",
    "    else:\n",
    "        return 'None'\n",
    "\n",
    "df['USorUSSR'] = df['country'].apply(USorUSSR)"
   ]
  },
  {
   "cell_type": "code",
   "execution_count": null,
   "id": "06d424f5",
   "metadata": {},
   "outputs": [],
   "source": [
    "superp = df[(df['USorUSSR']== 'US')|(df['USorUSSR'] == 'USSR')]\n",
    "superp = superp[superp['year'] < 1992]\n",
    "\n",
    "total = (superp.groupby(['year', 'USorUSSR']).count()['mission']).reset_index()"
   ]
  },
  {
   "cell_type": "code",
   "execution_count": null,
   "id": "1a56a6b2",
   "metadata": {},
   "outputs": [],
   "source": [
    "fig = px.line(total, x='year', y=\"mission\", color='USorUSSR').update_layout(\n",
    "    xaxis_title=\"Year\", yaxis_title=\"Total Missions\")\n",
    "fig.show('png')"
   ]
  },
  {
   "cell_type": "markdown",
   "id": "701bd802",
   "metadata": {},
   "source": [
    "The line graph shows that in terms of sheer number of missions to space, the USSR wins by a large margin. \n",
    "- next, lets see who wins the highest mission success ratio"
   ]
  },
  {
   "cell_type": "code",
   "execution_count": null,
   "id": "c9401481",
   "metadata": {},
   "outputs": [],
   "source": [
    "my_df = (superp.groupby(['year', 'USorUSSR', 'outcome_cat']).count()['mission']).reset_index()\n",
    "my_df1 = (my_df.pivot(index=[\"year\", \"USorUSSR\"], columns=['outcome_cat'],values=\"mission\")).reset_index()\n",
    "my_df1['success_rate1'] = my_df1[1]/(my_df1[1]+my_df1[0])\n",
    "my_df1 = my_df1.dropna()"
   ]
  },
  {
   "cell_type": "code",
   "execution_count": null,
   "id": "270c6d52",
   "metadata": {},
   "outputs": [],
   "source": [
    "fig = px.line(my_df1, x='year', y=\"success_rate1\", color='USorUSSR')\n",
    "fig.show('png')"
   ]
  },
  {
   "cell_type": "markdown",
   "id": "6333c670",
   "metadata": {},
   "source": [
    "As shown on the graph, the USSR also consistently performs better in terms of success ratio after ~1977. Since it appears the USSR wins in both number of missions launched as well as success ratio, does the total monetary investment reflect this trend?:\n",
    "- how much did the 2 superpowers invest in the space race? Is there a correlation to spending more and having more launches/ succesful launches?"
   ]
  },
  {
   "cell_type": "code",
   "execution_count": null,
   "id": "3f7b2045",
   "metadata": {
    "scrolled": false
   },
   "outputs": [],
   "source": [
    "price_per_year = (superp.groupby(['year','USorUSSR']).sum()['price']).reset_index()\n",
    "\n",
    "fig = px.line(price_per_year, x='year', y=\"price\", color='USorUSSR').update_layout(\n",
    "    xaxis_title=\"Year\", yaxis_title=\"Total Cost\")\n",
    "fig.show('png')"
   ]
  },
  {
   "cell_type": "markdown",
   "id": "957838ae",
   "metadata": {},
   "source": [
    "The graph shows that after 1974, the 2 superpowers had around the same budget to spend on the space race. However, since half of the missions were missing price on the original dataset, the average price of the year was used to substitute the missing cells. We must keep in mind this will lower the variance year to year between the US and USSR so this graph might not be an accurate representation of true cost."
   ]
  },
  {
   "cell_type": "code",
   "execution_count": null,
   "id": "655bc015",
   "metadata": {},
   "outputs": [],
   "source": []
  }
 ],
 "metadata": {
  "kernelspec": {
   "display_name": "Python 3 (ipykernel)",
   "language": "python",
   "name": "python3"
  },
  "language_info": {
   "codemirror_mode": {
    "name": "ipython",
    "version": 3
   },
   "file_extension": ".py",
   "mimetype": "text/x-python",
   "name": "python",
   "nbconvert_exporter": "python",
   "pygments_lexer": "ipython3",
   "version": "3.9.13"
  }
 },
 "nbformat": 4,
 "nbformat_minor": 5
}
